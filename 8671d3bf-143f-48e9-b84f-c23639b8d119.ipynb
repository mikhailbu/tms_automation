{
 "cells": [
  {
   "cell_type": "markdown",
   "id": "01f50ee0",
   "metadata": {},
   "source": [
    "# Выпускной проект \"Игры — Анализ рекламных источников\""
   ]
  },
  {
   "cell_type": "markdown",
   "id": "c7b45a67",
   "metadata": {},
   "source": [
    "Ссылка на презентацию https://disk.yandex.ru/i/bwS3gmCp3Uxx7Q\n",
    "\n",
    "Ссылка на дашборд https://public.tableau.com/views/-_16860885274970/Dashboard1?:language=en-US&:display_count=n&:origin=viz_share_link"
   ]
  },
  {
   "cell_type": "markdown",
   "id": "d6bd1743",
   "metadata": {},
   "source": [
    "### План проекта:\n",
    "#### Введение\n",
    "#### Обзор данных\n",
    "#### Предобработка данных\n",
    "1. Поиск и избавление от дубликатов\n",
    "2. Приведение данных к нужным типам\n",
    "3. Анализ причин пропущенных значений (обработка, замена)\n",
    "\n",
    "#### Исследовательский анализ\n",
    "1. Анализ количества построек на пользователя\n",
    "2. Анализ среднего времени, которое пользователи проводят в игре \n",
    "3. Анализ доли пользователей завершивших уровень\n",
    "4. Анализ долей различных стратегий в канале\n",
    "\n",
    "#### Проверка гипотез\n",
    "\n",
    "H0 - время завершения уровня не различается в зависимости способа прохождения, H1 - время завершения уровня различается в зависимости способа прохождения\n",
    "    \n",
    "H0 -Среднее время в игре пользователей из источника instagram_new_adverts равно среднему времени в игре пользователей из источника youtube_channel_reklama,\n",
    "H1 - Среднее время в игре пользователей из источника instagram_new_adverts отличается от среднего времени в игре пользователей из источника youtube_channel_reklama\n",
    "\n",
    "#### Расчет метрик\n",
    "1. Стоимость привлечения пользователя (CAC)\n",
    "\n",
    "#### Вывод"
   ]
  },
  {
   "cell_type": "markdown",
   "id": "33ceed99",
   "metadata": {},
   "source": [
    "### Я - аналитик компании \"Космические братья\". Заказчик - отдел маркетинга игры \"Космические братья\".\n",
    "\n",
    "### Цель: выявить проблемы в прошлой маркетинговой кампании и улучшить показатели, проанализировать канал привлечения и выявить лучшую стратегию.\n",
    "\n",
    "### В моем распоряжении 3 датасета, которые предоставила компания. Предстоит обработать данные, провести анализ, проверить 2 гипотезы и рассчитать метрику."
   ]
  },
  {
   "cell_type": "markdown",
   "id": "297850f1",
   "metadata": {},
   "source": [
    "# 1. Предобработка данных"
   ]
  },
  {
   "cell_type": "code",
   "execution_count": 1,
   "id": "03ac8d19",
   "metadata": {},
   "outputs": [],
   "source": [
    "# импорт библиотек\n",
    "import pandas as pd\n",
    "import matplotlib.pyplot as plt\n",
    "import seaborn as sns\n",
    "import numpy as np\n",
    "\n",
    "from scipy import stats as st\n",
    "from scipy.stats import ttest_ind\n",
    "\n",
    "import warnings\n",
    "warnings.filterwarnings('ignore')"
   ]
  },
  {
   "cell_type": "markdown",
   "id": "05be07fa",
   "metadata": {},
   "source": [
    "\n",
    "<div class=\"alert alert-danger\">\n",
    "    <p><b>Комментарий тимлида: </b></p>\n",
    "        \n",
    "Далее код не отрабатывает. На сервере данные находятся в директории `/datasets/`. Для удобства советую посмотреть конструкцию `try-except` или метод `os.path.exist`\n",
    "<div class=\"alert alert-success\">\n",
    "    <p><b>Комментарий тимлида v2: </b>👍</p>\n",
    "</div>\n",
    "</div>"
   ]
  },
  {
   "cell_type": "code",
   "execution_count": 2,
   "id": "a170d2bc",
   "metadata": {},
   "outputs": [],
   "source": [
    "# загрузка фаилов\n",
    "\n",
    "game_actions = pd.read_csv('/datasets/game_actions.csv')\n",
    "ad_costs = pd.read_csv('/datasets/ad_costs.csv')\n",
    "user_source = pd.read_csv('/datasets/user_source.csv')"
   ]
  },
  {
   "cell_type": "markdown",
   "id": "29e47c21",
   "metadata": {},
   "source": [
    "### Датасет *game_actions.csv*:"
   ]
  },
  {
   "cell_type": "markdown",
   "id": "b76350f9",
   "metadata": {},
   "source": [
    "- `event_datetime` — время события;\n",
    "- `event` — одно из трёх событий:\n",
    "    1. `building` — объект построен,\n",
    "    2. `finished_stage_1` — первый уровень завершён,\n",
    "    3. `project` — проект завершён;\n",
    "- `building_type` — один из трёх типов здания:\n",
    "    1. `assembly_shop` — сборочный цех,\n",
    "    2. `spaceport` — космопорт,\n",
    "    3. `research_center` — исследовательский центр;\n",
    "- `user_id` — идентификатор пользователя;\n",
    "- `project_type` — тип реализованного проекта;"
   ]
  },
  {
   "cell_type": "code",
   "execution_count": 3,
   "id": "8611a903",
   "metadata": {},
   "outputs": [
    {
     "data": {
      "text/html": [
       "<div>\n",
       "<style scoped>\n",
       "    .dataframe tbody tr th:only-of-type {\n",
       "        vertical-align: middle;\n",
       "    }\n",
       "\n",
       "    .dataframe tbody tr th {\n",
       "        vertical-align: top;\n",
       "    }\n",
       "\n",
       "    .dataframe thead th {\n",
       "        text-align: right;\n",
       "    }\n",
       "</style>\n",
       "<table border=\"1\" class=\"dataframe\">\n",
       "  <thead>\n",
       "    <tr style=\"text-align: right;\">\n",
       "      <th></th>\n",
       "      <th>event_datetime</th>\n",
       "      <th>event</th>\n",
       "      <th>building_type</th>\n",
       "      <th>user_id</th>\n",
       "      <th>project_type</th>\n",
       "    </tr>\n",
       "  </thead>\n",
       "  <tbody>\n",
       "    <tr>\n",
       "      <th>0</th>\n",
       "      <td>2020-05-04 00:00:01</td>\n",
       "      <td>building</td>\n",
       "      <td>assembly_shop</td>\n",
       "      <td>55e92310-cb8e-4754-b622-597e124b03de</td>\n",
       "      <td>NaN</td>\n",
       "    </tr>\n",
       "    <tr>\n",
       "      <th>1</th>\n",
       "      <td>2020-05-04 00:00:03</td>\n",
       "      <td>building</td>\n",
       "      <td>assembly_shop</td>\n",
       "      <td>c07b1c10-f477-44dc-81dc-ec82254b1347</td>\n",
       "      <td>NaN</td>\n",
       "    </tr>\n",
       "    <tr>\n",
       "      <th>2</th>\n",
       "      <td>2020-05-04 00:00:16</td>\n",
       "      <td>building</td>\n",
       "      <td>assembly_shop</td>\n",
       "      <td>6edd42cc-e753-4ff6-a947-2107cd560710</td>\n",
       "      <td>NaN</td>\n",
       "    </tr>\n",
       "    <tr>\n",
       "      <th>3</th>\n",
       "      <td>2020-05-04 00:00:16</td>\n",
       "      <td>building</td>\n",
       "      <td>assembly_shop</td>\n",
       "      <td>92c69003-d60a-444a-827f-8cc51bf6bf4c</td>\n",
       "      <td>NaN</td>\n",
       "    </tr>\n",
       "    <tr>\n",
       "      <th>4</th>\n",
       "      <td>2020-05-04 00:00:35</td>\n",
       "      <td>building</td>\n",
       "      <td>assembly_shop</td>\n",
       "      <td>cdc6bb92-0ccb-4490-9866-ef142f09139d</td>\n",
       "      <td>NaN</td>\n",
       "    </tr>\n",
       "  </tbody>\n",
       "</table>\n",
       "</div>"
      ],
      "text/plain": [
       "        event_datetime     event  building_type  \\\n",
       "0  2020-05-04 00:00:01  building  assembly_shop   \n",
       "1  2020-05-04 00:00:03  building  assembly_shop   \n",
       "2  2020-05-04 00:00:16  building  assembly_shop   \n",
       "3  2020-05-04 00:00:16  building  assembly_shop   \n",
       "4  2020-05-04 00:00:35  building  assembly_shop   \n",
       "\n",
       "                                user_id project_type  \n",
       "0  55e92310-cb8e-4754-b622-597e124b03de          NaN  \n",
       "1  c07b1c10-f477-44dc-81dc-ec82254b1347          NaN  \n",
       "2  6edd42cc-e753-4ff6-a947-2107cd560710          NaN  \n",
       "3  92c69003-d60a-444a-827f-8cc51bf6bf4c          NaN  \n",
       "4  cdc6bb92-0ccb-4490-9866-ef142f09139d          NaN  "
      ]
     },
     "execution_count": 3,
     "metadata": {},
     "output_type": "execute_result"
    }
   ],
   "source": [
    "game_actions.head()"
   ]
  },
  {
   "cell_type": "code",
   "execution_count": 4,
   "id": "3ac10bb4",
   "metadata": {},
   "outputs": [
    {
     "name": "stdout",
     "output_type": "stream",
     "text": [
      "<class 'pandas.core.frame.DataFrame'>\n",
      "RangeIndex: 135640 entries, 0 to 135639\n",
      "Data columns (total 5 columns):\n",
      " #   Column          Non-Null Count   Dtype \n",
      "---  ------          --------------   ----- \n",
      " 0   event_datetime  135640 non-null  object\n",
      " 1   event           135640 non-null  object\n",
      " 2   building_type   127957 non-null  object\n",
      " 3   user_id         135640 non-null  object\n",
      " 4   project_type    1866 non-null    object\n",
      "dtypes: object(5)\n",
      "memory usage: 5.2+ MB\n"
     ]
    }
   ],
   "source": [
    "game_actions.info()"
   ]
  },
  {
   "cell_type": "code",
   "execution_count": 5,
   "id": "1114e05e",
   "metadata": {},
   "outputs": [],
   "source": [
    "# приводим столбец к нужному типу данных\n",
    "game_actions['event_datetime'] = pd.to_datetime(game_actions['event_datetime'])"
   ]
  },
  {
   "cell_type": "code",
   "execution_count": 6,
   "id": "9d8a58b9",
   "metadata": {},
   "outputs": [
    {
     "data": {
      "text/plain": [
       "event_datetime         0\n",
       "event                  0\n",
       "building_type       7683\n",
       "user_id                0\n",
       "project_type      133774\n",
       "dtype: int64"
      ]
     },
     "execution_count": 6,
     "metadata": {},
     "output_type": "execute_result"
    }
   ],
   "source": [
    "game_actions.isnull().sum()"
   ]
  },
  {
   "cell_type": "code",
   "execution_count": 7,
   "id": "6b184448",
   "metadata": {},
   "outputs": [
    {
     "data": {
      "text/plain": [
       "1"
      ]
     },
     "execution_count": 7,
     "metadata": {},
     "output_type": "execute_result"
    }
   ],
   "source": [
    "game_actions.duplicated().sum()"
   ]
  },
  {
   "cell_type": "code",
   "execution_count": 8,
   "id": "0dfecd51",
   "metadata": {},
   "outputs": [],
   "source": [
    "# удаляем явный дубликат\n",
    "game_actions = game_actions.drop_duplicates().reset_index(drop=True)"
   ]
  },
  {
   "cell_type": "code",
   "execution_count": 9,
   "id": "642b69e2",
   "metadata": {},
   "outputs": [
    {
     "data": {
      "text/plain": [
       "array(['assembly_shop', 'spaceport', nan, 'research_center'], dtype=object)"
      ]
     },
     "execution_count": 9,
     "metadata": {},
     "output_type": "execute_result"
    }
   ],
   "source": [
    "game_actions['building_type'].unique()"
   ]
  },
  {
   "cell_type": "code",
   "execution_count": 10,
   "id": "6bf76e4c",
   "metadata": {},
   "outputs": [
    {
     "data": {
      "text/plain": [
       "array([nan, 'satellite_orbital_assembly'], dtype=object)"
      ]
     },
     "execution_count": 10,
     "metadata": {},
     "output_type": "execute_result"
    }
   ],
   "source": [
    "game_actions['project_type'].unique()"
   ]
  },
  {
   "cell_type": "code",
   "execution_count": 11,
   "id": "7caa2a23",
   "metadata": {},
   "outputs": [],
   "source": [
    "nan = game_actions[pd.isnull(game_actions['building_type'])]"
   ]
  },
  {
   "cell_type": "code",
   "execution_count": 12,
   "id": "de07b4e8",
   "metadata": {},
   "outputs": [
    {
     "data": {
      "text/html": [
       "<div>\n",
       "<style scoped>\n",
       "    .dataframe tbody tr th:only-of-type {\n",
       "        vertical-align: middle;\n",
       "    }\n",
       "\n",
       "    .dataframe tbody tr th {\n",
       "        vertical-align: top;\n",
       "    }\n",
       "\n",
       "    .dataframe thead th {\n",
       "        text-align: right;\n",
       "    }\n",
       "</style>\n",
       "<table border=\"1\" class=\"dataframe\">\n",
       "  <thead>\n",
       "    <tr style=\"text-align: right;\">\n",
       "      <th></th>\n",
       "      <th>event_datetime</th>\n",
       "      <th>event</th>\n",
       "      <th>building_type</th>\n",
       "      <th>user_id</th>\n",
       "      <th>project_type</th>\n",
       "    </tr>\n",
       "  </thead>\n",
       "  <tbody>\n",
       "    <tr>\n",
       "      <th>6659</th>\n",
       "      <td>2020-05-04 19:47:29</td>\n",
       "      <td>finished_stage_1</td>\n",
       "      <td>NaN</td>\n",
       "      <td>ced7b368-818f-48f6-9461-2346de0892c5</td>\n",
       "      <td>NaN</td>\n",
       "    </tr>\n",
       "    <tr>\n",
       "      <th>13134</th>\n",
       "      <td>2020-05-05 13:22:09</td>\n",
       "      <td>finished_stage_1</td>\n",
       "      <td>NaN</td>\n",
       "      <td>7ef7fc89-2779-46ea-b328-9e5035b83af5</td>\n",
       "      <td>NaN</td>\n",
       "    </tr>\n",
       "    <tr>\n",
       "      <th>15274</th>\n",
       "      <td>2020-05-05 18:54:37</td>\n",
       "      <td>finished_stage_1</td>\n",
       "      <td>NaN</td>\n",
       "      <td>70db22b3-c2f4-43bc-94ea-51c8d2904a29</td>\n",
       "      <td>NaN</td>\n",
       "    </tr>\n",
       "    <tr>\n",
       "      <th>16284</th>\n",
       "      <td>2020-05-05 21:27:29</td>\n",
       "      <td>finished_stage_1</td>\n",
       "      <td>NaN</td>\n",
       "      <td>903fc9ef-ba97-4b12-9d5c-ac8d602fbd8b</td>\n",
       "      <td>NaN</td>\n",
       "    </tr>\n",
       "    <tr>\n",
       "      <th>19650</th>\n",
       "      <td>2020-05-06 06:02:22</td>\n",
       "      <td>finished_stage_1</td>\n",
       "      <td>NaN</td>\n",
       "      <td>58e077ba-feb1-4556-a5a0-d96bd04efa39</td>\n",
       "      <td>NaN</td>\n",
       "    </tr>\n",
       "  </tbody>\n",
       "</table>\n",
       "</div>"
      ],
      "text/plain": [
       "           event_datetime             event building_type  \\\n",
       "6659  2020-05-04 19:47:29  finished_stage_1           NaN   \n",
       "13134 2020-05-05 13:22:09  finished_stage_1           NaN   \n",
       "15274 2020-05-05 18:54:37  finished_stage_1           NaN   \n",
       "16284 2020-05-05 21:27:29  finished_stage_1           NaN   \n",
       "19650 2020-05-06 06:02:22  finished_stage_1           NaN   \n",
       "\n",
       "                                    user_id project_type  \n",
       "6659   ced7b368-818f-48f6-9461-2346de0892c5          NaN  \n",
       "13134  7ef7fc89-2779-46ea-b328-9e5035b83af5          NaN  \n",
       "15274  70db22b3-c2f4-43bc-94ea-51c8d2904a29          NaN  \n",
       "16284  903fc9ef-ba97-4b12-9d5c-ac8d602fbd8b          NaN  \n",
       "19650  58e077ba-feb1-4556-a5a0-d96bd04efa39          NaN  "
      ]
     },
     "execution_count": 12,
     "metadata": {},
     "output_type": "execute_result"
    }
   ],
   "source": [
    "nan.head()"
   ]
  },
  {
   "cell_type": "code",
   "execution_count": 13,
   "id": "fd5f25fb",
   "metadata": {},
   "outputs": [],
   "source": [
    "not_nan = nan[nan['project_type'] == 'satellite_orbital_assembly']"
   ]
  },
  {
   "cell_type": "code",
   "execution_count": 14,
   "id": "eda6c234",
   "metadata": {},
   "outputs": [
    {
     "data": {
      "text/html": [
       "<div>\n",
       "<style scoped>\n",
       "    .dataframe tbody tr th:only-of-type {\n",
       "        vertical-align: middle;\n",
       "    }\n",
       "\n",
       "    .dataframe tbody tr th {\n",
       "        vertical-align: top;\n",
       "    }\n",
       "\n",
       "    .dataframe thead th {\n",
       "        text-align: right;\n",
       "    }\n",
       "</style>\n",
       "<table border=\"1\" class=\"dataframe\">\n",
       "  <thead>\n",
       "    <tr style=\"text-align: right;\">\n",
       "      <th></th>\n",
       "      <th>event_datetime</th>\n",
       "      <th>event</th>\n",
       "      <th>building_type</th>\n",
       "      <th>user_id</th>\n",
       "      <th>project_type</th>\n",
       "    </tr>\n",
       "  </thead>\n",
       "  <tbody>\n",
       "    <tr>\n",
       "      <th>47121</th>\n",
       "      <td>2020-05-08 18:10:25</td>\n",
       "      <td>project</td>\n",
       "      <td>NaN</td>\n",
       "      <td>e3c66498-9d45-4000-9392-f81e6796e7da</td>\n",
       "      <td>satellite_orbital_assembly</td>\n",
       "    </tr>\n",
       "    <tr>\n",
       "      <th>57398</th>\n",
       "      <td>2020-05-09 13:49:11</td>\n",
       "      <td>project</td>\n",
       "      <td>NaN</td>\n",
       "      <td>936e7af6-8338-4703-a1df-fc6c3f5b8e34</td>\n",
       "      <td>satellite_orbital_assembly</td>\n",
       "    </tr>\n",
       "    <tr>\n",
       "      <th>58797</th>\n",
       "      <td>2020-05-09 16:19:33</td>\n",
       "      <td>project</td>\n",
       "      <td>NaN</td>\n",
       "      <td>a4491c86-c498-4f74-a56e-65c136d0e9a1</td>\n",
       "      <td>satellite_orbital_assembly</td>\n",
       "    </tr>\n",
       "    <tr>\n",
       "      <th>61174</th>\n",
       "      <td>2020-05-09 20:29:01</td>\n",
       "      <td>project</td>\n",
       "      <td>NaN</td>\n",
       "      <td>85d9e675-562b-4329-8bbd-14d3b39096be</td>\n",
       "      <td>satellite_orbital_assembly</td>\n",
       "    </tr>\n",
       "    <tr>\n",
       "      <th>63770</th>\n",
       "      <td>2020-05-10 00:57:47</td>\n",
       "      <td>project</td>\n",
       "      <td>NaN</td>\n",
       "      <td>1889ca71-3c57-4e61-9ea6-a711971bbf0a</td>\n",
       "      <td>satellite_orbital_assembly</td>\n",
       "    </tr>\n",
       "  </tbody>\n",
       "</table>\n",
       "</div>"
      ],
      "text/plain": [
       "           event_datetime    event building_type  \\\n",
       "47121 2020-05-08 18:10:25  project           NaN   \n",
       "57398 2020-05-09 13:49:11  project           NaN   \n",
       "58797 2020-05-09 16:19:33  project           NaN   \n",
       "61174 2020-05-09 20:29:01  project           NaN   \n",
       "63770 2020-05-10 00:57:47  project           NaN   \n",
       "\n",
       "                                    user_id                project_type  \n",
       "47121  e3c66498-9d45-4000-9392-f81e6796e7da  satellite_orbital_assembly  \n",
       "57398  936e7af6-8338-4703-a1df-fc6c3f5b8e34  satellite_orbital_assembly  \n",
       "58797  a4491c86-c498-4f74-a56e-65c136d0e9a1  satellite_orbital_assembly  \n",
       "61174  85d9e675-562b-4329-8bbd-14d3b39096be  satellite_orbital_assembly  \n",
       "63770  1889ca71-3c57-4e61-9ea6-a711971bbf0a  satellite_orbital_assembly  "
      ]
     },
     "execution_count": 14,
     "metadata": {},
     "output_type": "execute_result"
    }
   ],
   "source": [
    "not_nan.head()"
   ]
  },
  {
   "cell_type": "code",
   "execution_count": 15,
   "id": "2b5c75b7",
   "metadata": {},
   "outputs": [
    {
     "data": {
      "text/plain": [
       "array(['project'], dtype=object)"
      ]
     },
     "execution_count": 15,
     "metadata": {},
     "output_type": "execute_result"
    }
   ],
   "source": [
    "not_nan['event'].unique()"
   ]
  },
  {
   "cell_type": "code",
   "execution_count": 16,
   "id": "664b6a9c",
   "metadata": {},
   "outputs": [
    {
     "data": {
      "text/plain": [
       "array(['finished_stage_1', 'project'], dtype=object)"
      ]
     },
     "execution_count": 16,
     "metadata": {},
     "output_type": "execute_result"
    }
   ],
   "source": [
    "game_actions[game_actions['building_type'].isna()]['event'].unique() "
   ]
  },
  {
   "cell_type": "code",
   "execution_count": 17,
   "id": "b7754e8e",
   "metadata": {},
   "outputs": [
    {
     "data": {
      "text/plain": [
       "array(['building', 'finished_stage_1'], dtype=object)"
      ]
     },
     "execution_count": 17,
     "metadata": {},
     "output_type": "execute_result"
    }
   ],
   "source": [
    "game_actions[game_actions['project_type'].isna()]['event'].unique() "
   ]
  },
  {
   "cell_type": "markdown",
   "id": "8691799e",
   "metadata": {},
   "source": [
    "Пропуски в строках - это пользователи, которые перешли на событие project. Это я выявила благодаря проверке, сделав выборки и посмотретла как связаны пропуски с типами. Никаких данных о постройках тут не должно быть потому что это факт события.\n",
    "\n",
    "Мы убедились, что пропуски обусловлены механикой сбора данных и не являются ошибками. Если бы там были пропуски не в нужных местах, тогда надо было бы что-то делать. Сейчас можно удалить столбец, но я приняла решение его оставить."
   ]
  },
  {
   "cell_type": "markdown",
   "id": "d327be2e",
   "metadata": {},
   "source": [
    "### Датасет ad_costs.csv:"
   ]
  },
  {
   "cell_type": "markdown",
   "id": "a81fd5f7",
   "metadata": {},
   "source": [
    "- `day` - день, в который был совершен клик по объявлению\n",
    "- `source` - источник трафика\n",
    "- `cost` - стоимость кликов"
   ]
  },
  {
   "cell_type": "code",
   "execution_count": 18,
   "id": "d0c5886d",
   "metadata": {},
   "outputs": [
    {
     "data": {
      "text/html": [
       "<div>\n",
       "<style scoped>\n",
       "    .dataframe tbody tr th:only-of-type {\n",
       "        vertical-align: middle;\n",
       "    }\n",
       "\n",
       "    .dataframe tbody tr th {\n",
       "        vertical-align: top;\n",
       "    }\n",
       "\n",
       "    .dataframe thead th {\n",
       "        text-align: right;\n",
       "    }\n",
       "</style>\n",
       "<table border=\"1\" class=\"dataframe\">\n",
       "  <thead>\n",
       "    <tr style=\"text-align: right;\">\n",
       "      <th></th>\n",
       "      <th>source</th>\n",
       "      <th>day</th>\n",
       "      <th>cost</th>\n",
       "    </tr>\n",
       "  </thead>\n",
       "  <tbody>\n",
       "    <tr>\n",
       "      <th>0</th>\n",
       "      <td>facebook_ads</td>\n",
       "      <td>2020-05-03</td>\n",
       "      <td>935.882786</td>\n",
       "    </tr>\n",
       "    <tr>\n",
       "      <th>1</th>\n",
       "      <td>facebook_ads</td>\n",
       "      <td>2020-05-04</td>\n",
       "      <td>548.354480</td>\n",
       "    </tr>\n",
       "    <tr>\n",
       "      <th>2</th>\n",
       "      <td>facebook_ads</td>\n",
       "      <td>2020-05-05</td>\n",
       "      <td>260.185754</td>\n",
       "    </tr>\n",
       "    <tr>\n",
       "      <th>3</th>\n",
       "      <td>facebook_ads</td>\n",
       "      <td>2020-05-06</td>\n",
       "      <td>177.982200</td>\n",
       "    </tr>\n",
       "    <tr>\n",
       "      <th>4</th>\n",
       "      <td>facebook_ads</td>\n",
       "      <td>2020-05-07</td>\n",
       "      <td>111.766796</td>\n",
       "    </tr>\n",
       "  </tbody>\n",
       "</table>\n",
       "</div>"
      ],
      "text/plain": [
       "         source         day        cost\n",
       "0  facebook_ads  2020-05-03  935.882786\n",
       "1  facebook_ads  2020-05-04  548.354480\n",
       "2  facebook_ads  2020-05-05  260.185754\n",
       "3  facebook_ads  2020-05-06  177.982200\n",
       "4  facebook_ads  2020-05-07  111.766796"
      ]
     },
     "execution_count": 18,
     "metadata": {},
     "output_type": "execute_result"
    }
   ],
   "source": [
    "ad_costs.head()"
   ]
  },
  {
   "cell_type": "code",
   "execution_count": 19,
   "id": "50f97fc5",
   "metadata": {},
   "outputs": [
    {
     "name": "stdout",
     "output_type": "stream",
     "text": [
      "<class 'pandas.core.frame.DataFrame'>\n",
      "RangeIndex: 28 entries, 0 to 27\n",
      "Data columns (total 3 columns):\n",
      " #   Column  Non-Null Count  Dtype  \n",
      "---  ------  --------------  -----  \n",
      " 0   source  28 non-null     object \n",
      " 1   day     28 non-null     object \n",
      " 2   cost    28 non-null     float64\n",
      "dtypes: float64(1), object(2)\n",
      "memory usage: 800.0+ bytes\n"
     ]
    }
   ],
   "source": [
    "ad_costs.info()"
   ]
  },
  {
   "cell_type": "code",
   "execution_count": 20,
   "id": "c63ae7d0",
   "metadata": {},
   "outputs": [],
   "source": [
    "# приводим к нужному типу данных\n",
    "ad_costs['day'] = pd.to_datetime(ad_costs['day'])"
   ]
  },
  {
   "cell_type": "code",
   "execution_count": 21,
   "id": "f8bbbada",
   "metadata": {},
   "outputs": [
    {
     "data": {
      "text/plain": [
       "0"
      ]
     },
     "execution_count": 21,
     "metadata": {},
     "output_type": "execute_result"
    }
   ],
   "source": [
    "ad_costs.duplicated().sum()"
   ]
  },
  {
   "cell_type": "code",
   "execution_count": 22,
   "id": "abd5b688",
   "metadata": {},
   "outputs": [
    {
     "data": {
      "text/plain": [
       "Timestamp('2020-05-03 00:00:00')"
      ]
     },
     "execution_count": 22,
     "metadata": {},
     "output_type": "execute_result"
    }
   ],
   "source": [
    "ad_costs['day'].min()"
   ]
  },
  {
   "cell_type": "code",
   "execution_count": 23,
   "id": "d77901b9",
   "metadata": {},
   "outputs": [
    {
     "data": {
      "text/plain": [
       "Timestamp('2020-05-09 00:00:00')"
      ]
     },
     "execution_count": 23,
     "metadata": {},
     "output_type": "execute_result"
    }
   ],
   "source": [
    "ad_costs['day'].max()"
   ]
  },
  {
   "cell_type": "markdown",
   "id": "d0e89ac0",
   "metadata": {},
   "source": [
    "### Датасет user_source.csv"
   ]
  },
  {
   "cell_type": "markdown",
   "id": "f596f3da",
   "metadata": {},
   "source": [
    "- `user_id` - идентификатор пользователя\n",
    "- `source` - источников, с которого пришёл пользователь, установивший приложение"
   ]
  },
  {
   "cell_type": "code",
   "execution_count": 24,
   "id": "1c5696e4",
   "metadata": {},
   "outputs": [
    {
     "data": {
      "text/html": [
       "<div>\n",
       "<style scoped>\n",
       "    .dataframe tbody tr th:only-of-type {\n",
       "        vertical-align: middle;\n",
       "    }\n",
       "\n",
       "    .dataframe tbody tr th {\n",
       "        vertical-align: top;\n",
       "    }\n",
       "\n",
       "    .dataframe thead th {\n",
       "        text-align: right;\n",
       "    }\n",
       "</style>\n",
       "<table border=\"1\" class=\"dataframe\">\n",
       "  <thead>\n",
       "    <tr style=\"text-align: right;\">\n",
       "      <th></th>\n",
       "      <th>user_id</th>\n",
       "      <th>source</th>\n",
       "    </tr>\n",
       "  </thead>\n",
       "  <tbody>\n",
       "    <tr>\n",
       "      <th>0</th>\n",
       "      <td>0001f83c-c6ac-4621-b7f0-8a28b283ac30</td>\n",
       "      <td>facebook_ads</td>\n",
       "    </tr>\n",
       "    <tr>\n",
       "      <th>1</th>\n",
       "      <td>00151b4f-ba38-44a8-a650-d7cf130a0105</td>\n",
       "      <td>yandex_direct</td>\n",
       "    </tr>\n",
       "    <tr>\n",
       "      <th>2</th>\n",
       "      <td>001aaea6-3d14-43f1-8ca8-7f48820f17aa</td>\n",
       "      <td>youtube_channel_reklama</td>\n",
       "    </tr>\n",
       "    <tr>\n",
       "      <th>3</th>\n",
       "      <td>001d39dc-366c-4021-9604-6a3b9ff01e25</td>\n",
       "      <td>instagram_new_adverts</td>\n",
       "    </tr>\n",
       "    <tr>\n",
       "      <th>4</th>\n",
       "      <td>002f508f-67b6-479f-814b-b05f00d4e995</td>\n",
       "      <td>facebook_ads</td>\n",
       "    </tr>\n",
       "  </tbody>\n",
       "</table>\n",
       "</div>"
      ],
      "text/plain": [
       "                                user_id                   source\n",
       "0  0001f83c-c6ac-4621-b7f0-8a28b283ac30             facebook_ads\n",
       "1  00151b4f-ba38-44a8-a650-d7cf130a0105            yandex_direct\n",
       "2  001aaea6-3d14-43f1-8ca8-7f48820f17aa  youtube_channel_reklama\n",
       "3  001d39dc-366c-4021-9604-6a3b9ff01e25    instagram_new_adverts\n",
       "4  002f508f-67b6-479f-814b-b05f00d4e995             facebook_ads"
      ]
     },
     "execution_count": 24,
     "metadata": {},
     "output_type": "execute_result"
    }
   ],
   "source": [
    "user_source.head()"
   ]
  },
  {
   "cell_type": "code",
   "execution_count": 25,
   "id": "76e70a89",
   "metadata": {},
   "outputs": [
    {
     "name": "stdout",
     "output_type": "stream",
     "text": [
      "<class 'pandas.core.frame.DataFrame'>\n",
      "RangeIndex: 13576 entries, 0 to 13575\n",
      "Data columns (total 2 columns):\n",
      " #   Column   Non-Null Count  Dtype \n",
      "---  ------   --------------  ----- \n",
      " 0   user_id  13576 non-null  object\n",
      " 1   source   13576 non-null  object\n",
      "dtypes: object(2)\n",
      "memory usage: 212.2+ KB\n"
     ]
    }
   ],
   "source": [
    "user_source.info()"
   ]
  },
  {
   "cell_type": "code",
   "execution_count": 26,
   "id": "7c29f021",
   "metadata": {},
   "outputs": [
    {
     "data": {
      "text/plain": [
       "0"
      ]
     },
     "execution_count": 26,
     "metadata": {},
     "output_type": "execute_result"
    }
   ],
   "source": [
    "user_source.duplicated().sum()"
   ]
  },
  {
   "cell_type": "code",
   "execution_count": 27,
   "id": "bcb7dcd7",
   "metadata": {},
   "outputs": [
    {
     "data": {
      "text/plain": [
       "array(['facebook_ads', 'yandex_direct', 'youtube_channel_reklama',\n",
       "       'instagram_new_adverts'], dtype=object)"
      ]
     },
     "execution_count": 27,
     "metadata": {},
     "output_type": "execute_result"
    }
   ],
   "source": [
    "user_source['source'].unique()"
   ]
  },
  {
   "cell_type": "markdown",
   "id": "c82b8544",
   "metadata": {},
   "source": [
    "Предобработка завершена. Удален дубликат, типы данных в столбцах event_datetime и day приведены к формату дата и время. Пропуски в данных удалять и заполнять не вижу смысла, так как в столбце building_type некоторые события не предполагают постройку, а пропуски в project_type означают невыполнение проекта. Данные подготовлены к анализу."
   ]
  },
  {
   "cell_type": "markdown",
   "id": "0dc2ebba",
   "metadata": {},
   "source": [
    "# 2. Исследовательский анализ"
   ]
  },
  {
   "cell_type": "markdown",
   "id": "328a1460",
   "metadata": {},
   "source": [
    "В данном разделе мы проанализируем пользовательское поведение."
   ]
  },
  {
   "cell_type": "code",
   "execution_count": 28,
   "id": "c38326bc",
   "metadata": {},
   "outputs": [],
   "source": [
    "# добавляем колонку с источником рекламы по идентификатору пользователя \n",
    "game_actions = game_actions.merge(user_source, how='left', on='user_id')"
   ]
  },
  {
   "cell_type": "code",
   "execution_count": 29,
   "id": "222be2ad",
   "metadata": {},
   "outputs": [
    {
     "data": {
      "text/html": [
       "<div>\n",
       "<style scoped>\n",
       "    .dataframe tbody tr th:only-of-type {\n",
       "        vertical-align: middle;\n",
       "    }\n",
       "\n",
       "    .dataframe tbody tr th {\n",
       "        vertical-align: top;\n",
       "    }\n",
       "\n",
       "    .dataframe thead th {\n",
       "        text-align: right;\n",
       "    }\n",
       "</style>\n",
       "<table border=\"1\" class=\"dataframe\">\n",
       "  <thead>\n",
       "    <tr style=\"text-align: right;\">\n",
       "      <th></th>\n",
       "      <th>event_datetime</th>\n",
       "      <th>event</th>\n",
       "      <th>building_type</th>\n",
       "      <th>user_id</th>\n",
       "      <th>project_type</th>\n",
       "      <th>source</th>\n",
       "    </tr>\n",
       "  </thead>\n",
       "  <tbody>\n",
       "    <tr>\n",
       "      <th>0</th>\n",
       "      <td>2020-05-04 00:00:01</td>\n",
       "      <td>building</td>\n",
       "      <td>assembly_shop</td>\n",
       "      <td>55e92310-cb8e-4754-b622-597e124b03de</td>\n",
       "      <td>NaN</td>\n",
       "      <td>youtube_channel_reklama</td>\n",
       "    </tr>\n",
       "    <tr>\n",
       "      <th>1</th>\n",
       "      <td>2020-05-04 00:00:03</td>\n",
       "      <td>building</td>\n",
       "      <td>assembly_shop</td>\n",
       "      <td>c07b1c10-f477-44dc-81dc-ec82254b1347</td>\n",
       "      <td>NaN</td>\n",
       "      <td>facebook_ads</td>\n",
       "    </tr>\n",
       "    <tr>\n",
       "      <th>2</th>\n",
       "      <td>2020-05-04 00:00:16</td>\n",
       "      <td>building</td>\n",
       "      <td>assembly_shop</td>\n",
       "      <td>6edd42cc-e753-4ff6-a947-2107cd560710</td>\n",
       "      <td>NaN</td>\n",
       "      <td>instagram_new_adverts</td>\n",
       "    </tr>\n",
       "    <tr>\n",
       "      <th>3</th>\n",
       "      <td>2020-05-04 00:00:16</td>\n",
       "      <td>building</td>\n",
       "      <td>assembly_shop</td>\n",
       "      <td>92c69003-d60a-444a-827f-8cc51bf6bf4c</td>\n",
       "      <td>NaN</td>\n",
       "      <td>facebook_ads</td>\n",
       "    </tr>\n",
       "    <tr>\n",
       "      <th>4</th>\n",
       "      <td>2020-05-04 00:00:35</td>\n",
       "      <td>building</td>\n",
       "      <td>assembly_shop</td>\n",
       "      <td>cdc6bb92-0ccb-4490-9866-ef142f09139d</td>\n",
       "      <td>NaN</td>\n",
       "      <td>yandex_direct</td>\n",
       "    </tr>\n",
       "    <tr>\n",
       "      <th>...</th>\n",
       "      <td>...</td>\n",
       "      <td>...</td>\n",
       "      <td>...</td>\n",
       "      <td>...</td>\n",
       "      <td>...</td>\n",
       "      <td>...</td>\n",
       "    </tr>\n",
       "    <tr>\n",
       "      <th>135634</th>\n",
       "      <td>2020-06-05 00:08:06</td>\n",
       "      <td>building</td>\n",
       "      <td>research_center</td>\n",
       "      <td>f21d179f-1c4b-437e-b9c6-ab1976907195</td>\n",
       "      <td>NaN</td>\n",
       "      <td>instagram_new_adverts</td>\n",
       "    </tr>\n",
       "    <tr>\n",
       "      <th>135635</th>\n",
       "      <td>2020-06-05 02:25:12</td>\n",
       "      <td>finished_stage_1</td>\n",
       "      <td>NaN</td>\n",
       "      <td>515c1952-99aa-4bca-a7ea-d0449eb5385a</td>\n",
       "      <td>NaN</td>\n",
       "      <td>yandex_direct</td>\n",
       "    </tr>\n",
       "    <tr>\n",
       "      <th>135636</th>\n",
       "      <td>2020-06-05 08:57:52</td>\n",
       "      <td>building</td>\n",
       "      <td>research_center</td>\n",
       "      <td>ed3e7d02-8a96-4be7-9998-e9813ff9c316</td>\n",
       "      <td>NaN</td>\n",
       "      <td>youtube_channel_reklama</td>\n",
       "    </tr>\n",
       "    <tr>\n",
       "      <th>135637</th>\n",
       "      <td>2020-06-05 12:12:27</td>\n",
       "      <td>finished_stage_1</td>\n",
       "      <td>NaN</td>\n",
       "      <td>32572adb-900f-4b5d-a453-1eb1e6d88d8b</td>\n",
       "      <td>NaN</td>\n",
       "      <td>facebook_ads</td>\n",
       "    </tr>\n",
       "    <tr>\n",
       "      <th>135638</th>\n",
       "      <td>2020-06-05 12:32:49</td>\n",
       "      <td>finished_stage_1</td>\n",
       "      <td>NaN</td>\n",
       "      <td>f21d179f-1c4b-437e-b9c6-ab1976907195</td>\n",
       "      <td>NaN</td>\n",
       "      <td>instagram_new_adverts</td>\n",
       "    </tr>\n",
       "  </tbody>\n",
       "</table>\n",
       "<p>135639 rows × 6 columns</p>\n",
       "</div>"
      ],
      "text/plain": [
       "            event_datetime             event    building_type  \\\n",
       "0      2020-05-04 00:00:01          building    assembly_shop   \n",
       "1      2020-05-04 00:00:03          building    assembly_shop   \n",
       "2      2020-05-04 00:00:16          building    assembly_shop   \n",
       "3      2020-05-04 00:00:16          building    assembly_shop   \n",
       "4      2020-05-04 00:00:35          building    assembly_shop   \n",
       "...                    ...               ...              ...   \n",
       "135634 2020-06-05 00:08:06          building  research_center   \n",
       "135635 2020-06-05 02:25:12  finished_stage_1              NaN   \n",
       "135636 2020-06-05 08:57:52          building  research_center   \n",
       "135637 2020-06-05 12:12:27  finished_stage_1              NaN   \n",
       "135638 2020-06-05 12:32:49  finished_stage_1              NaN   \n",
       "\n",
       "                                     user_id project_type  \\\n",
       "0       55e92310-cb8e-4754-b622-597e124b03de          NaN   \n",
       "1       c07b1c10-f477-44dc-81dc-ec82254b1347          NaN   \n",
       "2       6edd42cc-e753-4ff6-a947-2107cd560710          NaN   \n",
       "3       92c69003-d60a-444a-827f-8cc51bf6bf4c          NaN   \n",
       "4       cdc6bb92-0ccb-4490-9866-ef142f09139d          NaN   \n",
       "...                                      ...          ...   \n",
       "135634  f21d179f-1c4b-437e-b9c6-ab1976907195          NaN   \n",
       "135635  515c1952-99aa-4bca-a7ea-d0449eb5385a          NaN   \n",
       "135636  ed3e7d02-8a96-4be7-9998-e9813ff9c316          NaN   \n",
       "135637  32572adb-900f-4b5d-a453-1eb1e6d88d8b          NaN   \n",
       "135638  f21d179f-1c4b-437e-b9c6-ab1976907195          NaN   \n",
       "\n",
       "                         source  \n",
       "0       youtube_channel_reklama  \n",
       "1                  facebook_ads  \n",
       "2         instagram_new_adverts  \n",
       "3                  facebook_ads  \n",
       "4                 yandex_direct  \n",
       "...                         ...  \n",
       "135634    instagram_new_adverts  \n",
       "135635            yandex_direct  \n",
       "135636  youtube_channel_reklama  \n",
       "135637             facebook_ads  \n",
       "135638    instagram_new_adverts  \n",
       "\n",
       "[135639 rows x 6 columns]"
      ]
     },
     "execution_count": 29,
     "metadata": {},
     "output_type": "execute_result"
    }
   ],
   "source": [
    "game_actions"
   ]
  },
  {
   "cell_type": "code",
   "execution_count": 30,
   "id": "e80ef34b",
   "metadata": {},
   "outputs": [],
   "source": [
    "game_user = game_actions.groupby(['user_id','event']).agg({'project_type' : 'nunique'}).reset_index()\n",
    "game_user.columns = ['user_id','event', 'count']"
   ]
  },
  {
   "cell_type": "code",
   "execution_count": 31,
   "id": "03d53a9e",
   "metadata": {},
   "outputs": [
    {
     "data": {
      "text/html": [
       "<div>\n",
       "<style scoped>\n",
       "    .dataframe tbody tr th:only-of-type {\n",
       "        vertical-align: middle;\n",
       "    }\n",
       "\n",
       "    .dataframe tbody tr th {\n",
       "        vertical-align: top;\n",
       "    }\n",
       "\n",
       "    .dataframe thead th {\n",
       "        text-align: right;\n",
       "    }\n",
       "</style>\n",
       "<table border=\"1\" class=\"dataframe\">\n",
       "  <thead>\n",
       "    <tr style=\"text-align: right;\">\n",
       "      <th></th>\n",
       "      <th>user_id</th>\n",
       "      <th>event</th>\n",
       "      <th>count</th>\n",
       "    </tr>\n",
       "  </thead>\n",
       "  <tbody>\n",
       "    <tr>\n",
       "      <th>0</th>\n",
       "      <td>0001f83c-c6ac-4621-b7f0-8a28b283ac30</td>\n",
       "      <td>building</td>\n",
       "      <td>0</td>\n",
       "    </tr>\n",
       "    <tr>\n",
       "      <th>1</th>\n",
       "      <td>00151b4f-ba38-44a8-a650-d7cf130a0105</td>\n",
       "      <td>building</td>\n",
       "      <td>0</td>\n",
       "    </tr>\n",
       "    <tr>\n",
       "      <th>2</th>\n",
       "      <td>001aaea6-3d14-43f1-8ca8-7f48820f17aa</td>\n",
       "      <td>building</td>\n",
       "      <td>0</td>\n",
       "    </tr>\n",
       "    <tr>\n",
       "      <th>3</th>\n",
       "      <td>001d39dc-366c-4021-9604-6a3b9ff01e25</td>\n",
       "      <td>building</td>\n",
       "      <td>0</td>\n",
       "    </tr>\n",
       "    <tr>\n",
       "      <th>4</th>\n",
       "      <td>001d39dc-366c-4021-9604-6a3b9ff01e25</td>\n",
       "      <td>finished_stage_1</td>\n",
       "      <td>0</td>\n",
       "    </tr>\n",
       "    <tr>\n",
       "      <th>...</th>\n",
       "      <td>...</td>\n",
       "      <td>...</td>\n",
       "      <td>...</td>\n",
       "    </tr>\n",
       "    <tr>\n",
       "      <th>21254</th>\n",
       "      <td>fffb626c-5ab6-47c9-8113-2062a2f18494</td>\n",
       "      <td>finished_stage_1</td>\n",
       "      <td>0</td>\n",
       "    </tr>\n",
       "    <tr>\n",
       "      <th>21255</th>\n",
       "      <td>ffff194a-56b7-4c12-860d-3485242ae7f5</td>\n",
       "      <td>building</td>\n",
       "      <td>0</td>\n",
       "    </tr>\n",
       "    <tr>\n",
       "      <th>21256</th>\n",
       "      <td>ffff69cc-fec1-4fd3-9f98-93be1112a6b8</td>\n",
       "      <td>building</td>\n",
       "      <td>0</td>\n",
       "    </tr>\n",
       "    <tr>\n",
       "      <th>21257</th>\n",
       "      <td>ffff69cc-fec1-4fd3-9f98-93be1112a6b8</td>\n",
       "      <td>finished_stage_1</td>\n",
       "      <td>0</td>\n",
       "    </tr>\n",
       "    <tr>\n",
       "      <th>21258</th>\n",
       "      <td>ffff69cc-fec1-4fd3-9f98-93be1112a6b8</td>\n",
       "      <td>project</td>\n",
       "      <td>1</td>\n",
       "    </tr>\n",
       "  </tbody>\n",
       "</table>\n",
       "<p>21259 rows × 3 columns</p>\n",
       "</div>"
      ],
      "text/plain": [
       "                                    user_id             event  count\n",
       "0      0001f83c-c6ac-4621-b7f0-8a28b283ac30          building      0\n",
       "1      00151b4f-ba38-44a8-a650-d7cf130a0105          building      0\n",
       "2      001aaea6-3d14-43f1-8ca8-7f48820f17aa          building      0\n",
       "3      001d39dc-366c-4021-9604-6a3b9ff01e25          building      0\n",
       "4      001d39dc-366c-4021-9604-6a3b9ff01e25  finished_stage_1      0\n",
       "...                                     ...               ...    ...\n",
       "21254  fffb626c-5ab6-47c9-8113-2062a2f18494  finished_stage_1      0\n",
       "21255  ffff194a-56b7-4c12-860d-3485242ae7f5          building      0\n",
       "21256  ffff69cc-fec1-4fd3-9f98-93be1112a6b8          building      0\n",
       "21257  ffff69cc-fec1-4fd3-9f98-93be1112a6b8  finished_stage_1      0\n",
       "21258  ffff69cc-fec1-4fd3-9f98-93be1112a6b8           project      1\n",
       "\n",
       "[21259 rows x 3 columns]"
      ]
     },
     "execution_count": 31,
     "metadata": {},
     "output_type": "execute_result"
    }
   ],
   "source": [
    "game_user"
   ]
  },
  {
   "cell_type": "code",
   "execution_count": 32,
   "id": "fb89c2d7",
   "metadata": {},
   "outputs": [
    {
     "data": {
      "text/plain": [
       "1866"
      ]
     },
     "execution_count": 32,
     "metadata": {},
     "output_type": "execute_result"
    }
   ],
   "source": [
    "game_user_finish_project = list(game_user.query('event == \"project\" and count == 1')['user_id'])\n",
    "len(game_user_finish_project)"
   ]
  },
  {
   "cell_type": "code",
   "execution_count": 33,
   "id": "47f86b1e",
   "metadata": {},
   "outputs": [
    {
     "data": {
      "text/plain": [
       "3951"
      ]
     },
     "execution_count": 33,
     "metadata": {},
     "output_type": "execute_result"
    }
   ],
   "source": [
    "game_user_finish_victory = list(game_user.query('event == \"finished_stage_1\" and user_id not in @game_user_finish_project')['user_id'])\n",
    "len(game_user_finish_victory)"
   ]
  },
  {
   "cell_type": "code",
   "execution_count": 34,
   "id": "f60f93e2",
   "metadata": {
    "scrolled": true
   },
   "outputs": [
    {
     "data": {
      "text/plain": [
       "['006380d6-67a6-45de-ab1e-6eb54ad8dbe8',\n",
       " '00be7371-fa79-4fbd-b8e7-8ba32e3f8f82',\n",
       " '00c2b9f2-2615-439c-aed0-6974e4c6c1c1',\n",
       " '00de2809-403e-4476-a2f7-ca1b11700190',\n",
       " '00e83261-5fd4-4939-9616-802b5a0202c6',\n",
       " '00fcac8c-cfae-420b-bffe-6eb797bbe460',\n",
       " '0108c741-3fa9-4027-af75-e642cac746ac',\n",
       " '0136963c-c45c-4edb-92d8-205bd50a4d36',\n",
       " '01766a0c-d9e3-41b5-b73c-a9c351cd616b',\n",
       " '018793d6-38c8-450a-bd54-8c181d920f1a',\n",
       " '01b39089-f0c8-43d8-813b-ab2680006806',\n",
       " '01cf532c-3944-4aaf-97c4-913d93025a39',\n",
       " '01d8ab1b-a7e1-475f-ae5b-d754ca9a1aaa',\n",
       " '01edfdf1-6854-45af-bc88-0dfb93f5617c',\n",
       " '02047f6e-aa8c-4046-88ae-5c7e3dbe9a89',\n",
       " '02054843-1e25-44a0-a54d-a93ef5c80cc6',\n",
       " '026ab851-761f-4b67-91de-5e3e3851d5f9',\n",
       " '0283c103-6572-4382-a7af-62390340eb24',\n",
       " '02ee9519-4b58-47b4-a006-85415e2d0564',\n",
       " '0318c26d-8c6d-4f5f-8ae0-828d1c7c887f',\n",
       " '0322b711-b7ef-434b-981c-afa1aa81bc60',\n",
       " '032557ae-ba95-4ab7-8298-50f9c89b8c00',\n",
       " '032b3ba1-7d71-43f6-b00b-8e1ce8970de5',\n",
       " '033364dc-f264-409c-b525-ad2c818723be',\n",
       " '03474cd6-7e84-4479-9ffe-64c8866696d5',\n",
       " '03515a94-7641-4912-95db-f1bac3bfc081',\n",
       " '036863d4-1fea-4faa-925a-a036b4d199b6',\n",
       " '036cadc5-9889-4b80-bc20-e6c7c0c1dd74',\n",
       " '0388c7b0-085d-4fa2-914c-86b7f0e66b22',\n",
       " '03a477fa-e2f6-460f-a4a8-b83c3dd90442',\n",
       " '03a6205a-c505-472f-bf95-d12f4edb1ccf',\n",
       " '03c5ad2d-892e-4376-baec-c124dae85719',\n",
       " '03e94891-eb3a-4d35-b5f6-30f57ad8dc07',\n",
       " '03fc0528-940d-42bd-bd22-e50cf60ae4f9',\n",
       " '0413cf1d-a0a9-4b9f-926b-8da282a06c72',\n",
       " '041b49ea-d71e-4454-aa8c-2b789e4d3728',\n",
       " '042faff7-29d3-40c1-8cac-915d5ba12f3d',\n",
       " '044bd991-5f50-4ac2-91b4-78c1c19c9792',\n",
       " '046a921f-7ce4-4855-b7af-d364729916e6',\n",
       " '04b4a421-959b-4e20-ba89-0b1212d6e48d',\n",
       " '04b9b038-8c40-4969-ba29-108b7af677ed',\n",
       " '04ceaa28-00a9-4565-a612-60334a92a56c',\n",
       " '04d29955-d9a3-42fd-9852-447b74b63676',\n",
       " '04de1909-d2d5-422a-98a7-4b681ece52b0',\n",
       " '04ea16c0-98d2-4d99-8a5c-aa6228adf8fa',\n",
       " '053f7239-4b1e-462c-8c8a-9fee689d27b1',\n",
       " '0554a4cd-4d10-4f5f-b1e9-d8e9cc195c52',\n",
       " '05569c52-cb01-4cff-b234-4773888707e6',\n",
       " '055f71d1-4424-49f5-9c13-c025d3d41107',\n",
       " '057c000f-512e-44f8-b2d7-16a7abc7d291',\n",
       " '061bb326-da64-4802-8ddd-25f33dbbff01',\n",
       " '063ce4ad-06ee-4eef-82bc-130830c0d670',\n",
       " '0663f68b-45fa-4b76-9dde-ace980de611f',\n",
       " '068752fb-7765-49f4-882b-f83560beb405',\n",
       " '06c0d2de-0d7b-4090-8d60-1116e8d49aec',\n",
       " '06c4e701-e24f-4f4e-9adf-d81af16feb9b',\n",
       " '06e258b8-f8f1-4a11-883a-d18eb04b0d8a',\n",
       " '06e81363-bbfd-4450-8005-7afe316133ab',\n",
       " '06e9dc1f-1384-4d79-8cca-6539869030a2',\n",
       " '07301ebe-a553-4cb5-b98c-510f055c1860',\n",
       " '0733b689-68da-4ce0-ab5d-fcc438d86a38',\n",
       " '07423236-3f53-4f1b-ad70-68b50d45cd99',\n",
       " '075decb0-21e1-44a8-88b9-4883c9c73f02',\n",
       " '07683064-8c86-4c8b-8ad5-52be57288040',\n",
       " '0774711e-ae8a-4acf-8435-9ebc051c1a90',\n",
       " '07943d1f-db58-423f-8b02-537f0b6e335c',\n",
       " '07ff1e5f-df32-4fee-b5d2-6cd39f97b271',\n",
       " '080af54d-1656-432d-b523-d851a5dcf456',\n",
       " '0835f0c5-ad40-4698-a706-e6231db07f97',\n",
       " '083dfd58-ef1d-424a-8993-6f70d42bfcc3',\n",
       " '08425f93-aaca-40a7-97d0-7ff4be09b990',\n",
       " '0876287e-b34f-45ef-92fb-54b3f4d199f3',\n",
       " '08842dfb-beba-4001-891b-143a6cdce13f',\n",
       " '08c733d3-e197-4b03-bf60-c6fe7117454a',\n",
       " '090b1e05-03a6-4cd6-b314-d894d4bc8064',\n",
       " '091bbe97-c8d7-49f1-bd09-c8e33d7d64b1',\n",
       " '0939fc30-8eb3-481b-af58-6be5015efc04',\n",
       " '0951c131-8ab7-46f4-a346-9ed18f1213c1',\n",
       " '098fdf21-6c1d-46bb-b8e6-be3086af5bae',\n",
       " '09bfaf7e-49da-4004-a1ab-2c587e1a472f',\n",
       " '09ddea37-e614-4222-8ca7-b13faa3d2023',\n",
       " '09f1a3c4-eae5-4929-ae0c-4d1474a49e93',\n",
       " '0a375147-a671-4432-ab96-865f971436df',\n",
       " '0a8b9bfb-1032-4a8a-aea8-d86e4ecf5f1b',\n",
       " '0a93c07a-60c2-4316-a1d7-407b561325c3',\n",
       " '0ab74aeb-792b-44e7-858d-151d7d1453c7',\n",
       " '0abdde25-27aa-40ce-b805-e7eab1ff64cf',\n",
       " '0acf81a4-448c-4996-8ac6-521ca5ceb0e5',\n",
       " '0ad439ab-a876-4476-96f8-e666e6af9ed5',\n",
       " '0aeb2d50-8a57-4e7b-a78a-184e6daa61f5',\n",
       " '0b586de4-69dd-4401-8f76-68ecacf679b0',\n",
       " '0b59988b-a65d-41b4-9ceb-41d1a22a0cba',\n",
       " '0b609b7f-2e3a-4baf-a74a-734f4b5a6e9c',\n",
       " '0b64f04d-609f-4553-9337-0cdd6631c96d',\n",
       " '0b972806-0143-46e3-b946-438c0d8d8222',\n",
       " '0b979e54-c815-442f-bde3-e788b32ff9c4',\n",
       " '0bca1769-2de3-4508-be30-9e139b79ec69',\n",
       " '0c1bfa9f-8755-4871-9832-ae1bff4b1623',\n",
       " '0c55ca1b-d1fb-4f43-be9c-097c33cfc1b6',\n",
       " '0c606695-fa3f-4d06-ba1d-52c3e990ff22',\n",
       " '0c660c33-95aa-4f58-a681-20851335b5cd',\n",
       " '0c980998-b9d9-4a15-81ca-ebb26d4147dc',\n",
       " '0c9b8ca5-c487-4807-8d8c-9d4dd7eda60c',\n",
       " '0cdddd88-bdbb-493d-8304-a737b56f84a5',\n",
       " '0ce2d6d8-1273-4d9a-8970-395008a84bea',\n",
       " '0d0f4868-3235-4362-af49-e7fe1c15a6b9',\n",
       " '0d120b4c-4016-4336-aa41-c94349ba1f99',\n",
       " '0d5938f2-7ac8-453a-bc17-7a73e69844e4',\n",
       " '0d6ebe37-34de-4c2e-a699-cf02ce23a325',\n",
       " '0d78d170-f849-4599-b6af-0c7135a0678a',\n",
       " '0d7ce8ff-b693-40cc-b289-7960920d3adb',\n",
       " '0da60bfe-f2cf-4bde-8315-e0932cfc4968',\n",
       " '0da7c7ec-27a3-4a95-bd57-2ad29f78f1a7',\n",
       " '0dada26f-8902-4f43-ae16-9a2c5af38bed',\n",
       " '0db6e97c-3084-443d-96a9-c53f29c76c34',\n",
       " '0dc8fbbe-3996-420e-8a8b-dde002667471',\n",
       " '0de7acab-12c9-4498-b48a-ccd746915fc7',\n",
       " '0dfd6899-2573-4a2f-a17d-fc8346956592',\n",
       " '0e02a712-50f5-4a26-9c37-890e00042cd3',\n",
       " '0e0b2e6d-802b-4000-913c-e6a88fd2d610',\n",
       " '0e5d9ce0-68e6-45a7-b127-b41cc9d99e06',\n",
       " '0e7a4cd5-5ecd-442f-849d-a35968b20215',\n",
       " '0e92e043-1d30-49d4-8f41-9316c09eede0',\n",
       " '0ebbd741-282f-478d-8b52-de583679e126',\n",
       " '0fd2113f-f579-48a8-adc9-8bac18056e96',\n",
       " '0ff4b7db-46f8-4a61-a3f3-a9892831fccc',\n",
       " '100be28f-c05e-4521-8fad-709cfafd8abb',\n",
       " '101152c2-81ad-4f8b-a9cf-6b8f129832a1',\n",
       " '10703b9c-b9bf-482e-af78-8b9085312d06',\n",
       " '10780641-e858-4019-be38-f12419b0e7b9',\n",
       " '107ec509-789f-44bb-9c5c-e51f409f778a',\n",
       " '10e2e4a4-bf64-407a-ac4b-b4c007ebc54f',\n",
       " '110ad7e5-8f69-488b-87b8-1b60a6e70fec',\n",
       " '1122f8d8-61eb-4a7c-9e18-30cffb44d5fc',\n",
       " '1138c323-44af-4ecb-bf76-cbb54d85e261',\n",
       " '11692610-8c92-47b8-a081-cfdabf639e91',\n",
       " '119813cc-181f-4fbe-83f7-02d05db6ca3e',\n",
       " '11b96932-eeee-4f51-9f8b-2daacb8c72fa',\n",
       " '11e95447-fb7d-41b2-a459-3b92673cf118',\n",
       " '122a18fd-37a4-4d4a-a38d-8a9392ea7c6b',\n",
       " '125e2c75-7183-4ed0-bfa3-75b7d57846c8',\n",
       " '1281f728-b132-4ac2-abf8-4c1f41fde35f',\n",
       " '129e5a51-9631-4e55-9036-3a306a8fc42b',\n",
       " '12bbae3b-8fd2-4e72-8159-176f6fb60bbc',\n",
       " '12c2f0ea-f0be-4367-9478-929b4e66f633',\n",
       " '12cb8520-9620-4431-a933-f3d7133ebb05',\n",
       " '12d1f742-9b99-42c9-9bcd-3a3bce80dd57',\n",
       " '1354eeb0-e2e9-4ed1-8dbb-a15d01e4db99',\n",
       " '13779676-971a-4a6b-91fa-564468408290',\n",
       " '13792d43-588c-4275-8a03-5d20c5abb945',\n",
       " '13879101-42ea-4eb9-a169-85cb6436c3b3',\n",
       " '1387b2b2-8576-4ed4-971d-2118a8670691',\n",
       " '138f5fe0-21e1-4ba4-ac27-c227acbb1622',\n",
       " '13a6585c-9b1b-4fec-b99a-788bb916ab34',\n",
       " '13ae9931-e011-4241-9446-9c4cbe80acfb',\n",
       " '13e541c7-a5d0-42bf-bea3-6233ee74aeb2',\n",
       " '143a1e7e-43d1-40f5-9796-04ca17da95d0',\n",
       " '144d48e7-d751-4688-9e6d-71cd96e490b7',\n",
       " '1458803c-db54-4c04-ad88-af86a7f817e3',\n",
       " '148da3bb-5441-40a8-a682-6993494a3eb0',\n",
       " '14c3605c-a08e-420a-a428-c45dd4d7d431',\n",
       " '14cc9622-ad3b-4868-a2b4-585cad096e27',\n",
       " '14dee45c-c9bf-49ea-bf10-e431b45bd057',\n",
       " '1532d560-64b3-4f69-825a-903903b7dad1',\n",
       " '157f68f4-1cd2-457f-a014-2f0eecbffd6c',\n",
       " '159b60b3-be4a-4c1f-949a-9c2a61a4c11d',\n",
       " '159c32e6-baa7-44ac-975d-245e5067bece',\n",
       " '15a3ae8c-063d-4b51-a707-8eac5a416624',\n",
       " '16008f45-a55a-41b6-b309-b82e65bfd4ac',\n",
       " '160cef17-25b5-4fa5-b8d6-4b85d0bc8681',\n",
       " '1616c860-8a5a-4ef0-beb4-41155862c517',\n",
       " '1627b32b-a6b1-4acb-b85a-7bd322b4e58b',\n",
       " '1641d209-3c78-4c9d-80d8-e15f3edf1535',\n",
       " '165493a1-dc48-4e0f-87a0-30433902c8a7',\n",
       " '1669ef5e-8908-410f-b4d9-b29c7fb8ef65',\n",
       " '168f1119-8978-4265-9309-0bf11c905653',\n",
       " '16973d81-e062-47d6-b0b4-79b66860526b',\n",
       " '16aa1adf-eb49-438e-838a-6e3bb1daa333',\n",
       " '16b87134-6efc-4b47-abe6-99242b67d3cf',\n",
       " '16fd4271-b5d4-4d1d-9f3f-c3260f307f7d',\n",
       " '1733d9d7-bba5-4126-b7ce-332b14b965bf',\n",
       " '1742063d-5f41-4976-8473-213d4f9586ff',\n",
       " '17498bbb-6f35-45be-9a0e-1540be12ed3d',\n",
       " '1785aaa8-3674-4346-a0a5-b4448ae79789',\n",
       " '179ff9d6-040a-4169-bdb5-a4c2970508dd',\n",
       " '17a254f0-f89e-4f63-8d34-50b5c303df2d',\n",
       " '17ab4e9c-86e6-4418-8428-ced9fa27dce1',\n",
       " '1806bd73-73d3-4c28-9432-8dcfcff13997',\n",
       " '1814f095-50e2-4f7d-8589-8a2834f15421',\n",
       " '1840f359-d77a-4bfe-a7aa-7738be0fda7b',\n",
       " '18429fe7-c728-4f51-b40d-a99afc13f35e',\n",
       " '1848e63d-aa96-4e48-9ecf-d63835704e33',\n",
       " '184aa6db-80fe-478e-91d2-a5154df83523',\n",
       " '186aed71-e2ed-495f-8784-ba890ecb3103',\n",
       " '187a5e95-f963-48c6-953b-822352138de2',\n",
       " '1889ca71-3c57-4e61-9ea6-a711971bbf0a',\n",
       " '18b607b0-b978-4f59-9228-2f199da33c1b',\n",
       " '18b935e1-db65-4a25-830e-f9fe0295153e',\n",
       " '18dc3059-c4d8-40c3-966a-0390425c8b25',\n",
       " '18eb651d-f994-49d4-997f-03ea25bb879e',\n",
       " '191e9bbc-0018-4e40-ab47-fac4c8ea420e',\n",
       " '19323b80-936d-4673-8175-ff261be12b5b',\n",
       " '19472dc0-935e-4e62-a416-885d10b2e6e2',\n",
       " '1956b144-8019-43f8-a31e-6eab57fafbfa',\n",
       " '19689aa1-1690-4de2-a997-8c4ab37dd702',\n",
       " '197a4d30-b04e-4163-a73b-e8122bc27479',\n",
       " '19851d62-9376-448b-99a5-ec5b65565442',\n",
       " '19875f30-353b-4498-86ef-995083e2c600',\n",
       " '198cc498-ce54-4bae-ad5f-7a4fe7f6b7b6',\n",
       " '19b2edb8-8106-4ed2-ab2c-6eb33c7f64cd',\n",
       " '19dd1267-bc90-4c34-9f61-aef58acaec80',\n",
       " '1a2a2d35-2d24-41dc-a39b-17bc9dd0a041',\n",
       " '1a2f849c-887f-4ac5-b239-b4cf495dc9c7',\n",
       " '1a4712f6-4902-4b71-9f15-86f42cf9ffd4',\n",
       " '1a592d4a-6a76-4c4d-9465-d3762a272b48',\n",
       " '1a5b4b6b-8d4e-439f-8234-abcd56ecd84c',\n",
       " '1a73a25b-f267-492a-9f79-a11e1896a560',\n",
       " '1a9a7d7d-ea46-49dc-b776-6a4b17778094',\n",
       " '1aa49d5d-76b9-4e31-89c3-af2af2cd1f0e',\n",
       " '1ad36b66-ebd2-4c08-beff-18b0120939ef',\n",
       " '1b28814a-54af-4d4f-826d-2e6085fb0616',\n",
       " '1b9c316d-9210-438d-b9cd-573528ea459d',\n",
       " '1bba346b-9905-48f1-91fb-8e42c628401c',\n",
       " '1be55e9c-c314-4b92-aadb-1f094674be12',\n",
       " '1c03e562-3dc4-4c51-b3ae-7e817bf71291',\n",
       " '1c0cabe4-77b7-4097-aa3a-56b5a3203ab2',\n",
       " '1c4ad85c-81a9-4226-98af-308175eba6bc',\n",
       " '1c6f3574-8ed9-44e0-947a-9e88f8c84f43',\n",
       " '1c902f53-5cf7-43a1-bb56-6983e47fc764',\n",
       " '1caf41e0-6bf2-4c42-84ef-c6301bed79ee',\n",
       " '1cbb0c57-aebc-428b-bd2b-531f0eb04075',\n",
       " '1cc55fc2-de1a-418a-9039-340a445dc724',\n",
       " '1d1a7627-d4f0-42f2-adf0-2fd05a74960d',\n",
       " '1d1cbbb8-cf16-46a8-b6d8-90c6501c5a21',\n",
       " '1d549237-3dd4-402a-a95d-79e4d2b5b57c',\n",
       " '1d753a76-e839-4c75-9561-cedf38c6c06d',\n",
       " '1d78c910-d208-44ee-b6a5-87c22f09f23a',\n",
       " '1d8a364f-ba42-4100-b1ce-08f910693d4f',\n",
       " '1dc20c9d-a4bd-4dc2-99d1-03e7392fa68d',\n",
       " '1dc41e66-46c8-4a52-b60b-7d010a5652de',\n",
       " '1dcfd107-6425-4169-88de-46e83c107b9a',\n",
       " '1df35455-1a43-4836-8398-4d395a60c427',\n",
       " '1e29253e-c9fb-42b3-8bef-152578654336',\n",
       " '1e36f7de-6129-4205-b5e6-5ac7a89e71c6',\n",
       " '1e3a0e05-1fb5-463a-ba5e-2da378f04e28',\n",
       " '1e4b1c51-e435-403e-8275-2e48e6038108',\n",
       " '1e65fd96-b707-4f9b-8e4a-4bae520ddb27',\n",
       " '1e7bc581-dbef-4d38-bd54-3cab3830143d',\n",
       " '1e8be846-2f02-4087-acf9-18ee001d99ec',\n",
       " '1ebf63ef-e430-4165-a1a8-738d784c20f6',\n",
       " '1ec76bf4-008b-499b-afbd-2874c47dc54d',\n",
       " '1ef49ac2-f6ca-4b61-8f48-94ae54c284e4',\n",
       " '1f1b9d92-383d-48ba-b572-b204e38605ba',\n",
       " '1f31d4c4-7f8d-44c9-9069-9ffe0449483f',\n",
       " '1f71fdae-2afd-4dcc-8734-7ff7fb0939dc',\n",
       " '1f732c37-1e6e-4538-b0d6-a9f2cd5c2db8',\n",
       " '1f90623e-b3af-4593-a9ce-8eef048e0985',\n",
       " '1fb36410-c308-4e72-ada9-39a578750a4d',\n",
       " '1fdac450-0f7b-43fd-8142-d05558011bd7',\n",
       " '20068e6a-32bc-40ae-8314-64689256bfa8',\n",
       " '20476b0e-677e-43f6-a3cb-8df17e951d93',\n",
       " '205fc66b-958c-4140-bca9-d943b0d50174',\n",
       " '207add30-1846-44bb-8e0f-29e679d04ad7',\n",
       " '20967b49-acf2-49e9-94ea-38c76c4aea64',\n",
       " '2097719d-30b9-4139-ba1a-28a94061c634',\n",
       " '209a01ab-0319-4c12-be42-7391bc87c85c',\n",
       " '20a48eed-8592-4c8d-b99b-559c13065337',\n",
       " '20b76384-6154-408e-b841-749caed31dc3',\n",
       " '20cc56d6-8368-46c1-8c2c-9ddab033b1af',\n",
       " '210dfce8-3c54-4fd7-bfae-178f4cf61e2a',\n",
       " '212bbcae-0085-4638-9ca2-c4543984dbe1',\n",
       " '21403bf6-d9e5-4d53-8209-dd8e091ff1a5',\n",
       " '21449090-c7dc-4d38-976c-724e4f8dba79',\n",
       " '2144f7b6-814e-47ba-a8ed-e5dbda4a670f',\n",
       " '2153a54f-a576-465f-9c37-1e4a1a09444b',\n",
       " '218bbe66-42d5-40b0-845d-e64e8d2af900',\n",
       " '219bf6e3-03e5-4acf-a5ed-ee2fd37495cf',\n",
       " '22017ae6-ba95-4237-9a3c-a2344a505f30',\n",
       " '22361ec1-18d7-4a49-b056-4ed3370d8b16',\n",
       " '22929ef8-f472-48b2-852d-77788fb6043b',\n",
       " '22980e24-2f67-437e-b7ab-eb79dfcbeb2b',\n",
       " '22ae2610-5fb9-44d8-8c0b-7e894aa190a7',\n",
       " '22f76b2a-4f8e-4a12-b3bb-5478ce5254ed',\n",
       " '2303f0ae-4980-4851-9a29-b7c73f8536d2',\n",
       " '233b9e7d-7f6a-4456-9040-07edfffefa78',\n",
       " '2383b418-d766-4b1b-a8bd-76a7110da478',\n",
       " '23a109c3-cf86-4671-a38e-19953e9e253b',\n",
       " '23a8b098-38d6-4d5c-99eb-5343135d7f74',\n",
       " '23b7479c-bf16-412a-83fc-c74e8ba958b1',\n",
       " '23df64d7-9f8d-4cd9-a005-6dee4fdece9d',\n",
       " '245ef26e-1fcd-4f48-89d0-9b65064ea5d8',\n",
       " '2477dfc1-bbe1-410a-928a-60e1482a933f',\n",
       " '24b98918-d272-4800-8525-28337348526a',\n",
       " '24ceb32a-4906-43a5-9712-ecc47f6a7543',\n",
       " '24dfc0d2-5e01-469e-a802-95dc4cce20ca',\n",
       " '24e4e950-0018-4760-acd1-86cbe8684446',\n",
       " '24ead48f-15fd-4b4a-a0c3-93c3d0008f45',\n",
       " '24fd0ffb-2152-4e28-8a2e-82b2ecc24ff5',\n",
       " '2533f467-e0e6-4430-8763-cd7b4cf42ecc',\n",
       " '2572fbb0-7738-4874-aaeb-2b4291f427b6',\n",
       " '259b37e5-9ca1-452e-8da0-23f7decc54de',\n",
       " '25bdf05d-c442-4791-8f8a-efe34747c83b',\n",
       " '25ee2661-1e24-4e41-b626-06c791419206',\n",
       " '261f7272-b484-4c12-9fc6-95b3da6dea6b',\n",
       " '262f60bf-bbeb-4078-98ae-1a88deefbb0a',\n",
       " '264abfd1-0c93-4aeb-a46b-164f3803459d',\n",
       " '26504834-9ec6-42d7-ab42-f5174dd7fbd6',\n",
       " '266c864f-bdd6-4cf4-ad89-86b51a4fb939',\n",
       " '270553c4-f627-4e21-be60-aa4a67b6fe7e',\n",
       " '27055aa4-7fa1-470d-a254-6549b24ec130',\n",
       " '27211bfa-aab7-4d04-8392-a882f3beebee',\n",
       " '2722e7de-844e-4a5b-9771-d100b85200b1',\n",
       " '276f26df-be83-4123-95ad-5f50d67f7bce',\n",
       " '27ad5d17-f7f7-47f7-aa79-56686ff480b6',\n",
       " '27b8681d-dbf4-4dde-b49f-53b159bf3c9c',\n",
       " '27bc3914-2eba-4e90-b5b6-1cf24edf655b',\n",
       " '27c3750c-53e1-4ca0-a85f-f62b55417d76',\n",
       " '27dd2b42-7eee-4805-bb30-bd1d29ae167c',\n",
       " '28505c78-cf9e-4921-93d3-d106e6ae523d',\n",
       " '286f4fe7-c4c5-4792-a41c-99908f227678',\n",
       " '28cbf4d8-e00b-447c-a390-01b36d171073',\n",
       " '28f4f3d8-fc42-4fae-9dd2-2c25c3ac2057',\n",
       " '28fce56b-0414-4285-8532-6a3873ac7431',\n",
       " '290d4075-fc9a-48fa-a292-21765c6e107b',\n",
       " '29131ef3-7318-404f-8a32-9e20bbcf905f',\n",
       " '2915d33b-bdb5-41f1-b39e-5472d93ff41c',\n",
       " '2919f81a-e0b2-4d96-87d0-2401c099d8e9',\n",
       " '291bf8fc-4756-4acf-8d39-569c288f55a3',\n",
       " '2961ffaa-f973-4814-aa1c-f9fe31b3bbc9',\n",
       " '296c14d6-34a8-4cc9-8b87-80c089e3ebdb',\n",
       " '296efecd-7b07-4e71-9428-9cdac56e06b6',\n",
       " '29d05570-26f3-4a73-8931-ad69729f11ff',\n",
       " '29fe7ed9-e5bb-4ac4-801a-bc5efe25fde6',\n",
       " '2a0d7bb1-eaef-4b8d-9f13-cd4e05691b11',\n",
       " '2a59ccc9-50bd-48d0-bbd3-394ecc0fe180',\n",
       " '2a6424c6-27d4-480c-9f01-e34666ec6158',\n",
       " '2a75bebc-3c97-4d27-8922-d97d2b9c9417',\n",
       " '2a8335d7-66cb-44bc-b7cf-7d4772e634a2',\n",
       " '2a907eea-e310-400c-b15b-8155262af0e7',\n",
       " '2ad8537b-1ef6-4390-8749-793b3b5187fa',\n",
       " '2b26836c-a61d-4575-bb14-caace1a51d2e',\n",
       " '2b5d0df6-badc-4832-98dd-2ea55b78eb5a',\n",
       " '2ba28e04-103f-4ec9-a560-f55e93848c2a',\n",
       " '2bb0ac26-de72-4f59-8872-404adc5f9edc',\n",
       " '2bb48356-f43b-4247-9a59-c68e59c2d30f',\n",
       " '2bd0c89d-f904-48bb-a3e1-56f8fd9a40ba',\n",
       " '2c42b9d8-2e37-4d99-bd43-421042463099',\n",
       " '2c8ae72d-f198-4ede-98ac-d63d932df6c2',\n",
       " '2cfe2de1-ab53-44f9-a562-7304b40a05a6',\n",
       " '2d1b260c-1630-41ba-9056-82c8ce23df18',\n",
       " '2d36dab3-0e55-4675-9990-a3a3e23434ae',\n",
       " '2d5ed1d1-a513-42b8-8a49-9806133f5efd',\n",
       " '2dad3586-9614-4e81-a2d9-6dcd07bdbf89',\n",
       " '2dc7ca23-1c50-45f9-993e-d5540b0af7d4',\n",
       " '2de5dc73-a661-4a62-9976-4931b2d5939c',\n",
       " '2e12702b-1313-4d1f-a3ae-f0a0b0d7d34f',\n",
       " '2e30f098-42db-4370-a834-70e72d144bd4',\n",
       " '2e39269d-165d-458d-87b2-2fbd16d2065b',\n",
       " '2e462b1b-6613-479b-bb3b-9d654c52b452',\n",
       " '2e9d9322-3833-40b3-be04-9d565a1ad72c',\n",
       " '2eb51cb3-432b-4633-aa50-50f492156f79',\n",
       " '2eb93be4-3193-4cd8-90b7-806abed84ee8',\n",
       " '2ebeaa5a-2b56-4dfa-b0e1-08e0f6c1debb',\n",
       " '2f27b726-90d8-4c56-a10c-d723bfb2f36a',\n",
       " '2f2ff00d-a9bf-4e8c-830a-eaf274b72907',\n",
       " '2f4c1905-e7c9-4b75-b265-1d80abf49f1d',\n",
       " '2f5ee5ac-d415-4704-bb9d-ea5983cb188b',\n",
       " '2f6416ef-bf35-48fa-bf97-afc864519886',\n",
       " '2f86c1ad-872a-4a44-a17c-70262315aac5',\n",
       " '2fe271b4-2ccf-4454-9b43-2e4d17947655',\n",
       " '2fea145e-7a47-4aab-bb17-a3df485fa5a2',\n",
       " '2ffa6b69-2494-4ddb-82bb-6bff8a03c490',\n",
       " '300184ec-7b41-466b-89f4-17da13becdfc',\n",
       " '302fa87c-21b2-46c7-b23a-5559540f198a',\n",
       " '30428fbd-db1b-4e1c-b196-83dea6e5a3c2',\n",
       " '30672f79-1298-4efd-8d12-60544d07ac8b',\n",
       " '306d7347-f238-42a6-a444-d6a3e8b27297',\n",
       " '30735e09-423a-4d88-acce-ae08986ba234',\n",
       " '30985700-8d7b-4282-8ef2-973bf10cd093',\n",
       " '30af15da-aba1-49dd-a4a7-fe6665bb9a8f',\n",
       " '30bbd4d4-5e95-45b7-83cc-918ed8ae11d1',\n",
       " '310c91d4-f5d1-4660-af4d-9c98ba608d5c',\n",
       " '31404701-1789-4352-a0c2-dd59f84bbc02',\n",
       " '3145ea21-38b5-400a-8eaf-196bac74dac1',\n",
       " '31759730-aed2-4ce0-9c95-15e1feec18b0',\n",
       " '3208a8f3-43e9-41fc-a336-aae4b7e37255',\n",
       " '322ac984-fa7f-43ff-8257-90087ae385ef',\n",
       " '32370e87-074c-46ba-9ee8-8acf9648ed9a',\n",
       " '32430362-ecbd-4fe5-a754-bb6d588c1dfe',\n",
       " '324b4e90-e70f-4238-a299-7619b43eaa8e',\n",
       " '326225ae-87d6-4e06-8f68-35a033faa089',\n",
       " '32749dd2-47f9-4cb7-ac89-cfa0113fc30d',\n",
       " '32794205-19d1-47e4-8eb1-d3a4f2ce9fab',\n",
       " '3280c1e8-1a43-4f20-a5d8-06397a5940c4',\n",
       " '32a2ea79-4c87-4cec-8675-cff85fa94e72',\n",
       " '32c74d01-6f56-44ca-83d9-9ebbacefad9c',\n",
       " '32ff3afd-4f80-424f-979f-15f2b7000d8e',\n",
       " '331a27ba-a9a0-43d0-9f9f-6220c6821288',\n",
       " '3323dc54-e415-47ee-a317-e275e0014806',\n",
       " '33922af4-2250-4577-a0cd-fc82ff1fc69e',\n",
       " '33b106d2-1c30-493a-9b9f-8acf28c7a918',\n",
       " '33bb9126-4c33-441b-b91d-16c176c83aff',\n",
       " '33e510a5-d0bd-4291-9d64-368d9a77dad5',\n",
       " '33ebb3af-129f-41b6-8a16-a218b9243648',\n",
       " '3445a18c-d68f-4932-8294-cec302896a0a',\n",
       " '344aeb35-e5ba-4f03-b241-2b3853b7b50d',\n",
       " '348cf62f-d192-4610-bbfc-2c54a54aa9c7',\n",
       " '34ce7ea2-6889-4af2-9b57-81f11ef336b6',\n",
       " '350921ff-a6c2-46f0-9ad5-d36ba7e46a3f',\n",
       " '351010dd-f813-458e-9dad-b127cff55b8c',\n",
       " '3539b3a0-8bcd-4c9c-b589-e6d6f6de58f4',\n",
       " '356c15cd-dc88-48a1-99b0-2cebe4f9548e',\n",
       " '357dbcdb-5997-4f22-ba07-103191b0640e',\n",
       " '3585b462-359d-482a-991e-61c765401ef4',\n",
       " '35bfaa5a-e465-4f9a-8577-c048e8b85c90',\n",
       " '35cb3d75-3f88-46df-9f83-182e1586d42a',\n",
       " '35cc660d-b696-4fd9-87f2-28a8fe8a5d58',\n",
       " '35f1bc1e-3e19-4426-b303-69b0c9c89b7d',\n",
       " '362887fe-ab7b-4bbc-821a-2c800bfcb094',\n",
       " '36819063-54d7-42ca-ab4a-1fdb6522c504',\n",
       " '369e2d01-7249-486c-b8f5-de67045df492',\n",
       " '36a3d1aa-698c-4d31-83af-32387787cefd',\n",
       " '36a6fb28-d643-4316-9748-f21f18634695',\n",
       " '36b1360c-ae8c-4216-98a0-21e6dcb97ae3',\n",
       " '36c32819-651e-4357-aae9-4d7edf63f564',\n",
       " '3722959f-9634-4ec8-95e6-f57372bf21ef',\n",
       " '373220be-85aa-40f8-8d96-02b3ab3ce8b8',\n",
       " '375166f6-d389-4878-b4cd-785f7c298dc1',\n",
       " '377f1fc8-5f24-47f6-9db8-8c4c2964be2c',\n",
       " '378171fc-a3df-4ba8-91e6-0c89b29a5965',\n",
       " '37b1ca77-7e01-4e0d-bdfc-7065b7c688b4',\n",
       " '37dd117e-8c55-4c0c-bc00-7c9b7db9f98c',\n",
       " '380fff57-a8d2-4eea-a71c-85e475103149',\n",
       " '384be6ae-3e81-4ff1-843e-6b0fc198135c',\n",
       " '38d9a300-cb4e-401a-969d-d88a87971f89',\n",
       " '390f4fe1-03a2-4184-8aa5-46289f6a8210',\n",
       " '391888e7-f390-401d-b041-3b13019bf1f1',\n",
       " '39638599-3f30-4261-885d-c428fdf1a7f2',\n",
       " '39682b9f-c835-4e37-8b01-43eba2b6f201',\n",
       " '39808807-8f45-4403-abb5-8f79387b10eb',\n",
       " '39e0d1fd-839e-4f90-8a65-049bf3b6ef08',\n",
       " '39ebcf70-e56e-4482-893b-44d1367272f0',\n",
       " '39eddc0c-47be-4a85-b754-a60c0b9bbc2b',\n",
       " '3a22e068-4d1b-4168-a851-4581e4ef637e',\n",
       " '3a3173ce-a1f3-4da2-9cb4-97b2298c9f6f',\n",
       " '3a360726-d4aa-4255-ad6a-83bec343d201',\n",
       " '3a55ff2f-e9ed-4bb9-b15f-596701155417',\n",
       " '3a560ea8-113d-44c9-9f2d-58ef828bed27',\n",
       " '3a67d030-ea51-472a-a500-32b292c8fed8',\n",
       " '3ab11692-95ca-4618-8ec1-1b69dc1e212c',\n",
       " '3ad23c8a-78d2-4efd-9cca-b0a7d8c38117',\n",
       " '3b06e481-3458-4333-ac52-f00af8014eb6',\n",
       " '3b12ca22-5f48-45b2-b219-2cb671098c57',\n",
       " '3b2fe75b-2b1a-47fe-a006-c17f6b90e8a6',\n",
       " '3b3808dd-96c2-4feb-ba05-b05beea671e4',\n",
       " '3b8dea14-6032-4ae5-8db9-c89e4feb389f',\n",
       " '3b8e087d-756f-40f4-b47f-0b4377f5d746',\n",
       " '3bb3c6ef-1b79-4be9-8470-8e2511fd1550',\n",
       " '3bcd8b63-3b68-4f5e-93a0-15c925db66e5',\n",
       " '3be0dc17-2fe5-4bd8-a943-4aa0ddf48ef2',\n",
       " '3bff9b5e-65a6-42c8-a02c-55abd9bf0b13',\n",
       " '3c33e7f3-ba51-4bb9-adbc-a071bdbebd9a',\n",
       " '3c59e5ff-4982-431b-a460-057af87b371a',\n",
       " '3c860708-30bd-4ecb-ab15-4b133017442f',\n",
       " '3cbaa641-af12-46b9-9469-21e623145fa9',\n",
       " '3cbaddaa-8d34-453c-b272-584208b3362e',\n",
       " '3d1b5085-4625-47dc-9922-49f0d2c50b25',\n",
       " '3d249c6c-c717-4ef0-941e-064dfe00dda8',\n",
       " '3d442353-e707-4c27-944c-cacde465787b',\n",
       " '3d4d6675-e160-4ad0-9b30-f26b1a2c9ff3',\n",
       " '3d609251-7d4b-49d0-975c-8d5bcabb682a',\n",
       " '3d773b2c-7e49-40eb-a63f-cc0f1a36b3f2',\n",
       " '3d8b488a-8b6e-428b-a34c-7dab7f617f61',\n",
       " '3db38b03-989e-4e15-8ffa-81d4bdfdd782',\n",
       " '3dc5266d-263d-4ec5-b218-672b09bff736',\n",
       " '3ddd217e-bf88-473b-ac3f-b92c80d8d971',\n",
       " '3deadb0e-26f4-4bd7-9a6c-b6f4ac1be865',\n",
       " '3df4551d-191f-4ec4-a112-2c7c1511a9a9',\n",
       " '3df8ea4e-9b4a-4b5e-8b74-343159fb1f73',\n",
       " '3e429360-c406-447c-a88a-dc2557502eb7',\n",
       " '3e5208a6-e373-4246-b2f5-a8a5ee2350f1',\n",
       " '3e617340-7cba-41ba-bd22-509dd3f02fee',\n",
       " '3eb95f96-5415-4e60-a06f-b11267984cdf',\n",
       " '3ed2d8d0-d51f-4b44-a7ef-f26db142cb7d',\n",
       " '3ef4d896-7121-46c6-bdfe-efd0df22b75c',\n",
       " '3f3f7bd5-ffdc-4cea-89b4-206674012e40',\n",
       " '3f59a633-b086-4130-b196-bb54f7a12afa',\n",
       " '3f69c7a2-1978-444a-a3cb-a689e607cb43',\n",
       " '3f7ca862-d651-4379-8d94-3a70d19b40b1',\n",
       " '3f90b305-9623-4421-99bb-a254adfb91c6',\n",
       " '3f96efb4-5105-4d26-bd81-bf2926dfb45f',\n",
       " '405add9a-feb0-4f1e-b082-f8a49b5fe44f',\n",
       " '40677eee-ba93-4d87-9c15-0a2a49e1ae31',\n",
       " '408102d0-3072-4016-93aa-4e05ee4d6eb1',\n",
       " '40b110b7-ca32-4b68-83f9-20966e64fa16',\n",
       " '40c5740b-4a7a-4aac-8f4e-882162a9bcff',\n",
       " '40f12251-16a2-41e3-ba31-e3d9cd193392',\n",
       " '40fa9902-64f2-41ba-b4a6-832d62850187',\n",
       " '4233016e-dae5-4d3c-9ded-b0c832d4b00d',\n",
       " '42701bc7-bd59-4c65-82e8-02c18d96c779',\n",
       " '427924e3-6601-41e4-b150-4b85743e7cd7',\n",
       " '427e3668-6a5e-4d6a-9388-af2673cacb02',\n",
       " '42acc41d-78df-4866-aa7c-2cedb830fde3',\n",
       " '42b5404b-fba4-428e-ba58-6fe7c03e3167',\n",
       " '42c16dad-e38c-4de9-9406-d4137a6115a5',\n",
       " '42d1fdc7-b485-47ac-a9e1-3a70e7069298',\n",
       " '42f4b866-187e-423b-83bf-b218e3ea450e',\n",
       " '431b5c8c-9504-4bb7-bd26-778ce9fff1b8',\n",
       " '4341ff51-4f23-49ca-90c2-387825dccf57',\n",
       " '4353a4bd-a7d7-425c-9fe3-5a6a4d2fe7b3',\n",
       " '438d8f9c-570c-4ddc-a1db-a253a798b23d',\n",
       " '43a6d499-5d2d-473f-a78f-5eb05397357b',\n",
       " '43ba0cfd-acc7-4176-b880-48e4f083d4fc',\n",
       " '43c3932a-cb59-4258-92aa-ede28c8b82b0',\n",
       " '43e6b49c-9c4a-4041-b3b8-ddb5b39137e5',\n",
       " '43f697ec-5e3e-4291-93dd-face40d44563',\n",
       " '43f6b475-b77a-493d-8670-ce65dc2e0980',\n",
       " '43fdb5f2-8d3f-4567-ad54-7ffc9326bd6c',\n",
       " '442a7d01-f526-40f7-b935-557d8e1f92ca',\n",
       " '444dba85-35e8-40d0-8d63-da8c44f119fd',\n",
       " '44586f09-acdc-4687-a15a-9c32f0a35ee8',\n",
       " '44dfc005-43df-4ceb-81eb-d3b92c2e0abb',\n",
       " '44fc9ee8-4acf-476b-97e5-d839ac7ce82d',\n",
       " '455bbfe7-b859-4678-84bc-e8fabd2d3b82',\n",
       " '456cc6a5-0a85-4c5a-b09c-559f838eec7e',\n",
       " '456d1ae7-f89a-4275-880b-c37c4d820907',\n",
       " '457b068d-198b-4e28-a409-587757b75cb4',\n",
       " '4592bb62-6202-41ff-b5bf-b30a4967f1b5',\n",
       " '45935e5d-8f50-4176-83d3-fd545bb2015f',\n",
       " '459d0d2d-525f-4981-b42c-73c758b39cce',\n",
       " '45a7a941-bee7-40bc-93bb-88206cfc3cd0',\n",
       " '45cd2a63-aac2-49dd-a87b-e967babb9504',\n",
       " '45d1be4b-485c-404a-8102-c051300ca95a',\n",
       " '45d6553e-71d0-414f-b5b6-329a3fbf0e14',\n",
       " '45fcae6b-d4a2-4757-8fb8-19d217b2fe03',\n",
       " '4603a449-ff29-4939-94e6-3021120ff91e',\n",
       " '4630c79d-b3ef-4073-a598-17f43c9e30d0',\n",
       " '467b6b27-5932-4ba6-a420-59b834a1f150',\n",
       " '468e5201-f02d-4f6a-966e-fc51c57e5f54',\n",
       " '4695afd1-7448-492c-84a6-009e788f1067',\n",
       " '46a0f2b6-3c5a-4815-b172-a7cf5979b922',\n",
       " '46a6264f-1dc0-4b6f-a225-1a437f20fabc',\n",
       " '46ef5a59-9eda-4e6c-9f64-f0742ce19d87',\n",
       " '47438263-b594-4d53-9f6f-2fa5c406d975',\n",
       " '47923493-a1a1-465f-a406-be484fac6ee5',\n",
       " '479d11c5-2139-42fe-842c-72a2bed13540',\n",
       " '47dffb1b-079e-41df-88ff-0207347f5d98',\n",
       " '47f452b1-1de0-4e34-84c9-0f01484857bf',\n",
       " '47f80169-e1a2-47f8-8b69-d2756961c089',\n",
       " '4807aca2-d27b-4d37-9d7e-97441d9cf84f',\n",
       " '48186f0a-58a2-4536-98dd-f11407f077e7',\n",
       " '4894471e-6713-4c9b-8070-32ea87f45277',\n",
       " '4895a1a0-e79f-45c9-8c22-56232238fe95',\n",
       " '4895b04c-d72c-452b-9bd7-16cf48b8aeb2',\n",
       " '48af1220-6e24-4a1b-919d-86dc5af0a5ee',\n",
       " '48dba2e1-5338-4377-bf10-85a2deb611cc',\n",
       " '4924e008-6d44-483c-8c13-98735278b380',\n",
       " '496d7066-61f5-4913-8d60-dc8f9a2af4a1',\n",
       " '49b9fb90-4cb3-4c1d-8b37-b6351d05680f',\n",
       " '49e098b9-6825-4a78-bc04-80cf24afc839',\n",
       " '4a64620b-aded-48c2-9417-5f6fad4f89f9',\n",
       " '4a7f852f-f155-4aa6-bd2c-6b2eb9d7f88f',\n",
       " '4a9aee08-891e-4d7c-8bc4-500682cb733f',\n",
       " '4aab7529-f96a-4475-8ade-a01395577d36',\n",
       " '4ae03d5c-63a5-4e0a-a9ca-e5f83ff5ce47',\n",
       " '4ae9f90a-4620-4fe7-abb9-9603b75605b4',\n",
       " '4af345ef-533a-4dda-96cb-6db4e24abfe8',\n",
       " '4b2b16f3-6216-40d9-975d-5062e1fab5b9',\n",
       " '4b2e606e-3e4a-4086-b6e1-187de6f1b296',\n",
       " '4b6ba50f-34d1-419b-b8c8-0c0bc9cbe4fe',\n",
       " '4b8c49d1-7dd1-4479-a664-87a700f32f2c',\n",
       " '4bebc4dc-b26e-428b-ab53-e58090e21909',\n",
       " '4bf5a3ad-2c47-4d49-9113-53e2e07fe2fe',\n",
       " '4bfc3215-1476-4550-8a44-e7f0077b23f1',\n",
       " '4c0021b3-1d11-40b4-9d11-662a92a14e55',\n",
       " '4c005078-cbdf-48f9-ab88-9cb43ac759d5',\n",
       " '4c11189f-600c-4bc5-b382-0d1c60a70cf3',\n",
       " '4c1dbc05-654e-47f2-9888-ec01d512afa9',\n",
       " '4c3d14f6-2809-42c8-9aa1-995129845143',\n",
       " '4c533550-8aa6-45ad-b475-feb3b5c01137',\n",
       " '4c6e74d8-47df-41b8-a4e3-aaaf5c1c317c',\n",
       " '4cb141df-773e-4cb4-8075-e2ed0690c69d',\n",
       " '4ceb41f6-587c-4b6c-8722-20390e4c8177',\n",
       " '4cf43032-10b4-4eac-b00d-16c3448d1984',\n",
       " '4d129ced-368f-4bb8-aa90-100f8f03073e',\n",
       " '4d2a73f9-6833-47a5-b860-86a41ef4ecac',\n",
       " '4d44d2ee-6de1-466c-b3da-dac87fa35aa7',\n",
       " '4d48ff4a-e43a-4774-a741-7ef610f56624',\n",
       " '4d52e4a3-a0e1-4684-b284-feee1d72089d',\n",
       " '4d5b14d0-c320-4a35-a5fd-7961f3740982',\n",
       " '4df123f4-dbcf-4bef-902e-e4e42b45882b',\n",
       " '4e1e3f3c-dbaf-4829-b3b8-8d8e338f2dd4',\n",
       " '4e6db775-ca8b-4fab-88bb-a397639f0008',\n",
       " '4ebfd8f6-7846-43c6-a593-bc0c01412747',\n",
       " '4ec9957b-c1fd-4497-9117-25c758271a72',\n",
       " '4f08fe62-75f5-4569-90c5-3108678b6490',\n",
       " '4f097e79-be58-4856-a617-f95fb41de790',\n",
       " '4f0c62db-5d62-4caa-85a2-d9afb3509ae4',\n",
       " '4f2278a4-f08f-400d-9fc6-a43146e0188e',\n",
       " '4f247cac-3c35-4b34-9720-73f7c8e8b026',\n",
       " '4f57b9dc-faa4-4ced-8c6f-1098d612438c',\n",
       " '4f6a100f-08ae-4aba-847c-2c65a6c726ff',\n",
       " '4f705c3f-d62a-4036-b0b8-96e5e3da3354',\n",
       " '4fbd1a6a-61ab-4723-ad2a-76f28f9c3c47',\n",
       " '4fc5eeb3-0108-4997-b728-6367daccd91c',\n",
       " '4ff7a35e-87bb-4ba4-b172-d2b418045453',\n",
       " '50070588-1fe5-4fbe-8b32-e12446d184eb',\n",
       " '5019e438-6794-4754-99f5-1a41aeedb7e9',\n",
       " '505f30b4-f33a-4cef-b14f-916a8fd9dcd2',\n",
       " '50bb900c-26da-4656-bbda-91c19d06286f',\n",
       " '50f04aab-60c5-4f39-9428-f6dc828d7743',\n",
       " '50f36ced-91ae-44e4-9363-49359aa0346f',\n",
       " '50ff65a5-3867-43b9-a709-109a2bf3bf39',\n",
       " '51238874-c06c-49fe-8374-f87f29e276f9',\n",
       " '514d4d94-6e35-4e02-8fa8-6c01e7eff97f',\n",
       " '518b43ae-2952-4438-933e-b53f5d5062d1',\n",
       " '518ca98d-ec5d-439c-bbc2-a56c42e84787',\n",
       " '51abf511-115e-4d94-94c5-35a70ae730c8',\n",
       " '51d1a7a1-a66d-4c7e-8a91-632ad7911877',\n",
       " '51eabadd-9ee8-4f1d-9b31-187119808a56',\n",
       " '51f8fc49-8072-4911-bc20-3cc51eefa8a7',\n",
       " '5203c806-0593-4057-8f54-025d70a27141',\n",
       " '52226afd-d312-413f-8922-e1c304315dca',\n",
       " '525081e7-bb21-4904-8b4f-ba97689894f0',\n",
       " '52725c43-12d0-46af-8af7-d4fd2217a0d9',\n",
       " '527b45d3-3a6f-40f0-b448-89e3686e4b2c',\n",
       " '52a9cb91-5c38-41ae-8fdc-919712c868e2',\n",
       " '52aff9e1-0be4-4f8f-ae4c-1817deb31e28',\n",
       " '52bc12b8-de99-489a-b8b6-da3f34706190',\n",
       " '52f1231a-50bc-49ad-aa1c-43355c6e9872',\n",
       " '52f54df5-94a1-4c9e-af4a-c43082e81476',\n",
       " '5327c125-9d30-474e-a346-444014028201',\n",
       " '53404f7b-9cc6-40cf-a32a-d3938ab55194',\n",
       " '53469d6d-6261-4ad3-8b2f-e309d74711ce',\n",
       " '535e9ae6-5d2b-4510-af0a-0d6e6bbe6c03',\n",
       " '53958e89-c757-40ca-903e-76d4ede5141d',\n",
       " '539bb236-5c2c-4bdf-87c6-6925980c3022',\n",
       " '53d59f09-9745-4bdd-b6e5-56f98a5228d4',\n",
       " '53eb8910-396c-4a11-bf6b-d811a9b18a34',\n",
       " '5413e63a-e69c-4493-ad4e-9508ce964552',\n",
       " '5443a917-f921-4283-8b0e-a13a01555862',\n",
       " '5447c0ec-db57-4986-9066-70d1000e6480',\n",
       " '5449f346-d2dc-43ae-96be-aa338e20d597',\n",
       " '544c87a6-95fe-481e-82de-5817d80ebc70',\n",
       " '545fde71-9f53-42e6-90b9-ae751c748a8b',\n",
       " '546d62ae-5ab6-45d4-9e4d-203ec1742a42',\n",
       " '547605d8-f798-41b5-bf16-0d0915c061b3',\n",
       " '54e758c2-5a68-4618-aa92-db12edaa038d',\n",
       " '5503a88e-268a-4f1e-b32d-c9832ef08d48',\n",
       " '551ee653-be76-48bb-8193-bfc5b2a1b2e6',\n",
       " '554388e2-d5eb-405f-a465-9870635eabef',\n",
       " '55b33d94-86e7-47d7-978b-242cdb1665f1',\n",
       " '55b8a836-46a5-4778-9c3d-170afe003501',\n",
       " '55bdc7ed-9c00-4a62-9572-dfbf0551cdab',\n",
       " '55c36348-a356-4d1e-b033-e0aae6ba471a',\n",
       " '55e6432b-3fa2-45e0-9bcd-7b82b0bfef6b',\n",
       " '55fef646-b621-4a8e-8a1e-53bfec78b790',\n",
       " '5621411d-e8cf-4377-be1c-8714eccee486',\n",
       " '5626e601-4af7-4577-8b9b-8c0035f1ce60',\n",
       " '563edb23-42be-449d-9362-0e22b1ac2002',\n",
       " '56bf8a0f-4d09-43fe-a456-c513bc3baeba',\n",
       " '56d838fc-3363-4362-a49b-2e2976c1cdb3',\n",
       " '56f56bc5-e56c-42c3-a8b5-4df15115951a',\n",
       " '56f9d96c-4f47-47d8-bd13-542a5a83645a',\n",
       " '571ef335-3715-4c65-8e72-8428b0dd2b50',\n",
       " '572c639f-7ff1-46fc-b371-38a737377c42',\n",
       " '5756e8d4-a480-4c46-acb8-35910e208239',\n",
       " '576d96ce-d4a1-47c3-b38a-680ad5326529',\n",
       " '579aa237-fafa-4a6e-bd81-f63e83410b94',\n",
       " '582cee99-9220-449e-abcd-c08d5815bc4d',\n",
       " '584e3133-8d98-432d-8bbf-fccbcc81ca62',\n",
       " '586ae6c3-9961-4949-a67e-8aac81958908',\n",
       " '58b51ed4-e6e0-44a3-92f5-38f39b873359',\n",
       " '58ba1e9e-a8a5-446b-b95d-1cd57d0e16f8',\n",
       " '58c2b2bb-9f8d-4794-8dea-0d58937e3b37',\n",
       " '58ee7652-dc42-4f25-869c-31422b3643bd',\n",
       " '59302130-c553-4701-bbed-6d275a2d8ff8',\n",
       " '595929b9-fb48-4ff9-acab-83af94a546e3',\n",
       " '5986a5db-c174-4adf-9cde-36a7f9b99eb1',\n",
       " '59d90e0c-d847-422c-b481-e33e76ec53f6',\n",
       " '59d97577-ad48-412f-962b-40020f59d8cf',\n",
       " '59ee7d05-ffd9-45b5-9a22-09b420aa6e8b',\n",
       " '5a90a1f1-01ba-4562-8f80-4a0842cf7ed0',\n",
       " '5ac4e1ca-a3f2-4495-a116-70f32d9f69df',\n",
       " '5afabf64-f6a1-4850-9a52-639ac684f3fd',\n",
       " '5b283bdc-b854-4872-b050-af680823a7d4',\n",
       " '5b28ba6e-d2b0-43a7-a73b-13af53a65784',\n",
       " '5b5810fb-8c08-48fa-a1b4-36c4f98d7fa7',\n",
       " '5b9e2dd6-da50-43db-a976-2418a1a5cc01',\n",
       " '5bea0c76-d5c1-4790-bf68-57254b96f061',\n",
       " '5c0ded2e-62f2-4812-9ca2-5e31fcff045f',\n",
       " '5c16eb59-5a67-4c43-9f93-86b290594bed',\n",
       " '5c1ff33b-3876-42e9-980a-6617bec2ccc9',\n",
       " '5c3eea56-c1dd-4dfe-bf38-f27a2783f68b',\n",
       " '5c7522b1-d793-4265-b81c-a624c5cabdca',\n",
       " '5c7d8be8-8021-44c8-be1b-cf4e604671e9',\n",
       " '5c91ebad-4a75-45bf-a742-d923d952c89a',\n",
       " '5cb4b8d6-ff64-42a7-b4a6-eadd9bcd6c6a',\n",
       " '5cbb7a60-91be-412a-9acf-31c1a74b4b91',\n",
       " '5cd13448-ba50-498f-8a27-c80b70562585',\n",
       " '5d0c509e-1356-4c40-9974-89a522c91303',\n",
       " '5d4bbb68-2040-4f83-862b-abf1cd3b41f0',\n",
       " '5d4fbeab-4d46-4b8a-b3b4-d819bd74513f',\n",
       " '5d5dabb2-0b91-47cf-8c01-37cbeae3db73',\n",
       " '5d9b5dc0-0f0e-4a16-bbd2-c8612e76163a',\n",
       " '5db8bb64-65b2-40da-9d71-5469bd4ba19b',\n",
       " '5de1401b-099a-4331-a34c-b3632bca126f',\n",
       " '5dfa9176-79d9-470e-a6b4-e685e130c14c',\n",
       " '5e374277-45db-4acd-aae2-f101a8fe939e',\n",
       " '5e7d3a1a-18a2-4bca-a00e-2d94188f6d91',\n",
       " '5f0f56b1-77e8-494b-8cc6-c26aa9e485ed',\n",
       " '5f274fcf-1d9d-41be-9e3e-b868e7930a21',\n",
       " '5f526817-a7cf-43f6-a338-27c22e5239f0',\n",
       " '5f86ee81-a03c-4c6d-8f69-9f8219e2f692',\n",
       " '5f875145-93d5-488c-ab68-527f5faf62a7',\n",
       " '5fb31807-bcd9-4e25-a813-8dde3a8ff5a7',\n",
       " '5fb3295a-c19e-4d72-827c-4ca427cd628b',\n",
       " '5fd23d10-6622-4d90-8f91-613bd371815e',\n",
       " '5fddc65d-dab8-4488-836a-14b4ee165182',\n",
       " '600d76bc-e013-4f09-a642-3339672a1a86',\n",
       " '60106015-6f80-44b4-8e5d-0705e5a67b37',\n",
       " '60463f20-142c-4573-b841-0e0558e0a8d8',\n",
       " '6050b74d-a1ce-4317-8367-1936da98fd84',\n",
       " '60653d96-bad2-4042-96c1-daa71fb03955',\n",
       " '606697d4-69ef-4db9-994c-0cc10748b902',\n",
       " '6089cb8e-8548-4896-bc77-3dddd2940a38',\n",
       " '6094090b-002d-45ee-b84b-dcb6b4e48aa3',\n",
       " '6094611d-746a-4240-be0a-45d0b0232bfd',\n",
       " '60a7aa46-40e7-46b6-bfb6-7ef6e9440934',\n",
       " '60b66e6d-7417-4734-89a2-386a4f5ca18f',\n",
       " '60faad99-df9d-4866-86a5-c90420314d77',\n",
       " '612059b8-3fc1-45f6-aeea-39aacdbcecdc',\n",
       " '614a354e-ee35-4f77-84dd-870d13574cb6',\n",
       " '61604fb6-0dc0-40e8-91f7-a86bf83feb81',\n",
       " '616294d4-220f-4a41-96f7-8ee700380348',\n",
       " '61c83295-5a52-453a-81aa-acd9cf93cb2f',\n",
       " '61db9784-b366-4000-b613-5b7f63f2437f',\n",
       " '62088f67-ae1f-4c49-a4bf-16887f573e39',\n",
       " '62243716-af1e-4e0a-9268-a728f5457e9a',\n",
       " '628f5b9f-b66f-4ae4-9f55-b036c006936c',\n",
       " '62c32f47-300a-4d91-8c84-c5e5b3135882',\n",
       " '62f4c1bb-0a04-47f0-83d8-47c3a0987d07',\n",
       " '637a8d39-3872-4549-80cc-bebee6c88056',\n",
       " '6387fdb9-2f5d-49b9-9338-a767d8e55db2',\n",
       " '63945e3a-2d13-4f75-86d1-478982afb55e',\n",
       " '63acfeb2-0d48-413c-89b2-3d7d6484cada',\n",
       " '63ae4031-fcae-4926-88a3-f110bcdb7216',\n",
       " '63e1f2f3-59c5-4f19-bbea-02b46586e801',\n",
       " '6404982e-d9f1-4674-87a4-8d574591bb0c',\n",
       " '6406dc6e-2780-45d4-8abf-ea6b08858cf2',\n",
       " '641e8879-0133-40d4-9ee0-f4ddb557db2b',\n",
       " '642e7836-f9d8-4734-85a5-7554687f57ad',\n",
       " '643167a9-49f0-4cc4-912d-fe2d93e9a0bc',\n",
       " '644ada9f-65ef-4a79-8c20-1379248292e5',\n",
       " '6482d5e1-aff9-4354-bd47-4fb76b8ba05b',\n",
       " '64bfb0ef-9564-4318-b485-bace1acdf14d',\n",
       " '64e3a20c-ff85-4718-a958-bf49b2394da0',\n",
       " '64ecf027-0cc6-4435-905f-c58d1c081a91',\n",
       " '6502f2de-d209-4467-8495-1a10854ab529',\n",
       " '65177209-dbb8-47fa-a1cf-8edf10e46ece',\n",
       " '653c7126-dad2-4e1f-afb1-62688bc4e8d6',\n",
       " '65511d4e-dc86-4ccf-b11f-d525d72a115e',\n",
       " '656e2b78-42af-47c4-b04c-1abc68a4f044',\n",
       " '657a044c-1e03-43f5-a08a-db18e426cb9e',\n",
       " '65a92713-5969-48b1-8945-bfefa5063887',\n",
       " '65bf2e43-f87e-418f-8d9f-fbd463dddd7b',\n",
       " '66263c53-7801-4ff6-a8dc-1241f97ed53a',\n",
       " '6639a17f-56e9-4986-8f51-2d5352fd552c',\n",
       " '663cc3d7-91a2-4dde-aa27-d8bb80c8b092',\n",
       " '665a5ebd-ff4d-4ea7-a33a-419cb834f2f4',\n",
       " '6676839b-35bc-4978-96e1-abfeec636af1',\n",
       " '66a013a3-1530-4bf1-aa52-0a7eb6d1f515',\n",
       " '66ba7fd2-ee88-4e45-ae71-ec03db4db167',\n",
       " '66d1d3b7-3850-4256-9487-d056c6f731a3',\n",
       " '66d1ff6f-c609-443b-9d27-faec1dd7483d',\n",
       " '66dcb533-0417-481d-9c06-bc177d8faa4d',\n",
       " '670b8b2a-0321-4539-a1d0-4d1db895b3ac',\n",
       " '6722ab93-a1c2-4ce1-b3ec-0d9bd82428ae',\n",
       " '6739fd39-fab3-4b59-9fe4-966f16b93a4d',\n",
       " '679bc62e-364f-4cf6-abfc-cee48491154c',\n",
       " '67a3921c-6038-4680-a507-9e28cf994939',\n",
       " '682a2b17-cf0d-4fd3-a755-822dfa46102b',\n",
       " '691fda27-bdd8-4bd2-a3e2-bfdab34cac94',\n",
       " '693ecbec-a268-42d8-8b9d-815a14a557ef',\n",
       " '6956965f-d464-4978-8dd8-d8bcd4f8abca',\n",
       " '6970f7c4-13ea-4d0e-b2ce-79dfaa9f2e4a',\n",
       " '6a07d4d6-5e7a-401e-aa98-fbfc6a8c05cc',\n",
       " '6a08a507-d587-4e95-9c6a-973a83c3c163',\n",
       " '6a15aa6e-406b-4301-805e-0311535cdcaa',\n",
       " '6a2e862f-204e-45c9-bbca-db7593ab29fc',\n",
       " '6a6440e4-18f3-4784-a871-39cf8128ff4e',\n",
       " '6a8544be-d81f-4aa1-a3f9-48710afe7c4c',\n",
       " '6aa5e2dd-f5c4-4229-95d1-f54bf1151dae',\n",
       " '6ab3ff0f-99ca-4c9b-9071-b5235c6458b0',\n",
       " '6ad36ffd-d24e-4b13-9200-4173a81bb147',\n",
       " '6b02ca62-a218-4ef0-9a5e-a0e265001d6e',\n",
       " '6b0430f2-7470-49f2-bf62-4dba44924344',\n",
       " '6b1086a9-b05b-4575-a876-c2e72126c709',\n",
       " '6ba4430f-ded4-46a3-a25a-19a0c647d974',\n",
       " '6badcb02-e251-4704-b105-3c62a744748e',\n",
       " '6bb576bf-bb6f-4a1c-9588-36f13e28ee5e',\n",
       " '6bb81526-9f41-4364-b3c5-087bacc7332a',\n",
       " '6bc26338-29c6-472f-8da7-014d8234f4d2',\n",
       " '6be7a5a3-6710-474d-b946-ee2c95a953c0',\n",
       " '6c04e51b-62cf-4c72-bb3b-b76850f23dc0',\n",
       " '6c0872c4-63db-4a33-9e75-eda285bc3baa',\n",
       " '6c483a95-b40f-48c2-81f3-c8eb983f82fd',\n",
       " '6c4adf90-9c6b-4ec6-8067-c92174fbf047',\n",
       " '6c562c9c-26c2-4c12-805e-77fa504adb21',\n",
       " '6c929882-86a5-454f-a01c-6598ed5083c3',\n",
       " '6cc0824f-15d6-4cdf-a99f-768aa90706e0',\n",
       " '6cd63b0c-5361-476e-b5c4-7bbe1b78f79d',\n",
       " '6d12784b-138b-495a-be4f-1e7954159133',\n",
       " '6d1beafd-edac-4131-96d6-13b1da8f4f06',\n",
       " '6d419279-3a6c-4400-b918-62b8d209d834',\n",
       " '6d432dde-8579-4d95-9c26-d366b03ec1aa',\n",
       " '6d4c0153-66da-4b4b-9eeb-3c3fdcde29fd',\n",
       " '6d5359b5-1adc-4a34-901b-1212f8b267f0',\n",
       " '6d601cbc-53de-4973-a560-d41146365f6b',\n",
       " '6d912e40-cde3-4584-99c2-367e914a6eee',\n",
       " '6da71c44-71d4-4352-af52-35fe5a115d14',\n",
       " '6dde0929-e797-452f-9f23-6c0c75f93b49',\n",
       " '6e4f9a6a-ab01-4684-8a1f-348bc415bef3',\n",
       " '6e528a39-00d4-4323-bf62-a807c25121ce',\n",
       " '6e68b2a6-a1c2-4bdb-96e6-6897196d6647',\n",
       " '6e836cc1-c0b0-400a-9243-f4488ad0a778',\n",
       " '6ea44a02-1f8f-43fe-9037-073462cd2dbe',\n",
       " '6ec116a3-c38b-4fbc-a2f2-a397bbff2f49',\n",
       " '6ee0f333-bd50-439a-a298-a263379fc20b',\n",
       " '6ee67685-a280-4a01-9e05-ab9ba6ee1ce9',\n",
       " '6f75d415-81da-4a10-abc4-459abcbe3ae1',\n",
       " '6f876506-51fe-4693-9c2c-7225936320cc',\n",
       " '6fd5c963-b0a4-4f96-8080-466d21f73e5f',\n",
       " '7022150d-ab38-495f-be72-2f9c020fa46a',\n",
       " '70291d3d-a14b-484e-8f72-d5e7c1e3d1a9',\n",
       " '70562f39-30bf-45b7-a94a-5f6ad9f001c0',\n",
       " '70567f07-72b9-414c-af86-a0d95b73f0f2',\n",
       " '7063fdb9-d296-4777-92f0-ef3ebb713df8',\n",
       " '7068ca84-0a57-445e-9ddb-755bb0b1f5c6',\n",
       " '706bac2f-ca25-45e3-afed-452d210b4d65',\n",
       " '706cceb0-d420-4617-9807-b9192294a021',\n",
       " '70c2d1ca-67a0-479d-8d5a-e951a9890947',\n",
       " '7106fe60-49bd-4d9f-a6af-a3070ed67395',\n",
       " '710ffa12-65e8-4cce-9422-f171ddda0dd8',\n",
       " '712e7f66-ef86-47a2-ace2-93db2b7109a2',\n",
       " '718dec60-e166-4a9e-95eb-934a2bbcfd78',\n",
       " '71c94df6-672b-44d8-a4d0-d725e7f4d4e6',\n",
       " '71def89c-c37e-4357-9dc8-983deeae2062',\n",
       " '72028aff-1c5a-461b-b0f0-387f67bec28f',\n",
       " '72141c81-2240-409d-82b2-5ee594276752',\n",
       " '721d6a95-fa4a-480d-b74c-dd0df995bdc5',\n",
       " '72848962-9efa-450a-ba55-f5cb66eaa262',\n",
       " '72f33466-f65c-4d35-aff0-56204afa5276',\n",
       " '72f837e4-c59e-45be-93d5-71e6825325f4',\n",
       " '731e192c-9b80-40b5-a4bb-b36774112e3c',\n",
       " '73320771-bc64-4a58-9f2d-26c2f175de6b',\n",
       " '73333c65-3808-46bc-8eab-5950b53afae1',\n",
       " '733858cc-c22d-40f2-9e41-fe70def07795',\n",
       " '733c19d8-0c0c-454b-aa7e-6d11d53ef4de',\n",
       " '7351f238-686f-4b50-a723-0c799b8e97a3',\n",
       " '735428b5-313b-469c-81d9-8ead7e67f967',\n",
       " '73686456-ddeb-4ecc-8304-118c3aceabe6',\n",
       " '738054f2-e308-454a-87bc-db0f8bf26115',\n",
       " '738e5bc9-8a1a-4d65-993d-f2ff27a28f61',\n",
       " '73e509b2-24eb-43eb-af8d-33d422b66c4b',\n",
       " '7415edc2-1da9-4d42-857e-c3d8c74fcb9d',\n",
       " '7449bb6a-6add-4fd4-b23e-f2359fb65c76',\n",
       " '745610d7-1e94-4eba-9a2f-cd3a7b772946',\n",
       " '74858819-ad20-42ea-820d-c7917ea23d36',\n",
       " '74bb8747-1695-412a-a735-e9abf2125cbb',\n",
       " '74c06bfa-5016-43fa-86ff-b596dc5c23ae',\n",
       " '74c32470-d9b0-4445-959f-2fe99292b6b5',\n",
       " '750b2c81-36f2-4202-9bdd-6d1d690e6130',\n",
       " '752151e8-3459-4a39-bba0-4afc3fd0cfe6',\n",
       " '7551f807-74e8-4bf7-8df1-3dd8bee479af',\n",
       " '75ce3169-ee23-4d07-b601-89f7a72a0d94',\n",
       " '75ceb8bd-3a28-4139-9a73-d55695eed69e',\n",
       " '75d2778a-2d2e-4b66-a087-aa1e79ac48d3',\n",
       " '75e2c960-cfa2-4571-a6fa-427c21fbfb62',\n",
       " '75ec3023-e1c6-48ab-b1d8-66f82122398f',\n",
       " '76065daf-6e4f-4b45-8100-4f2a2790a841',\n",
       " '761f0f95-dedf-40e5-b283-dd432c1e70e8',\n",
       " '763f2fa1-3f38-4927-8517-fa46a23fc6e8',\n",
       " '76a7f6d1-c10f-4c46-9f77-73365bbf67f4',\n",
       " '76b18117-e71d-4b97-a199-9cde68056f72',\n",
       " '76b76fe6-804c-49fc-b00d-a51421c84fbb',\n",
       " '770662a6-7364-43c2-81d7-6c6b0524d50d',\n",
       " '776dd614-37ea-4b39-8c37-cbbda55cb224',\n",
       " '7786a475-855a-4792-b0aa-adba724deb29',\n",
       " '778723f5-7f46-4a5e-8b2f-abba69ef0282',\n",
       " '779ab11c-eb70-4b56-a3fa-edd54847b9a8',\n",
       " '77a7c560-2126-4eb2-a1b2-0a1ea256f545',\n",
       " '77b39059-bca1-4476-91a7-6f42f4ed86c0',\n",
       " '77c6ce4b-b7db-4423-92ba-5b303d0fba80',\n",
       " '77c87d50-7a5a-4f79-a5cd-c3c4e0168b91',\n",
       " '77dabf72-71af-4d67-ba1c-db68f15e3d96',\n",
       " '78692865-d7f2-42aa-b253-380161217207',\n",
       " '788a5f72-a2c5-4a75-82a5-9e4a73cbc2f1',\n",
       " '78aeaef7-45cd-4835-8e23-53db9517b93a',\n",
       " '78c25125-ff16-448e-ab31-21dcc8fbccb5',\n",
       " '78ce699d-9728-4a8a-a65a-2ce3f9ada862',\n",
       " '78d15da1-b869-45c3-8def-ef15f2bf9c70',\n",
       " '78fb382d-6bbe-41bb-9128-9e6c0825cdd0',\n",
       " '7904f88f-b503-47ae-ba93-0357655d0c77',\n",
       " '7912ffd5-07b4-4fd5-ac08-922a159fa6ed',\n",
       " '794b4c68-a3a2-4d31-be74-475312cb45c6',\n",
       " '795f663c-53f4-425e-9ed0-0b7964ba7926',\n",
       " '79b52e12-dc63-47a0-ac43-6910c3d8a405',\n",
       " '79f5a517-c747-4cc5-bf51-0889ffe462da',\n",
       " '7a3d03b5-51a9-4f28-8268-b9758422503e',\n",
       " '7a3ee56f-f08a-4b38-a33a-71bda5a3ab52',\n",
       " '7afcd814-d7ed-44e4-a587-a8e52c163b6f',\n",
       " '7b03c1e7-a852-4a5c-8a4b-dd119e5aff26',\n",
       " '7b0e8458-b099-4986-8626-aad18c712fcf',\n",
       " '7b2f18d8-3f2f-494e-baf1-4d5c380d8686',\n",
       " '7b300645-e902-4b7d-a5cf-ac75a9a0fced',\n",
       " '7b3b6554-7949-4065-9808-d6c79bdc2f58',\n",
       " '7b5c6b5c-ef4b-4e12-89d2-cef6de197212',\n",
       " '7b6749bc-5ab1-45f0-8b7d-f80db952f034',\n",
       " '7b6b84df-81e8-4c61-a288-828070b64b9f',\n",
       " '7b8c7701-3b43-4442-afe3-70078d3aa8b9',\n",
       " '7b9bfc8e-bed9-4080-ab45-b45071e14b2c',\n",
       " '7bd35916-3cf1-4dfc-b480-492bda8fd25d',\n",
       " '7bd7a9a4-8b05-4b60-8250-80679517cd8b',\n",
       " '7be2ae66-a95b-460b-a968-ea486a686d60',\n",
       " '7bfb1718-e801-4dd8-a48e-4d28887ff437',\n",
       " '7c018232-ac35-4331-a3de-57b6f0d6fcb1',\n",
       " '7c1c8870-5fde-453a-9bbf-6ac6cd7379d6',\n",
       " '7c62b024-8309-4a83-a977-08ab50fe0ecc',\n",
       " '7c6e3b01-336d-4040-b6a6-4ebc7c2f868d',\n",
       " '7cbb4abe-c4c1-4b86-88ed-4662f91159b5',\n",
       " '7cdb02f4-b2a6-4edb-8ccf-cc92cf60269d',\n",
       " '7cec75ed-e3e6-492c-bb57-b1abd6d138f5',\n",
       " '7cf715a5-dbb6-4217-aaf5-90e35a3cb1ee',\n",
       " '7d08d7a0-b026-408d-9d35-051688085402',\n",
       " '7d0c5dfd-174c-46fa-be1d-332608259297',\n",
       " '7d2f2858-fea0-4ecd-8de2-9dbb556d4340',\n",
       " '7d45f5c8-e079-43c4-9bcf-0400e8c97068',\n",
       " '7d7bf7ec-147f-433d-a7f1-019ac1080854',\n",
       " '7d9e9704-a964-4e01-bdbe-ce08ca5d12dc',\n",
       " '7da48980-8e99-4d9d-bcee-3f0e657f47af',\n",
       " '7db8d130-f247-4f92-b43c-8d8bd856ce7c',\n",
       " '7df61444-83ea-492c-b494-a6c84ed97d36',\n",
       " '7df62e3b-611f-4674-a9a7-270029ca3efc',\n",
       " '7df8dfd1-0d92-47a0-a6a3-abd29797aa9a',\n",
       " '7e021cc1-5405-4a6c-b966-45a0750cbc62',\n",
       " '7e09f2d8-cd06-46ae-a6a0-d7d3295d053f',\n",
       " '7e0e48cf-c07e-4141-aba6-bd17bc086b5d',\n",
       " '7e50e560-1ea2-4cea-b47e-c942a6e5e744',\n",
       " '7e75a655-06ce-4c6e-a841-5295b18fbee3',\n",
       " '7eacbd36-7ffa-4c7a-ad30-7c1fe8b80673',\n",
       " '7ee2f998-4583-4a54-8c91-58b26d6ea1ff',\n",
       " '7ee5ad61-5c8a-458f-8fcb-3ebce7fbfe8c',\n",
       " '7f2f40e8-e929-4325-b62f-3375e8871eb5',\n",
       " '7f3ddf4c-5370-4fa2-89c3-fc5b0f575160',\n",
       " '7f467b7a-df2d-4529-8996-5d1deef7d527',\n",
       " '7f4ea391-242e-4b3f-886d-ea71b9ec6560',\n",
       " '7f58b1a8-e773-4951-9231-2e30c83e4abf',\n",
       " '7f72101d-8cfa-496b-90c8-7a8221f25fec',\n",
       " '7fe0b1bb-21f3-4efd-b869-b9faac7fa1ed',\n",
       " '7fe29127-8404-4b28-abaf-a3804c2469c9',\n",
       " '7ffcc5cf-2c33-4d16-a53f-093991cccb0b',\n",
       " '8016bd38-b6cb-48f3-9b2d-47ae76656195',\n",
       " '8037ce14-818b-425e-bbca-35613fa5f549',\n",
       " '8048cbd7-6daf-4930-ae12-c3f62e23eea9',\n",
       " '8066bc89-1f0b-4d61-96e5-751226630c38',\n",
       " '808ada9b-1d2a-4831-9f9a-69fc12647660',\n",
       " '80910bc6-b66f-48ca-a25e-8b3f3eaac645',\n",
       " '80ab6e61-f3ab-4cac-9eca-7946282a14b8',\n",
       " '80ae43c8-d555-48ad-a63e-d5f13ecd23c0',\n",
       " '80e67da5-79d1-4e7e-a0eb-35d5cbdd152a',\n",
       " '810a38f4-ab72-4acc-89b7-8172c8812a84',\n",
       " '8177f96f-8e32-4d20-a65f-8213904d9fd1',\n",
       " '81994190-db44-4728-a140-a1292fadef83',\n",
       " '81dc8354-af6c-40ba-ad32-d51d642ccbde',\n",
       " '81e57823-f85b-4646-9c3e-73241b8d5719',\n",
       " '81f4f918-789c-4c78-afcf-b88527c075e2',\n",
       " '81fac0a1-fb17-4d48-90fe-50dc5e9ae5ab',\n",
       " '82417d17-833a-4ccf-a294-8ce8c840247a',\n",
       " '824fe9ca-69fc-4b11-b6b9-0cf4baa1a6c3',\n",
       " '825e727b-7847-4c5f-a26c-3ee0f18d8177',\n",
       " '826ea42d-99b4-4ec5-9e42-f733244d28bf',\n",
       " '82dadcd5-523d-4a6c-907f-c28c8f056f27',\n",
       " '82e46f34-e243-4728-8e20-2e171fc33ea4',\n",
       " '8317eb26-2349-466b-94e0-5553eb66db37',\n",
       " '831e4374-f88a-4510-89fd-55aa72b06211',\n",
       " '83372a57-ee99-4eff-87cf-538dd17b4cce',\n",
       " '83534a0f-ee69-4daf-9c1f-502daab413c8',\n",
       " '83561a94-e993-4189-acfd-646301484917',\n",
       " '83689ce3-6d05-4a9f-8e88-ba79a62c2cce',\n",
       " '83b9c6a6-5c75-4cf0-b208-7cbfa8f50a40',\n",
       " '840086a2-1518-4ce8-a058-bbde33f4d2e4',\n",
       " '84268230-7fe9-4a5d-83f1-f7b6ba4836f3',\n",
       " '84382230-b97b-45b7-aef1-4f2e3bc52c52',\n",
       " '844e5af2-8064-4bdb-874c-cc9b7c273db9',\n",
       " '847bea3f-9f12-4b02-a2b7-dc6e7d1075ee',\n",
       " '84b97baf-6626-4d43-95b9-5f842c9f38fb',\n",
       " '84dfcac5-bb72-41f1-8fce-b972f68b428a',\n",
       " '84e8158e-bb6f-4e21-beca-29e7c38ee82d',\n",
       " '84f73c8f-0098-40fe-a08d-050545bbb455',\n",
       " ...]"
      ]
     },
     "execution_count": 34,
     "metadata": {},
     "output_type": "execute_result"
    }
   ],
   "source": [
    "game_user_finish_project"
   ]
  },
  {
   "cell_type": "markdown",
   "id": "d645b10d",
   "metadata": {},
   "source": [
    "## 2.1. Анализ количества построек "
   ]
  },
  {
   "cell_type": "code",
   "execution_count": 35,
   "id": "3fe45ddd",
   "metadata": {},
   "outputs": [],
   "source": [
    "def building(df, name):\n",
    "    user_build = df.groupby('user_id')['building_type'].count().reset_index()\n",
    "    user_build.hist(bins=20, figsize=(12,5), color = 'green', ec = 'black');\n",
    "    plt.title(f'Количество построек на пользователя', fontsize=15);\n",
    "    plt.xlabel('Постройки', fontsize = 10) \n",
    "    plt.ylabel('Пользователи', fontsize = 10);\n",
    "    print('Среднее количество построек: {:.1f}'.format(user_build['building_type'].sum() / user_build['user_id'].count()))"
   ]
  },
  {
   "cell_type": "code",
   "execution_count": 36,
   "id": "85a0361f",
   "metadata": {},
   "outputs": [
    {
     "name": "stdout",
     "output_type": "stream",
     "text": [
      "Среднее количество построек: 9.4\n"
     ]
    },
    {
     "data": {
      "image/png": "[encoded data removed]",
      "text/plain": [
       "<Figure size 864x360 with 1 Axes>"
      ]
     },
     "metadata": {
      "needs_background": "light"
     },
     "output_type": "display_data"
    }
   ],
   "source": [
    "building(game_actions, 'all users')"
   ]
  },
  {
   "cell_type": "markdown",
   "id": "2a7af8d9",
   "metadata": {},
   "source": [
    "Среднее число построек равно 9. На отметке 7-8 построек наблюдается спад, это может быть связано с тем, что на этой отметке пользователи переходят на новый уровень победив врага или продолжают постройку сданий дальше. Возможно, здесь так же есть игроки, которые еще в процессе прохождения уровня."
   ]
  },
  {
   "cell_type": "code",
   "execution_count": 37,
   "id": "8488a970",
   "metadata": {},
   "outputs": [],
   "source": [
    "def buildings_per_source():\n",
    "    buildings_per_source = game_actions.groupby('source')['building_type'].count().reset_index()\n",
    "    plt.figure(figsize=(15,5))\n",
    "    plt.title('Количество построек в зависимости от канала', fontsize = 15)\n",
    "    sns.barplot(x = 'source', y = 'building_type', data = buildings_per_source)\n",
    "    plt.xlabel('Канал', fontsize = 10) \n",
    "    plt.ylabel('Постройки', fontsize = 10)"
   ]
  },
  {
   "cell_type": "code",
   "execution_count": 38,
   "id": "bfad53fa",
   "metadata": {},
   "outputs": [
    {
     "data": {
      "image/png": "[encoded data removed]",
      "text/plain": [
       "<Figure size 1080x360 with 1 Axes>"
      ]
     },
     "metadata": {
      "needs_background": "light"
     },
     "output_type": "display_data"
    }
   ],
   "source": [
    "buildings_per_source()"
   ]
  },
  {
   "cell_type": "code",
   "execution_count": 39,
   "id": "01c1037f",
   "metadata": {},
   "outputs": [],
   "source": [
    "youtube = game_actions[game_actions['source'] == 'youtube_channel_reklama'].reset_index(drop=True)\n",
    "yandex = game_actions[game_actions['source'] == 'yandex_direct'].reset_index(drop=True)\n",
    "facebook = game_actions[game_actions['source'] == 'facebook_ads'].reset_index(drop=True)\n",
    "instagram = game_actions[game_actions['source'] == 'instagram_new_adverts'].reset_index(drop=True)"
   ]
  },
  {
   "cell_type": "code",
   "execution_count": 40,
   "id": "b5122625",
   "metadata": {},
   "outputs": [],
   "source": [
    "def building2(df, name):\n",
    "    user_build = df.groupby('user_id')['building_type'].count().reset_index()\n",
    "    user_build.hist(bins=20, figsize=(12,5), color = 'green', ec = 'black');\n",
    "    plt.title(f'Количество построек на пользователя из источника Яндекс', fontsize=15);\n",
    "    plt.xlabel('Постройки', fontsize = 10) \n",
    "    plt.ylabel('Пользователи', fontsize = 10);\n",
    "    print('Среднее количество построек: {:.1f}'.format(user_build['building_type'].sum() / user_build['user_id'].count()))"
   ]
  },
  {
   "cell_type": "code",
   "execution_count": 41,
   "id": "b55822a1",
   "metadata": {
    "scrolled": false
   },
   "outputs": [
    {
     "name": "stdout",
     "output_type": "stream",
     "text": [
      "Среднее количество построек: 9.3\n"
     ]
    },
    {
     "data": {
      "image/png": "[encoded data removed]",
      "text/plain": [
       "<Figure size 864x360 with 1 Axes>"
      ]
     },
     "metadata": {
      "needs_background": "light"
     },
     "output_type": "display_data"
    }
   ],
   "source": [
    "building2(yandex, 'yandex')"
   ]
  },
  {
   "cell_type": "code",
   "execution_count": 42,
   "id": "f42229b5",
   "metadata": {},
   "outputs": [],
   "source": [
    "def building3(df, name):\n",
    "    user_build = df.groupby('user_id')['building_type'].count().reset_index()\n",
    "    user_build.hist(bins=20, figsize=(12,5), color = 'green', ec = 'black');\n",
    "    plt.title(f'Количество построек на пользователя из источника Инстаграм', fontsize=15);\n",
    "    plt.xlabel('Постройки', fontsize = 10) \n",
    "    plt.ylabel('Пользователи', fontsize = 10);\n",
    "    print('Среднее количество построек: {:.1f}'.format(user_build['building_type'].sum() / user_build['user_id'].count()))"
   ]
  },
  {
   "cell_type": "code",
   "execution_count": 43,
   "id": "8e530c56",
   "metadata": {},
   "outputs": [
    {
     "name": "stdout",
     "output_type": "stream",
     "text": [
      "Среднее количество построек: 9.5\n"
     ]
    },
    {
     "data": {
      "image/png": "[encoded data removed]",
      "text/plain": [
       "<Figure size 864x360 with 1 Axes>"
      ]
     },
     "metadata": {
      "needs_background": "light"
     },
     "output_type": "display_data"
    }
   ],
   "source": [
    "building3(instagram, 'instagram')"
   ]
  },
  {
   "cell_type": "code",
   "execution_count": 44,
   "id": "396b390b",
   "metadata": {},
   "outputs": [],
   "source": [
    "def building4(df, name):\n",
    "    user_build = df.groupby('user_id')['building_type'].count().reset_index()\n",
    "    user_build.hist(bins=20, figsize=(12,5), color = 'green', ec = 'black');\n",
    "    plt.title(f'Количество построек на пользователя из источника Фейсбук', fontsize=15);\n",
    "    plt.xlabel('Постройки', fontsize = 10) \n",
    "    plt.ylabel('Пользователи', fontsize = 10);\n",
    "    print('Среднее количество построек: {:.1f}'.format(user_build['building_type'].sum() / user_build['user_id'].count()))"
   ]
  },
  {
   "cell_type": "code",
   "execution_count": 45,
   "id": "4389b874",
   "metadata": {},
   "outputs": [
    {
     "name": "stdout",
     "output_type": "stream",
     "text": [
      "Среднее количество построек: 9.6\n"
     ]
    },
    {
     "data": {
      "image/png": "[encoded data removed]",
      "text/plain": [
       "<Figure size 864x360 with 1 Axes>"
      ]
     },
     "metadata": {
      "needs_background": "light"
     },
     "output_type": "display_data"
    }
   ],
   "source": [
    "building4(facebook, 'facebook')"
   ]
  },
  {
   "cell_type": "code",
   "execution_count": 46,
   "id": "8c2faf8b",
   "metadata": {},
   "outputs": [],
   "source": [
    "def building5(df, name):\n",
    "    user_build = df.groupby('user_id')['building_type'].count().reset_index()\n",
    "    user_build.hist(bins=20, figsize=(12,5), color = 'green', ec = 'black');\n",
    "    plt.title(f'Количество построек на пользователя из источника Ютуб', fontsize=15);\n",
    "    plt.xlabel('Постройки', fontsize = 10) \n",
    "    plt.ylabel('Пользователи', fontsize = 10);\n",
    "    print('Среднее количество построек: {:.1f}'.format(user_build['building_type'].sum() / user_build['user_id'].count()))"
   ]
  },
  {
   "cell_type": "code",
   "execution_count": 47,
   "id": "b8c26dba",
   "metadata": {},
   "outputs": [
    {
     "name": "stdout",
     "output_type": "stream",
     "text": [
      "Среднее количество построек: 9.3\n"
     ]
    },
    {
     "data": {
      "image/png": "[encoded data removed]",
      "text/plain": [
       "<Figure size 864x360 with 1 Axes>"
      ]
     },
     "metadata": {
      "needs_background": "light"
     },
     "output_type": "display_data"
    }
   ],
   "source": [
    "building5(youtube, 'youtube')"
   ]
  },
  {
   "cell_type": "code",
   "execution_count": 48,
   "id": "92fa1ffd",
   "metadata": {},
   "outputs": [],
   "source": [
    "def buildings_per_source():\n",
    "    buildings_per_source = game_actions.groupby('source')['building_type'].count().reset_index()\n",
    "    plt.figure(figsize=(15,5))\n",
    "    plt.title('Количество построек в зависимости от канала', fontsize = 15)\n",
    "    sns.barplot(x = 'source', y = 'building_type', data = buildings_per_source)\n",
    "    plt.xlabel('Канал', fontsize = 10) \n",
    "    plt.ylabel('Постройки', fontsize = 10)"
   ]
  },
  {
   "cell_type": "code",
   "execution_count": 49,
   "id": "7f89428e",
   "metadata": {},
   "outputs": [
    {
     "data": {
      "image/png": "[encoded data removed]",
      "text/plain": [
       "<Figure size 1080x360 with 1 Axes>"
      ]
     },
     "metadata": {
      "needs_background": "light"
     },
     "output_type": "display_data"
    }
   ],
   "source": [
    "buildings_per_source()"
   ]
  },
  {
   "cell_type": "markdown",
   "id": "ce056ce7",
   "metadata": {},
   "source": [
    "Взглянув на количество построек, мы видим, что большинство из них происходят от пользователей, пришедших из Yandex Direct, затем следуют Instagram и Facebook, а меньше всего построек сделали пользователи, пришедшие через Youtube. Это указывает на то, что Yandex Direct может привлекать более заинтересованных или активных игроков."
   ]
  },
  {
   "cell_type": "markdown",
   "id": "3dd93013",
   "metadata": {},
   "source": [
    "## 2.2. Анализ среднего времени, которое пользователи проводят в игре"
   ]
  },
  {
   "cell_type": "code",
   "execution_count": 50,
   "id": "bbe7ab07",
   "metadata": {},
   "outputs": [],
   "source": [
    "# выделяем столбцы с пермыи и последним событием пользователя\n",
    "first_event = game_actions.groupby(['user_id']).agg(first_event_datetime = ('event_datetime', 'min')).reset_index()\n",
    "last_event = game_actions.groupby(['user_id']).agg(last_event_datetime = ('event_datetime', 'max')).reset_index()"
   ]
  },
  {
   "cell_type": "code",
   "execution_count": 51,
   "id": "b7ad58cf",
   "metadata": {},
   "outputs": [],
   "source": [
    "# добавляем столбцы в датафрейм\n",
    "game_actions = game_actions.merge(first_event, how='left', on='user_id')\n",
    "game_actions = game_actions.merge(last_event, how='left', on='user_id')"
   ]
  },
  {
   "cell_type": "code",
   "execution_count": 52,
   "id": "9a821e2a",
   "metadata": {},
   "outputs": [],
   "source": [
    "# приводим к нужному типу\n",
    "game_actions['first_event_datetime'] = game_actions['first_event_datetime'].dt.date\n",
    "game_actions['last_event_datetime'] = game_actions['last_event_datetime'].dt.date"
   ]
  },
  {
   "cell_type": "code",
   "execution_count": 53,
   "id": "855b18f0",
   "metadata": {},
   "outputs": [],
   "source": [
    "# добавляем столбец с лайфтаймом пользователя в игре\n",
    "game_actions['lifetime'] = game_actions['last_event_datetime'] - game_actions['first_event_datetime']"
   ]
  },
  {
   "cell_type": "code",
   "execution_count": 54,
   "id": "d2bc3d44",
   "metadata": {},
   "outputs": [
    {
     "data": {
      "text/html": [
       "<div>\n",
       "<style scoped>\n",
       "    .dataframe tbody tr th:only-of-type {\n",
       "        vertical-align: middle;\n",
       "    }\n",
       "\n",
       "    .dataframe tbody tr th {\n",
       "        vertical-align: top;\n",
       "    }\n",
       "\n",
       "    .dataframe thead th {\n",
       "        text-align: right;\n",
       "    }\n",
       "</style>\n",
       "<table border=\"1\" class=\"dataframe\">\n",
       "  <thead>\n",
       "    <tr style=\"text-align: right;\">\n",
       "      <th></th>\n",
       "      <th>event_datetime</th>\n",
       "      <th>event</th>\n",
       "      <th>building_type</th>\n",
       "      <th>user_id</th>\n",
       "      <th>project_type</th>\n",
       "      <th>source</th>\n",
       "      <th>first_event_datetime</th>\n",
       "      <th>last_event_datetime</th>\n",
       "      <th>lifetime</th>\n",
       "    </tr>\n",
       "  </thead>\n",
       "  <tbody>\n",
       "    <tr>\n",
       "      <th>0</th>\n",
       "      <td>2020-05-04 00:00:01</td>\n",
       "      <td>building</td>\n",
       "      <td>assembly_shop</td>\n",
       "      <td>55e92310-cb8e-4754-b622-597e124b03de</td>\n",
       "      <td>NaN</td>\n",
       "      <td>youtube_channel_reklama</td>\n",
       "      <td>2020-05-04</td>\n",
       "      <td>2020-05-10</td>\n",
       "      <td>6 days</td>\n",
       "    </tr>\n",
       "    <tr>\n",
       "      <th>1</th>\n",
       "      <td>2020-05-04 00:00:03</td>\n",
       "      <td>building</td>\n",
       "      <td>assembly_shop</td>\n",
       "      <td>c07b1c10-f477-44dc-81dc-ec82254b1347</td>\n",
       "      <td>NaN</td>\n",
       "      <td>facebook_ads</td>\n",
       "      <td>2020-05-04</td>\n",
       "      <td>2020-05-15</td>\n",
       "      <td>11 days</td>\n",
       "    </tr>\n",
       "    <tr>\n",
       "      <th>2</th>\n",
       "      <td>2020-05-04 00:00:16</td>\n",
       "      <td>building</td>\n",
       "      <td>assembly_shop</td>\n",
       "      <td>6edd42cc-e753-4ff6-a947-2107cd560710</td>\n",
       "      <td>NaN</td>\n",
       "      <td>instagram_new_adverts</td>\n",
       "      <td>2020-05-04</td>\n",
       "      <td>2020-05-16</td>\n",
       "      <td>12 days</td>\n",
       "    </tr>\n",
       "    <tr>\n",
       "      <th>3</th>\n",
       "      <td>2020-05-04 00:00:16</td>\n",
       "      <td>building</td>\n",
       "      <td>assembly_shop</td>\n",
       "      <td>92c69003-d60a-444a-827f-8cc51bf6bf4c</td>\n",
       "      <td>NaN</td>\n",
       "      <td>facebook_ads</td>\n",
       "      <td>2020-05-04</td>\n",
       "      <td>2020-05-12</td>\n",
       "      <td>8 days</td>\n",
       "    </tr>\n",
       "    <tr>\n",
       "      <th>4</th>\n",
       "      <td>2020-05-04 00:00:35</td>\n",
       "      <td>building</td>\n",
       "      <td>assembly_shop</td>\n",
       "      <td>cdc6bb92-0ccb-4490-9866-ef142f09139d</td>\n",
       "      <td>NaN</td>\n",
       "      <td>yandex_direct</td>\n",
       "      <td>2020-05-04</td>\n",
       "      <td>2020-05-11</td>\n",
       "      <td>7 days</td>\n",
       "    </tr>\n",
       "    <tr>\n",
       "      <th>...</th>\n",
       "      <td>...</td>\n",
       "      <td>...</td>\n",
       "      <td>...</td>\n",
       "      <td>...</td>\n",
       "      <td>...</td>\n",
       "      <td>...</td>\n",
       "      <td>...</td>\n",
       "      <td>...</td>\n",
       "      <td>...</td>\n",
       "    </tr>\n",
       "    <tr>\n",
       "      <th>135634</th>\n",
       "      <td>2020-06-05 00:08:06</td>\n",
       "      <td>building</td>\n",
       "      <td>research_center</td>\n",
       "      <td>f21d179f-1c4b-437e-b9c6-ab1976907195</td>\n",
       "      <td>NaN</td>\n",
       "      <td>instagram_new_adverts</td>\n",
       "      <td>2020-05-06</td>\n",
       "      <td>2020-06-05</td>\n",
       "      <td>30 days</td>\n",
       "    </tr>\n",
       "    <tr>\n",
       "      <th>135635</th>\n",
       "      <td>2020-06-05 02:25:12</td>\n",
       "      <td>finished_stage_1</td>\n",
       "      <td>NaN</td>\n",
       "      <td>515c1952-99aa-4bca-a7ea-d0449eb5385a</td>\n",
       "      <td>NaN</td>\n",
       "      <td>yandex_direct</td>\n",
       "      <td>2020-05-07</td>\n",
       "      <td>2020-06-05</td>\n",
       "      <td>29 days</td>\n",
       "    </tr>\n",
       "    <tr>\n",
       "      <th>135636</th>\n",
       "      <td>2020-06-05 08:57:52</td>\n",
       "      <td>building</td>\n",
       "      <td>research_center</td>\n",
       "      <td>ed3e7d02-8a96-4be7-9998-e9813ff9c316</td>\n",
       "      <td>NaN</td>\n",
       "      <td>youtube_channel_reklama</td>\n",
       "      <td>2020-05-07</td>\n",
       "      <td>2020-06-05</td>\n",
       "      <td>29 days</td>\n",
       "    </tr>\n",
       "    <tr>\n",
       "      <th>135637</th>\n",
       "      <td>2020-06-05 12:12:27</td>\n",
       "      <td>finished_stage_1</td>\n",
       "      <td>NaN</td>\n",
       "      <td>32572adb-900f-4b5d-a453-1eb1e6d88d8b</td>\n",
       "      <td>NaN</td>\n",
       "      <td>facebook_ads</td>\n",
       "      <td>2020-05-07</td>\n",
       "      <td>2020-06-05</td>\n",
       "      <td>29 days</td>\n",
       "    </tr>\n",
       "    <tr>\n",
       "      <th>135638</th>\n",
       "      <td>2020-06-05 12:32:49</td>\n",
       "      <td>finished_stage_1</td>\n",
       "      <td>NaN</td>\n",
       "      <td>f21d179f-1c4b-437e-b9c6-ab1976907195</td>\n",
       "      <td>NaN</td>\n",
       "      <td>instagram_new_adverts</td>\n",
       "      <td>2020-05-06</td>\n",
       "      <td>2020-06-05</td>\n",
       "      <td>30 days</td>\n",
       "    </tr>\n",
       "  </tbody>\n",
       "</table>\n",
       "<p>135639 rows × 9 columns</p>\n",
       "</div>"
      ],
      "text/plain": [
       "            event_datetime             event    building_type  \\\n",
       "0      2020-05-04 00:00:01          building    assembly_shop   \n",
       "1      2020-05-04 00:00:03          building    assembly_shop   \n",
       "2      2020-05-04 00:00:16          building    assembly_shop   \n",
       "3      2020-05-04 00:00:16          building    assembly_shop   \n",
       "4      2020-05-04 00:00:35          building    assembly_shop   \n",
       "...                    ...               ...              ...   \n",
       "135634 2020-06-05 00:08:06          building  research_center   \n",
       "135635 2020-06-05 02:25:12  finished_stage_1              NaN   \n",
       "135636 2020-06-05 08:57:52          building  research_center   \n",
       "135637 2020-06-05 12:12:27  finished_stage_1              NaN   \n",
       "135638 2020-06-05 12:32:49  finished_stage_1              NaN   \n",
       "\n",
       "                                     user_id project_type  \\\n",
       "0       55e92310-cb8e-4754-b622-597e124b03de          NaN   \n",
       "1       c07b1c10-f477-44dc-81dc-ec82254b1347          NaN   \n",
       "2       6edd42cc-e753-4ff6-a947-2107cd560710          NaN   \n",
       "3       92c69003-d60a-444a-827f-8cc51bf6bf4c          NaN   \n",
       "4       cdc6bb92-0ccb-4490-9866-ef142f09139d          NaN   \n",
       "...                                      ...          ...   \n",
       "135634  f21d179f-1c4b-437e-b9c6-ab1976907195          NaN   \n",
       "135635  515c1952-99aa-4bca-a7ea-d0449eb5385a          NaN   \n",
       "135636  ed3e7d02-8a96-4be7-9998-e9813ff9c316          NaN   \n",
       "135637  32572adb-900f-4b5d-a453-1eb1e6d88d8b          NaN   \n",
       "135638  f21d179f-1c4b-437e-b9c6-ab1976907195          NaN   \n",
       "\n",
       "                         source first_event_datetime last_event_datetime  \\\n",
       "0       youtube_channel_reklama           2020-05-04          2020-05-10   \n",
       "1                  facebook_ads           2020-05-04          2020-05-15   \n",
       "2         instagram_new_adverts           2020-05-04          2020-05-16   \n",
       "3                  facebook_ads           2020-05-04          2020-05-12   \n",
       "4                 yandex_direct           2020-05-04          2020-05-11   \n",
       "...                         ...                  ...                 ...   \n",
       "135634    instagram_new_adverts           2020-05-06          2020-06-05   \n",
       "135635            yandex_direct           2020-05-07          2020-06-05   \n",
       "135636  youtube_channel_reklama           2020-05-07          2020-06-05   \n",
       "135637             facebook_ads           2020-05-07          2020-06-05   \n",
       "135638    instagram_new_adverts           2020-05-06          2020-06-05   \n",
       "\n",
       "       lifetime  \n",
       "0        6 days  \n",
       "1       11 days  \n",
       "2       12 days  \n",
       "3        8 days  \n",
       "4        7 days  \n",
       "...         ...  \n",
       "135634  30 days  \n",
       "135635  29 days  \n",
       "135636  29 days  \n",
       "135637  29 days  \n",
       "135638  30 days  \n",
       "\n",
       "[135639 rows x 9 columns]"
      ]
     },
     "execution_count": 54,
     "metadata": {},
     "output_type": "execute_result"
    }
   ],
   "source": [
    "game_actions"
   ]
  },
  {
   "cell_type": "code",
   "execution_count": 55,
   "id": "77594a1a",
   "metadata": {},
   "outputs": [
    {
     "name": "stdout",
     "output_type": "stream",
     "text": [
      "В среднем пользователи проводят в игре 11 days 00:00:00\n"
     ]
    }
   ],
   "source": [
    "print('В среднем пользователи проводят в игре', game_actions['lifetime'].median())"
   ]
  },
  {
   "cell_type": "code",
   "execution_count": 56,
   "id": "1d220fe3",
   "metadata": {},
   "outputs": [
    {
     "data": {
      "image/png": "[encoded data removed]",
      "text/plain": [
       "<Figure size 720x432 with 1 Axes>"
      ]
     },
     "metadata": {
      "needs_background": "light"
     },
     "output_type": "display_data"
    }
   ],
   "source": [
    "a = game_actions['lifetime'].dt.days\n",
    "plt.figure(figsize=(10, 6))\n",
    "plt.hist(a,color = 'green', ec = 'black', bins = 20)\n",
    "plt.title('Среднее время в игре')\n",
    "plt.xlabel('Лайфтайм')\n",
    "plt.ylabel('Количество')\n",
    "mean_lifetime = a.mean()\n",
    "plt.axvline(x=mean_lifetime, color='blue', linestyle='-', label='Mean')\n",
    "plt.legend()\n",
    "plt.show()"
   ]
  },
  {
   "cell_type": "code",
   "execution_count": 57,
   "id": "1260c955",
   "metadata": {},
   "outputs": [],
   "source": [
    "# отделяем игроков, прошедших первый уровень\n",
    "df_finish_level = game_actions[game_actions['event'] == 'finished_stage_1'].reset_index(drop=True)\n",
    "id_finish_level = df_finish_level['user_id']"
   ]
  },
  {
   "cell_type": "code",
   "execution_count": 58,
   "id": "27a96506",
   "metadata": {},
   "outputs": [],
   "source": [
    "# игроки прошедшие первый уровень\n",
    "finish_stage = game_actions.query('user_id in @id_finish_level').reset_index(drop=True)\n",
    "# игроки не прошедшие первый уровень\n",
    "not_finish_stage = game_actions.query('user_id not in @id_finish_level').reset_index(drop=True)"
   ]
  },
  {
   "cell_type": "code",
   "execution_count": 59,
   "id": "89e65ae2",
   "metadata": {},
   "outputs": [
    {
     "data": {
      "text/html": [
       "<div>\n",
       "<style scoped>\n",
       "    .dataframe tbody tr th:only-of-type {\n",
       "        vertical-align: middle;\n",
       "    }\n",
       "\n",
       "    .dataframe tbody tr th {\n",
       "        vertical-align: top;\n",
       "    }\n",
       "\n",
       "    .dataframe thead th {\n",
       "        text-align: right;\n",
       "    }\n",
       "</style>\n",
       "<table border=\"1\" class=\"dataframe\">\n",
       "  <thead>\n",
       "    <tr style=\"text-align: right;\">\n",
       "      <th></th>\n",
       "      <th>event_datetime</th>\n",
       "      <th>event</th>\n",
       "      <th>building_type</th>\n",
       "      <th>user_id</th>\n",
       "      <th>project_type</th>\n",
       "      <th>source</th>\n",
       "      <th>first_event_datetime</th>\n",
       "      <th>last_event_datetime</th>\n",
       "      <th>lifetime</th>\n",
       "    </tr>\n",
       "  </thead>\n",
       "  <tbody>\n",
       "    <tr>\n",
       "      <th>0</th>\n",
       "      <td>2020-05-04 00:00:01</td>\n",
       "      <td>building</td>\n",
       "      <td>assembly_shop</td>\n",
       "      <td>55e92310-cb8e-4754-b622-597e124b03de</td>\n",
       "      <td>NaN</td>\n",
       "      <td>youtube_channel_reklama</td>\n",
       "      <td>2020-05-04</td>\n",
       "      <td>2020-05-10</td>\n",
       "      <td>6 days</td>\n",
       "    </tr>\n",
       "    <tr>\n",
       "      <th>1</th>\n",
       "      <td>2020-05-04 00:00:16</td>\n",
       "      <td>building</td>\n",
       "      <td>assembly_shop</td>\n",
       "      <td>92c69003-d60a-444a-827f-8cc51bf6bf4c</td>\n",
       "      <td>NaN</td>\n",
       "      <td>facebook_ads</td>\n",
       "      <td>2020-05-04</td>\n",
       "      <td>2020-05-12</td>\n",
       "      <td>8 days</td>\n",
       "    </tr>\n",
       "    <tr>\n",
       "      <th>2</th>\n",
       "      <td>2020-05-04 00:00:36</td>\n",
       "      <td>building</td>\n",
       "      <td>assembly_shop</td>\n",
       "      <td>06c592ca-902d-42bb-bac3-75ce84cca159</td>\n",
       "      <td>NaN</td>\n",
       "      <td>instagram_new_adverts</td>\n",
       "      <td>2020-05-04</td>\n",
       "      <td>2020-05-17</td>\n",
       "      <td>13 days</td>\n",
       "    </tr>\n",
       "    <tr>\n",
       "      <th>3</th>\n",
       "      <td>2020-05-04 00:00:38</td>\n",
       "      <td>building</td>\n",
       "      <td>assembly_shop</td>\n",
       "      <td>beb8ca15-33a9-465d-b47b-89aa96f89c9a</td>\n",
       "      <td>NaN</td>\n",
       "      <td>yandex_direct</td>\n",
       "      <td>2020-05-04</td>\n",
       "      <td>2020-05-16</td>\n",
       "      <td>12 days</td>\n",
       "    </tr>\n",
       "    <tr>\n",
       "      <th>4</th>\n",
       "      <td>2020-05-04 00:01:59</td>\n",
       "      <td>building</td>\n",
       "      <td>assembly_shop</td>\n",
       "      <td>c99ecd61-1a4e-4bd2-b8b5-1f8bbcd2bdb5</td>\n",
       "      <td>NaN</td>\n",
       "      <td>yandex_direct</td>\n",
       "      <td>2020-05-04</td>\n",
       "      <td>2020-05-26</td>\n",
       "      <td>22 days</td>\n",
       "    </tr>\n",
       "    <tr>\n",
       "      <th>...</th>\n",
       "      <td>...</td>\n",
       "      <td>...</td>\n",
       "      <td>...</td>\n",
       "      <td>...</td>\n",
       "      <td>...</td>\n",
       "      <td>...</td>\n",
       "      <td>...</td>\n",
       "      <td>...</td>\n",
       "      <td>...</td>\n",
       "    </tr>\n",
       "    <tr>\n",
       "      <th>67165</th>\n",
       "      <td>2020-06-01 16:09:44</td>\n",
       "      <td>building</td>\n",
       "      <td>spaceport</td>\n",
       "      <td>b81fdba1-a168-4c2a-b41d-6a62ca92bec9</td>\n",
       "      <td>NaN</td>\n",
       "      <td>facebook_ads</td>\n",
       "      <td>2020-05-07</td>\n",
       "      <td>2020-06-01</td>\n",
       "      <td>25 days</td>\n",
       "    </tr>\n",
       "    <tr>\n",
       "      <th>67166</th>\n",
       "      <td>2020-06-01 21:30:47</td>\n",
       "      <td>building</td>\n",
       "      <td>spaceport</td>\n",
       "      <td>7beb74ff-c5cf-4dfd-a0e6-2685ceddb8ae</td>\n",
       "      <td>NaN</td>\n",
       "      <td>yandex_direct</td>\n",
       "      <td>2020-05-06</td>\n",
       "      <td>2020-06-01</td>\n",
       "      <td>26 days</td>\n",
       "    </tr>\n",
       "    <tr>\n",
       "      <th>67167</th>\n",
       "      <td>2020-06-02 08:26:32</td>\n",
       "      <td>building</td>\n",
       "      <td>research_center</td>\n",
       "      <td>70e18c96-221c-4ccc-8b5e-45adc4b7e1a2</td>\n",
       "      <td>NaN</td>\n",
       "      <td>instagram_new_adverts</td>\n",
       "      <td>2020-05-06</td>\n",
       "      <td>2020-06-02</td>\n",
       "      <td>27 days</td>\n",
       "    </tr>\n",
       "    <tr>\n",
       "      <th>67168</th>\n",
       "      <td>2020-06-02 21:37:17</td>\n",
       "      <td>building</td>\n",
       "      <td>spaceport</td>\n",
       "      <td>ed3e7d02-8a96-4be7-9998-e9813ff9c316</td>\n",
       "      <td>NaN</td>\n",
       "      <td>youtube_channel_reklama</td>\n",
       "      <td>2020-05-07</td>\n",
       "      <td>2020-06-05</td>\n",
       "      <td>29 days</td>\n",
       "    </tr>\n",
       "    <tr>\n",
       "      <th>67169</th>\n",
       "      <td>2020-06-05 08:57:52</td>\n",
       "      <td>building</td>\n",
       "      <td>research_center</td>\n",
       "      <td>ed3e7d02-8a96-4be7-9998-e9813ff9c316</td>\n",
       "      <td>NaN</td>\n",
       "      <td>youtube_channel_reklama</td>\n",
       "      <td>2020-05-07</td>\n",
       "      <td>2020-06-05</td>\n",
       "      <td>29 days</td>\n",
       "    </tr>\n",
       "  </tbody>\n",
       "</table>\n",
       "<p>67170 rows × 9 columns</p>\n",
       "</div>"
      ],
      "text/plain": [
       "           event_datetime     event    building_type  \\\n",
       "0     2020-05-04 00:00:01  building    assembly_shop   \n",
       "1     2020-05-04 00:00:16  building    assembly_shop   \n",
       "2     2020-05-04 00:00:36  building    assembly_shop   \n",
       "3     2020-05-04 00:00:38  building    assembly_shop   \n",
       "4     2020-05-04 00:01:59  building    assembly_shop   \n",
       "...                   ...       ...              ...   \n",
       "67165 2020-06-01 16:09:44  building        spaceport   \n",
       "67166 2020-06-01 21:30:47  building        spaceport   \n",
       "67167 2020-06-02 08:26:32  building  research_center   \n",
       "67168 2020-06-02 21:37:17  building        spaceport   \n",
       "67169 2020-06-05 08:57:52  building  research_center   \n",
       "\n",
       "                                    user_id project_type  \\\n",
       "0      55e92310-cb8e-4754-b622-597e124b03de          NaN   \n",
       "1      92c69003-d60a-444a-827f-8cc51bf6bf4c          NaN   \n",
       "2      06c592ca-902d-42bb-bac3-75ce84cca159          NaN   \n",
       "3      beb8ca15-33a9-465d-b47b-89aa96f89c9a          NaN   \n",
       "4      c99ecd61-1a4e-4bd2-b8b5-1f8bbcd2bdb5          NaN   \n",
       "...                                     ...          ...   \n",
       "67165  b81fdba1-a168-4c2a-b41d-6a62ca92bec9          NaN   \n",
       "67166  7beb74ff-c5cf-4dfd-a0e6-2685ceddb8ae          NaN   \n",
       "67167  70e18c96-221c-4ccc-8b5e-45adc4b7e1a2          NaN   \n",
       "67168  ed3e7d02-8a96-4be7-9998-e9813ff9c316          NaN   \n",
       "67169  ed3e7d02-8a96-4be7-9998-e9813ff9c316          NaN   \n",
       "\n",
       "                        source first_event_datetime last_event_datetime  \\\n",
       "0      youtube_channel_reklama           2020-05-04          2020-05-10   \n",
       "1                 facebook_ads           2020-05-04          2020-05-12   \n",
       "2        instagram_new_adverts           2020-05-04          2020-05-17   \n",
       "3                yandex_direct           2020-05-04          2020-05-16   \n",
       "4                yandex_direct           2020-05-04          2020-05-26   \n",
       "...                        ...                  ...                 ...   \n",
       "67165             facebook_ads           2020-05-07          2020-06-01   \n",
       "67166            yandex_direct           2020-05-06          2020-06-01   \n",
       "67167    instagram_new_adverts           2020-05-06          2020-06-02   \n",
       "67168  youtube_channel_reklama           2020-05-07          2020-06-05   \n",
       "67169  youtube_channel_reklama           2020-05-07          2020-06-05   \n",
       "\n",
       "      lifetime  \n",
       "0       6 days  \n",
       "1       8 days  \n",
       "2      13 days  \n",
       "3      12 days  \n",
       "4      22 days  \n",
       "...        ...  \n",
       "67165  25 days  \n",
       "67166  26 days  \n",
       "67167  27 days  \n",
       "67168  29 days  \n",
       "67169  29 days  \n",
       "\n",
       "[67170 rows x 9 columns]"
      ]
     },
     "execution_count": 59,
     "metadata": {},
     "output_type": "execute_result"
    }
   ],
   "source": [
    "not_finish_stage"
   ]
  },
  {
   "cell_type": "code",
   "execution_count": 60,
   "id": "c224cd1a",
   "metadata": {},
   "outputs": [],
   "source": [
    "# игроки, закончившие уровень через проект \n",
    "project_users = finish_stage[finish_stage['event'] == 'project'].reset_index(drop=True)\n",
    "project_users = project_users['user_id'].unique()"
   ]
  },
  {
   "cell_type": "code",
   "execution_count": 61,
   "id": "2015a120",
   "metadata": {},
   "outputs": [
    {
     "data": {
      "text/html": [
       "<div>\n",
       "<style scoped>\n",
       "    .dataframe tbody tr th:only-of-type {\n",
       "        vertical-align: middle;\n",
       "    }\n",
       "\n",
       "    .dataframe tbody tr th {\n",
       "        vertical-align: top;\n",
       "    }\n",
       "\n",
       "    .dataframe thead th {\n",
       "        text-align: right;\n",
       "    }\n",
       "</style>\n",
       "<table border=\"1\" class=\"dataframe\">\n",
       "  <thead>\n",
       "    <tr style=\"text-align: right;\">\n",
       "      <th></th>\n",
       "      <th>user_id</th>\n",
       "      <th>event</th>\n",
       "      <th>count</th>\n",
       "    </tr>\n",
       "  </thead>\n",
       "  <tbody>\n",
       "    <tr>\n",
       "      <th>0</th>\n",
       "      <td>0001f83c-c6ac-4621-b7f0-8a28b283ac30</td>\n",
       "      <td>building</td>\n",
       "      <td>0</td>\n",
       "    </tr>\n",
       "    <tr>\n",
       "      <th>1</th>\n",
       "      <td>00151b4f-ba38-44a8-a650-d7cf130a0105</td>\n",
       "      <td>building</td>\n",
       "      <td>0</td>\n",
       "    </tr>\n",
       "    <tr>\n",
       "      <th>2</th>\n",
       "      <td>001aaea6-3d14-43f1-8ca8-7f48820f17aa</td>\n",
       "      <td>building</td>\n",
       "      <td>0</td>\n",
       "    </tr>\n",
       "    <tr>\n",
       "      <th>3</th>\n",
       "      <td>001d39dc-366c-4021-9604-6a3b9ff01e25</td>\n",
       "      <td>building</td>\n",
       "      <td>0</td>\n",
       "    </tr>\n",
       "    <tr>\n",
       "      <th>4</th>\n",
       "      <td>001d39dc-366c-4021-9604-6a3b9ff01e25</td>\n",
       "      <td>finished_stage_1</td>\n",
       "      <td>0</td>\n",
       "    </tr>\n",
       "    <tr>\n",
       "      <th>...</th>\n",
       "      <td>...</td>\n",
       "      <td>...</td>\n",
       "      <td>...</td>\n",
       "    </tr>\n",
       "    <tr>\n",
       "      <th>21254</th>\n",
       "      <td>fffb626c-5ab6-47c9-8113-2062a2f18494</td>\n",
       "      <td>finished_stage_1</td>\n",
       "      <td>0</td>\n",
       "    </tr>\n",
       "    <tr>\n",
       "      <th>21255</th>\n",
       "      <td>ffff194a-56b7-4c12-860d-3485242ae7f5</td>\n",
       "      <td>building</td>\n",
       "      <td>0</td>\n",
       "    </tr>\n",
       "    <tr>\n",
       "      <th>21256</th>\n",
       "      <td>ffff69cc-fec1-4fd3-9f98-93be1112a6b8</td>\n",
       "      <td>building</td>\n",
       "      <td>0</td>\n",
       "    </tr>\n",
       "    <tr>\n",
       "      <th>21257</th>\n",
       "      <td>ffff69cc-fec1-4fd3-9f98-93be1112a6b8</td>\n",
       "      <td>finished_stage_1</td>\n",
       "      <td>0</td>\n",
       "    </tr>\n",
       "    <tr>\n",
       "      <th>21258</th>\n",
       "      <td>ffff69cc-fec1-4fd3-9f98-93be1112a6b8</td>\n",
       "      <td>project</td>\n",
       "      <td>1</td>\n",
       "    </tr>\n",
       "  </tbody>\n",
       "</table>\n",
       "<p>21259 rows × 3 columns</p>\n",
       "</div>"
      ],
      "text/plain": [
       "                                    user_id             event  count\n",
       "0      0001f83c-c6ac-4621-b7f0-8a28b283ac30          building      0\n",
       "1      00151b4f-ba38-44a8-a650-d7cf130a0105          building      0\n",
       "2      001aaea6-3d14-43f1-8ca8-7f48820f17aa          building      0\n",
       "3      001d39dc-366c-4021-9604-6a3b9ff01e25          building      0\n",
       "4      001d39dc-366c-4021-9604-6a3b9ff01e25  finished_stage_1      0\n",
       "...                                     ...               ...    ...\n",
       "21254  fffb626c-5ab6-47c9-8113-2062a2f18494  finished_stage_1      0\n",
       "21255  ffff194a-56b7-4c12-860d-3485242ae7f5          building      0\n",
       "21256  ffff69cc-fec1-4fd3-9f98-93be1112a6b8          building      0\n",
       "21257  ffff69cc-fec1-4fd3-9f98-93be1112a6b8  finished_stage_1      0\n",
       "21258  ffff69cc-fec1-4fd3-9f98-93be1112a6b8           project      1\n",
       "\n",
       "[21259 rows x 3 columns]"
      ]
     },
     "execution_count": 61,
     "metadata": {},
     "output_type": "execute_result"
    }
   ],
   "source": [
    "game_user"
   ]
  },
  {
   "cell_type": "code",
   "execution_count": 62,
   "id": "22e37c10",
   "metadata": {
    "scrolled": true
   },
   "outputs": [
    {
     "data": {
      "text/plain": [
       "['001d39dc-366c-4021-9604-6a3b9ff01e25',\n",
       " '003ee7e8-6356-4286-a715-62f22a18d2a1',\n",
       " '004074f8-251a-4776-922c-8348dca1a2f6',\n",
       " '00464e5e-28ed-4be6-bf44-517ef7b3937b',\n",
       " '0056c007-c082-43cc-bdef-afc49bca4cb9',\n",
       " '005ff87b-b475-4da7-862e-57ab91adbff4',\n",
       " '00606a1c-51e1-48d1-b053-77be528527c0',\n",
       " '007ad796-add4-41a5-bc2a-e11561f16cd6',\n",
       " '007f9ffa-4c39-408b-a2e1-a84ddc10bee1',\n",
       " '00ac051d-38ca-4746-b33c-4cff9d298d09',\n",
       " '00b45f70-fc28-4af4-9867-487e0a2906e7',\n",
       " '00cb37e7-e425-4949-b3df-da316640fd1d',\n",
       " '00e92de1-cbe3-41bc-9710-271be7841917',\n",
       " '00f1df3e-5f44-4a65-8c40-ce0a4eb9cc11',\n",
       " '0108f47c-1f4f-431b-b514-3f9c4120dca7',\n",
       " '01097a56-a923-41d0-a625-5057bf3049b5',\n",
       " '01303658-5ed3-4b39-85d6-7c7708ed08a6',\n",
       " '013cd430-adee-4f9f-a645-e1eef615d9b5',\n",
       " '01423f95-1eff-42da-b748-323f488c2a26',\n",
       " '014dd0d0-8d73-4ebc-b146-0d518e30cec0',\n",
       " '015b90df-f393-4c95-a42c-14917be65000',\n",
       " '01672605-47f5-4012-8f06-96f6f621e66c',\n",
       " '016a07ce-04c7-4f29-a383-9975b97cfb3c',\n",
       " '01802006-dfe4-49a5-9d2f-594099a5e909',\n",
       " '01957fa7-5c9e-4694-aa20-88bf093c30d0',\n",
       " '01963ea2-1c88-4b66-ae39-681b772266f3',\n",
       " '01980146-bbef-4a66-b16e-d9e100f8f162',\n",
       " '019df3af-c222-4486-8b02-d6a889747664',\n",
       " '01a93ad3-ddbb-4a6b-83ca-8384d10a92ad',\n",
       " '01afacee-b38f-4d96-968e-c6c9d01b93e9',\n",
       " '01b7826c-099b-409b-add0-0f2a8b2059f6',\n",
       " '01b9c298-e4a6-4069-a59f-5fff97819090',\n",
       " '01d1db2c-da09-46e6-9127-1348665f2152',\n",
       " '01e0260d-8ad7-46e7-a2e9-fb0fc456be04',\n",
       " '01e89058-078b-409b-a269-893b1f7dc648',\n",
       " '022646b2-7f14-491b-b1a7-3bdf916fe11c',\n",
       " '022f0fc7-9847-4893-b291-115c0cfd6bed',\n",
       " '023981cd-dd80-4062-933a-0ef93902bd3d',\n",
       " '023a24d3-da92-4062-862a-b46990c8374c',\n",
       " '02413a98-45a6-4b5f-b89f-8c4b1d4e924b',\n",
       " '0254fbdf-2bee-439d-9f05-bf487692cfb2',\n",
       " '025ade1d-d30e-4195-b14a-72f98e0c812b',\n",
       " '025b513f-b427-4827-846d-b3697155ca98',\n",
       " '025df02a-6265-4900-8525-cefb1508a5e4',\n",
       " '027296db-827a-425c-8eaa-341938767af1',\n",
       " '028eb0c9-3889-4e9a-8d0c-079dae820a34',\n",
       " '0290cf36-cc89-4418-8989-021d2bd43d99',\n",
       " '0297475c-4308-4317-9c9d-d7fe713f80e1',\n",
       " '02a92408-9e19-4cd0-aaf4-a7eda404150d',\n",
       " '02b8a799-ea38-49c2-8d42-01e34baa41b2',\n",
       " '02bd3847-93e0-4ff1-92f3-2dc1c8044136',\n",
       " '02bf92c2-17a0-4156-be88-2054fb6b7421',\n",
       " '02ee8427-10c1-40bc-a520-208b6a8c8265',\n",
       " '02ef8d68-e1d2-4576-bfc8-58c2cfa5b284',\n",
       " '0309633d-99cb-4011-ab8e-5187e1bbfc72',\n",
       " '03286325-87a1-4648-9efa-1987501909de',\n",
       " '033ea1a7-6e58-4438-9eb5-c86249e00d69',\n",
       " '0343d015-46c4-4383-8b2e-89be5e7ae600',\n",
       " '03463c79-6ea9-4c67-98f0-09fce689665e',\n",
       " '034725d6-c03e-4ba7-bc54-84ffd286996c',\n",
       " '03583245-5b93-49df-82da-a3dd1bbd6f4f',\n",
       " '03958566-cfc2-477d-9b45-57efe35d38f5',\n",
       " '03990bc0-47b6-44ce-9f8b-3afb1a97d0e7',\n",
       " '03a632c2-67d3-460e-b733-9aacd887db1f',\n",
       " '03c05752-44d5-4f7b-a0c1-2ec7608be5db',\n",
       " '03cd2027-4f46-431b-89b3-e60d4500c8dc',\n",
       " '03d0d480-9103-46a3-83f5-22e48127541e',\n",
       " '04064959-909e-4484-9429-d76c295af7b3',\n",
       " '042f2d52-609e-4063-afa9-ecec30b527de',\n",
       " '042f85e4-550d-480a-b202-a54a3858101b',\n",
       " '043aedd8-6283-4404-9fc5-ec2d5bbc4018',\n",
       " '044d0c92-ea0b-4948-bbc4-fc10b89669b7',\n",
       " '046848dc-8c7c-4f7d-a89c-86f557493390',\n",
       " '046c11a3-1dc7-4041-9dfb-cd8b5def6cd3',\n",
       " '0474fc3c-1d2f-466a-9721-b4f819f7dc15',\n",
       " '047ad5bc-8c9e-4cc3-b408-7cda8c87a371',\n",
       " '0495acdb-77fe-454a-8838-6ce52c11b4d2',\n",
       " '0497adf9-8ce8-4d2b-83f9-6590e6e1bcc3',\n",
       " '04d4e644-8b2c-4201-9e6f-785e8303c18c',\n",
       " '04d89ee8-e171-4912-86d5-161a2b879a1d',\n",
       " '04da1f50-4436-4418-8477-ead809d2fde3',\n",
       " '04df6eb3-eea5-4a6c-a612-4b30d7609935',\n",
       " '052d9cec-5f7e-401c-b12b-b7da934162d3',\n",
       " '05387481-282f-4df4-ba76-d65679352c09',\n",
       " '0539491f-b914-4538-9ca9-77b1eea31737',\n",
       " '05397928-efdb-47a9-ac32-a3350078c8f1',\n",
       " '054512e4-c52e-408e-b5ec-8740826be5b8',\n",
       " '05512f92-82f5-40e1-94c2-96b15e680ad4',\n",
       " '055e210a-7734-4a79-bd9d-ba70f35900ec',\n",
       " '05923ced-010a-4b0a-93d4-d62489c28d76',\n",
       " '05b2ecdb-3807-42d3-8cef-804fd9f4a1ea',\n",
       " '05b95abf-efbd-46a6-b185-57bdb3082880',\n",
       " '05c0864a-b210-4463-b672-ec172bbc6362',\n",
       " '05d51cb5-ecb6-4d72-8766-c021888437c0',\n",
       " '05d73f9f-2f8b-4462-bedd-11541677298d',\n",
       " '05d79a20-1aec-46ee-a2d5-728bf1dd82c1',\n",
       " '05d7c272-5089-4254-acd9-2b1b48ab7792',\n",
       " '05eaeb50-ffa4-4551-b990-a0dd621046e9',\n",
       " '0600a798-f4ee-4d74-ac0a-5e6a6565ac2f',\n",
       " '0601f513-7522-4cc7-8e1c-9f7cb2e53aad',\n",
       " '060eb6d2-9814-4bfd-8f9b-dfdbb65c99a0',\n",
       " '06132e8d-96e8-4878-bb4c-19df1360913d',\n",
       " '062acdf9-2212-4b15-adef-e08bfab0dfa9',\n",
       " '0638fd3b-7681-4625-b292-0d72e380beac',\n",
       " '0641f4b7-976c-43b5-b348-a4d39e5d1f63',\n",
       " '0655acd2-fe44-415b-aec3-582779db0087',\n",
       " '067be575-59de-4a49-a0d0-9279207abe77',\n",
       " '0694dc76-182d-4973-9d5c-94b094ba50a8',\n",
       " '0727e536-0f8c-4572-ac55-392433df8d35',\n",
       " '07382db6-20bf-4d98-850e-1bca9140f03a',\n",
       " '073e2be7-4b31-4d3e-984c-cf1e0bb35e25',\n",
       " '07476770-4479-4619-9cf6-a926860f1ce7',\n",
       " '07734051-ba73-44cb-850f-c272c24230f4',\n",
       " '07736eb7-550e-4dfe-9321-e046df78379b',\n",
       " '077ac839-c16b-483f-974a-dd6302819eca',\n",
       " '07be1c9b-bdfa-46ab-959b-97000892d550',\n",
       " '07d05454-8496-4feb-a04e-6e45d75f1c0c',\n",
       " '07dc2544-a4b3-4308-896d-f5d5a6b3adfe',\n",
       " '07e90752-1eee-48d8-b916-0fea9f1f6ee6',\n",
       " '07f33bf0-7479-4db4-9e25-3ccb8a3919d4',\n",
       " '080b2a4d-edde-4ddd-9b8d-853c57ad8cff',\n",
       " '081f6f3d-8df4-488c-bdae-b19e5b1f2a19',\n",
       " '0864bf5d-efda-4893-abba-26cf271b0e56',\n",
       " '0867e316-5bd4-415f-9880-2476061d6059',\n",
       " '086b85eb-40f0-4a94-b15d-ea429b0fed4b',\n",
       " '087bda51-aecf-4d86-b980-503beb59a6ea',\n",
       " '0889c8e3-748e-4775-8388-aca0375fd6e6',\n",
       " '08ad4334-18b9-4029-887d-2d734a3e1c8f',\n",
       " '08b187b1-96d2-4411-a50b-1fcb13960357',\n",
       " '08b2ba9c-1197-4fa4-a71a-0f8329860985',\n",
       " '08bf0f9e-009f-4a0c-80b3-43984adfd09b',\n",
       " '08c709b0-2a01-4148-9064-b46e30ca2406',\n",
       " '08eec174-93ba-487d-8506-be663fc2fa13',\n",
       " '08f03c93-fe2a-4c38-a99d-914daaf8723b',\n",
       " '08f82e5d-2f2b-47ab-9ad1-92f5f7494309',\n",
       " '090c7302-5bd4-4178-b090-785a8dc206d4',\n",
       " '090f983c-dac3-4ca8-b25d-541535687bb9',\n",
       " '0912318f-eac6-49b3-8121-9538a56cd3f4',\n",
       " '0930fb9e-e82f-43ce-9935-71e836fccd61',\n",
       " '094f15cc-2bd6-4b50-989b-a61183c49462',\n",
       " '0969af0e-8715-43eb-a0ec-d290a9fc1ae5',\n",
       " '09734e80-a0f5-4154-85a2-a8ed78ea7a44',\n",
       " '097c217a-87dd-4f45-b352-a98911423a3b',\n",
       " '099d083c-6ca0-4200-a89c-8b659f293b0e',\n",
       " '09aa5497-eb69-4819-893f-cba024cd3f47',\n",
       " '09af80b0-c637-49d3-847d-a1e86208a6b1',\n",
       " '0a61e68f-4d78-49be-8163-82d7a7983d21',\n",
       " '0a62cca0-feaf-4c04-be9d-b93d34cb6863',\n",
       " '0a6df125-87d6-49cb-bb52-28fa4067b643',\n",
       " '0a722a83-1d0b-4a6f-9a41-7f2fed8f9136',\n",
       " '0a75829f-06dd-433c-971b-5dce226d8569',\n",
       " '0a83704d-92a4-4285-af67-21034bfe5f52',\n",
       " '0a83c631-088b-46b5-bec9-e207d06c1353',\n",
       " '0a986f9c-0be5-428c-b50c-efc35183040c',\n",
       " '0a9ad19b-d027-4502-9fba-ff7db30d8677',\n",
       " '0ab2407d-c9aa-4a4d-a55e-0f88090f9b3f',\n",
       " '0ac0b75c-da19-4422-abde-85bcc77ee06f',\n",
       " '0adbb1bc-0b80-4b89-a63a-72016e014d38',\n",
       " '0b09a983-1e15-4634-8356-dc3de083496c',\n",
       " '0b0e4430-48a8-4515-8ec4-aa05f335652a',\n",
       " '0b284c59-24ff-4d77-ba1a-9065b1829bcf',\n",
       " '0b3cfd57-0b06-4dfb-a9b6-0c6246fb943f',\n",
       " '0b40012d-aaa4-4086-b6d7-d9e6bcc7d1a9',\n",
       " '0b414540-5356-4fa0-a6ef-c81d5363c771',\n",
       " '0b476c44-4270-43a5-9665-d539a36a3922',\n",
       " '0b4f4fb3-d04f-46f8-9353-b6f95239c92b',\n",
       " '0b600bd7-d597-4985-a756-419908ed3015',\n",
       " '0b64ed05-7845-4445-bf7e-5a3f7c89343c',\n",
       " '0b65e728-d60c-40cd-9b4f-3031d3ab13c8',\n",
       " '0b6eae8d-c830-4b1d-9930-5cf5f2e2e5cd',\n",
       " '0b7a99e1-e6de-4dda-b4ed-087a72186d47',\n",
       " '0ba07a6c-1c9c-4a60-a199-d930e4c65fea',\n",
       " '0bbf7701-9b2f-4ba6-80d8-bf962ca8085d',\n",
       " '0bd799db-6ab3-4ca5-8326-7d324d317303',\n",
       " '0bd9762c-cb2b-4b23-a8c0-9a0687ac18d5',\n",
       " '0bdf8f24-d773-4e2b-81bf-6923de7a904f',\n",
       " '0be6a7af-c7a9-422a-bf6a-270411e5cf6d',\n",
       " '0be70f10-0cf7-4b7d-ba17-d771105704d4',\n",
       " '0c048dd7-15e5-4aaf-9eca-6e000dfd6b82',\n",
       " '0c182818-4d00-4738-8dc0-47dec2ac4e67',\n",
       " '0c1a1d81-5909-43b8-8bd0-a64df627bbfb',\n",
       " '0c29635a-f4a3-4076-a3b0-565381bab9b9',\n",
       " '0c3d717d-79a5-4be6-9959-f980a745d52a',\n",
       " '0c59cb59-a797-45a9-9207-a956e2af83e9',\n",
       " '0c5d70ab-d52d-45fd-be10-fe442d586038',\n",
       " '0c651dae-ddfa-4485-8e1a-e18f091740d7',\n",
       " '0c75239f-2e25-4b61-87cf-f867ede6e6fc',\n",
       " '0c76c020-beae-44d8-be15-8ab7ea4a6cde',\n",
       " '0c8ca444-6627-413c-b20c-33c98780512f',\n",
       " '0ca57f1f-844c-4a54-ab52-c3ff42fd8a00',\n",
       " '0cab970e-f706-4d45-a77c-c3771df548fc',\n",
       " '0cad1ba3-469c-427a-a149-75fe4e5a66db',\n",
       " '0cb1f8c2-d224-492e-a82d-c30d660c40aa',\n",
       " '0cb2b201-d6e0-4171-be10-c8fc50005c9b',\n",
       " '0cb8398c-049f-4e14-9ed3-b334ac07c301',\n",
       " '0cbb8065-0035-4b6b-8de7-ca57f349332d',\n",
       " '0cc1602b-7876-4895-814a-a839dcf7b1cf',\n",
       " '0cca0b71-8f9f-456c-b08f-2bafd300bdf5',\n",
       " '0cca6fdd-fbf8-45f8-a2d6-b567abac3063',\n",
       " '0cfd14f1-96d4-49f7-9724-cb53521996de',\n",
       " '0d0b8c1a-3a82-40f2-ba77-6e32cb444be7',\n",
       " '0d0f6f7f-2c25-4376-a120-f4986c5fb338',\n",
       " '0d16f906-a96f-41b7-a4d9-6f1aeeb365c2',\n",
       " '0d1c5303-aa3c-4548-bea5-df5e28f7af2f',\n",
       " '0d23c68a-f9b5-4884-be9c-429bca67512d',\n",
       " '0d339cd3-9713-467f-b26a-339c4a30d6b8',\n",
       " '0d37a895-ee0f-4e36-aadb-880cef670f0b',\n",
       " '0d5b67dc-b45d-498e-93b9-690dc093ae3d',\n",
       " '0d5e050b-49bd-4254-ab6e-16a8ffde9ca6',\n",
       " '0d61f407-7590-4ce0-8ecc-cae1195a090e',\n",
       " '0d73c14f-6b5a-4ffd-92f7-c38aec5e7596',\n",
       " '0d78e032-4a45-48b8-9b9d-0c0cb5177cc1',\n",
       " '0da59804-0ddb-4ad8-9774-ba7fd99dc180',\n",
       " '0db2c81f-f48e-4a1e-8cca-299f5f1c9bae',\n",
       " '0db704c1-3e8c-482e-8968-52a19b22e564',\n",
       " '0dda5eaf-c89d-4c2e-bc1c-a53a3a649980',\n",
       " '0e012d1a-eb8b-4e1f-b86d-bb517d5837ef',\n",
       " '0e064b56-afbe-4045-bed3-c243e2a0e8e9',\n",
       " '0e118079-f876-4a97-96ad-540924bc7f9a',\n",
       " '0e123029-87c8-4fab-9623-3f9e64c99834',\n",
       " '0e26f3f0-1659-4e50-ab1b-7e9b3f8fddf5',\n",
       " '0e3d887c-f2f0-4056-9d2a-6ddf2d79eebf',\n",
       " '0e547be2-247e-4aca-8894-a77ec09df89a',\n",
       " '0e55824a-3f3a-41a9-80b2-e0574c861a75',\n",
       " '0e5e2adf-8ca9-453d-a502-ac23831dc905',\n",
       " '0e61f1fc-af75-4163-a550-6de72fa8e410',\n",
       " '0e62e1d9-a9ac-4232-9525-809066fd6e4f',\n",
       " '0e67e6f2-6540-4ca4-ba51-93a521a3ca91',\n",
       " '0e71768e-5846-4c7d-be66-eac257576e07',\n",
       " '0e7193bd-503a-40e1-acc2-c40df757ec15',\n",
       " '0eb72d2f-dbfb-42cb-8cef-f001c93c1b44',\n",
       " '0ebf4e00-2ab2-481e-b9ce-c57e8c3f40df',\n",
       " '0ecec58d-b06c-4fcc-92c0-bb4cbd9c6efb',\n",
       " '0ed14126-5092-4432-9bf4-447cb6972c46',\n",
       " '0ee38e31-ef81-4491-8ff9-ef2cbc50c879',\n",
       " '0ef1ce18-2100-4df2-b388-a60e83c52ad0',\n",
       " '0f0c3231-3fc7-47da-bd85-56863ccef670',\n",
       " '0f19929d-ac9f-4d78-a1e9-64d7e8a0e3fb',\n",
       " '0f1f5f2c-b187-4110-971d-e0d95a4d8a83',\n",
       " '0f255f7b-9805-429a-af15-c3a878529a32',\n",
       " '0f26ec14-e689-45be-b12a-424b1e88f3bf',\n",
       " '0f33838d-e9a5-4feb-bb6a-aae9e9056b11',\n",
       " '0f3c8895-87b1-4c31-a233-537a5777f52f',\n",
       " '0f517d4d-c25d-4fea-9b39-8f50bb8a3f71',\n",
       " '0f562039-f5cb-4227-bf49-f907df089506',\n",
       " '0f59077c-3cf0-48d8-85fd-cae2a5121b46',\n",
       " '0f5cf65c-0607-4c5c-9a3c-2b4bc97039d3',\n",
       " '0f7fa796-bf5d-4cdf-8963-77f2aee9503d',\n",
       " '0f973f5f-7ca4-4a95-bfc7-d472e9b18e48',\n",
       " '0f977e92-3f91-4413-bf6e-ced42d2beb7f',\n",
       " '0f9877eb-6ac9-4658-8e4b-81eacd6cca0b',\n",
       " '0fbb663c-4713-43a2-bbe8-adbfde2c6262',\n",
       " '0fc141b4-d9b1-426c-b9e6-d1732a444b20',\n",
       " '0fc18413-0d48-4715-9726-24730efd7b95',\n",
       " '0fdce1be-3423-4b01-a778-c8109445e886',\n",
       " '0fe4ed50-2a7e-4330-a97f-b15009fcc280',\n",
       " '0fe6d8b3-e6b5-467d-beb5-08f7e799ba57',\n",
       " '0fe9b22d-182f-46d0-b16b-ad7101dd1fd8',\n",
       " '0feafa8d-e4eb-4395-b16c-26d115316f82',\n",
       " '0feba54e-497b-4f37-9f9b-58698d8edcf8',\n",
       " '100b2b69-a668-472b-a86a-f7fb39d614fd',\n",
       " '1020c699-3356-423a-9d24-ca7406f5e818',\n",
       " '10240c1c-82a0-4413-905b-61f1e2b7efac',\n",
       " '1025c69d-bf60-4df4-b460-a13401d69c0d',\n",
       " '102b0ee9-1aa2-4a12-b9ba-9932e96a4511',\n",
       " '103b3006-23e4-4578-9dd7-7f8e6d126788',\n",
       " '1044474f-9476-46fa-8fe6-69c45c1b2b94',\n",
       " '10497f5e-7dbd-4dea-88d6-e341ef355f4e',\n",
       " '1049a492-b792-4fa7-9a91-4e612e7c9cb6',\n",
       " '1074d996-ebda-4e71-a656-2d2bdf0ee39b',\n",
       " '1078b5b6-e5dd-40fc-a690-87d9d1efd46b',\n",
       " '107bee38-d360-415e-b7a1-63e16f06c938',\n",
       " '10a2418f-687b-46d3-b753-a512eecfbba6',\n",
       " '10ca3e9c-d51f-482c-a095-3dde2ac9361d',\n",
       " '10d4f028-95c8-484a-8d56-c0d2ec4278e3',\n",
       " '10f2b32b-2753-40a3-b18e-6ac5406c2e68',\n",
       " '10f89e59-45a1-4048-9d9c-71d2f8054e13',\n",
       " '11142694-3425-4f46-b78d-59e7b5802026',\n",
       " '111eb947-47e2-4b17-86cc-b56d8e053cb5',\n",
       " '1122f398-92cc-4ba7-9c48-188827c17bc1',\n",
       " '113409fc-1ea6-4898-b06e-d6ea2e962cad',\n",
       " '113d1329-f3e9-4ac5-992a-35a8a26899eb',\n",
       " '11471843-2665-4757-a8d1-712fe78273cc',\n",
       " '115825ea-fb1e-4c14-817f-764027feaee3',\n",
       " '115d6e42-12d0-4855-85f3-77de3063ca6f',\n",
       " '11623cd8-243b-4308-933d-b4f88521dc91',\n",
       " '11741974-b390-4c40-8338-95c611231a10',\n",
       " '117f8eeb-591d-4216-b97b-b61766e2d32f',\n",
       " '1191c03a-93b4-4f65-b7d8-93e608669b1e',\n",
       " '11956f35-dd1e-4eae-a198-fb90485260db',\n",
       " '11a5668d-158b-4570-89e4-a7272004bc52',\n",
       " '11a91a61-405e-49c7-8911-da5d935b388c',\n",
       " '11af3334-2eec-4e4f-986a-eaed7f632820',\n",
       " '11bc8750-d94c-4b64-876e-bc3bf743a49c',\n",
       " '11cc9aaf-d725-4845-ab72-c5347d5b4c32',\n",
       " '11d277de-0167-47a6-b501-9f1dd81891b2',\n",
       " '11dbf777-db5a-40e9-811a-c6c5f4f50540',\n",
       " '11df03b7-25ab-4f17-9007-e2e6dc003ec6',\n",
       " '11eecdda-74e8-4a7e-88ba-204225ae48f6',\n",
       " '121e76ca-1739-41ee-9de3-0122158fd459',\n",
       " '121fafc2-ea0f-43bb-8bf6-2ca770680e9e',\n",
       " '122aab64-0d4e-4b5d-94e0-3ebec823ea09',\n",
       " '1232bc4e-29fc-4616-af38-115995d28d23',\n",
       " '1233ad33-a36d-4440-8002-7ae4a8f52715',\n",
       " '127ea0c4-b29d-4b99-b42f-ea411de5565b',\n",
       " '1283d3f4-0f19-4489-9919-0c806bdc1ae9',\n",
       " '12b027b3-f13f-4f1c-bc74-bee9a8dd43bf',\n",
       " '12c64229-d9f3-4a6f-861f-36fa2547571c',\n",
       " '12df4656-daba-4c72-b587-04a7824e40c5',\n",
       " '12ea8a71-d086-4061-95b4-2b0f0fb9a9eb',\n",
       " '12eb22d9-6146-458f-bccb-557e44cdeaa1',\n",
       " '12f632b8-21cc-4766-a830-38049e86c321',\n",
       " '13058fcc-261b-4c44-aa6a-68ae6884e69c',\n",
       " '13154a63-c77a-48e3-ad83-d09a67767d5d',\n",
       " '13220c84-cbde-4d63-84d3-145f3f11a7d6',\n",
       " '1325011c-bc44-4eba-b6a6-350cf710dba3',\n",
       " '132c49eb-9bc9-41c9-ad7a-c84fc62fb7ba',\n",
       " '1334a097-afde-47d8-8307-b6f4a8eafe76',\n",
       " '13460c4b-5fe4-4821-b633-69f9062d754b',\n",
       " '138f09d8-e0d2-469b-8168-3faae3dc9029',\n",
       " '138f31e1-7868-4f84-90ca-54ab1119e4e1',\n",
       " '13abde92-702a-489e-952a-fb8db94dfc60',\n",
       " '13b6bc43-df72-4b22-bee1-917123b8c234',\n",
       " '13bb7f4e-935c-4932-af46-fd7c7ffdfa40',\n",
       " '13bc29bb-038d-4203-a67f-f231e8e04f0e',\n",
       " '13d12cc4-c9fb-44e5-b763-4288af13f1a9',\n",
       " '13d41005-5be7-4f91-b192-4ae4cd4dcedd',\n",
       " '13d86bf4-1221-45c8-9156-81c2adf0aa8a',\n",
       " '13d91c2f-8b78-4c17-89b4-70ecf1d45832',\n",
       " '141c7485-d3e8-4e14-8c88-b5d51a75e0b7',\n",
       " '14299ec7-06b3-4dc5-87e9-b657d8ea3280',\n",
       " '14371f92-5ce2-458c-b5ad-694bb06409bb',\n",
       " '1440b844-e597-497d-9fe0-d725227d5500',\n",
       " '147b8c8e-f8fc-4a28-bec2-ee926f0b576c',\n",
       " '1492d5bd-56ca-411f-8dd1-7590aa39efc1',\n",
       " '149d5dfe-012d-4d0e-80b1-2e687baa96ca',\n",
       " '14c6d09e-a378-466b-a298-1f5ca1a53af9',\n",
       " '14ce1466-1d74-45d1-a3e6-57ba7d3ee5ee',\n",
       " '14cf81f0-652a-497c-b7ae-d5815fe89639',\n",
       " '14e1072a-1738-4b0e-adc8-73932f968aa0',\n",
       " '14e918c7-3e50-40af-9cbb-7bb914aa2aef',\n",
       " '14eb21a7-c912-4856-99fe-259de2647460',\n",
       " '14faade4-53af-45ab-ac06-510c2ba7eb5c',\n",
       " '150d415f-5cdf-41f0-a5f9-ed74424999c4',\n",
       " '1511f3fc-70fb-48f5-a0f5-8c771168028d',\n",
       " '153a0f42-fad4-4ae5-b263-92158f9de544',\n",
       " '154c88ae-3ee4-40c6-9bb5-6f8f144cf876',\n",
       " '1555eed0-a779-4b00-a913-44582e6dd085',\n",
       " '1578d081-5f3a-4bee-934b-ec4f2ef4dd64',\n",
       " '1579ef3a-be51-4fac-b0ee-3275230815be',\n",
       " '1588b539-ff43-483b-a407-d635ce698fea',\n",
       " '15a6e0ee-9e64-4c3e-a91c-3c681235337c',\n",
       " '15b9ada0-b41d-4de0-9c6e-b99957da704d',\n",
       " '15bbe6ec-21e7-41b2-993b-95dc00bbb76e',\n",
       " '15c90e3d-4c90-4059-a67d-d71173e61699',\n",
       " '15d4959a-e94d-4165-b8f9-789b9211097d',\n",
       " '15dc594c-8a4d-4940-a0a1-70b13c994eba',\n",
       " '1603629a-8392-46ef-be00-f1095ce4f86a',\n",
       " '160ee66b-53fd-43fd-8c67-2e795853aeeb',\n",
       " '1615eed9-1902-4f3a-92a8-9bd5692214c1',\n",
       " '162bf61d-83ad-49f0-9dad-086c911dff6f',\n",
       " '1635687f-34f1-47db-81f3-6b8cd1b13c8d',\n",
       " '1639b70f-8733-4a16-8040-80bbd75eb038',\n",
       " '163c5a6a-dc42-4713-aa69-5d3888586180',\n",
       " '16426e81-0cdd-4d30-8ca0-85565e23d37f',\n",
       " '1649cbda-24b6-4e86-94ca-539f845eaa1e',\n",
       " '165b556c-a6b3-4ed5-877d-8ce44c5b5041',\n",
       " '1664956c-2fce-4635-8246-2d12e5f1d93b',\n",
       " '16862126-1f8f-4b9a-b42d-7fcb8803b086',\n",
       " '16914c6a-7ff9-42e8-8e9f-c63dc0e29574',\n",
       " '16a2d24e-3625-4624-9a67-ca8181b15163',\n",
       " '16a674d8-50a4-4693-9be9-9cbd8fcc3998',\n",
       " '16cc80d1-b9d4-423c-8961-558a52a4302d',\n",
       " '16cfa748-6de2-4c92-b71b-5bf9ffbeacf7',\n",
       " '16d3364f-0045-4d87-910a-6b061a2c751b',\n",
       " '16e18e4a-2cda-4a97-9618-0b4d353f267f',\n",
       " '16edc413-dcad-463a-a10d-f76761ec5afa',\n",
       " '16f45417-e7f6-4abf-bb23-c3c32d71912f',\n",
       " '171730f2-956c-4be6-ac45-a6dc49c86345',\n",
       " '172fa811-64d5-40d7-b210-9b94c2f7ff6b',\n",
       " '17390f27-6e04-4315-bf83-2e8b8bd4d6a5',\n",
       " '177640d9-b1d4-4032-8c64-68b710bba48b',\n",
       " '177e0606-0abf-43f7-a7b4-98296581bbd2',\n",
       " '1780510f-6fde-4abf-ab78-a1ced372d57e',\n",
       " '17b8ef36-bdb8-4188-bc9e-beadd4082598',\n",
       " '17c393a4-7a26-44aa-8090-1e579123837f',\n",
       " '17e08471-b746-426a-be90-73de7d15d44f',\n",
       " '17fbc389-dfec-4d44-bcc1-5d72f19eb3d7',\n",
       " '180bc343-9c91-463b-8d63-ab66f20a89f4',\n",
       " '18201fb7-5ec9-430c-96b2-aada101bf25e',\n",
       " '182123ff-a92a-4c59-99b3-c5ef144afccc',\n",
       " '1822857a-d15f-4f10-98a4-2d916e111ea2',\n",
       " '1859aca8-c236-4c4b-9cab-f2c0c5091d7b',\n",
       " '1859d745-ee77-40b9-be25-641cd026f588',\n",
       " '185d68fc-ca9b-4476-bffa-0a36aab12a5b',\n",
       " '185dc6d7-30ef-4e08-a7a1-90e6ade0dd3c',\n",
       " '188f8e13-fbec-4518-95a9-680418747882',\n",
       " '18aa9e11-dfed-4643-be54-fce56ba9db97',\n",
       " '18af9cc0-8e43-44c4-9225-a473354d7cbe',\n",
       " '18bc8616-77f6-4b04-ab64-66eede2d02f5',\n",
       " '18cdac50-2e4a-468c-ad77-f86bc67e985d',\n",
       " '18d321cd-eda0-4ca1-a6a8-992559a72899',\n",
       " '18db7a58-328c-4441-9334-1f23a5d6070f',\n",
       " '18fc6a86-00e7-4f3e-96da-bdb6d550415c',\n",
       " '1904696c-c35f-4ba6-89f7-10fd21f606ca',\n",
       " '1905997b-5c11-4bba-be68-b340cb08374d',\n",
       " '19250a11-b102-479d-bff0-3f507eb224b3',\n",
       " '192621fd-f142-4c8d-b561-ee37a5102010',\n",
       " '192888a9-6498-4442-ac76-25bf599bb8dd',\n",
       " '192d6f6d-d417-4628-8504-442698f81bb6',\n",
       " '192df723-53be-416b-88da-c64043487f62',\n",
       " '193567ce-50a8-49a2-a4bd-ba3bd1a8f9a6',\n",
       " '19382ef7-6742-45ce-a0cd-8987185ae18a',\n",
       " '19407e57-b7bd-492e-ad72-ea49d3247234',\n",
       " '19638b5b-1973-4d1d-a759-b73c3188c709',\n",
       " '1966ead9-079e-4cbc-827c-ab70fbed8b42',\n",
       " '196bf344-77ea-4e91-a2d3-7437f80ea52c',\n",
       " '196fbf17-dbe5-4db9-a7c5-4112a14041eb',\n",
       " '198a6896-91da-4b70-b716-5d448b56a655',\n",
       " '19a7c7b6-fbe5-470a-8075-a7578b61a106',\n",
       " '19b81b20-8dc1-43cf-8562-15f78540df0c',\n",
       " '19d60520-a7c8-43d4-96c3-820929257d6d',\n",
       " '19da5945-9764-48a9-b01a-1a55755d0eb5',\n",
       " '19db1945-ba20-454e-b006-a31ec2cca059',\n",
       " '19ed2db4-dca6-494a-bca2-a8c60940900f',\n",
       " '19f896b8-015b-4a61-8f10-4958b6ba5f23',\n",
       " '1a03dce8-006d-438f-a335-f3682f68af06',\n",
       " '1a0bc2fa-202d-4968-8695-706fe595b256',\n",
       " '1a1c8bc0-589e-4e88-bc13-cf8717603d43',\n",
       " '1a29fa65-73ac-48af-94bb-5c86a911a861',\n",
       " '1a3d7eb8-e038-442f-9724-ff242d74ba88',\n",
       " '1a458a91-e674-4eb6-824d-2cd9c4595d49',\n",
       " '1a5e9d92-c013-44b9-afb0-d97d187c7c49',\n",
       " '1a71d92d-80a1-4cc5-a794-93e4666dad03',\n",
       " '1a758538-40ae-4191-ae91-2bf13ca331ed',\n",
       " '1a96f47d-33e9-4385-8f66-1fc031b44cb1',\n",
       " '1aa92188-9b2c-4ab2-b25b-79d66179066a',\n",
       " '1aae211c-88e4-4c99-a379-842eb48d0643',\n",
       " '1ab625e4-d470-4312-8cf1-2020c1cc2af8',\n",
       " '1ac2c1e1-a418-4f1c-8d4e-5c39ac500e2a',\n",
       " '1ac3c58c-b5e3-478c-892c-3e8f15682bff',\n",
       " '1ac6e1ae-0f3f-4a50-90cf-1793e254da33',\n",
       " '1ac852d0-1026-422a-ae62-a02d5c58f6a5',\n",
       " '1ad1ac21-97dc-4d9a-ad33-a044fb453d36',\n",
       " '1ae5411d-2d8f-4a9c-94b5-8e8c45d85eb6',\n",
       " '1ae5c3be-0463-4ad2-93a6-1169c58f0aee',\n",
       " '1ae83d62-e35e-4e7b-b48c-01fd1e7c7b8a',\n",
       " '1aea6ea5-b4ee-4d4e-8b17-fe00054dafa4',\n",
       " '1af85a03-122f-4851-8dcc-fa55bb2fb503',\n",
       " '1aff5460-c5aa-4f88-a3de-b8d3c6e11f13',\n",
       " '1b1e4f05-7c67-449e-a2dd-dec0cf74a796',\n",
       " '1b2b870a-ac42-495e-a650-917e4d4d8422',\n",
       " '1b3ed09c-19b6-4f90-af2f-1440714cbf36',\n",
       " '1b583b45-7400-4456-b6c3-8e8842f3d5b0',\n",
       " '1b73ed2f-dfb8-42e7-af3d-cac795ea4acd',\n",
       " '1b776cc2-e8cc-451f-85e8-99b7973d1bd5',\n",
       " '1b82c618-77e9-479c-8bde-8b9baf06c53d',\n",
       " '1ba88239-c0de-4c59-9110-132568075f09',\n",
       " '1bd37421-acea-413a-baf5-ee9042a9642f',\n",
       " '1bf68814-54e5-4137-8606-e6b0be11a1f1',\n",
       " '1c133cd0-8660-4bf6-8523-ff655487c80c',\n",
       " '1c31b107-7c7a-4904-8fa9-4da0c0ff5764',\n",
       " '1c3d785b-2f64-4cd7-90f0-d572f42968fe',\n",
       " '1c472a67-3aac-43f1-994f-4afbbb564918',\n",
       " '1c4c50ca-f962-4aff-9194-67e6d20758a4',\n",
       " '1c523572-3b8d-4535-8c12-7b11c954fff0',\n",
       " '1c6731da-8717-42ed-b6ea-3caeb25e6925',\n",
       " '1c7b6d45-8b35-4279-9427-b7bf09c61fde',\n",
       " '1ca13590-812b-47f9-be76-66d2f43543cb',\n",
       " '1cbcf788-1c1c-4025-adae-2b9f8133a308',\n",
       " '1ce1955f-f941-46f0-aeb1-45ae4f0cc074',\n",
       " '1ce8fcd1-0b3c-42b4-8087-e1cf4f58fd69',\n",
       " '1ce99a11-6c47-4e78-aab9-0f48a2f48d40',\n",
       " '1cf7c488-e09c-422c-bd45-2a4f605d3d12',\n",
       " '1d083bfe-d54c-4ba6-b2f2-416ea16da4d8',\n",
       " '1d0f5945-74f6-4f14-9c2e-fbea4d15c904',\n",
       " '1d1ab7f7-d767-4df7-9a3c-f8eb93380cd9',\n",
       " '1d1e1281-f028-4b69-b6be-66901d00509d',\n",
       " '1d39a9c9-97f6-4627-9e09-79ca3e447b0b',\n",
       " '1d417388-7a09-479c-8d51-5626fc89da58',\n",
       " '1d47d299-7483-4259-bf20-3ee7cb124e6c',\n",
       " '1d4cff78-1c7b-4341-bd96-d2973e0e4564',\n",
       " '1d53d634-838e-4825-940a-ee96b404a718',\n",
       " '1d589a01-46f6-44c1-bea8-7a4dc5a7accd',\n",
       " '1d677da1-b2c0-4b21-af00-db6b1f307b25',\n",
       " '1d6aabe0-eb52-4974-ae17-e3ee6a460f1c',\n",
       " '1d7185e3-a209-4d13-864e-b4e3be5f568f',\n",
       " '1d86f7d5-9663-44d6-a0f9-856a36d90809',\n",
       " '1d8903c1-b68c-4d1c-99af-a4f1573a4fcd',\n",
       " '1d92c696-7873-4bb9-940d-01905d8dc0d0',\n",
       " '1dab5628-aa39-4d6c-a303-c45cacf1ba27',\n",
       " '1df5e462-1a92-4368-9170-0953f7d9bc62',\n",
       " '1dfc4d90-9e6f-4299-a301-9f7517011656',\n",
       " '1e012f64-81ff-4c49-807a-790e6c893f3e',\n",
       " '1e171ed3-7713-4c72-a48f-3d57d46919b1',\n",
       " '1e2db79f-5261-4e9a-b8f7-a949129e7db7',\n",
       " '1e39086e-6d21-4fb8-a091-4eba92aa8462',\n",
       " '1ea65acf-834e-48e8-a06c-429d46a87ced',\n",
       " '1eaaad44-11a3-459e-bfa1-efec24c1229a',\n",
       " '1eb234f9-6820-47af-8575-9d45f6038a3c',\n",
       " '1ebf922b-2249-4d7e-8121-1d2b62eadae5',\n",
       " '1ec6f8e3-9a5c-4e90-8166-ebd6393ea521',\n",
       " '1ecb23d6-fc0d-48f6-b0fa-48ccf790c9fa',\n",
       " '1eecd30a-5ddc-40de-a000-0477ec281b05',\n",
       " '1ef3037c-c8e0-44b0-a4e7-6010699bdc34',\n",
       " '1ef906a5-2e9a-4947-9c59-ad8b8362702d',\n",
       " '1f0ab9e2-1aff-40c2-885e-7dbb71519f0e',\n",
       " '1f251b77-bd44-47e1-bbc6-29a937169f3c',\n",
       " '1f28e56b-8e72-4919-af7a-7d0741fde2db',\n",
       " '1f2f90ab-5da9-4f74-9200-5ddc000fc60d',\n",
       " '1f34b868-3597-4be8-85d2-601dc0c9f8a5',\n",
       " '1f46b3fa-605d-414d-a7bc-9dbff7962134',\n",
       " '1f5fa48a-cf27-41ff-a63e-fee0b6495d17',\n",
       " '1f612093-19b6-479f-a325-bbc390d336e5',\n",
       " '1fc1081b-8843-4b84-9502-e7f7f26ca5b7',\n",
       " '1fc6803b-9533-4664-9613-b6ef3e1751e4',\n",
       " '20025ff6-9adb-4ce7-8fb6-ac1c1e95aa4b',\n",
       " '2010024c-e646-402f-aa7d-1667da36ca84',\n",
       " '201ab858-eeee-4212-9fba-38ae09bfbf90',\n",
       " '2026a4f8-e315-4012-971b-5bdcfba67b25',\n",
       " '2028e89d-71b0-4448-8ac0-53e78c7bc163',\n",
       " '202c7182-63eb-47b5-97f0-b6e024a34821',\n",
       " '203a8db3-97d8-4988-ad06-b584f2463698',\n",
       " '206ba030-131e-4f28-8f76-e75084c25620',\n",
       " '2078210d-3f97-4af2-a7fa-8d4f91af2fd3',\n",
       " '208412a0-81d9-4571-8a25-1247ece7b65d',\n",
       " '208aca20-7ea9-463e-b33e-22ceac525dbe',\n",
       " '2093d54b-6720-4bd3-beab-7ff5a380abb5',\n",
       " '209ec5e2-a752-41c1-97b8-b708256b5dfd',\n",
       " '20a070bd-4323-4f5d-bb07-2330faa45cbb',\n",
       " '20a5d94c-8cd2-4b23-934d-09f26d55e4b1',\n",
       " '20a87435-c138-43b8-9ce6-a80ccaad45ca',\n",
       " '20bb7941-3d0d-4996-81b4-3fe56e10ad0e',\n",
       " '20bc9d79-10c4-4f2d-862e-4a6dece3b4ec',\n",
       " '20d7a20c-b173-4ae9-a017-2728c532010b',\n",
       " '20d9f4f0-40c8-4bd6-af22-8a87ed23bffe',\n",
       " '2129dc64-062d-4056-91bc-d480eb394d9e',\n",
       " '213760ce-710c-41bf-994f-a2823d09d1af',\n",
       " '21456d01-4dae-48c2-a3bb-f9fffa3ffcd3',\n",
       " '2173727f-875a-40c4-b5e1-f5185e1032cd',\n",
       " '21b13d06-44d6-48cf-a4c0-2e61552145de',\n",
       " '21c6ff98-cb0d-430f-9e2f-d8286ea8213f',\n",
       " '21d1fbe2-ed1b-4f5e-b0c3-c704dcc4d29c',\n",
       " '21e0d8e1-5f14-477b-9942-79e328e9b5c2',\n",
       " '21f800a6-5e74-4767-8f86-1e4f4428d2c7',\n",
       " '22003efc-cb0a-4dff-acfd-cdeca886143d',\n",
       " '2204018e-8f06-4eb5-831d-63249d3266cb',\n",
       " '2204ae7f-892b-494d-bd58-28816ff35eb5',\n",
       " '220bb40d-e5f5-4988-8f1a-70cb3cbf5cd6',\n",
       " '221509d0-52b8-4e45-b63c-9d2a238730d6',\n",
       " '2217d392-4762-416c-a6af-5b9a05da22cf',\n",
       " '22222eeb-6a17-4974-a8d9-1821ac67d08a',\n",
       " '2227e5b0-bfa3-44aa-bf32-efa677f97f64',\n",
       " '223ed764-b443-417a-987b-950767b41004',\n",
       " '224a1603-9db4-4c09-b78d-76c49b246194',\n",
       " '225b0b19-1634-45f3-9e12-f2119ac05cd2',\n",
       " '22676409-438c-4638-a811-66d977d2fad0',\n",
       " '226cd37d-493c-4364-b07c-74aa3ad0b167',\n",
       " '22872ac9-b564-4321-a840-c917a75ffecc',\n",
       " '22b2aade-2741-4cd7-aafa-8da404e7b730',\n",
       " '22c41da4-c306-471a-9e78-e489a091c38e',\n",
       " '22cce310-fe10-41a2-941b-9c3d63327fea',\n",
       " '22e5ad8b-5f22-482b-ac55-67b542002fde',\n",
       " '22eda1b3-1c3f-405b-abab-7d2e1867eb07',\n",
       " '22fb34ff-45b8-4b50-b4cb-eedfec986ce2',\n",
       " '231340d0-b258-4ac1-b5f3-bc2988d0ad1f',\n",
       " '231b35af-4caa-4ab2-a6cd-0b9792b9b685',\n",
       " '23216bb0-0753-49bd-95dc-cb7772378ad0',\n",
       " '232b706d-6c7d-4de7-b95c-1ba8ad7c0748',\n",
       " '2346f1e4-25d8-410a-a87c-ab27f6899b09',\n",
       " '234dd361-5e0f-4732-b036-ff1d48fb9919',\n",
       " '235996da-9b94-4932-abe7-07e0c1ad3401',\n",
       " '2368e58f-e7e2-4732-a016-4b69f9f99242',\n",
       " '236a47e0-1893-4db8-a2a9-c9e9d8ab25d3',\n",
       " '23847daa-4acb-4f09-b338-83270c5b300d',\n",
       " '2387c957-34d8-4cf3-9c56-191820ed2006',\n",
       " '23a174de-2715-4828-94b1-8e318ed7abad',\n",
       " '23a18799-5f76-4102-a32f-7b11ad461c5b',\n",
       " '23a8d87f-4c89-466c-9037-5d2ded7c1318',\n",
       " '23afd857-c3d8-442b-9d7f-f95e5e3ba65e',\n",
       " '23b85303-c448-46d0-af0a-bb48b588b8d7',\n",
       " '23c74644-f415-4ba9-867e-c84533c403fb',\n",
       " '23dd4dcd-1878-4be8-9590-067fa8646820',\n",
       " '23e6f0a8-6b7a-4310-84e6-9631e0805159',\n",
       " '240ab513-3470-4b30-9ca0-820d5b53cc67',\n",
       " '241b49b6-2d5b-4455-9a42-a60a8ab742f1',\n",
       " '242aec11-8272-40ea-9adf-d3d280fe499a',\n",
       " '244dac2c-3571-446b-8259-0b363f2fd858',\n",
       " '2459ad13-f029-419b-90ef-6a57d9eee69f',\n",
       " '245f3aa0-8b33-4ae4-b34b-2d926c8b24bb',\n",
       " '246e5263-70ee-4dd0-92ea-7dd4d6e15640',\n",
       " '246e83d1-49cf-4d65-8f6d-fb5139742377',\n",
       " '24773c3c-c5b4-423f-a2a3-741aca2e2afd',\n",
       " '247844de-1094-4a4d-bae7-9a1fa98e9419',\n",
       " '248f4f32-30e3-4aa2-b9af-41364038598c',\n",
       " '24ab85c2-de84-47af-abb3-02b6a5adc388',\n",
       " '24b10401-3f02-4166-9ac8-ab6c14336255',\n",
       " '24b426df-ff1e-46e1-93a1-8a4659ec4e7d',\n",
       " '24bd7a5b-0207-4a49-8fbf-162621720eb2',\n",
       " '24c04d91-990c-4c35-9bf0-b8417304e0be',\n",
       " '24cfc410-1c60-429e-879f-2bb2ba526756',\n",
       " '24ded4ee-c033-40bd-ad32-4dbf5d69bfbf',\n",
       " '24e769d7-801d-4940-9095-c1f8dfdf7b51',\n",
       " '24eeb857-9798-4c9c-bdef-44349eba8218',\n",
       " '24fd3052-7a9e-4ceb-84da-ab0acfb8c515',\n",
       " '24fdaf2d-6125-46f0-a41d-c2ad0a8210e8',\n",
       " '2509b5f1-6b6f-478d-aee7-b849ceb5a465',\n",
       " '25112983-5ed5-4719-8a6c-ef77b99dbd46',\n",
       " '25244223-ca9f-4deb-a280-d5663c4661ce',\n",
       " '252ff76f-5d87-4913-8349-948e8478072a',\n",
       " '25370f42-5c84-470c-b526-187f8a6ea0f2',\n",
       " '25452592-f113-4b28-b837-3e3400feb7d6',\n",
       " '2546e59c-6b3c-459b-95ba-047b8d2ab176',\n",
       " '257480f9-5b71-440f-8b20-a1dc430515bc',\n",
       " '259bfccf-a051-49ec-a830-ef54afdf60a5',\n",
       " '25a61659-6241-40e5-bbf6-c8a0d0ba1dd4',\n",
       " '25c92e20-4fd7-4674-b159-ad6a8eebf106',\n",
       " '25d30229-af19-40eb-bf9e-3d8bbe78ced5',\n",
       " '25f7a076-4460-4270-a638-16addb6a0811',\n",
       " '260b38a5-4cee-4337-9c81-a88ce51a24c2',\n",
       " '26115680-ab35-4ece-990c-ccf26e5dc660',\n",
       " '2615e1a8-db49-426b-b597-10ba7538ac72',\n",
       " '262f5d2f-66aa-41bb-acd5-d14433f9d140',\n",
       " '26371327-347c-4b8e-8278-13925cae14d8',\n",
       " '263b3997-54db-4d68-9c1b-d32ccc17f502',\n",
       " '267cfa57-9ab4-4586-90df-2609404c8b63',\n",
       " '26825562-1fdf-4627-91ee-7f18b1aa1539',\n",
       " '269af164-d020-4357-9cf1-90efc322dd6c',\n",
       " '269e2ef2-9b26-4259-a706-962d87fe7bbb',\n",
       " '26bb6bcd-da7e-44d9-898f-6ab75ade65ed',\n",
       " '26f23794-90c3-46b7-9bd8-7e33d4a3e921',\n",
       " '26f89e70-b347-471a-86c0-fe6ae3f8f9ef',\n",
       " '26f9b5b3-6e0c-4688-929f-586c47a3cd63',\n",
       " '2704c09e-f62f-4111-81ca-df5a6d88139b',\n",
       " '27068225-f2ac-46f9-aba1-bbf9939c5416',\n",
       " '27091d58-18f2-4cd7-9cc2-eb0973a99930',\n",
       " '271af0f0-b6fb-4ef8-b00a-fb131a1522a7',\n",
       " '2720e2b6-daf8-4af8-bfd7-ae2fce6c671a',\n",
       " '272350d0-ee48-45d7-b19d-55dc08dad6d6',\n",
       " '2724455a-cff0-444c-b19a-5d027660ab63',\n",
       " '272c2b09-53e6-4199-9de6-1eff20f6779d',\n",
       " '2773bee7-e2d4-47b7-b893-f72be053ca92',\n",
       " '278df057-7003-404e-97b8-b7d1e365266f',\n",
       " '27ad3192-a81e-4bec-bac6-68e01eb7982e',\n",
       " '27b67ef1-49ab-48f0-8910-d73b1c7d6d3c',\n",
       " '27d80508-1cd8-432f-a3dd-f6546f707dbe',\n",
       " '27effca9-efae-43de-910f-2c1e56c9bb7a',\n",
       " '27f4ed6d-bf3f-4020-9f7c-4bb7ab8bf6cb',\n",
       " '2807e001-0980-4a99-91d1-01b7aa3bb39d',\n",
       " '28358080-98d3-4a4e-8907-f2b929b51056',\n",
       " '285283cf-e1db-41b1-86f7-934f8e229b95',\n",
       " '286f8a9a-494e-4245-be83-44f1c194bc83',\n",
       " '287e4aeb-ca61-4932-b66c-418edab3e38d',\n",
       " '287f9068-a042-454b-88d2-2d47c715647c',\n",
       " '2886f6b0-ec37-4652-a163-95b653e9f257',\n",
       " '288c2712-4590-4c5c-90b5-47083f0b57e2',\n",
       " '289d7ebf-f2ee-4ea6-84ac-47fc75260bf7',\n",
       " '28a3cf54-fe7d-40eb-badd-095a5f399503',\n",
       " '28d15f34-d1f2-4d25-b632-f74f6e7e917d',\n",
       " '28d9047e-c352-4a13-affc-b14f718676e9',\n",
       " '28e4a478-b142-4897-b288-f625797a0936',\n",
       " '28f65ac5-c58c-4409-a07f-82cae6725ad0',\n",
       " '29061571-522b-4ea1-99fa-8acc4b34d940',\n",
       " '290a669f-6256-4197-9eb5-bdc65d99774c',\n",
       " '2915a646-83a7-4054-bc46-217092872957',\n",
       " '291e5040-09ec-4a69-a23f-dce357564524',\n",
       " '292d5fb4-4b37-488a-a194-5235df6a6ee3',\n",
       " '29370181-ac58-494d-b653-8ed075f66586',\n",
       " '29391e6b-1e49-43f9-91c6-aecfe459011b',\n",
       " '2954329f-af1d-4336-8919-6274e84c95cf',\n",
       " '297d0a3b-e9cd-41f7-ab09-4bdd7c3e3d67',\n",
       " '297d83bb-328a-4201-a5ac-10c32e4880ae',\n",
       " '29953e1a-372d-4f97-b900-51030e177164',\n",
       " '29a43d8d-83e0-45d9-b18b-6092d37bed5e',\n",
       " '29b11561-0469-476d-9ff0-9ab6f67710df',\n",
       " '29c03110-2cf0-434b-afde-f09883ee414b',\n",
       " '29cdcb9a-131a-41aa-8419-328771145ab6',\n",
       " '29e150a9-a275-4d92-97f4-4735295de13c',\n",
       " '29e2058d-c1ed-48b8-9e43-66c600365075',\n",
       " '29f3dcfc-111e-47a7-a6cc-030351efe025',\n",
       " '29fa5ece-4f4b-431a-ae62-a4bf5d0a61bb',\n",
       " '2a0014e2-bf52-4ac0-b71a-60bd9fd30f5f',\n",
       " '2a145d2e-7c31-42cb-8b74-2665190deaa8',\n",
       " '2a1f7686-7ed2-4e3c-a7c6-aee25ecb7c2e',\n",
       " '2a1fa3be-f183-4d64-aed4-474166eb167a',\n",
       " '2a29d41e-39e7-42cd-8861-86c0b80477ec',\n",
       " '2a2b1e6f-0d2d-40d7-ad8d-48dc3033025f',\n",
       " '2a31886b-11b1-47fb-919d-fc8d3d87dec1',\n",
       " '2a4f4d65-b66e-40f0-b35a-ff8e285fdb78',\n",
       " '2a755b4b-03ab-4301-9d36-090e46bdf433',\n",
       " '2a980e6b-7c6f-4620-84f1-3c43dacbecf3',\n",
       " '2aa7e65d-5798-48e6-b7a6-8b5ebd389bc7',\n",
       " '2aad3ec4-1e64-44e0-adca-786fb87290a2',\n",
       " '2ab1cc5a-413a-408e-ba76-01de8e12bead',\n",
       " '2ac77bd6-2659-4652-b902-ae6a8d48bcc9',\n",
       " '2ad771f2-a2aa-4a1b-ad7b-86bdc99e5524',\n",
       " '2aef4ab0-9191-4aa7-9cd7-3a5162803e86',\n",
       " '2b0fc4bb-3405-446e-979a-41ee4fadd909',\n",
       " '2b21b4c7-5a35-45ce-aa3e-eb08917851a7',\n",
       " '2b2d4f95-7b62-4660-ba6d-766a77f353fc',\n",
       " '2b63d454-959d-4f54-b93c-26d32cd4c1ac',\n",
       " '2b87f92f-3ec0-48c1-8b1c-f8e1422801c1',\n",
       " '2b9433c0-9b86-47bf-af71-df78cde1b563',\n",
       " '2b9b351b-6cd1-4f7e-9683-3de40c816041',\n",
       " '2bacb67f-6803-4c83-a49a-478b834d648e',\n",
       " '2baef8f3-1135-47b9-91ad-41f52aca6437',\n",
       " '2bb062dc-b92b-4b06-b51a-cfed4343d593',\n",
       " '2bbc4708-baad-4ace-896e-d4224723324b',\n",
       " '2bc34d40-e7eb-4c2c-84a5-de032ae25245',\n",
       " '2bd22ade-dcf3-4b6f-ab98-3f8e35214a8f',\n",
       " '2bdc2831-573a-41be-beff-523dfea4ae87',\n",
       " '2be04e68-bbc4-4af2-a424-5345e61ee6ee',\n",
       " '2bea062b-287d-4fa6-8903-494dafaee86e',\n",
       " '2bed464d-148b-4cfe-9de0-35ddf1beff4b',\n",
       " '2bed8c47-ba9c-439d-bb5e-65100dfed04f',\n",
       " '2bf320f4-a420-44d4-ba4c-dbf0d134dd73',\n",
       " '2bfddd9d-7ffb-4762-a811-75c17660e280',\n",
       " '2c0aacd8-bc12-4bce-8d44-835afaba0231',\n",
       " '2c3e3d45-1d49-45ca-8bc2-03e6a1fbb578',\n",
       " '2c4fb0a0-466c-4fc7-b65f-4577939595b3',\n",
       " '2c55716a-ecb6-4edf-bdda-7184f59ab92a',\n",
       " '2c58f0c3-64e7-41dd-82f2-76fb2ec722cf',\n",
       " '2c9c6d6b-141d-4d34-aad8-8e756425dc34',\n",
       " '2cc0a4be-2c78-41b6-a5e1-ac0684467d15',\n",
       " '2ce40f53-cc7f-4c2c-bac9-802bca6f5aa1',\n",
       " '2ce8e4f3-b06d-4281-92ca-a60e2202e119',\n",
       " '2ce9cb2c-85b2-47de-b017-e3c507db2d83',\n",
       " '2cfa0438-83e8-4743-9b58-ad6fa4765556',\n",
       " '2cfbec4f-d6f1-4451-8b0a-ad8bfd9fb964',\n",
       " '2d02d942-720c-4a19-9f4c-1ed933eae875',\n",
       " '2d086ae8-5a86-444b-95fb-393a3d98f567',\n",
       " '2d0d9b42-d986-4a30-b0a8-33406da67470',\n",
       " '2d0f30db-21e3-4f51-8bb8-7f0f77d04774',\n",
       " '2d1b233c-f36d-46bd-9361-c39de58e8ef4',\n",
       " '2d1d9100-e98a-4cb6-bcc0-9b08904b9ca0',\n",
       " '2d1efb79-6fe0-44e8-a64b-3d29231a4050',\n",
       " '2d20e1bc-dd06-4e90-8ba3-58c9f43aae9d',\n",
       " '2d409133-8d27-4e51-88d8-c2d25111028f',\n",
       " '2d475171-6c98-4896-81c9-34f38ccac19c',\n",
       " '2d49fb7b-00b6-4a79-ba35-67f19cda7a1f',\n",
       " '2d5ab497-3bb5-4629-bd9c-06471524ee43',\n",
       " '2d6ae9c7-5400-498d-ad11-1a289b6650d8',\n",
       " '2d79d1fd-5fd9-4c0a-9f9a-2ba5ce7750f6',\n",
       " '2d7ef5a9-6878-4619-951c-0b67b6dc6d0f',\n",
       " '2d92e679-ad7f-4c51-924d-b3450f5a35f7',\n",
       " '2dbafb75-eb93-40b7-baa1-66406d3a1b2b',\n",
       " '2dd4d8df-3340-4b25-b09b-d6dccf643a70',\n",
       " '2dd70787-c9e2-4d3a-8a9c-bfd60f7f31b3',\n",
       " '2df0a736-8f6d-4d75-8e7c-bb877d697c16',\n",
       " '2dfc1d2f-d422-4377-9d40-82b4343f5bcd',\n",
       " '2e097439-fbb5-4247-af57-2fa464553a97',\n",
       " '2e18b9d5-3b8a-4d0d-adab-27c95477155e',\n",
       " '2e334503-eaad-4f7e-ba65-ac69852ca853',\n",
       " '2e3aa682-9399-4ddf-9df3-186efe9f9fbb',\n",
       " '2e3b505e-e991-479f-9c6d-49260212c4f0',\n",
       " '2e4c535a-c2da-4ee4-b38c-7d4540d0a788',\n",
       " '2e5e527b-4b75-4956-bb21-1bf093ec290e',\n",
       " '2e66b9f2-cfad-4f1e-b5e6-87670f483b16',\n",
       " '2e851c9b-6fbc-43b0-aa10-539ccec02427',\n",
       " '2e8d448a-cd01-4ba2-85b0-c89f0487e473',\n",
       " '2eb3c184-df69-44b0-94b2-aa95fe150dd2',\n",
       " '2eba93d4-5447-4897-9cd3-f9396c6b8682',\n",
       " '2ed07ae9-bf24-4cce-a496-1fd9e0477cc2',\n",
       " '2ef256a3-98b3-431d-8838-bcc7d70f93c7',\n",
       " '2efa2770-4c0c-4f53-a6a7-64f385333c83',\n",
       " '2f37f844-a040-4013-8f3c-449976b0fc64',\n",
       " '2f41e1c2-5527-4861-a436-772e37c6e8b5',\n",
       " '2f8be0c7-d55c-4c1e-9140-70d7ddc5946b',\n",
       " '2f93a4b6-3c57-4cdc-aba8-63ccdc46d6cb',\n",
       " '2f955d13-a301-4682-a15a-9a46bae8c6ce',\n",
       " '2f9cf3d9-b1c8-4dca-ad31-3c9b4185df48',\n",
       " '2f9ddefc-d952-4525-935c-51c3fd47066e',\n",
       " '2f9dfcb2-21bf-4aab-8a66-e7dca69956a5',\n",
       " '2fa52e89-c17e-4610-90f3-c4c0af3450ed',\n",
       " '2fd1ee44-e133-4c88-9949-ad0cf5d3031f',\n",
       " '300bcea8-fe35-4695-a5bf-36dab3d181c1',\n",
       " '30342ad9-8003-4aeb-a907-36300e3a78a9',\n",
       " '303846aa-0b73-4916-878f-068b3b2f3944',\n",
       " '303c8ea1-719d-4a78-ab34-69501b0deb38',\n",
       " '30444285-ac37-4c65-9572-3bf9b93a39bf',\n",
       " '30591bd3-2f84-4d8e-9c72-63f8b3d36831',\n",
       " '30607a0f-827d-4324-a04f-2891f32a9cc7',\n",
       " '3082d678-998d-4b5d-820f-0cd6e3527996',\n",
       " '309b7203-4fbd-4df7-90b7-ff62cf34ed8b',\n",
       " '30b1cc92-e1d7-4be4-8a35-0b4c0618df0c',\n",
       " '30b49443-00f3-4a16-b03b-8b73c412d406',\n",
       " '30b6f4eb-9d97-4e88-b2b2-3a2404107e76',\n",
       " '30bc1b71-fc31-48f0-9d60-8b5387b8cd88',\n",
       " '30cd0167-5779-4256-a9f4-4a98ab3ee482',\n",
       " '30d1dbc6-b2ec-49b1-98df-65b5f781abed',\n",
       " '30d90f61-8892-46a4-a0cd-9743a1716a6d',\n",
       " '30e4e3f3-5007-4ff1-acef-39184087d230',\n",
       " '30e8aee8-2b86-4d30-afdf-a3c17eeeb746',\n",
       " '310bae49-1e78-421e-91c6-c967df8cd345',\n",
       " '310d31d7-84d2-480a-92de-a264a0fc5a53',\n",
       " '310e83d2-8053-44ee-8d43-22c4aff2ece7',\n",
       " '312a34a3-1abe-440a-ac36-d737a28ac8f6',\n",
       " '31380ac5-f7e0-4866-833f-02139b9f5552',\n",
       " '314dcd33-b39f-4171-b7ea-c34472387d0e',\n",
       " '3151299d-f2bb-49ba-b7ae-3bdc1ddc3f41',\n",
       " '3152286d-ca34-4c2a-b8a9-24d0a75c4724',\n",
       " '3152e32f-e03a-47a7-a1b0-3eeb4428b00d',\n",
       " '316eca52-0aa0-4775-ad2f-45b28437566a',\n",
       " '316f2c76-cdf4-4096-8380-36196cdcf87c',\n",
       " '317a9259-6cc1-4f97-8db7-3326a7c33bc8',\n",
       " '318f9566-b97a-4209-aad6-26498e8df040',\n",
       " '319662e7-9e45-4b70-8377-ace2b55b61ca',\n",
       " '31c22493-92a3-40a0-a8bc-f3615eb64137',\n",
       " '31cc67a1-55ee-4b7c-8db3-d1568a125e2d',\n",
       " '31d84694-79ca-409c-9de0-bca1070b272d',\n",
       " '31de0dc7-9196-4284-b2d4-51130b7e7d62',\n",
       " '32055e70-2a48-4229-8154-fff318585a75',\n",
       " '320c608c-50f5-45a1-9e29-5968e96158ca',\n",
       " '322f7017-7ba5-45d8-b0a2-b9a0f116ce20',\n",
       " '32434fa5-532c-43cf-91d7-11d042f7a51c',\n",
       " '32572adb-900f-4b5d-a453-1eb1e6d88d8b',\n",
       " '327aeb4c-c1d1-497f-b288-02cf6106d455',\n",
       " '327ece9f-b83b-4ee2-8823-8759712b3cef',\n",
       " '3283fa77-7f39-4276-878a-fa8f67469a9c',\n",
       " '32841b2a-d1a7-447e-af47-25c98f37bc60',\n",
       " '32a2c1d5-cb3e-43f4-a87d-844f2fa8b998',\n",
       " '32add4bc-17dd-424a-b243-4017fdd508c7',\n",
       " '32c21031-6bab-4d39-be49-8db93042e261',\n",
       " '32e2175f-4209-4bd0-a979-6081d1661b3e',\n",
       " '32e9393e-369b-483c-a22c-7ef8ebe9faea',\n",
       " '32e93e10-cb7f-4664-a34a-cfd627d9301e',\n",
       " '330d0315-ceeb-4bf9-abcc-ad4a565a9a36',\n",
       " '330ed082-9b33-4496-9445-84b26aab16fb',\n",
       " '33131337-034f-4b76-8895-a89d05e6a129',\n",
       " '333ce74c-d83a-44ad-a9f8-8c6064adefbe',\n",
       " '337f7d54-b9fc-4283-99bf-426d732011f8',\n",
       " '33952bff-7ab2-44e3-9735-7f7d7685879d',\n",
       " '33a5038d-e99c-4edb-b99f-dc9bf2956357',\n",
       " '33afdee1-3c99-44ae-a0fc-61130e3201a4',\n",
       " '33b0145d-f12f-4e07-a442-02549d2560ad',\n",
       " '33f2ba9d-80a6-40e9-b400-124017ec261b',\n",
       " '3401c678-c79c-4dda-9570-8b2761995bea',\n",
       " '3419a233-66c2-4b11-91fe-edc64a9f59db',\n",
       " '341bb5bf-2ac7-4315-9df8-55df43f2641b',\n",
       " '341f8abb-6626-42a6-87c3-f079ea5d4fab',\n",
       " '342a3875-546c-49c3-b8ae-168b779c79d8',\n",
       " '344a0bff-c4cf-4ac0-a08a-e000913c9e85',\n",
       " '3456a042-9668-4ae3-a6af-30b066c0c988',\n",
       " '34a74f4b-55ca-4660-ad17-f6b719f423b2',\n",
       " '34a761d5-4af3-48dc-a9f2-928c806bbbe3',\n",
       " '34a87107-9662-4815-9df4-b2064bc10c76',\n",
       " '34bda816-d4e4-4ae9-b80b-812f3bb9cf76',\n",
       " '34c1d2c5-1fcf-411f-b783-f0b7a051b34f',\n",
       " '34c7d274-5170-4fc0-a2db-50708508360c',\n",
       " '34fb3fef-28a0-4ae8-b9ee-a085bceb4a85',\n",
       " '34fcf625-8b02-41b4-9734-a17e31b4e81e',\n",
       " '35376ca6-e43d-411e-b8fa-a20738ec586a',\n",
       " '353aa12f-f40a-4adc-b41a-a1f481967511',\n",
       " '354e8d30-6179-4299-ba91-b40279810e91',\n",
       " '3556d356-6ac1-4941-bf3f-6429e111ea85',\n",
       " '357fd8e8-b189-4d89-9c09-79893b1c3e08',\n",
       " '3580c20b-0b32-4437-bf05-63466ca8c011',\n",
       " '3587f516-478a-4d9d-8c20-4cf282194aef',\n",
       " '35891c2b-af1d-4e84-8a7b-fa8aee81dddd',\n",
       " '359707e2-92b0-43c1-9245-4617efe8b9d3',\n",
       " '3598a08b-e13c-41d0-a6d9-817e1c2a56ae',\n",
       " '35a26d8c-c952-46f8-a3b5-1b0c17cbcd5b',\n",
       " '35a8bb4d-b99a-418a-9286-3a7351eb1643',\n",
       " '35a8c0ca-4139-470d-9b71-03a3e23ea115',\n",
       " '35afb851-11bd-4496-9fdf-21232ad906c4',\n",
       " '35b9f589-6522-4f2f-89c1-f4936e1d6248',\n",
       " '35bf9296-6361-432f-b092-c26a94b2c6af',\n",
       " '35c4ef99-a397-4f65-be24-6ebc478f8fdb',\n",
       " '35ce10c7-949e-4fae-bde3-c91995f22e44',\n",
       " '35ea684a-7981-4dd6-9788-8f7eb28f17b1',\n",
       " '35f7d269-bec5-4f05-9e87-6f96a87db4c9',\n",
       " '36100240-f15e-4def-8615-970ca117a767',\n",
       " '361f45ba-4121-45e1-bb58-1bfb64e4bc4d',\n",
       " '362c84ff-9e0d-4bfc-a610-7862adbf9052',\n",
       " '3638bb11-d1f0-4d28-b466-453f079f9405',\n",
       " '363f40ec-3731-4c28-84aa-f7a9ecbbe270',\n",
       " '36421d21-b516-4f1e-b89c-faaf346397bf',\n",
       " '3643eccf-167c-40cb-8164-bee2e2b21b00',\n",
       " '36463737-2378-483e-a56a-fca6886d105c',\n",
       " '364fd5cf-c9ed-4e1b-b6e7-fee9f67a9a2c',\n",
       " '366785eb-683c-4c10-a15b-7ea316ae3d19',\n",
       " '368da5fa-835e-40af-b539-3a18582bad29',\n",
       " '36cbcf71-5d75-47d4-af23-42326e6cbf19',\n",
       " '36cf3588-22ad-4bea-85b5-8a3b2d0a2042',\n",
       " '36d8ba0a-1726-48ba-8274-715328acfd22',\n",
       " '36e789cf-3f0c-463e-b9e8-777a4e98fdc7',\n",
       " '370d3405-c89e-461a-9b91-674dc71b3677',\n",
       " '370ec7cf-cc7a-4211-a09f-090f2370c0ca',\n",
       " '37140631-354f-4168-970a-29da6c76ce63',\n",
       " '37269922-f69e-41ed-889a-729f145d3829',\n",
       " '3747d6f3-73f2-43a4-9c5a-df58608a5880',\n",
       " '37551758-8161-4c78-af1f-889612c9908f',\n",
       " '3772f7c5-e00a-4376-a420-28442c850002',\n",
       " '3775718b-c049-491e-b5f9-fcb3f2f16a02',\n",
       " '378e7cd7-eb21-47f6-9ea1-820aa77a734a',\n",
       " '37922e50-a2fe-4c95-81f3-32e0153d28ce',\n",
       " '379e8990-d878-49b0-8652-b1759e34f133',\n",
       " '37aad3b9-0392-4db4-980c-b7a631e5e476',\n",
       " '37e8a8da-a4cb-464e-8709-e332fde33e8e',\n",
       " '381eb7da-99e2-488d-a520-c6011edcddea',\n",
       " '3840bcf9-56a4-4d4b-a1a5-7581fd65a950',\n",
       " '384ee078-a3ea-4faf-aa24-e376c2ea9251',\n",
       " '3852cb2b-4481-4256-aecc-f5bbe57a708c',\n",
       " '38a7d027-052d-4f7f-99b3-13972829b77d',\n",
       " '38b85b7f-43d2-4a91-852b-766205742ade',\n",
       " '38c42308-47d4-40fe-9e1f-74b95f34f9cf',\n",
       " '38c704f6-387f-4cb9-bd3f-fca3b1f1c264',\n",
       " '38c7ba7b-4500-4cf9-b730-366c4e91c553',\n",
       " '38da5380-7422-4308-a0ed-afce64c86053',\n",
       " '38e08ac4-ef45-4eb4-99d2-07b924074da4',\n",
       " '38ef4433-e959-46f8-be77-15485ea24ee8',\n",
       " '391fa6ff-8359-48bb-9bf2-938a8e645c96',\n",
       " '39261774-a314-4246-a152-eb8fd29f84c7',\n",
       " '392cf020-c0d4-4df2-aff0-eaa3c5c187f2',\n",
       " '3935c8f6-d2f2-4baf-9f61-03255f0f221f',\n",
       " '395ca29c-ab1b-40b0-9017-40526ce9dade',\n",
       " '395eddc0-8aa3-41a9-8c76-7e4eb1b8296a',\n",
       " '3973b428-5033-443f-9c0a-5e37a9f9346b',\n",
       " '398824d8-27b7-4f4f-b1aa-dd73300a13ca',\n",
       " '39980c0e-b806-41d0-bc60-e1cca803b68d',\n",
       " '3999fa13-de4e-4aaa-a4a8-827d7112a330',\n",
       " '399f918e-c8ea-4b90-900b-3c5c3f30fb54',\n",
       " '39a633cc-4d39-4cfb-8186-129829118776',\n",
       " '39b00165-0868-48cd-8299-de9f580e8c92',\n",
       " '39c50c9d-dae9-4b55-ba3e-babbf9e731d5',\n",
       " '39e3dcc4-6c10-465d-bcd5-10a23122bd4f',\n",
       " '3a020950-fdca-46f9-93da-d1c992c04ac6',\n",
       " '3a0d99b3-957b-459a-a3ce-6435e315edc9',\n",
       " '3a2890ce-e90c-4c3f-b79a-01d8203a11ba',\n",
       " '3a5dca06-0b2b-46c2-99e4-80b34a31ad57',\n",
       " '3a6292d2-c0a7-4cd4-b778-f0059d518656',\n",
       " '3a67b536-f3ae-4947-82ac-11b7cf34d37a',\n",
       " '3a6d4edd-075a-4a30-ab4f-ab110a42bc97',\n",
       " '3a71b766-6416-4278-a001-854a522dbd73',\n",
       " '3a751388-24fc-484e-8ae4-6b9572326da0',\n",
       " '3a753170-db68-4bca-aa5f-eb0d42e1eb42',\n",
       " '3a9d7033-b4bf-48d3-a08d-315ecc6fd0bc',\n",
       " '3a9fe0de-7e4e-4cc2-ba59-fa602a25dace',\n",
       " '3aa4babc-bf36-4704-9d9c-fa4aa30ec823',\n",
       " '3aa870f8-937c-42a9-b24b-573bde6681af',\n",
       " '3aaa6a3d-c074-4f8b-b0ad-c6f5743249dc',\n",
       " '3acd15f9-a4d7-42a7-9565-77675dc5ff73',\n",
       " '3addde8c-4d3a-4422-817e-92908f03b9e6',\n",
       " '3ae04f9a-33e8-40bc-b4c3-99983c047013',\n",
       " '3ae9c57e-1664-4c01-bfae-213d043d4bec',\n",
       " '3b220293-9a98-40df-8186-a85037cdbff6',\n",
       " '3b536f93-477d-4e87-b7ba-5ee258824406',\n",
       " '3b6c4952-af79-4c77-a0d7-174ca89b9277',\n",
       " '3b6e1b98-1204-4fd7-9711-e433f3e17508',\n",
       " '3b90902a-f365-4475-870c-b200febf70bd',\n",
       " '3b950de3-2aa1-4fd6-8f67-3ad0effe6144',\n",
       " '3bbc94f4-12a1-4b49-8c3a-7f8abf18c323',\n",
       " '3bcdf804-f2d1-403f-9d4e-e686e99986ae',\n",
       " '3bf6d6a1-d7bf-417d-bd8f-9e63eb35afeb',\n",
       " '3c04283f-b9c6-4d17-9fe6-fd655972d7e0',\n",
       " '3c0d99d3-d168-4033-97e6-f5b3390fe80d',\n",
       " '3c15267c-9394-4e48-a628-eff100f69470',\n",
       " '3c263088-7203-4529-a96f-f1ace3474f62',\n",
       " '3c3006ac-2463-4248-9db0-176d7aa12b0f',\n",
       " '3c4cb6f3-ded4-4915-9b94-598c7e1f20f6',\n",
       " '3c57e8a0-1e52-4ef7-bd9c-b4470fd302a1',\n",
       " '3c5a37f3-1ffa-4a8d-ac2f-e956247c4735',\n",
       " '3c67dfea-860b-411d-ad03-f8bc76217673',\n",
       " '3c6ffb95-d4e9-4ed3-8558-24fd193d497f',\n",
       " '3c798fcb-03b5-4844-b3e9-d88c6c0888bd',\n",
       " '3c877ebc-5486-492c-b08b-7e0ab8a3d67a',\n",
       " '3c8ba56b-dd03-47d1-b8f4-0168fca21c6a',\n",
       " '3cc1fd58-827d-44b0-ae61-88974f510949',\n",
       " '3cd54688-c2a5-4559-b20b-4b1ee3b9b94c',\n",
       " '3cd64942-1637-4902-a7c7-ad4ad45b68c8',\n",
       " '3cd9f1fc-5896-46ff-b8ec-cbc9e2b2dc58',\n",
       " '3cef9e87-32e8-4b48-9957-6bd4f1f97394',\n",
       " '3d02f4ce-3b8f-4fdb-a01e-e267850b14e9',\n",
       " '3d0ce512-32cb-4bbc-a664-52d2d980e24c',\n",
       " '3d0dbcce-52cd-42f6-88aa-961f139317b6',\n",
       " '3d0f886c-e6e6-4ed0-8964-776b6faec438',\n",
       " '3d1c72fe-b7f7-4ea1-89c0-3b5fbcdc401a',\n",
       " '3d256879-daa9-418e-9867-55e5078928ad',\n",
       " '3d4ce5cd-e7e9-4865-9907-f8760ac4993a',\n",
       " '3d52d83b-c435-4f86-8b1a-288039d8e010',\n",
       " '3d6657f6-8780-43d4-b817-faae8a0a38fa',\n",
       " '3d937d13-1b19-4066-bc22-c4c5ac4dfa68',\n",
       " '3da27efa-2357-4bc8-98aa-a1202473af90',\n",
       " '3daf883b-ebfc-4d41-a8b1-df783b0c70a7',\n",
       " '3dba7ff6-de23-4e90-ac0d-abb75d90dac2',\n",
       " '3dd8713b-ab82-4428-8978-386ecb43a600',\n",
       " '3dded3b7-4715-422c-963e-c0795b818d33',\n",
       " '3de12883-526d-4e97-a978-cd3949f7e7ea',\n",
       " '3e366b45-e99d-4258-a450-e2610ec01790',\n",
       " '3e7c274e-4494-4e8d-a642-301a686c2a81',\n",
       " '3e9eb769-f569-4c60-9305-f8236af3660e',\n",
       " '3ec2e649-4728-49cd-84f5-5f1429ba2eff',\n",
       " '3ec3c369-c488-4536-beca-9da48bb46ba3',\n",
       " '3ed279d5-dbcd-456b-8073-3e66f8fbe7a9',\n",
       " '3ed7037a-0b28-4b59-80e9-df4d69cac15a',\n",
       " '3edc6733-ea01-4719-8bc9-b689ee50e4c3',\n",
       " '3eefba57-280c-4d2a-bcd9-27cb4f25ac97',\n",
       " '3efdcf68-30ef-48d4-9f89-40dc073adefb',\n",
       " '3f0c3a4a-ce62-4f0f-9211-255f506f1d3e',\n",
       " '3f367013-93f9-4fdb-ae25-d448b4b619f7',\n",
       " ...]"
      ]
     },
     "execution_count": 62,
     "metadata": {},
     "output_type": "execute_result"
    }
   ],
   "source": [
    "game_user_finish_victory"
   ]
  },
  {
   "cell_type": "code",
   "execution_count": 63,
   "id": "abf6c9c0",
   "metadata": {},
   "outputs": [],
   "source": [
    "# игроки с уровнем, завершившие проект pve\n",
    "finished_project = finish_stage.query('user_id in @game_user_finish_project').reset_index(drop=True)\n",
    "# игроки с уровнем, победившие врага pvp\n",
    "finished_win = finish_stage.query('user_id in @game_user_finish_victory').reset_index(drop=True)"
   ]
  },
  {
   "cell_type": "code",
   "execution_count": 64,
   "id": "756abbff",
   "metadata": {},
   "outputs": [
    {
     "name": "stdout",
     "output_type": "stream",
     "text": [
      "13 days 00:00:00 - среднее игровое время пользователей, завершивших 1 уровень через проект.\n",
      "11 days 00:00:00 - среднее игровое время пользователей, завершивших 1 уровень через победу над врагом.\n"
     ]
    }
   ],
   "source": [
    "print(finished_project['lifetime'].median(), '- среднее игровое время пользователей, завершивших 1 уровень через проект.')\n",
    "print(finished_win['lifetime'].median(), '- среднее игровое время пользователей, завершивших 1 уровень через победу над врагом.')\n"
   ]
  },
  {
   "cell_type": "code",
   "execution_count": 65,
   "id": "4bbfafeb",
   "metadata": {},
   "outputs": [
    {
     "data": {
      "image/png": "[encoded data removed]",
      "text/plain": [
       "<Figure size 720x432 with 1 Axes>"
      ]
     },
     "metadata": {
      "needs_background": "light"
     },
     "output_type": "display_data"
    },
    {
     "data": {
      "image/png": "[encoded data removed]",
      "text/plain": [
       "<Figure size 720x432 with 1 Axes>"
      ]
     },
     "metadata": {
      "needs_background": "light"
     },
     "output_type": "display_data"
    }
   ],
   "source": [
    "a = finished_project['lifetime'].dt.days\n",
    "plt.figure(figsize=(10, 6))\n",
    "plt.hist(a,color = 'green', ec = 'black', bins = 20)\n",
    "plt.xlabel('Лайфтайм')\n",
    "plt.title('Среднее время в игре со стратегией выполнения проекта')\n",
    "plt.ylabel('Количество')\n",
    "mean_lifetime = a.mean()\n",
    "plt.axvline(x=mean_lifetime, color='blue', linestyle='-', label='Mean')\n",
    "plt.legend()\n",
    "plt.show()\n",
    "\n",
    "a = finished_win['lifetime'].dt.days\n",
    "plt.figure(figsize=(10, 6))\n",
    "plt.hist(a,color = 'green', ec = 'black', bins = 20)\n",
    "plt.xlabel('Лайфтайм')\n",
    "plt.title('Среднее время в игре со стратегией победы врага')\n",
    "plt.ylabel('Количество')\n",
    "mean_lifetime = a.mean()\n",
    "plt.axvline(x=mean_lifetime, color='blue', linestyle='-', label='Mean')\n",
    "plt.legend()\n",
    "plt.show()"
   ]
  },
  {
   "cell_type": "markdown",
   "id": "2a8fe38b",
   "metadata": {},
   "source": [
    "В среднем, стратегия прохождения первого уровня через победу над врагом, оказалась быстрее в реализации на 2 дня, чем стратегия проекта."
   ]
  },
  {
   "cell_type": "markdown",
   "id": "afc17eed",
   "metadata": {},
   "source": [
    "## 2.3. Анализ доли пользователей завершивших уровень"
   ]
  },
  {
   "cell_type": "code",
   "execution_count": 66,
   "id": "baf75176",
   "metadata": {},
   "outputs": [
    {
     "data": {
      "text/plain": [
       "0       ced7b368-818f-48f6-9461-2346de0892c5\n",
       "1       7ef7fc89-2779-46ea-b328-9e5035b83af5\n",
       "2       70db22b3-c2f4-43bc-94ea-51c8d2904a29\n",
       "3       903fc9ef-ba97-4b12-9d5c-ac8d602fbd8b\n",
       "4       58e077ba-feb1-4556-a5a0-d96bd04efa39\n",
       "                        ...                 \n",
       "5812    22cce310-fe10-41a2-941b-9c3d63327fea\n",
       "5813    d477dde8-7c22-4f23-9c4f-4ec31a1aa4c8\n",
       "5814    515c1952-99aa-4bca-a7ea-d0449eb5385a\n",
       "5815    32572adb-900f-4b5d-a453-1eb1e6d88d8b\n",
       "5816    f21d179f-1c4b-437e-b9c6-ab1976907195\n",
       "Name: user_id, Length: 5817, dtype: object"
      ]
     },
     "execution_count": 66,
     "metadata": {},
     "output_type": "execute_result"
    }
   ],
   "source": [
    "id_finish_level"
   ]
  },
  {
   "cell_type": "code",
   "execution_count": 67,
   "id": "4c09b127",
   "metadata": {},
   "outputs": [],
   "source": [
    "def precent_users(df, df2):\n",
    "    users = df['user_id'].nunique()\n",
    "    users_2 = df2['user_id'].nunique()\n",
    "    precent = users_2 / users\n",
    "    return precent"
   ]
  },
  {
   "cell_type": "code",
   "execution_count": 68,
   "id": "af9f04b2",
   "metadata": {},
   "outputs": [
    {
     "name": "stdout",
     "output_type": "stream",
     "text": [
      "Первый уровень завершили:\n",
      "42.8%\n",
      "Первый уровень не завершили:\n",
      "57.2%\n"
     ]
    }
   ],
   "source": [
    "print('Первый уровень завершили:')\n",
    "print('{:.1%}'.format(precent_users(game_actions, finish_stage)))\n",
    "print('Первый уровень не завершили:')\n",
    "print('{:.1%}'.format(precent_users(game_actions, not_finish_stage)))"
   ]
  },
  {
   "cell_type": "code",
   "execution_count": 69,
   "id": "a2d83ab6",
   "metadata": {},
   "outputs": [
    {
     "data": {
      "image/png": "[encoded data removed]",
      "text/plain": [
       "<Figure size 432x288 with 1 Axes>"
      ]
     },
     "metadata": {},
     "output_type": "display_data"
    }
   ],
   "source": [
    "value1 = precent_users(game_actions, finish_stage)\n",
    "value2 = precent_users(game_actions, not_finish_stage)\n",
    "values = [value1, value2]\n",
    "labels = ['Первый уровень завершили', \"Первый уровень не завершили\"]\n",
    "plt.pie(values, labels=labels, autopct='%1.1f%%')\n",
    "plt.axis('equal')\n",
    "plt.show()"
   ]
  },
  {
   "cell_type": "code",
   "execution_count": 70,
   "id": "e1ce7730",
   "metadata": {},
   "outputs": [
    {
     "data": {
      "text/html": [
       "<div>\n",
       "<style scoped>\n",
       "    .dataframe tbody tr th:only-of-type {\n",
       "        vertical-align: middle;\n",
       "    }\n",
       "\n",
       "    .dataframe tbody tr th {\n",
       "        vertical-align: top;\n",
       "    }\n",
       "\n",
       "    .dataframe thead th {\n",
       "        text-align: right;\n",
       "    }\n",
       "</style>\n",
       "<table border=\"1\" class=\"dataframe\">\n",
       "  <thead>\n",
       "    <tr style=\"text-align: right;\">\n",
       "      <th></th>\n",
       "      <th>event_datetime</th>\n",
       "      <th>event</th>\n",
       "      <th>building_type</th>\n",
       "      <th>user_id</th>\n",
       "      <th>project_type</th>\n",
       "      <th>source</th>\n",
       "      <th>first_event_datetime</th>\n",
       "      <th>last_event_datetime</th>\n",
       "      <th>lifetime</th>\n",
       "    </tr>\n",
       "  </thead>\n",
       "  <tbody>\n",
       "    <tr>\n",
       "      <th>0</th>\n",
       "      <td>2020-05-04 00:00:03</td>\n",
       "      <td>building</td>\n",
       "      <td>assembly_shop</td>\n",
       "      <td>c07b1c10-f477-44dc-81dc-ec82254b1347</td>\n",
       "      <td>NaN</td>\n",
       "      <td>facebook_ads</td>\n",
       "      <td>2020-05-04</td>\n",
       "      <td>2020-05-15</td>\n",
       "      <td>11 days</td>\n",
       "    </tr>\n",
       "    <tr>\n",
       "      <th>1</th>\n",
       "      <td>2020-05-04 00:00:16</td>\n",
       "      <td>building</td>\n",
       "      <td>assembly_shop</td>\n",
       "      <td>6edd42cc-e753-4ff6-a947-2107cd560710</td>\n",
       "      <td>NaN</td>\n",
       "      <td>instagram_new_adverts</td>\n",
       "      <td>2020-05-04</td>\n",
       "      <td>2020-05-16</td>\n",
       "      <td>12 days</td>\n",
       "    </tr>\n",
       "    <tr>\n",
       "      <th>2</th>\n",
       "      <td>2020-05-04 00:00:35</td>\n",
       "      <td>building</td>\n",
       "      <td>assembly_shop</td>\n",
       "      <td>cdc6bb92-0ccb-4490-9866-ef142f09139d</td>\n",
       "      <td>NaN</td>\n",
       "      <td>yandex_direct</td>\n",
       "      <td>2020-05-04</td>\n",
       "      <td>2020-05-11</td>\n",
       "      <td>7 days</td>\n",
       "    </tr>\n",
       "    <tr>\n",
       "      <th>3</th>\n",
       "      <td>2020-05-04 00:00:36</td>\n",
       "      <td>building</td>\n",
       "      <td>assembly_shop</td>\n",
       "      <td>4fe0f101-694b-4e31-9740-d1d87f7208ea</td>\n",
       "      <td>NaN</td>\n",
       "      <td>facebook_ads</td>\n",
       "      <td>2020-05-04</td>\n",
       "      <td>2020-05-16</td>\n",
       "      <td>12 days</td>\n",
       "    </tr>\n",
       "    <tr>\n",
       "      <th>4</th>\n",
       "      <td>2020-05-04 00:00:44</td>\n",
       "      <td>building</td>\n",
       "      <td>assembly_shop</td>\n",
       "      <td>65a92713-5969-48b1-8945-bfefa5063887</td>\n",
       "      <td>NaN</td>\n",
       "      <td>yandex_direct</td>\n",
       "      <td>2020-05-04</td>\n",
       "      <td>2020-05-18</td>\n",
       "      <td>14 days</td>\n",
       "    </tr>\n",
       "    <tr>\n",
       "      <th>...</th>\n",
       "      <td>...</td>\n",
       "      <td>...</td>\n",
       "      <td>...</td>\n",
       "      <td>...</td>\n",
       "      <td>...</td>\n",
       "      <td>...</td>\n",
       "      <td>...</td>\n",
       "      <td>...</td>\n",
       "      <td>...</td>\n",
       "    </tr>\n",
       "    <tr>\n",
       "      <th>68464</th>\n",
       "      <td>2020-06-04 18:14:33</td>\n",
       "      <td>building</td>\n",
       "      <td>research_center</td>\n",
       "      <td>515c1952-99aa-4bca-a7ea-d0449eb5385a</td>\n",
       "      <td>NaN</td>\n",
       "      <td>yandex_direct</td>\n",
       "      <td>2020-05-07</td>\n",
       "      <td>2020-06-05</td>\n",
       "      <td>29 days</td>\n",
       "    </tr>\n",
       "    <tr>\n",
       "      <th>68465</th>\n",
       "      <td>2020-06-05 00:08:06</td>\n",
       "      <td>building</td>\n",
       "      <td>research_center</td>\n",
       "      <td>f21d179f-1c4b-437e-b9c6-ab1976907195</td>\n",
       "      <td>NaN</td>\n",
       "      <td>instagram_new_adverts</td>\n",
       "      <td>2020-05-06</td>\n",
       "      <td>2020-06-05</td>\n",
       "      <td>30 days</td>\n",
       "    </tr>\n",
       "    <tr>\n",
       "      <th>68466</th>\n",
       "      <td>2020-06-05 02:25:12</td>\n",
       "      <td>finished_stage_1</td>\n",
       "      <td>NaN</td>\n",
       "      <td>515c1952-99aa-4bca-a7ea-d0449eb5385a</td>\n",
       "      <td>NaN</td>\n",
       "      <td>yandex_direct</td>\n",
       "      <td>2020-05-07</td>\n",
       "      <td>2020-06-05</td>\n",
       "      <td>29 days</td>\n",
       "    </tr>\n",
       "    <tr>\n",
       "      <th>68467</th>\n",
       "      <td>2020-06-05 12:12:27</td>\n",
       "      <td>finished_stage_1</td>\n",
       "      <td>NaN</td>\n",
       "      <td>32572adb-900f-4b5d-a453-1eb1e6d88d8b</td>\n",
       "      <td>NaN</td>\n",
       "      <td>facebook_ads</td>\n",
       "      <td>2020-05-07</td>\n",
       "      <td>2020-06-05</td>\n",
       "      <td>29 days</td>\n",
       "    </tr>\n",
       "    <tr>\n",
       "      <th>68468</th>\n",
       "      <td>2020-06-05 12:32:49</td>\n",
       "      <td>finished_stage_1</td>\n",
       "      <td>NaN</td>\n",
       "      <td>f21d179f-1c4b-437e-b9c6-ab1976907195</td>\n",
       "      <td>NaN</td>\n",
       "      <td>instagram_new_adverts</td>\n",
       "      <td>2020-05-06</td>\n",
       "      <td>2020-06-05</td>\n",
       "      <td>30 days</td>\n",
       "    </tr>\n",
       "  </tbody>\n",
       "</table>\n",
       "<p>68469 rows × 9 columns</p>\n",
       "</div>"
      ],
      "text/plain": [
       "           event_datetime             event    building_type  \\\n",
       "0     2020-05-04 00:00:03          building    assembly_shop   \n",
       "1     2020-05-04 00:00:16          building    assembly_shop   \n",
       "2     2020-05-04 00:00:35          building    assembly_shop   \n",
       "3     2020-05-04 00:00:36          building    assembly_shop   \n",
       "4     2020-05-04 00:00:44          building    assembly_shop   \n",
       "...                   ...               ...              ...   \n",
       "68464 2020-06-04 18:14:33          building  research_center   \n",
       "68465 2020-06-05 00:08:06          building  research_center   \n",
       "68466 2020-06-05 02:25:12  finished_stage_1              NaN   \n",
       "68467 2020-06-05 12:12:27  finished_stage_1              NaN   \n",
       "68468 2020-06-05 12:32:49  finished_stage_1              NaN   \n",
       "\n",
       "                                    user_id project_type  \\\n",
       "0      c07b1c10-f477-44dc-81dc-ec82254b1347          NaN   \n",
       "1      6edd42cc-e753-4ff6-a947-2107cd560710          NaN   \n",
       "2      cdc6bb92-0ccb-4490-9866-ef142f09139d          NaN   \n",
       "3      4fe0f101-694b-4e31-9740-d1d87f7208ea          NaN   \n",
       "4      65a92713-5969-48b1-8945-bfefa5063887          NaN   \n",
       "...                                     ...          ...   \n",
       "68464  515c1952-99aa-4bca-a7ea-d0449eb5385a          NaN   \n",
       "68465  f21d179f-1c4b-437e-b9c6-ab1976907195          NaN   \n",
       "68466  515c1952-99aa-4bca-a7ea-d0449eb5385a          NaN   \n",
       "68467  32572adb-900f-4b5d-a453-1eb1e6d88d8b          NaN   \n",
       "68468  f21d179f-1c4b-437e-b9c6-ab1976907195          NaN   \n",
       "\n",
       "                      source first_event_datetime last_event_datetime lifetime  \n",
       "0               facebook_ads           2020-05-04          2020-05-15  11 days  \n",
       "1      instagram_new_adverts           2020-05-04          2020-05-16  12 days  \n",
       "2              yandex_direct           2020-05-04          2020-05-11   7 days  \n",
       "3               facebook_ads           2020-05-04          2020-05-16  12 days  \n",
       "4              yandex_direct           2020-05-04          2020-05-18  14 days  \n",
       "...                      ...                  ...                 ...      ...  \n",
       "68464          yandex_direct           2020-05-07          2020-06-05  29 days  \n",
       "68465  instagram_new_adverts           2020-05-06          2020-06-05  30 days  \n",
       "68466          yandex_direct           2020-05-07          2020-06-05  29 days  \n",
       "68467           facebook_ads           2020-05-07          2020-06-05  29 days  \n",
       "68468  instagram_new_adverts           2020-05-06          2020-06-05  30 days  \n",
       "\n",
       "[68469 rows x 9 columns]"
      ]
     },
     "execution_count": 70,
     "metadata": {},
     "output_type": "execute_result"
    }
   ],
   "source": [
    "finish_stage"
   ]
  },
  {
   "cell_type": "code",
   "execution_count": 71,
   "id": "e5453044",
   "metadata": {},
   "outputs": [
    {
     "data": {
      "text/plain": [
       "source\n",
       "facebook_ads               0.421864\n",
       "instagram_new_adverts      0.438004\n",
       "yandex_direct              0.423915\n",
       "youtube_channel_reklama    0.431497\n",
       "Name: user_id, dtype: float64"
      ]
     },
     "execution_count": 71,
     "metadata": {},
     "output_type": "execute_result"
    }
   ],
   "source": [
    "# Код ревьюера\n",
    "v1 = game_actions[game_actions[\"event\"] == \"finished_stage_1\"].groupby('source')[\"user_id\"].count()\n",
    "v2 = game_actions.groupby('source')[\"user_id\"].nunique()\n",
    "v1 / v2"
   ]
  },
  {
   "cell_type": "markdown",
   "id": "21f326cf",
   "metadata": {},
   "source": [
    "Анализ этого значения показывает нам, что игроки из канала Инстаграм и Ютуб завершают первый уровень немного  чаще других. Далее идут игроки привлеченные Яндекс директ и Фейсбук."
   ]
  },
  {
   "cell_type": "markdown",
   "id": "c0f8713b",
   "metadata": {},
   "source": [
    "## 2.4. Анализ долей различных стратегий в канале "
   ]
  },
  {
   "cell_type": "code",
   "execution_count": 72,
   "id": "afed01a9",
   "metadata": {},
   "outputs": [
    {
     "name": "stdout",
     "output_type": "stream",
     "text": [
      "Закончили первый уровень проектом:\n",
      "32.1%\n",
      "Закончили первый уровень победой:\n",
      "67.9%\n"
     ]
    }
   ],
   "source": [
    "print('Закончили первый уровень проектом:')\n",
    "print('{:.1%}'.format(precent_users(finish_stage, finished_project)))\n",
    "print('Закончили первый уровень победой:')\n",
    "print('{:.1%}'.format(precent_users(finish_stage, finished_win)))"
   ]
  },
  {
   "cell_type": "code",
   "execution_count": 73,
   "id": "44ef2ab4",
   "metadata": {},
   "outputs": [
    {
     "data": {
      "image/png": "[encoded data removed]",
      "text/plain": [
       "<Figure size 432x288 with 1 Axes>"
      ]
     },
     "metadata": {},
     "output_type": "display_data"
    }
   ],
   "source": [
    "value1 = precent_users(finish_stage, finished_project)\n",
    "value2 = precent_users(finish_stage, finished_win)\n",
    "values = [value1, value2]\n",
    "labels = ['Закончили первый уровень проектом', \"Закончили первый уровень победой\"]\n",
    "plt.pie(values, labels=labels, autopct='%1.1f%%')\n",
    "plt.axis('equal')\n",
    "plt.show()"
   ]
  },
  {
   "cell_type": "code",
   "execution_count": 74,
   "id": "fd910ae4",
   "metadata": {},
   "outputs": [
    {
     "data": {
      "text/html": [
       "<div>\n",
       "<style scoped>\n",
       "    .dataframe tbody tr th:only-of-type {\n",
       "        vertical-align: middle;\n",
       "    }\n",
       "\n",
       "    .dataframe tbody tr th {\n",
       "        vertical-align: top;\n",
       "    }\n",
       "\n",
       "    .dataframe thead th {\n",
       "        text-align: right;\n",
       "    }\n",
       "</style>\n",
       "<table border=\"1\" class=\"dataframe\">\n",
       "  <thead>\n",
       "    <tr style=\"text-align: right;\">\n",
       "      <th></th>\n",
       "      <th>event_datetime</th>\n",
       "      <th>event</th>\n",
       "      <th>building_type</th>\n",
       "      <th>user_id</th>\n",
       "      <th>project_type</th>\n",
       "      <th>source</th>\n",
       "      <th>first_event_datetime</th>\n",
       "      <th>last_event_datetime</th>\n",
       "      <th>lifetime</th>\n",
       "    </tr>\n",
       "  </thead>\n",
       "  <tbody>\n",
       "    <tr>\n",
       "      <th>0</th>\n",
       "      <td>2020-05-04 00:00:01</td>\n",
       "      <td>building</td>\n",
       "      <td>assembly_shop</td>\n",
       "      <td>55e92310-cb8e-4754-b622-597e124b03de</td>\n",
       "      <td>NaN</td>\n",
       "      <td>youtube_channel_reklama</td>\n",
       "      <td>2020-05-04</td>\n",
       "      <td>2020-05-10</td>\n",
       "      <td>6 days</td>\n",
       "    </tr>\n",
       "    <tr>\n",
       "      <th>1</th>\n",
       "      <td>2020-05-04 00:00:03</td>\n",
       "      <td>building</td>\n",
       "      <td>assembly_shop</td>\n",
       "      <td>c07b1c10-f477-44dc-81dc-ec82254b1347</td>\n",
       "      <td>NaN</td>\n",
       "      <td>facebook_ads</td>\n",
       "      <td>2020-05-04</td>\n",
       "      <td>2020-05-15</td>\n",
       "      <td>11 days</td>\n",
       "    </tr>\n",
       "    <tr>\n",
       "      <th>2</th>\n",
       "      <td>2020-05-04 00:00:16</td>\n",
       "      <td>building</td>\n",
       "      <td>assembly_shop</td>\n",
       "      <td>6edd42cc-e753-4ff6-a947-2107cd560710</td>\n",
       "      <td>NaN</td>\n",
       "      <td>instagram_new_adverts</td>\n",
       "      <td>2020-05-04</td>\n",
       "      <td>2020-05-16</td>\n",
       "      <td>12 days</td>\n",
       "    </tr>\n",
       "    <tr>\n",
       "      <th>3</th>\n",
       "      <td>2020-05-04 00:00:16</td>\n",
       "      <td>building</td>\n",
       "      <td>assembly_shop</td>\n",
       "      <td>92c69003-d60a-444a-827f-8cc51bf6bf4c</td>\n",
       "      <td>NaN</td>\n",
       "      <td>facebook_ads</td>\n",
       "      <td>2020-05-04</td>\n",
       "      <td>2020-05-12</td>\n",
       "      <td>8 days</td>\n",
       "    </tr>\n",
       "    <tr>\n",
       "      <th>4</th>\n",
       "      <td>2020-05-04 00:00:35</td>\n",
       "      <td>building</td>\n",
       "      <td>assembly_shop</td>\n",
       "      <td>cdc6bb92-0ccb-4490-9866-ef142f09139d</td>\n",
       "      <td>NaN</td>\n",
       "      <td>yandex_direct</td>\n",
       "      <td>2020-05-04</td>\n",
       "      <td>2020-05-11</td>\n",
       "      <td>7 days</td>\n",
       "    </tr>\n",
       "    <tr>\n",
       "      <th>...</th>\n",
       "      <td>...</td>\n",
       "      <td>...</td>\n",
       "      <td>...</td>\n",
       "      <td>...</td>\n",
       "      <td>...</td>\n",
       "      <td>...</td>\n",
       "      <td>...</td>\n",
       "      <td>...</td>\n",
       "      <td>...</td>\n",
       "    </tr>\n",
       "    <tr>\n",
       "      <th>78142</th>\n",
       "      <td>2020-05-10 23:34:33</td>\n",
       "      <td>building</td>\n",
       "      <td>assembly_shop</td>\n",
       "      <td>20bc9d79-10c4-4f2d-862e-4a6dece3b4ec</td>\n",
       "      <td>NaN</td>\n",
       "      <td>youtube_channel_reklama</td>\n",
       "      <td>2020-05-10</td>\n",
       "      <td>2020-05-31</td>\n",
       "      <td>21 days</td>\n",
       "    </tr>\n",
       "    <tr>\n",
       "      <th>78144</th>\n",
       "      <td>2020-05-10 23:34:43</td>\n",
       "      <td>building</td>\n",
       "      <td>assembly_shop</td>\n",
       "      <td>daea0325-f7c5-4008-b5f6-f89fc2c1e019</td>\n",
       "      <td>NaN</td>\n",
       "      <td>yandex_direct</td>\n",
       "      <td>2020-05-10</td>\n",
       "      <td>2020-05-10</td>\n",
       "      <td>0 days</td>\n",
       "    </tr>\n",
       "    <tr>\n",
       "      <th>78234</th>\n",
       "      <td>2020-05-10 23:44:17</td>\n",
       "      <td>building</td>\n",
       "      <td>assembly_shop</td>\n",
       "      <td>7b225969-375a-455e-a14a-ed1ab373fb65</td>\n",
       "      <td>NaN</td>\n",
       "      <td>instagram_new_adverts</td>\n",
       "      <td>2020-05-10</td>\n",
       "      <td>2020-05-24</td>\n",
       "      <td>14 days</td>\n",
       "    </tr>\n",
       "    <tr>\n",
       "      <th>78385</th>\n",
       "      <td>2020-05-10 23:57:56</td>\n",
       "      <td>building</td>\n",
       "      <td>assembly_shop</td>\n",
       "      <td>cafd1b8b-507b-49ae-abf0-89fe863a8b03</td>\n",
       "      <td>NaN</td>\n",
       "      <td>facebook_ads</td>\n",
       "      <td>2020-05-10</td>\n",
       "      <td>2020-05-18</td>\n",
       "      <td>8 days</td>\n",
       "    </tr>\n",
       "    <tr>\n",
       "      <th>78400</th>\n",
       "      <td>2020-05-10 23:59:52</td>\n",
       "      <td>building</td>\n",
       "      <td>assembly_shop</td>\n",
       "      <td>bdc53e19-462a-4dc3-8b55-b4a34278af6a</td>\n",
       "      <td>NaN</td>\n",
       "      <td>youtube_channel_reklama</td>\n",
       "      <td>2020-05-10</td>\n",
       "      <td>2020-05-18</td>\n",
       "      <td>8 days</td>\n",
       "    </tr>\n",
       "  </tbody>\n",
       "</table>\n",
       "<p>13576 rows × 9 columns</p>\n",
       "</div>"
      ],
      "text/plain": [
       "           event_datetime     event  building_type  \\\n",
       "0     2020-05-04 00:00:01  building  assembly_shop   \n",
       "1     2020-05-04 00:00:03  building  assembly_shop   \n",
       "2     2020-05-04 00:00:16  building  assembly_shop   \n",
       "3     2020-05-04 00:00:16  building  assembly_shop   \n",
       "4     2020-05-04 00:00:35  building  assembly_shop   \n",
       "...                   ...       ...            ...   \n",
       "78142 2020-05-10 23:34:33  building  assembly_shop   \n",
       "78144 2020-05-10 23:34:43  building  assembly_shop   \n",
       "78234 2020-05-10 23:44:17  building  assembly_shop   \n",
       "78385 2020-05-10 23:57:56  building  assembly_shop   \n",
       "78400 2020-05-10 23:59:52  building  assembly_shop   \n",
       "\n",
       "                                    user_id project_type  \\\n",
       "0      55e92310-cb8e-4754-b622-597e124b03de          NaN   \n",
       "1      c07b1c10-f477-44dc-81dc-ec82254b1347          NaN   \n",
       "2      6edd42cc-e753-4ff6-a947-2107cd560710          NaN   \n",
       "3      92c69003-d60a-444a-827f-8cc51bf6bf4c          NaN   \n",
       "4      cdc6bb92-0ccb-4490-9866-ef142f09139d          NaN   \n",
       "...                                     ...          ...   \n",
       "78142  20bc9d79-10c4-4f2d-862e-4a6dece3b4ec          NaN   \n",
       "78144  daea0325-f7c5-4008-b5f6-f89fc2c1e019          NaN   \n",
       "78234  7b225969-375a-455e-a14a-ed1ab373fb65          NaN   \n",
       "78385  cafd1b8b-507b-49ae-abf0-89fe863a8b03          NaN   \n",
       "78400  bdc53e19-462a-4dc3-8b55-b4a34278af6a          NaN   \n",
       "\n",
       "                        source first_event_datetime last_event_datetime  \\\n",
       "0      youtube_channel_reklama           2020-05-04          2020-05-10   \n",
       "1                 facebook_ads           2020-05-04          2020-05-15   \n",
       "2        instagram_new_adverts           2020-05-04          2020-05-16   \n",
       "3                 facebook_ads           2020-05-04          2020-05-12   \n",
       "4                yandex_direct           2020-05-04          2020-05-11   \n",
       "...                        ...                  ...                 ...   \n",
       "78142  youtube_channel_reklama           2020-05-10          2020-05-31   \n",
       "78144            yandex_direct           2020-05-10          2020-05-10   \n",
       "78234    instagram_new_adverts           2020-05-10          2020-05-24   \n",
       "78385             facebook_ads           2020-05-10          2020-05-18   \n",
       "78400  youtube_channel_reklama           2020-05-10          2020-05-18   \n",
       "\n",
       "      lifetime  \n",
       "0       6 days  \n",
       "1      11 days  \n",
       "2      12 days  \n",
       "3       8 days  \n",
       "4       7 days  \n",
       "...        ...  \n",
       "78142  21 days  \n",
       "78144   0 days  \n",
       "78234  14 days  \n",
       "78385   8 days  \n",
       "78400   8 days  \n",
       "\n",
       "[13576 rows x 9 columns]"
      ]
     },
     "execution_count": 74,
     "metadata": {},
     "output_type": "execute_result"
    }
   ],
   "source": [
    "game_actions_unique = game_actions.drop_duplicates(subset='user_id')\n",
    "game_actions_unique"
   ]
  },
  {
   "cell_type": "code",
   "execution_count": 75,
   "id": "a87b0f8b",
   "metadata": {},
   "outputs": [
    {
     "data": {
      "text/plain": [
       "<AxesSubplot:title={'center':'Среднее время завершения уровня в зависимости от канала'}, xlabel='source', ylabel='lifetime_days'>"
      ]
     },
     "execution_count": 75,
     "metadata": {},
     "output_type": "execute_result"
    },
    {
     "data": {
      "image/png": "[encoded data removed]",
      "text/plain": [
       "<Figure size 1080x720 with 1 Axes>"
      ]
     },
     "metadata": {
      "needs_background": "light"
     },
     "output_type": "display_data"
    }
   ],
   "source": [
    "game_actions_unique['lifetime_days'] = game_actions_unique['lifetime'].dt.days\n",
    "average_lifetime_per_source = game_actions_unique.groupby('source')['lifetime_days'].mean().reset_index()\n",
    "plt.figure(figsize=(15, 10))\n",
    "plt.title(f'Среднее время завершения уровня в зависимости от канала', fontsize=15)\n",
    "sns.barplot(data = average_lifetime_per_source, x = 'source', y = 'lifetime_days')"
   ]
  },
  {
   "cell_type": "markdown",
   "id": "67ec43f4",
   "metadata": {},
   "source": [
    "2/3 игроков, которые завершили первый уровень, выбрали стратегию сражения и победы над врагом."
   ]
  },
  {
   "cell_type": "markdown",
   "id": "3818af8d",
   "metadata": {},
   "source": [
    "## 3. Вычисление метрики САС"
   ]
  },
  {
   "cell_type": "markdown",
   "id": "72e91fc9",
   "metadata": {},
   "source": [
    "CAC показывает, в какую сумму компании обходится каждый новый клиент. Это мы сейчас и посчитаем."
   ]
  },
  {
   "cell_type": "code",
   "execution_count": 76,
   "id": "93fd00b5",
   "metadata": {},
   "outputs": [
    {
     "data": {
      "text/html": [
       "<div>\n",
       "<style scoped>\n",
       "    .dataframe tbody tr th:only-of-type {\n",
       "        vertical-align: middle;\n",
       "    }\n",
       "\n",
       "    .dataframe tbody tr th {\n",
       "        vertical-align: top;\n",
       "    }\n",
       "\n",
       "    .dataframe thead th {\n",
       "        text-align: right;\n",
       "    }\n",
       "</style>\n",
       "<table border=\"1\" class=\"dataframe\">\n",
       "  <thead>\n",
       "    <tr style=\"text-align: right;\">\n",
       "      <th></th>\n",
       "      <th>source</th>\n",
       "      <th>day</th>\n",
       "      <th>cost</th>\n",
       "    </tr>\n",
       "  </thead>\n",
       "  <tbody>\n",
       "    <tr>\n",
       "      <th>0</th>\n",
       "      <td>facebook_ads</td>\n",
       "      <td>2020-05-03</td>\n",
       "      <td>935.882786</td>\n",
       "    </tr>\n",
       "    <tr>\n",
       "      <th>1</th>\n",
       "      <td>facebook_ads</td>\n",
       "      <td>2020-05-04</td>\n",
       "      <td>548.354480</td>\n",
       "    </tr>\n",
       "    <tr>\n",
       "      <th>2</th>\n",
       "      <td>facebook_ads</td>\n",
       "      <td>2020-05-05</td>\n",
       "      <td>260.185754</td>\n",
       "    </tr>\n",
       "    <tr>\n",
       "      <th>3</th>\n",
       "      <td>facebook_ads</td>\n",
       "      <td>2020-05-06</td>\n",
       "      <td>177.982200</td>\n",
       "    </tr>\n",
       "    <tr>\n",
       "      <th>4</th>\n",
       "      <td>facebook_ads</td>\n",
       "      <td>2020-05-07</td>\n",
       "      <td>111.766796</td>\n",
       "    </tr>\n",
       "    <tr>\n",
       "      <th>5</th>\n",
       "      <td>facebook_ads</td>\n",
       "      <td>2020-05-08</td>\n",
       "      <td>68.009276</td>\n",
       "    </tr>\n",
       "    <tr>\n",
       "      <th>6</th>\n",
       "      <td>facebook_ads</td>\n",
       "      <td>2020-05-09</td>\n",
       "      <td>38.723350</td>\n",
       "    </tr>\n",
       "    <tr>\n",
       "      <th>7</th>\n",
       "      <td>instagram_new_adverts</td>\n",
       "      <td>2020-05-03</td>\n",
       "      <td>943.204717</td>\n",
       "    </tr>\n",
       "    <tr>\n",
       "      <th>8</th>\n",
       "      <td>instagram_new_adverts</td>\n",
       "      <td>2020-05-04</td>\n",
       "      <td>502.925451</td>\n",
       "    </tr>\n",
       "    <tr>\n",
       "      <th>9</th>\n",
       "      <td>instagram_new_adverts</td>\n",
       "      <td>2020-05-05</td>\n",
       "      <td>313.970984</td>\n",
       "    </tr>\n",
       "    <tr>\n",
       "      <th>10</th>\n",
       "      <td>instagram_new_adverts</td>\n",
       "      <td>2020-05-06</td>\n",
       "      <td>173.071145</td>\n",
       "    </tr>\n",
       "    <tr>\n",
       "      <th>11</th>\n",
       "      <td>instagram_new_adverts</td>\n",
       "      <td>2020-05-07</td>\n",
       "      <td>109.915254</td>\n",
       "    </tr>\n",
       "    <tr>\n",
       "      <th>12</th>\n",
       "      <td>instagram_new_adverts</td>\n",
       "      <td>2020-05-08</td>\n",
       "      <td>71.578739</td>\n",
       "    </tr>\n",
       "    <tr>\n",
       "      <th>13</th>\n",
       "      <td>instagram_new_adverts</td>\n",
       "      <td>2020-05-09</td>\n",
       "      <td>46.775400</td>\n",
       "    </tr>\n",
       "    <tr>\n",
       "      <th>14</th>\n",
       "      <td>yandex_direct</td>\n",
       "      <td>2020-05-03</td>\n",
       "      <td>969.139394</td>\n",
       "    </tr>\n",
       "    <tr>\n",
       "      <th>15</th>\n",
       "      <td>yandex_direct</td>\n",
       "      <td>2020-05-04</td>\n",
       "      <td>554.651494</td>\n",
       "    </tr>\n",
       "    <tr>\n",
       "      <th>16</th>\n",
       "      <td>yandex_direct</td>\n",
       "      <td>2020-05-05</td>\n",
       "      <td>308.232990</td>\n",
       "    </tr>\n",
       "    <tr>\n",
       "      <th>17</th>\n",
       "      <td>yandex_direct</td>\n",
       "      <td>2020-05-06</td>\n",
       "      <td>180.917099</td>\n",
       "    </tr>\n",
       "    <tr>\n",
       "      <th>18</th>\n",
       "      <td>yandex_direct</td>\n",
       "      <td>2020-05-07</td>\n",
       "      <td>114.429338</td>\n",
       "    </tr>\n",
       "    <tr>\n",
       "      <th>19</th>\n",
       "      <td>yandex_direct</td>\n",
       "      <td>2020-05-08</td>\n",
       "      <td>62.961630</td>\n",
       "    </tr>\n",
       "    <tr>\n",
       "      <th>20</th>\n",
       "      <td>yandex_direct</td>\n",
       "      <td>2020-05-09</td>\n",
       "      <td>42.779505</td>\n",
       "    </tr>\n",
       "    <tr>\n",
       "      <th>21</th>\n",
       "      <td>youtube_channel_reklama</td>\n",
       "      <td>2020-05-03</td>\n",
       "      <td>454.224943</td>\n",
       "    </tr>\n",
       "    <tr>\n",
       "      <th>22</th>\n",
       "      <td>youtube_channel_reklama</td>\n",
       "      <td>2020-05-04</td>\n",
       "      <td>259.073224</td>\n",
       "    </tr>\n",
       "    <tr>\n",
       "      <th>23</th>\n",
       "      <td>youtube_channel_reklama</td>\n",
       "      <td>2020-05-05</td>\n",
       "      <td>147.041741</td>\n",
       "    </tr>\n",
       "    <tr>\n",
       "      <th>24</th>\n",
       "      <td>youtube_channel_reklama</td>\n",
       "      <td>2020-05-06</td>\n",
       "      <td>88.506074</td>\n",
       "    </tr>\n",
       "    <tr>\n",
       "      <th>25</th>\n",
       "      <td>youtube_channel_reklama</td>\n",
       "      <td>2020-05-07</td>\n",
       "      <td>55.740645</td>\n",
       "    </tr>\n",
       "    <tr>\n",
       "      <th>26</th>\n",
       "      <td>youtube_channel_reklama</td>\n",
       "      <td>2020-05-08</td>\n",
       "      <td>40.217907</td>\n",
       "    </tr>\n",
       "    <tr>\n",
       "      <th>27</th>\n",
       "      <td>youtube_channel_reklama</td>\n",
       "      <td>2020-05-09</td>\n",
       "      <td>23.314669</td>\n",
       "    </tr>\n",
       "  </tbody>\n",
       "</table>\n",
       "</div>"
      ],
      "text/plain": [
       "                     source        day        cost\n",
       "0              facebook_ads 2020-05-03  935.882786\n",
       "1              facebook_ads 2020-05-04  548.354480\n",
       "2              facebook_ads 2020-05-05  260.185754\n",
       "3              facebook_ads 2020-05-06  177.982200\n",
       "4              facebook_ads 2020-05-07  111.766796\n",
       "5              facebook_ads 2020-05-08   68.009276\n",
       "6              facebook_ads 2020-05-09   38.723350\n",
       "7     instagram_new_adverts 2020-05-03  943.204717\n",
       "8     instagram_new_adverts 2020-05-04  502.925451\n",
       "9     instagram_new_adverts 2020-05-05  313.970984\n",
       "10    instagram_new_adverts 2020-05-06  173.071145\n",
       "11    instagram_new_adverts 2020-05-07  109.915254\n",
       "12    instagram_new_adverts 2020-05-08   71.578739\n",
       "13    instagram_new_adverts 2020-05-09   46.775400\n",
       "14            yandex_direct 2020-05-03  969.139394\n",
       "15            yandex_direct 2020-05-04  554.651494\n",
       "16            yandex_direct 2020-05-05  308.232990\n",
       "17            yandex_direct 2020-05-06  180.917099\n",
       "18            yandex_direct 2020-05-07  114.429338\n",
       "19            yandex_direct 2020-05-08   62.961630\n",
       "20            yandex_direct 2020-05-09   42.779505\n",
       "21  youtube_channel_reklama 2020-05-03  454.224943\n",
       "22  youtube_channel_reklama 2020-05-04  259.073224\n",
       "23  youtube_channel_reklama 2020-05-05  147.041741\n",
       "24  youtube_channel_reklama 2020-05-06   88.506074\n",
       "25  youtube_channel_reklama 2020-05-07   55.740645\n",
       "26  youtube_channel_reklama 2020-05-08   40.217907\n",
       "27  youtube_channel_reklama 2020-05-09   23.314669"
      ]
     },
     "execution_count": 76,
     "metadata": {},
     "output_type": "execute_result"
    }
   ],
   "source": [
    "ad_costs"
   ]
  },
  {
   "cell_type": "code",
   "execution_count": 77,
   "id": "9c9d7bdd",
   "metadata": {},
   "outputs": [
    {
     "name": "stdout",
     "output_type": "stream",
     "text": [
      "Всего за период с 2020-05-03 по 2020-05-09 потрачено, total_cost, у.е.\n"
     ]
    }
   ],
   "source": [
    "# всего за период с 2020-05-03 по 2020-05-09 потрачено\n",
    "total_cost = ad_costs['cost'].sum()\n",
    "print('Всего за период с 2020-05-03 по 2020-05-09 потрачено, total_cost, у.е.')"
   ]
  },
  {
   "cell_type": "code",
   "execution_count": 78,
   "id": "f905c3b5",
   "metadata": {},
   "outputs": [
    {
     "data": {
      "text/html": [
       "<div>\n",
       "<style scoped>\n",
       "    .dataframe tbody tr th:only-of-type {\n",
       "        vertical-align: middle;\n",
       "    }\n",
       "\n",
       "    .dataframe tbody tr th {\n",
       "        vertical-align: top;\n",
       "    }\n",
       "\n",
       "    .dataframe thead th {\n",
       "        text-align: right;\n",
       "    }\n",
       "</style>\n",
       "<table border=\"1\" class=\"dataframe\">\n",
       "  <thead>\n",
       "    <tr style=\"text-align: right;\">\n",
       "      <th></th>\n",
       "      <th>event_datetime</th>\n",
       "      <th>event</th>\n",
       "      <th>building_type</th>\n",
       "      <th>user_id</th>\n",
       "      <th>project_type</th>\n",
       "      <th>source</th>\n",
       "      <th>first_event_datetime</th>\n",
       "      <th>last_event_datetime</th>\n",
       "      <th>lifetime</th>\n",
       "      <th>lifetime_days</th>\n",
       "    </tr>\n",
       "  </thead>\n",
       "  <tbody>\n",
       "    <tr>\n",
       "      <th>0</th>\n",
       "      <td>2020-05-04 00:00:01</td>\n",
       "      <td>building</td>\n",
       "      <td>assembly_shop</td>\n",
       "      <td>55e92310-cb8e-4754-b622-597e124b03de</td>\n",
       "      <td>NaN</td>\n",
       "      <td>youtube_channel_reklama</td>\n",
       "      <td>2020-05-04</td>\n",
       "      <td>2020-05-10</td>\n",
       "      <td>6 days</td>\n",
       "      <td>6</td>\n",
       "    </tr>\n",
       "    <tr>\n",
       "      <th>1</th>\n",
       "      <td>2020-05-04 00:00:03</td>\n",
       "      <td>building</td>\n",
       "      <td>assembly_shop</td>\n",
       "      <td>c07b1c10-f477-44dc-81dc-ec82254b1347</td>\n",
       "      <td>NaN</td>\n",
       "      <td>facebook_ads</td>\n",
       "      <td>2020-05-04</td>\n",
       "      <td>2020-05-15</td>\n",
       "      <td>11 days</td>\n",
       "      <td>11</td>\n",
       "    </tr>\n",
       "    <tr>\n",
       "      <th>2</th>\n",
       "      <td>2020-05-04 00:00:16</td>\n",
       "      <td>building</td>\n",
       "      <td>assembly_shop</td>\n",
       "      <td>6edd42cc-e753-4ff6-a947-2107cd560710</td>\n",
       "      <td>NaN</td>\n",
       "      <td>instagram_new_adverts</td>\n",
       "      <td>2020-05-04</td>\n",
       "      <td>2020-05-16</td>\n",
       "      <td>12 days</td>\n",
       "      <td>12</td>\n",
       "    </tr>\n",
       "    <tr>\n",
       "      <th>3</th>\n",
       "      <td>2020-05-04 00:00:16</td>\n",
       "      <td>building</td>\n",
       "      <td>assembly_shop</td>\n",
       "      <td>92c69003-d60a-444a-827f-8cc51bf6bf4c</td>\n",
       "      <td>NaN</td>\n",
       "      <td>facebook_ads</td>\n",
       "      <td>2020-05-04</td>\n",
       "      <td>2020-05-12</td>\n",
       "      <td>8 days</td>\n",
       "      <td>8</td>\n",
       "    </tr>\n",
       "    <tr>\n",
       "      <th>4</th>\n",
       "      <td>2020-05-04 00:00:35</td>\n",
       "      <td>building</td>\n",
       "      <td>assembly_shop</td>\n",
       "      <td>cdc6bb92-0ccb-4490-9866-ef142f09139d</td>\n",
       "      <td>NaN</td>\n",
       "      <td>yandex_direct</td>\n",
       "      <td>2020-05-04</td>\n",
       "      <td>2020-05-11</td>\n",
       "      <td>7 days</td>\n",
       "      <td>7</td>\n",
       "    </tr>\n",
       "    <tr>\n",
       "      <th>...</th>\n",
       "      <td>...</td>\n",
       "      <td>...</td>\n",
       "      <td>...</td>\n",
       "      <td>...</td>\n",
       "      <td>...</td>\n",
       "      <td>...</td>\n",
       "      <td>...</td>\n",
       "      <td>...</td>\n",
       "      <td>...</td>\n",
       "      <td>...</td>\n",
       "    </tr>\n",
       "    <tr>\n",
       "      <th>63108</th>\n",
       "      <td>2020-05-09 23:50:21</td>\n",
       "      <td>building</td>\n",
       "      <td>assembly_shop</td>\n",
       "      <td>117ce7a1-41e5-41b1-bedf-7e12940a2c34</td>\n",
       "      <td>NaN</td>\n",
       "      <td>youtube_channel_reklama</td>\n",
       "      <td>2020-05-09</td>\n",
       "      <td>2020-05-19</td>\n",
       "      <td>10 days</td>\n",
       "      <td>10</td>\n",
       "    </tr>\n",
       "    <tr>\n",
       "      <th>63112</th>\n",
       "      <td>2020-05-09 23:50:42</td>\n",
       "      <td>building</td>\n",
       "      <td>assembly_shop</td>\n",
       "      <td>7598633d-2111-4a2c-ada1-a6dcc25b7b9a</td>\n",
       "      <td>NaN</td>\n",
       "      <td>yandex_direct</td>\n",
       "      <td>2020-05-09</td>\n",
       "      <td>2020-05-11</td>\n",
       "      <td>2 days</td>\n",
       "      <td>2</td>\n",
       "    </tr>\n",
       "    <tr>\n",
       "      <th>63139</th>\n",
       "      <td>2020-05-09 23:54:15</td>\n",
       "      <td>building</td>\n",
       "      <td>assembly_shop</td>\n",
       "      <td>9aa4655a-2fe4-40e0-9976-7686d2d6e489</td>\n",
       "      <td>NaN</td>\n",
       "      <td>instagram_new_adverts</td>\n",
       "      <td>2020-05-09</td>\n",
       "      <td>2020-05-15</td>\n",
       "      <td>6 days</td>\n",
       "      <td>6</td>\n",
       "    </tr>\n",
       "    <tr>\n",
       "      <th>63143</th>\n",
       "      <td>2020-05-09 23:54:23</td>\n",
       "      <td>building</td>\n",
       "      <td>assembly_shop</td>\n",
       "      <td>afa1f9b4-818d-4c77-b9b1-4019d516292c</td>\n",
       "      <td>NaN</td>\n",
       "      <td>instagram_new_adverts</td>\n",
       "      <td>2020-05-09</td>\n",
       "      <td>2020-05-12</td>\n",
       "      <td>3 days</td>\n",
       "      <td>3</td>\n",
       "    </tr>\n",
       "    <tr>\n",
       "      <th>63191</th>\n",
       "      <td>2020-05-09 23:59:34</td>\n",
       "      <td>building</td>\n",
       "      <td>assembly_shop</td>\n",
       "      <td>de1e873a-ea74-4bc4-8d4e-caf2d1e38fee</td>\n",
       "      <td>NaN</td>\n",
       "      <td>facebook_ads</td>\n",
       "      <td>2020-05-09</td>\n",
       "      <td>2020-05-17</td>\n",
       "      <td>8 days</td>\n",
       "      <td>8</td>\n",
       "    </tr>\n",
       "  </tbody>\n",
       "</table>\n",
       "<p>13305 rows × 10 columns</p>\n",
       "</div>"
      ],
      "text/plain": [
       "           event_datetime     event  building_type  \\\n",
       "0     2020-05-04 00:00:01  building  assembly_shop   \n",
       "1     2020-05-04 00:00:03  building  assembly_shop   \n",
       "2     2020-05-04 00:00:16  building  assembly_shop   \n",
       "3     2020-05-04 00:00:16  building  assembly_shop   \n",
       "4     2020-05-04 00:00:35  building  assembly_shop   \n",
       "...                   ...       ...            ...   \n",
       "63108 2020-05-09 23:50:21  building  assembly_shop   \n",
       "63112 2020-05-09 23:50:42  building  assembly_shop   \n",
       "63139 2020-05-09 23:54:15  building  assembly_shop   \n",
       "63143 2020-05-09 23:54:23  building  assembly_shop   \n",
       "63191 2020-05-09 23:59:34  building  assembly_shop   \n",
       "\n",
       "                                    user_id project_type  \\\n",
       "0      55e92310-cb8e-4754-b622-597e124b03de          NaN   \n",
       "1      c07b1c10-f477-44dc-81dc-ec82254b1347          NaN   \n",
       "2      6edd42cc-e753-4ff6-a947-2107cd560710          NaN   \n",
       "3      92c69003-d60a-444a-827f-8cc51bf6bf4c          NaN   \n",
       "4      cdc6bb92-0ccb-4490-9866-ef142f09139d          NaN   \n",
       "...                                     ...          ...   \n",
       "63108  117ce7a1-41e5-41b1-bedf-7e12940a2c34          NaN   \n",
       "63112  7598633d-2111-4a2c-ada1-a6dcc25b7b9a          NaN   \n",
       "63139  9aa4655a-2fe4-40e0-9976-7686d2d6e489          NaN   \n",
       "63143  afa1f9b4-818d-4c77-b9b1-4019d516292c          NaN   \n",
       "63191  de1e873a-ea74-4bc4-8d4e-caf2d1e38fee          NaN   \n",
       "\n",
       "                        source first_event_datetime last_event_datetime  \\\n",
       "0      youtube_channel_reklama           2020-05-04          2020-05-10   \n",
       "1                 facebook_ads           2020-05-04          2020-05-15   \n",
       "2        instagram_new_adverts           2020-05-04          2020-05-16   \n",
       "3                 facebook_ads           2020-05-04          2020-05-12   \n",
       "4                yandex_direct           2020-05-04          2020-05-11   \n",
       "...                        ...                  ...                 ...   \n",
       "63108  youtube_channel_reklama           2020-05-09          2020-05-19   \n",
       "63112            yandex_direct           2020-05-09          2020-05-11   \n",
       "63139    instagram_new_adverts           2020-05-09          2020-05-15   \n",
       "63143    instagram_new_adverts           2020-05-09          2020-05-12   \n",
       "63191             facebook_ads           2020-05-09          2020-05-17   \n",
       "\n",
       "      lifetime  lifetime_days  \n",
       "0       6 days              6  \n",
       "1      11 days             11  \n",
       "2      12 days             12  \n",
       "3       8 days              8  \n",
       "4       7 days              7  \n",
       "...        ...            ...  \n",
       "63108  10 days             10  \n",
       "63112   2 days              2  \n",
       "63139   6 days              6  \n",
       "63143   3 days              3  \n",
       "63191   8 days              8  \n",
       "\n",
       "[13305 rows x 10 columns]"
      ]
     },
     "execution_count": 78,
     "metadata": {},
     "output_type": "execute_result"
    }
   ],
   "source": [
    "start_date = pd.to_datetime('2020-05-03')\n",
    "end_date = pd.to_datetime('2020-05-09')\n",
    "filtered_game_actions_unique = game_actions_unique[(game_actions_unique['first_event_datetime'] >= start_date) & (game_actions_unique['first_event_datetime'] <= end_date)]\n",
    "filtered_game_actions_unique"
   ]
  },
  {
   "cell_type": "code",
   "execution_count": 79,
   "id": "c248a165",
   "metadata": {},
   "outputs": [
    {
     "name": "stdout",
     "output_type": "stream",
     "text": [
      "Средняя стоимость привлечение одного клиента равноа 0.571482674692824 у.е.\n"
     ]
    }
   ],
   "source": [
    "CAC = total_cost/filtered_game_actions_unique.shape[0]\n",
    "print('Средняя стоимость привлечение одного клиента равноа', CAC, 'у.е.')"
   ]
  },
  {
   "cell_type": "code",
   "execution_count": 80,
   "id": "8e1a46b4",
   "metadata": {},
   "outputs": [],
   "source": [
    "# разбивка по каналам\n",
    "sum_add = ad_costs.groupby('source')['cost'].sum().sort_values(ascending=False).reset_index()"
   ]
  },
  {
   "cell_type": "code",
   "execution_count": 81,
   "id": "8640e014",
   "metadata": {},
   "outputs": [],
   "source": [
    "users_count = user_source.groupby('source')['user_id'].count().sort_values(ascending=False).reset_index()"
   ]
  },
  {
   "cell_type": "code",
   "execution_count": 82,
   "id": "c74c11e8",
   "metadata": {},
   "outputs": [],
   "source": [
    "sum_add['mean_cost'] = (sum_add['cost'] / users_count['user_id'])"
   ]
  },
  {
   "cell_type": "code",
   "execution_count": 83,
   "id": "2b6f1ecc",
   "metadata": {},
   "outputs": [
    {
     "data": {
      "text/html": [
       "<div>\n",
       "<style scoped>\n",
       "    .dataframe tbody tr th:only-of-type {\n",
       "        vertical-align: middle;\n",
       "    }\n",
       "\n",
       "    .dataframe tbody tr th {\n",
       "        vertical-align: top;\n",
       "    }\n",
       "\n",
       "    .dataframe thead th {\n",
       "        text-align: right;\n",
       "    }\n",
       "</style>\n",
       "<table border=\"1\" class=\"dataframe\">\n",
       "  <thead>\n",
       "    <tr style=\"text-align: right;\">\n",
       "      <th></th>\n",
       "      <th>source</th>\n",
       "      <th>cost</th>\n",
       "      <th>mean_cost</th>\n",
       "    </tr>\n",
       "  </thead>\n",
       "  <tbody>\n",
       "    <tr>\n",
       "      <th>0</th>\n",
       "      <td>yandex_direct</td>\n",
       "      <td>2233.111449</td>\n",
       "      <td>0.463590</td>\n",
       "    </tr>\n",
       "    <tr>\n",
       "      <th>1</th>\n",
       "      <td>instagram_new_adverts</td>\n",
       "      <td>2161.441691</td>\n",
       "      <td>0.645785</td>\n",
       "    </tr>\n",
       "    <tr>\n",
       "      <th>2</th>\n",
       "      <td>facebook_ads</td>\n",
       "      <td>2140.904643</td>\n",
       "      <td>0.785365</td>\n",
       "    </tr>\n",
       "    <tr>\n",
       "      <th>3</th>\n",
       "      <td>youtube_channel_reklama</td>\n",
       "      <td>1068.119204</td>\n",
       "      <td>0.397662</td>\n",
       "    </tr>\n",
       "  </tbody>\n",
       "</table>\n",
       "</div>"
      ],
      "text/plain": [
       "                    source         cost  mean_cost\n",
       "0            yandex_direct  2233.111449   0.463590\n",
       "1    instagram_new_adverts  2161.441691   0.645785\n",
       "2             facebook_ads  2140.904643   0.785365\n",
       "3  youtube_channel_reklama  1068.119204   0.397662"
      ]
     },
     "execution_count": 83,
     "metadata": {},
     "output_type": "execute_result"
    }
   ],
   "source": [
    "sum_add"
   ]
  },
  {
   "cell_type": "code",
   "execution_count": 84,
   "id": "87fbfb28",
   "metadata": {},
   "outputs": [
    {
     "data": {
      "image/png": "[encoded data removed]",
      "text/plain": [
       "<Figure size 1080x360 with 1 Axes>"
      ]
     },
     "metadata": {
      "needs_background": "light"
     },
     "output_type": "display_data"
    }
   ],
   "source": [
    "plt.figure(figsize=(15, 5))\n",
    "plt.title('CAC', fontsize=15)\n",
    "sns.barplot(x = 'source', y = 'mean_cost', data = sum_add);"
   ]
  },
  {
   "cell_type": "markdown",
   "id": "0c51003f",
   "metadata": {},
   "source": [
    "Наибольшее количество пользователей приходит из источника Яндекс Директ, из источников Инстаграм и Фейсбук почти одинаковое приблизительно 2100. Реклама из источника Ютуб самая малочисленная. \n",
    "По стоимости одного пользователя дешевле всего обходятся каналы привлечения Ютуб и Яндекс. Самый дорогой источник - Фейсбук."
   ]
  },
  {
   "cell_type": "markdown",
   "id": "4e8d3b97",
   "metadata": {},
   "source": [
    "## 4.1. Проверка 1 гипотезы"
   ]
  },
  {
   "cell_type": "markdown",
   "id": "3521b67d",
   "metadata": {},
   "source": [
    "H0: среднее время завершения уровня не различается в зависимости способа прохождения.\n",
    "\n",
    "H1: среднее время завершения уровня различается в зависимости способа прохождения."
   ]
  },
  {
   "cell_type": "code",
   "execution_count": 85,
   "id": "4eb8f7c8",
   "metadata": {},
   "outputs": [
    {
     "name": "stdout",
     "output_type": "stream",
     "text": [
      "1)\n",
      "A\tB\tA+B\tlen(A+B)\n",
      "[1]\t[1]\t[1, 1]\t2\n",
      "\n",
      "2)\n",
      "A\tB\tA+B\tlen(A+B)\n",
      "[1]\t[1]\t[2]\t1\n",
      "\n",
      "3)\n",
      "A:\n",
      "0    1\n",
      "1    2\n",
      "2    3\n",
      "dtype: int64\n",
      "\n",
      "B:\n",
      "2    3\n",
      "3    4\n",
      "4    5\n",
      "dtype: int64\n",
      "\n",
      "A+B:\n",
      "0    NaN\n",
      "1    NaN\n",
      "2    6.0\n",
      "3    NaN\n",
      "4    NaN\n",
      "dtype: float64\n",
      "\n",
      "len(A+B):\n",
      "5\n"
     ]
    }
   ],
   "source": [
    "#Код \n",
    "print(\"1)\")\n",
    "A = [1]\n",
    "B = [1]\n",
    "print(\"A\", \"B\", \"A+B\", \"len(A+B)\", sep=\"\\t\")\n",
    "print(A, B, A+B, len(A+B), sep=\"\\t\")\n",
    "\n",
    "print(\"\\n2)\")\n",
    "\n",
    "A = np.array([1])\n",
    "B = np.array([1])\n",
    "print(\"A\", \"B\", \"A+B\", \"len(A+B)\", sep=\"\\t\")\n",
    "print(A, B, A+B, len(A+B), sep=\"\\t\")\n",
    "\n",
    "\n",
    "print(\"\\n3)\")\n",
    "C = pd.Series([1, 2, 3, 4, 5])\n",
    "A = C[:3]\n",
    "B = C[2:]\n",
    "print(\"A:\", A, \"\\nB:\", B, \"\\nA+B:\", A+B, \"\\nlen(A+B):\", len(A+B), sep=\"\\n\")\n"
   ]
  },
  {
   "cell_type": "code",
   "execution_count": 86,
   "id": "4eb9afd0",
   "metadata": {},
   "outputs": [],
   "source": [
    "#Код \n",
    "# print(f\"Суммарная мощность выборок: {len(finished_project['lifetime']) + len(finished_win['lifetime'])}\")"
   ]
  },
  {
   "cell_type": "code",
   "execution_count": 87,
   "id": "9b6f665f",
   "metadata": {},
   "outputs": [
    {
     "data": {
      "text/plain": [
       "1866"
      ]
     },
     "execution_count": 87,
     "metadata": {},
     "output_type": "execute_result"
    }
   ],
   "source": [
    "len(finished_project['user_id'].unique())"
   ]
  },
  {
   "cell_type": "code",
   "execution_count": 88,
   "id": "cf3db747",
   "metadata": {},
   "outputs": [],
   "source": [
    "#print(f\"Суммарная мощность выборок: {len(game_user_finish_project) + len(game_user_finish_victory)}\")"
   ]
  },
  {
   "cell_type": "code",
   "execution_count": 89,
   "id": "5abe3dc0",
   "metadata": {},
   "outputs": [
    {
     "data": {
      "text/html": [
       "<div>\n",
       "<style scoped>\n",
       "    .dataframe tbody tr th:only-of-type {\n",
       "        vertical-align: middle;\n",
       "    }\n",
       "\n",
       "    .dataframe tbody tr th {\n",
       "        vertical-align: top;\n",
       "    }\n",
       "\n",
       "    .dataframe thead th {\n",
       "        text-align: right;\n",
       "    }\n",
       "</style>\n",
       "<table border=\"1\" class=\"dataframe\">\n",
       "  <thead>\n",
       "    <tr style=\"text-align: right;\">\n",
       "      <th></th>\n",
       "      <th>event_datetime</th>\n",
       "      <th>event</th>\n",
       "      <th>building_type</th>\n",
       "      <th>user_id</th>\n",
       "      <th>project_type</th>\n",
       "      <th>source</th>\n",
       "      <th>first_event_datetime</th>\n",
       "      <th>last_event_datetime</th>\n",
       "      <th>lifetime</th>\n",
       "    </tr>\n",
       "  </thead>\n",
       "  <tbody>\n",
       "    <tr>\n",
       "      <th>0</th>\n",
       "      <td>2020-05-04 00:00:03</td>\n",
       "      <td>building</td>\n",
       "      <td>assembly_shop</td>\n",
       "      <td>c07b1c10-f477-44dc-81dc-ec82254b1347</td>\n",
       "      <td>NaN</td>\n",
       "      <td>facebook_ads</td>\n",
       "      <td>2020-05-04</td>\n",
       "      <td>2020-05-15</td>\n",
       "      <td>11 days</td>\n",
       "    </tr>\n",
       "    <tr>\n",
       "      <th>1</th>\n",
       "      <td>2020-05-04 00:00:44</td>\n",
       "      <td>building</td>\n",
       "      <td>assembly_shop</td>\n",
       "      <td>65a92713-5969-48b1-8945-bfefa5063887</td>\n",
       "      <td>NaN</td>\n",
       "      <td>yandex_direct</td>\n",
       "      <td>2020-05-04</td>\n",
       "      <td>2020-05-18</td>\n",
       "      <td>14 days</td>\n",
       "    </tr>\n",
       "    <tr>\n",
       "      <th>2</th>\n",
       "      <td>2020-05-04 00:01:33</td>\n",
       "      <td>building</td>\n",
       "      <td>assembly_shop</td>\n",
       "      <td>fa352362-d258-472c-b295-2796ccc39fa3</td>\n",
       "      <td>NaN</td>\n",
       "      <td>youtube_channel_reklama</td>\n",
       "      <td>2020-05-04</td>\n",
       "      <td>2020-05-19</td>\n",
       "      <td>15 days</td>\n",
       "    </tr>\n",
       "    <tr>\n",
       "      <th>3</th>\n",
       "      <td>2020-05-04 00:02:56</td>\n",
       "      <td>building</td>\n",
       "      <td>assembly_shop</td>\n",
       "      <td>7b3b6554-7949-4065-9808-d6c79bdc2f58</td>\n",
       "      <td>NaN</td>\n",
       "      <td>instagram_new_adverts</td>\n",
       "      <td>2020-05-04</td>\n",
       "      <td>2020-05-15</td>\n",
       "      <td>11 days</td>\n",
       "    </tr>\n",
       "    <tr>\n",
       "      <th>4</th>\n",
       "      <td>2020-05-04 00:03:46</td>\n",
       "      <td>building</td>\n",
       "      <td>assembly_shop</td>\n",
       "      <td>b374304d-2f74-4cc1-a4e2-500da44a06c7</td>\n",
       "      <td>NaN</td>\n",
       "      <td>facebook_ads</td>\n",
       "      <td>2020-05-04</td>\n",
       "      <td>2020-05-15</td>\n",
       "      <td>11 days</td>\n",
       "    </tr>\n",
       "  </tbody>\n",
       "</table>\n",
       "</div>"
      ],
      "text/plain": [
       "       event_datetime     event  building_type  \\\n",
       "0 2020-05-04 00:00:03  building  assembly_shop   \n",
       "1 2020-05-04 00:00:44  building  assembly_shop   \n",
       "2 2020-05-04 00:01:33  building  assembly_shop   \n",
       "3 2020-05-04 00:02:56  building  assembly_shop   \n",
       "4 2020-05-04 00:03:46  building  assembly_shop   \n",
       "\n",
       "                                user_id project_type                   source  \\\n",
       "0  c07b1c10-f477-44dc-81dc-ec82254b1347          NaN             facebook_ads   \n",
       "1  65a92713-5969-48b1-8945-bfefa5063887          NaN            yandex_direct   \n",
       "2  fa352362-d258-472c-b295-2796ccc39fa3          NaN  youtube_channel_reklama   \n",
       "3  7b3b6554-7949-4065-9808-d6c79bdc2f58          NaN    instagram_new_adverts   \n",
       "4  b374304d-2f74-4cc1-a4e2-500da44a06c7          NaN             facebook_ads   \n",
       "\n",
       "  first_event_datetime last_event_datetime lifetime  \n",
       "0           2020-05-04          2020-05-15  11 days  \n",
       "1           2020-05-04          2020-05-18  14 days  \n",
       "2           2020-05-04          2020-05-19  15 days  \n",
       "3           2020-05-04          2020-05-15  11 days  \n",
       "4           2020-05-04          2020-05-15  11 days  "
      ]
     },
     "execution_count": 89,
     "metadata": {},
     "output_type": "execute_result"
    }
   ],
   "source": [
    "finished_project = finished_project.drop_duplicates(subset='user_id')\n",
    "finished_project.head()"
   ]
  },
  {
   "cell_type": "code",
   "execution_count": 90,
   "id": "6dfdbe8f",
   "metadata": {},
   "outputs": [
    {
     "data": {
      "text/html": [
       "<div>\n",
       "<style scoped>\n",
       "    .dataframe tbody tr th:only-of-type {\n",
       "        vertical-align: middle;\n",
       "    }\n",
       "\n",
       "    .dataframe tbody tr th {\n",
       "        vertical-align: top;\n",
       "    }\n",
       "\n",
       "    .dataframe thead th {\n",
       "        text-align: right;\n",
       "    }\n",
       "</style>\n",
       "<table border=\"1\" class=\"dataframe\">\n",
       "  <thead>\n",
       "    <tr style=\"text-align: right;\">\n",
       "      <th></th>\n",
       "      <th>event_datetime</th>\n",
       "      <th>event</th>\n",
       "      <th>building_type</th>\n",
       "      <th>user_id</th>\n",
       "      <th>project_type</th>\n",
       "      <th>source</th>\n",
       "      <th>first_event_datetime</th>\n",
       "      <th>last_event_datetime</th>\n",
       "      <th>lifetime</th>\n",
       "    </tr>\n",
       "  </thead>\n",
       "  <tbody>\n",
       "    <tr>\n",
       "      <th>0</th>\n",
       "      <td>2020-05-04 00:00:16</td>\n",
       "      <td>building</td>\n",
       "      <td>assembly_shop</td>\n",
       "      <td>6edd42cc-e753-4ff6-a947-2107cd560710</td>\n",
       "      <td>NaN</td>\n",
       "      <td>instagram_new_adverts</td>\n",
       "      <td>2020-05-04</td>\n",
       "      <td>2020-05-16</td>\n",
       "      <td>12 days</td>\n",
       "    </tr>\n",
       "    <tr>\n",
       "      <th>1</th>\n",
       "      <td>2020-05-04 00:00:35</td>\n",
       "      <td>building</td>\n",
       "      <td>assembly_shop</td>\n",
       "      <td>cdc6bb92-0ccb-4490-9866-ef142f09139d</td>\n",
       "      <td>NaN</td>\n",
       "      <td>yandex_direct</td>\n",
       "      <td>2020-05-04</td>\n",
       "      <td>2020-05-11</td>\n",
       "      <td>7 days</td>\n",
       "    </tr>\n",
       "    <tr>\n",
       "      <th>2</th>\n",
       "      <td>2020-05-04 00:00:36</td>\n",
       "      <td>building</td>\n",
       "      <td>assembly_shop</td>\n",
       "      <td>4fe0f101-694b-4e31-9740-d1d87f7208ea</td>\n",
       "      <td>NaN</td>\n",
       "      <td>facebook_ads</td>\n",
       "      <td>2020-05-04</td>\n",
       "      <td>2020-05-16</td>\n",
       "      <td>12 days</td>\n",
       "    </tr>\n",
       "    <tr>\n",
       "      <th>3</th>\n",
       "      <td>2020-05-04 00:02:24</td>\n",
       "      <td>building</td>\n",
       "      <td>assembly_shop</td>\n",
       "      <td>9c200ece-3b74-44c4-8a3f-260f2486c5d7</td>\n",
       "      <td>NaN</td>\n",
       "      <td>facebook_ads</td>\n",
       "      <td>2020-05-04</td>\n",
       "      <td>2020-05-12</td>\n",
       "      <td>8 days</td>\n",
       "    </tr>\n",
       "    <tr>\n",
       "      <th>4</th>\n",
       "      <td>2020-05-04 00:03:10</td>\n",
       "      <td>building</td>\n",
       "      <td>assembly_shop</td>\n",
       "      <td>02bf92c2-17a0-4156-be88-2054fb6b7421</td>\n",
       "      <td>NaN</td>\n",
       "      <td>yandex_direct</td>\n",
       "      <td>2020-05-04</td>\n",
       "      <td>2020-05-11</td>\n",
       "      <td>7 days</td>\n",
       "    </tr>\n",
       "  </tbody>\n",
       "</table>\n",
       "</div>"
      ],
      "text/plain": [
       "       event_datetime     event  building_type  \\\n",
       "0 2020-05-04 00:00:16  building  assembly_shop   \n",
       "1 2020-05-04 00:00:35  building  assembly_shop   \n",
       "2 2020-05-04 00:00:36  building  assembly_shop   \n",
       "3 2020-05-04 00:02:24  building  assembly_shop   \n",
       "4 2020-05-04 00:03:10  building  assembly_shop   \n",
       "\n",
       "                                user_id project_type                 source  \\\n",
       "0  6edd42cc-e753-4ff6-a947-2107cd560710          NaN  instagram_new_adverts   \n",
       "1  cdc6bb92-0ccb-4490-9866-ef142f09139d          NaN          yandex_direct   \n",
       "2  4fe0f101-694b-4e31-9740-d1d87f7208ea          NaN           facebook_ads   \n",
       "3  9c200ece-3b74-44c4-8a3f-260f2486c5d7          NaN           facebook_ads   \n",
       "4  02bf92c2-17a0-4156-be88-2054fb6b7421          NaN          yandex_direct   \n",
       "\n",
       "  first_event_datetime last_event_datetime lifetime  \n",
       "0           2020-05-04          2020-05-16  12 days  \n",
       "1           2020-05-04          2020-05-11   7 days  \n",
       "2           2020-05-04          2020-05-16  12 days  \n",
       "3           2020-05-04          2020-05-12   8 days  \n",
       "4           2020-05-04          2020-05-11   7 days  "
      ]
     },
     "execution_count": 90,
     "metadata": {},
     "output_type": "execute_result"
    }
   ],
   "source": [
    "finished_win = finished_win.drop_duplicates(subset='user_id')\n",
    "finished_win.head()"
   ]
  },
  {
   "cell_type": "code",
   "execution_count": 91,
   "id": "9c1a4b8e",
   "metadata": {},
   "outputs": [
    {
     "name": "stdout",
     "output_type": "stream",
     "text": [
      "Суммарная мощность выборок: 5817\n"
     ]
    }
   ],
   "source": [
    "print(f\"Суммарная мощность выборок: {len(finished_project) + len(finished_win)}\")"
   ]
  },
  {
   "cell_type": "code",
   "execution_count": 92,
   "id": "162883e4",
   "metadata": {},
   "outputs": [
    {
     "name": "stdout",
     "output_type": "stream",
     "text": [
      "T-статистика: 21.19347568064039\n",
      "p-значение: 4.363370007994992e-96\n"
     ]
    }
   ],
   "source": [
    "finished_project['lifetime'] = finished_project['lifetime'].dt.days\n",
    "finished_win['lifetime'] = finished_win['lifetime'].dt.days\n",
    "t_statistic, p_value = st.ttest_ind(finished_project['lifetime'], finished_win['lifetime'])\n",
    "print(\"T-статистика:\", t_statistic)\n",
    "print(\"p-значение:\", p_value)"
   ]
  },
  {
   "cell_type": "markdown",
   "id": "6cbce2f1",
   "metadata": {},
   "source": [
    "Время завершения уровня различается в зависимости способа прохождения.\n",
    "Получли значение t-test 61, то есть отклоняется на 21 среднекквадратичное отклонение, что много на самом деле, а p-value равное 4, показывает, вероятность отклониться.\n",
    "\n",
    "Нулевая гипотеза отвергается, альтернативную гипотезу отвергнуть не удалось."
   ]
  },
  {
   "cell_type": "markdown",
   "id": "af79dd69",
   "metadata": {},
   "source": [
    "## 4.2. Проверка 2 гипотезы"
   ]
  },
  {
   "cell_type": "markdown",
   "id": "332d4d4d",
   "metadata": {},
   "source": [
    "H0: Среднее время в игре пользователей из источника instagram_new_adverts равно среднему времени в игре пользователей из источника youtube_channel_reklama.\n",
    "\n",
    "H1: Среднее время в игре пользователей из источника instagram_new_adverts отличается от среднего времени в игре пользователей из источника youtube_channel_reklama."
   ]
  },
  {
   "cell_type": "code",
   "execution_count": 93,
   "id": "38013fbf",
   "metadata": {},
   "outputs": [
    {
     "name": "stdout",
     "output_type": "stream",
     "text": [
      "T-статистика: 1.6858508909796104\n",
      "P-значение: 0.0918791932701945\n"
     ]
    }
   ],
   "source": [
    "game_actions_unique = game_actions.drop_duplicates(subset='user_id')\n",
    "source_X_data = game_actions_unique[game_actions_unique['source'] == 'instagram_new_adverts']['lifetime'].dt.days\n",
    "source_Y_data = game_actions_unique[game_actions_unique['source'] == 'youtube_channel_reklama']['lifetime'].dt.days\n",
    "t_stat, p_value = ttest_ind(source_X_data, source_Y_data, equal_var=False)\n",
    "print('T-статистика:', t_stat)\n",
    "print('P-значение:', p_value)"
   ]
  },
  {
   "cell_type": "markdown",
   "id": "0b13fa4c",
   "metadata": {},
   "source": [
    "T-test = 1.6858508909796104 и p-value = 0.0918791932701945, есть небольшое отклонение среднего времени в игре между пользователяит из instagram_new_adverts и youtube_channel_reklama, но оно небольшое, также наше значение p-value > 0.05 (обычный порог для подтверждения нулевой гипотезы), значит среднее время в игре пользователей из источника instagram_new_adverts равно среднему времени в игре пользователей из источника youtube_channel_reklama.\n",
    "\n",
    "Нулевую гипотезу отвергнуть не удалось, альтернативная отвергается"
   ]
  },
  {
   "cell_type": "markdown",
   "id": "d75e9be8",
   "metadata": {},
   "source": [
    "## ВЫВОДЫ"
   ]
  },
  {
   "cell_type": "markdown",
   "id": "2bce8bdd",
   "metadata": {},
   "source": [
    "Анализ данных завершен. Была проведена обработка: удалены дубликаты, типы данных приведены к нужным форматам. \n",
    "В ходе работы удалось выяснить, что первый уровень закончили 42.8%. 57,2% игроков бросили играть.  Возможно стоит приложить усилия и придумать, как удерживать пользователей и мотивировать играть дальше.\n",
    "\n",
    "В игре есть 2 стратегии прохождения уровня - победа через проект или победа врага. 2/3 игроков, которые завершили первый уровень, выбрали стратегию сражения и победы над врагом, проведя в игред в среднем 11 дней до получения первого уровня. Игроки выбравшие стратегию выполнения проекта, в игре провели в среднем 11 дней. \n",
    "\n",
    "Прохождение проекта подразумевает постройку объектов. Среднее число построек равно 9. На отметке 7-8 построек наблюдается спад, это может быть связано с тем, что на этой отметке пользователи переходят на новый уровень победив врага или продолжают постройку сданий дальше. Возможно, здесь так же есть игроки, которые еще в процессе прохождения уровня.\n",
    "\n",
    "Пользователи привлекаются из 4 каналов: Ютуб, Фейсбук, Яндекс и Инстаграм. Наибольший поток  приходит из источника Яндекс Директ (), из источников Инстаграм и Фейсбук почти одинаковое приблизительно 2100. Реклама из источника Ютуб самая малочисленная. \n",
    "По стоимости одного пользователя дешевле всего обходятся каналы привлечения Ютуб и Яндекс. Наименьшие затраты на привлечение игроков у Ютуб — 0,4 у.е. Это вдвое меньше наиболее дорогого показателя у Фейсбук — 0,79 у.е.\n",
    "\n",
    "На проверку были выдвинуты 2 гипотезы о равенсве/различии времени в зависимости способа прохождения и о равенстве/различии среднего время в игре пользователей из источника instagram_new_adverts и среднего времени в игре пользователей из источника youtube_channel_reklama.\n",
    "\n",
    "В первом случае, время завершения уровня различается в зависимости способа прохождения.\n",
    "\n",
    "Во втором, среднее время в игре пользователей из источника instagram_new_adverts равно среднему времени в игре пользователей из источника youtube_channel_reklama. \n",
    "\n",
    "Наибольшее количество пользователей приходит из источника Яндекс Директ, из источников Инстаграм и Фейсбук почти одинаковое, приблизительно 2100. Реклама из источника Ютуб самая малочисленная.\n",
    "\n",
    "В контексте стоимости привлечения одного пользователя, каналы Ютуб и Яндекс оказываются наиболее экономичными. Наиболее дорогой источник - Фейсбук, в то время как Яндекс и Ютуб показывают наименьшую стоимость привлечения одного пользователя, 0.46 и 0.40 у.е. соответственно. Это говорит о том, что именно эти источники являются наиболее эффективными в плане бюджета на рекламу.\n",
    "\n",
    "Однако, когда мы рассматриваем продолжительность жизни пользователей, то есть время, в течение которого они остаются активными в игре, мы видим, что все источники в целом демонстрируют схожие результаты, около 10.5 - 10.7 дней.\n",
    "\n",
    "Интересно, что, несмотря на то что Ютуб привлекает меньшее количество пользователей и имеет наименьшую стоимость привлечения, пользователи из этого источника проводят в игре примерно столько же времени, сколько и пользователи из других источников. Таким образом, Ютуб может оказаться очень эффективным каналом с точки зрения соотношения стоимости и вовлеченности пользователей.\n",
    "\n",
    "Игроки из каналов Инвстаграм и Ютуб чаще немного чаще доходят до первого уровня, чем игроки из источникоа Фейсбук и Яндекс.\n",
    "\n",
    "Особых различий в поведении пользователей по каналам выявить не удалось.\n",
    "\n",
    "Получается, что в инстаграм стоимость пользователя (сас) достаточно высокая, возможно, стоит направить средства на рекламу в источниках Яндекс и Ютуб, ведь они привлекают такое же количество игроков, но это получается дешевле. Фейсбук и инстаграм выходят немного дороже, но плохими источниками пользователей их назвать нельзя. С ними тоже  можно работать. Для оптимизации средств, возможно, стоит распределить рекламный бюджет немного иначе.\n"
   ]
  }
 ],
 "metadata": {
  "ExecuteTimeLog": [
   {
    "duration": 1168,
    "start_time": "2023-06-05T06:07:01.291Z"
   },
   {
    "duration": 134,
    "start_time": "2023-06-05T06:07:02.462Z"
   },
   {
    "duration": 0,
    "start_time": "2023-06-05T06:07:02.599Z"
   },
   {
    "duration": 0,
    "start_time": "2023-06-05T06:07:02.600Z"
   },
   {
    "duration": 0,
    "start_time": "2023-06-05T06:07:02.601Z"
   },
   {
    "duration": 0,
    "start_time": "2023-06-05T06:07:02.602Z"
   },
   {
    "duration": 0,
    "start_time": "2023-06-05T06:07:02.603Z"
   },
   {
    "duration": 0,
    "start_time": "2023-06-05T06:07:02.604Z"
   },
   {
    "duration": 0,
    "start_time": "2023-06-05T06:07:02.605Z"
   },
   {
    "duration": 0,
    "start_time": "2023-06-05T06:07:02.606Z"
   },
   {
    "duration": 0,
    "start_time": "2023-06-05T06:07:02.606Z"
   },
   {
    "duration": 0,
    "start_time": "2023-06-05T06:07:02.607Z"
   },
   {
    "duration": 0,
    "start_time": "2023-06-05T06:07:02.608Z"
   },
   {
    "duration": 0,
    "start_time": "2023-06-05T06:07:02.609Z"
   },
   {
    "duration": 0,
    "start_time": "2023-06-05T06:07:02.624Z"
   },
   {
    "duration": 0,
    "start_time": "2023-06-05T06:07:02.625Z"
   },
   {
    "duration": 0,
    "start_time": "2023-06-05T06:07:02.626Z"
   },
   {
    "duration": 0,
    "start_time": "2023-06-05T06:07:02.627Z"
   },
   {
    "duration": 0,
    "start_time": "2023-06-05T06:07:02.628Z"
   },
   {
    "duration": 0,
    "start_time": "2023-06-05T06:07:02.629Z"
   },
   {
    "duration": 0,
    "start_time": "2023-06-05T06:07:02.630Z"
   },
   {
    "duration": 0,
    "start_time": "2023-06-05T06:07:02.631Z"
   },
   {
    "duration": 0,
    "start_time": "2023-06-05T06:07:02.632Z"
   },
   {
    "duration": 0,
    "start_time": "2023-06-05T06:07:02.634Z"
   },
   {
    "duration": 0,
    "start_time": "2023-06-05T06:07:02.635Z"
   },
   {
    "duration": 0,
    "start_time": "2023-06-05T06:07:02.636Z"
   },
   {
    "duration": 0,
    "start_time": "2023-06-05T06:07:02.637Z"
   },
   {
    "duration": 0,
    "start_time": "2023-06-05T06:07:02.638Z"
   },
   {
    "duration": 0,
    "start_time": "2023-06-05T06:07:02.638Z"
   },
   {
    "duration": 0,
    "start_time": "2023-06-05T06:07:02.639Z"
   },
   {
    "duration": 0,
    "start_time": "2023-06-05T06:07:02.640Z"
   },
   {
    "duration": 0,
    "start_time": "2023-06-05T06:07:02.641Z"
   },
   {
    "duration": 0,
    "start_time": "2023-06-05T06:07:02.642Z"
   },
   {
    "duration": 0,
    "start_time": "2023-06-05T06:07:02.644Z"
   },
   {
    "duration": 0,
    "start_time": "2023-06-05T06:07:02.645Z"
   },
   {
    "duration": 0,
    "start_time": "2023-06-05T06:07:02.646Z"
   },
   {
    "duration": 0,
    "start_time": "2023-06-05T06:07:02.647Z"
   },
   {
    "duration": 0,
    "start_time": "2023-06-05T06:07:02.648Z"
   },
   {
    "duration": 0,
    "start_time": "2023-06-05T06:07:02.649Z"
   },
   {
    "duration": 0,
    "start_time": "2023-06-05T06:07:02.650Z"
   },
   {
    "duration": 0,
    "start_time": "2023-06-05T06:07:02.651Z"
   },
   {
    "duration": 0,
    "start_time": "2023-06-05T06:07:02.652Z"
   },
   {
    "duration": 0,
    "start_time": "2023-06-05T06:07:02.653Z"
   },
   {
    "duration": 0,
    "start_time": "2023-06-05T06:07:02.654Z"
   },
   {
    "duration": 0,
    "start_time": "2023-06-05T06:07:02.655Z"
   },
   {
    "duration": 0,
    "start_time": "2023-06-05T06:07:02.656Z"
   },
   {
    "duration": 0,
    "start_time": "2023-06-05T06:07:02.657Z"
   },
   {
    "duration": 1,
    "start_time": "2023-06-05T06:07:02.658Z"
   },
   {
    "duration": 0,
    "start_time": "2023-06-05T06:07:02.659Z"
   },
   {
    "duration": 0,
    "start_time": "2023-06-05T06:07:02.661Z"
   },
   {
    "duration": 0,
    "start_time": "2023-06-05T06:07:02.662Z"
   },
   {
    "duration": 0,
    "start_time": "2023-06-05T06:07:02.725Z"
   },
   {
    "duration": 0,
    "start_time": "2023-06-05T06:07:02.726Z"
   },
   {
    "duration": 0,
    "start_time": "2023-06-05T06:07:02.727Z"
   },
   {
    "duration": 0,
    "start_time": "2023-06-05T06:07:02.728Z"
   },
   {
    "duration": 249,
    "start_time": "2023-06-05T06:07:40.034Z"
   },
   {
    "duration": 1134,
    "start_time": "2023-06-05T06:07:47.024Z"
   },
   {
    "duration": 232,
    "start_time": "2023-06-05T06:07:48.159Z"
   },
   {
    "duration": 10,
    "start_time": "2023-06-05T06:07:48.393Z"
   },
   {
    "duration": 41,
    "start_time": "2023-06-05T06:07:48.405Z"
   },
   {
    "duration": 37,
    "start_time": "2023-06-05T06:07:48.447Z"
   },
   {
    "duration": 22,
    "start_time": "2023-06-05T06:07:48.486Z"
   },
   {
    "duration": 58,
    "start_time": "2023-06-05T06:07:48.510Z"
   },
   {
    "duration": 78,
    "start_time": "2023-06-05T06:07:48.569Z"
   },
   {
    "duration": 9,
    "start_time": "2023-06-05T06:07:48.648Z"
   },
   {
    "duration": 17,
    "start_time": "2023-06-05T06:07:48.659Z"
   },
   {
    "duration": 18,
    "start_time": "2023-06-05T06:07:48.678Z"
   },
   {
    "duration": 26,
    "start_time": "2023-06-05T06:07:48.697Z"
   },
   {
    "duration": 14,
    "start_time": "2023-06-05T06:07:48.725Z"
   },
   {
    "duration": 22,
    "start_time": "2023-06-05T06:07:48.741Z"
   },
   {
    "duration": 9,
    "start_time": "2023-06-05T06:07:48.764Z"
   },
   {
    "duration": 13,
    "start_time": "2023-06-05T06:07:48.775Z"
   },
   {
    "duration": 14,
    "start_time": "2023-06-05T06:07:48.790Z"
   },
   {
    "duration": 26,
    "start_time": "2023-06-05T06:07:48.805Z"
   },
   {
    "duration": 23,
    "start_time": "2023-06-05T06:07:48.833Z"
   },
   {
    "duration": 5,
    "start_time": "2023-06-05T06:07:48.857Z"
   },
   {
    "duration": 40,
    "start_time": "2023-06-05T06:07:48.863Z"
   },
   {
    "duration": 12,
    "start_time": "2023-06-05T06:07:48.905Z"
   },
   {
    "duration": 51,
    "start_time": "2023-06-05T06:07:48.919Z"
   },
   {
    "duration": 213,
    "start_time": "2023-06-05T06:07:48.971Z"
   },
   {
    "duration": 124,
    "start_time": "2023-06-05T06:07:49.186Z"
   },
   {
    "duration": 63,
    "start_time": "2023-06-05T06:07:49.312Z"
   },
   {
    "duration": 77,
    "start_time": "2023-06-05T06:07:49.376Z"
   },
   {
    "duration": 197,
    "start_time": "2023-06-05T06:07:49.456Z"
   },
   {
    "duration": 15,
    "start_time": "2023-06-05T06:07:49.655Z"
   },
   {
    "duration": 14,
    "start_time": "2023-06-05T06:07:49.672Z"
   },
   {
    "duration": 302,
    "start_time": "2023-06-05T06:07:49.687Z"
   },
   {
    "duration": 45,
    "start_time": "2023-06-05T06:07:49.991Z"
   },
   {
    "duration": 49,
    "start_time": "2023-06-05T06:07:50.038Z"
   },
   {
    "duration": 7,
    "start_time": "2023-06-05T06:07:50.088Z"
   },
   {
    "duration": 37,
    "start_time": "2023-06-05T06:07:50.097Z"
   },
   {
    "duration": 5,
    "start_time": "2023-06-05T06:07:50.136Z"
   },
   {
    "duration": 557,
    "start_time": "2023-06-05T06:07:50.142Z"
   },
   {
    "duration": 4,
    "start_time": "2023-06-05T06:07:50.701Z"
   },
   {
    "duration": 33,
    "start_time": "2023-06-05T06:07:50.706Z"
   },
   {
    "duration": 77,
    "start_time": "2023-06-05T06:07:50.740Z"
   },
   {
    "duration": 116,
    "start_time": "2023-06-05T06:07:50.818Z"
   },
   {
    "duration": 30,
    "start_time": "2023-06-05T06:07:50.936Z"
   },
   {
    "duration": 181,
    "start_time": "2023-06-05T06:07:50.968Z"
   },
   {
    "duration": 10,
    "start_time": "2023-06-05T06:07:51.151Z"
   },
   {
    "duration": 19,
    "start_time": "2023-06-05T06:07:51.162Z"
   },
   {
    "duration": 48,
    "start_time": "2023-06-05T06:07:51.182Z"
   },
   {
    "duration": 17,
    "start_time": "2023-06-05T06:07:51.232Z"
   },
   {
    "duration": 3,
    "start_time": "2023-06-05T06:07:51.250Z"
   },
   {
    "duration": 19,
    "start_time": "2023-06-05T06:07:51.255Z"
   },
   {
    "duration": 19,
    "start_time": "2023-06-05T06:07:51.275Z"
   },
   {
    "duration": 4,
    "start_time": "2023-06-05T06:07:51.296Z"
   },
   {
    "duration": 17,
    "start_time": "2023-06-05T06:07:51.302Z"
   },
   {
    "duration": 130,
    "start_time": "2023-06-05T06:07:51.320Z"
   },
   {
    "duration": 7,
    "start_time": "2023-06-05T06:07:51.452Z"
   },
   {
    "duration": 34,
    "start_time": "2023-06-05T06:07:51.460Z"
   },
   {
    "duration": 6,
    "start_time": "2023-06-05T06:13:21.137Z"
   },
   {
    "duration": 4,
    "start_time": "2023-06-05T06:13:34.482Z"
   },
   {
    "duration": 95,
    "start_time": "2023-06-05T06:15:43.360Z"
   },
   {
    "duration": 4,
    "start_time": "2023-06-05T06:15:52.383Z"
   },
   {
    "duration": 7,
    "start_time": "2023-06-05T06:16:16.609Z"
   },
   {
    "duration": 8,
    "start_time": "2023-06-05T06:16:21.818Z"
   },
   {
    "duration": 5,
    "start_time": "2023-06-05T06:16:30.738Z"
   },
   {
    "duration": 6,
    "start_time": "2023-06-05T06:16:33.961Z"
   },
   {
    "duration": 1103,
    "start_time": "2023-06-05T06:20:14.053Z"
   },
   {
    "duration": 152,
    "start_time": "2023-06-05T06:20:15.158Z"
   },
   {
    "duration": 0,
    "start_time": "2023-06-05T06:20:15.316Z"
   },
   {
    "duration": 0,
    "start_time": "2023-06-05T06:20:15.324Z"
   },
   {
    "duration": 0,
    "start_time": "2023-06-05T06:20:15.325Z"
   },
   {
    "duration": 0,
    "start_time": "2023-06-05T06:20:15.327Z"
   },
   {
    "duration": 0,
    "start_time": "2023-06-05T06:20:15.328Z"
   },
   {
    "duration": 0,
    "start_time": "2023-06-05T06:20:15.330Z"
   },
   {
    "duration": 0,
    "start_time": "2023-06-05T06:20:15.331Z"
   },
   {
    "duration": 0,
    "start_time": "2023-06-05T06:20:15.333Z"
   },
   {
    "duration": 0,
    "start_time": "2023-06-05T06:20:15.334Z"
   },
   {
    "duration": 0,
    "start_time": "2023-06-05T06:20:15.335Z"
   },
   {
    "duration": 0,
    "start_time": "2023-06-05T06:20:15.336Z"
   },
   {
    "duration": 0,
    "start_time": "2023-06-05T06:20:15.338Z"
   },
   {
    "duration": 0,
    "start_time": "2023-06-05T06:20:15.339Z"
   },
   {
    "duration": 0,
    "start_time": "2023-06-05T06:20:15.341Z"
   },
   {
    "duration": 0,
    "start_time": "2023-06-05T06:20:15.343Z"
   },
   {
    "duration": 0,
    "start_time": "2023-06-05T06:20:15.344Z"
   },
   {
    "duration": 0,
    "start_time": "2023-06-05T06:20:15.345Z"
   },
   {
    "duration": 0,
    "start_time": "2023-06-05T06:20:15.347Z"
   },
   {
    "duration": 0,
    "start_time": "2023-06-05T06:20:15.348Z"
   },
   {
    "duration": 0,
    "start_time": "2023-06-05T06:20:15.350Z"
   },
   {
    "duration": 0,
    "start_time": "2023-06-05T06:20:15.351Z"
   },
   {
    "duration": 0,
    "start_time": "2023-06-05T06:20:15.352Z"
   },
   {
    "duration": 0,
    "start_time": "2023-06-05T06:20:15.353Z"
   },
   {
    "duration": 0,
    "start_time": "2023-06-05T06:20:15.354Z"
   },
   {
    "duration": 0,
    "start_time": "2023-06-05T06:20:15.355Z"
   },
   {
    "duration": 0,
    "start_time": "2023-06-05T06:20:15.355Z"
   },
   {
    "duration": 0,
    "start_time": "2023-06-05T06:20:15.356Z"
   },
   {
    "duration": 0,
    "start_time": "2023-06-05T06:20:15.357Z"
   },
   {
    "duration": 0,
    "start_time": "2023-06-05T06:20:15.358Z"
   },
   {
    "duration": 0,
    "start_time": "2023-06-05T06:20:15.359Z"
   },
   {
    "duration": 0,
    "start_time": "2023-06-05T06:20:15.360Z"
   },
   {
    "duration": 0,
    "start_time": "2023-06-05T06:20:15.361Z"
   },
   {
    "duration": 0,
    "start_time": "2023-06-05T06:20:15.362Z"
   },
   {
    "duration": 0,
    "start_time": "2023-06-05T06:20:15.424Z"
   },
   {
    "duration": 0,
    "start_time": "2023-06-05T06:20:15.425Z"
   },
   {
    "duration": 0,
    "start_time": "2023-06-05T06:20:15.426Z"
   },
   {
    "duration": 0,
    "start_time": "2023-06-05T06:20:15.427Z"
   },
   {
    "duration": 0,
    "start_time": "2023-06-05T06:20:15.428Z"
   },
   {
    "duration": 0,
    "start_time": "2023-06-05T06:20:15.429Z"
   },
   {
    "duration": 0,
    "start_time": "2023-06-05T06:20:15.430Z"
   },
   {
    "duration": 0,
    "start_time": "2023-06-05T06:20:15.432Z"
   },
   {
    "duration": 0,
    "start_time": "2023-06-05T06:20:15.433Z"
   },
   {
    "duration": 0,
    "start_time": "2023-06-05T06:20:15.434Z"
   },
   {
    "duration": 0,
    "start_time": "2023-06-05T06:20:15.434Z"
   },
   {
    "duration": 0,
    "start_time": "2023-06-05T06:20:15.435Z"
   },
   {
    "duration": 0,
    "start_time": "2023-06-05T06:20:15.436Z"
   },
   {
    "duration": 0,
    "start_time": "2023-06-05T06:20:15.437Z"
   },
   {
    "duration": 0,
    "start_time": "2023-06-05T06:20:15.438Z"
   },
   {
    "duration": 0,
    "start_time": "2023-06-05T06:20:15.439Z"
   },
   {
    "duration": 0,
    "start_time": "2023-06-05T06:20:15.440Z"
   },
   {
    "duration": 0,
    "start_time": "2023-06-05T06:20:15.441Z"
   },
   {
    "duration": 0,
    "start_time": "2023-06-05T06:20:15.442Z"
   },
   {
    "duration": 0,
    "start_time": "2023-06-05T06:20:15.443Z"
   },
   {
    "duration": 0,
    "start_time": "2023-06-05T06:20:15.444Z"
   },
   {
    "duration": 75,
    "start_time": "2023-06-09T06:32:08.037Z"
   },
   {
    "duration": 1523,
    "start_time": "2023-06-09T06:37:18.459Z"
   },
   {
    "duration": 1683,
    "start_time": "2023-06-09T06:37:19.984Z"
   },
   {
    "duration": 20,
    "start_time": "2023-06-09T06:37:21.669Z"
   },
   {
    "duration": 60,
    "start_time": "2023-06-09T06:37:21.691Z"
   },
   {
    "duration": 65,
    "start_time": "2023-06-09T06:37:21.753Z"
   },
   {
    "duration": 30,
    "start_time": "2023-06-09T06:37:21.820Z"
   },
   {
    "duration": 109,
    "start_time": "2023-06-09T06:37:21.852Z"
   },
   {
    "duration": 96,
    "start_time": "2023-06-09T06:37:21.962Z"
   },
   {
    "duration": 11,
    "start_time": "2023-06-09T06:37:22.059Z"
   },
   {
    "duration": 50,
    "start_time": "2023-06-09T06:37:22.072Z"
   },
   {
    "duration": 28,
    "start_time": "2023-06-09T06:37:22.124Z"
   },
   {
    "duration": 12,
    "start_time": "2023-06-09T06:37:22.153Z"
   },
   {
    "duration": 7,
    "start_time": "2023-06-09T06:37:22.166Z"
   },
   {
    "duration": 20,
    "start_time": "2023-06-09T06:37:22.179Z"
   },
   {
    "duration": 10,
    "start_time": "2023-06-09T06:37:22.201Z"
   },
   {
    "duration": 29,
    "start_time": "2023-06-09T06:37:22.213Z"
   },
   {
    "duration": 18,
    "start_time": "2023-06-09T06:37:22.243Z"
   },
   {
    "duration": 24,
    "start_time": "2023-06-09T06:37:22.263Z"
   },
   {
    "duration": 30,
    "start_time": "2023-06-09T06:37:22.293Z"
   },
   {
    "duration": 10,
    "start_time": "2023-06-09T06:37:22.324Z"
   },
   {
    "duration": 24,
    "start_time": "2023-06-09T06:37:22.335Z"
   },
   {
    "duration": 11,
    "start_time": "2023-06-09T06:37:22.361Z"
   },
   {
    "duration": 25,
    "start_time": "2023-06-09T06:37:22.373Z"
   },
   {
    "duration": 12,
    "start_time": "2023-06-09T06:37:22.400Z"
   },
   {
    "duration": 8,
    "start_time": "2023-06-09T06:37:22.415Z"
   },
   {
    "duration": 38,
    "start_time": "2023-06-09T06:37:22.426Z"
   },
   {
    "duration": 36,
    "start_time": "2023-06-09T06:37:22.465Z"
   },
   {
    "duration": 94,
    "start_time": "2023-06-09T06:37:22.503Z"
   },
   {
    "duration": 20,
    "start_time": "2023-06-09T06:37:22.599Z"
   },
   {
    "duration": 12,
    "start_time": "2023-06-09T06:37:22.624Z"
   },
   {
    "duration": 9,
    "start_time": "2023-06-09T06:37:22.638Z"
   },
   {
    "duration": 35,
    "start_time": "2023-06-09T06:37:22.648Z"
   },
   {
    "duration": 12,
    "start_time": "2023-06-09T06:37:22.685Z"
   },
   {
    "duration": 273,
    "start_time": "2023-06-09T06:37:22.699Z"
   },
   {
    "duration": 9,
    "start_time": "2023-06-09T06:37:22.973Z"
   },
   {
    "duration": 195,
    "start_time": "2023-06-09T06:37:22.984Z"
   },
   {
    "duration": 79,
    "start_time": "2023-06-09T06:37:23.180Z"
   },
   {
    "duration": 945,
    "start_time": "2023-06-09T06:37:23.260Z"
   },
   {
    "duration": 5,
    "start_time": "2023-06-09T06:37:24.208Z"
   },
   {
    "duration": 224,
    "start_time": "2023-06-09T06:37:24.215Z"
   },
   {
    "duration": 259,
    "start_time": "2023-06-09T06:37:24.444Z"
   },
   {
    "duration": 83,
    "start_time": "2023-06-09T06:37:24.705Z"
   },
   {
    "duration": 103,
    "start_time": "2023-06-09T06:37:24.790Z"
   },
   {
    "duration": 295,
    "start_time": "2023-06-09T06:37:24.895Z"
   },
   {
    "duration": 22,
    "start_time": "2023-06-09T06:37:25.193Z"
   },
   {
    "duration": 8,
    "start_time": "2023-06-09T06:37:25.218Z"
   },
   {
    "duration": 344,
    "start_time": "2023-06-09T06:37:25.228Z"
   },
   {
    "duration": 41,
    "start_time": "2023-06-09T06:37:25.574Z"
   },
   {
    "duration": 47,
    "start_time": "2023-06-09T06:37:25.616Z"
   },
   {
    "duration": 36,
    "start_time": "2023-06-09T06:37:25.665Z"
   },
   {
    "duration": 16,
    "start_time": "2023-06-09T06:37:25.703Z"
   },
   {
    "duration": 12,
    "start_time": "2023-06-09T06:37:25.722Z"
   },
   {
    "duration": 31,
    "start_time": "2023-06-09T06:37:25.736Z"
   },
   {
    "duration": 43,
    "start_time": "2023-06-09T06:37:25.769Z"
   },
   {
    "duration": 9,
    "start_time": "2023-06-09T06:37:25.814Z"
   },
   {
    "duration": 608,
    "start_time": "2023-06-09T06:37:25.825Z"
   },
   {
    "duration": 5,
    "start_time": "2023-06-09T06:37:26.435Z"
   },
   {
    "duration": 4,
    "start_time": "2023-06-09T06:37:26.441Z"
   },
   {
    "duration": 100,
    "start_time": "2023-06-09T06:37:26.446Z"
   },
   {
    "duration": 182,
    "start_time": "2023-06-09T06:37:26.548Z"
   },
   {
    "duration": 32,
    "start_time": "2023-06-09T06:37:26.732Z"
   },
   {
    "duration": 146,
    "start_time": "2023-06-09T06:37:26.765Z"
   },
   {
    "duration": 129,
    "start_time": "2023-06-09T06:37:26.914Z"
   },
   {
    "duration": 0,
    "start_time": "2023-06-09T06:37:27.044Z"
   },
   {
    "duration": 0,
    "start_time": "2023-06-09T06:37:27.046Z"
   },
   {
    "duration": 1,
    "start_time": "2023-06-09T06:37:27.046Z"
   },
   {
    "duration": 0,
    "start_time": "2023-06-09T06:37:27.048Z"
   },
   {
    "duration": 0,
    "start_time": "2023-06-09T06:37:27.048Z"
   },
   {
    "duration": 0,
    "start_time": "2023-06-09T06:37:27.049Z"
   },
   {
    "duration": 0,
    "start_time": "2023-06-09T06:37:27.051Z"
   },
   {
    "duration": 0,
    "start_time": "2023-06-09T06:37:27.052Z"
   },
   {
    "duration": 0,
    "start_time": "2023-06-09T06:37:27.053Z"
   },
   {
    "duration": 0,
    "start_time": "2023-06-09T06:37:27.054Z"
   },
   {
    "duration": 0,
    "start_time": "2023-06-09T06:37:27.054Z"
   },
   {
    "duration": 0,
    "start_time": "2023-06-09T06:37:27.055Z"
   },
   {
    "duration": 0,
    "start_time": "2023-06-09T06:37:27.057Z"
   },
   {
    "duration": 0,
    "start_time": "2023-06-09T06:37:27.078Z"
   },
   {
    "duration": 4,
    "start_time": "2023-06-09T06:37:45.626Z"
   },
   {
    "duration": 22,
    "start_time": "2023-06-09T06:39:38.871Z"
   },
   {
    "duration": 7,
    "start_time": "2023-06-09T06:39:39.120Z"
   },
   {
    "duration": 41,
    "start_time": "2023-06-09T06:39:39.313Z"
   },
   {
    "duration": 19,
    "start_time": "2023-06-09T06:39:39.526Z"
   },
   {
    "duration": 3,
    "start_time": "2023-06-09T06:39:39.731Z"
   },
   {
    "duration": 6,
    "start_time": "2023-06-09T06:39:39.938Z"
   },
   {
    "duration": 7,
    "start_time": "2023-06-09T06:39:40.155Z"
   },
   {
    "duration": 5,
    "start_time": "2023-06-09T06:39:40.354Z"
   },
   {
    "duration": 11,
    "start_time": "2023-06-09T06:39:40.666Z"
   },
   {
    "duration": 196,
    "start_time": "2023-06-09T06:39:40.875Z"
   },
   {
    "duration": 3,
    "start_time": "2023-06-09T06:39:42.738Z"
   },
   {
    "duration": 3,
    "start_time": "2023-06-09T06:39:42.916Z"
   },
   {
    "duration": 21,
    "start_time": "2023-06-09T06:39:44.005Z"
   },
   {
    "duration": 9,
    "start_time": "2023-06-09T06:40:15.643Z"
   },
   {
    "duration": 14,
    "start_time": "2023-06-09T06:40:42.346Z"
   },
   {
    "duration": 14,
    "start_time": "2023-06-09T06:40:51.617Z"
   },
   {
    "duration": 13,
    "start_time": "2023-06-09T06:45:25.618Z"
   },
   {
    "duration": 3,
    "start_time": "2023-06-09T06:49:43.464Z"
   },
   {
    "duration": 6,
    "start_time": "2023-06-09T06:52:08.319Z"
   },
   {
    "duration": 7,
    "start_time": "2023-06-09T06:52:44.306Z"
   },
   {
    "duration": 5,
    "start_time": "2023-06-09T06:52:57.830Z"
   },
   {
    "duration": 5,
    "start_time": "2023-06-09T06:53:10.438Z"
   },
   {
    "duration": 17,
    "start_time": "2023-06-09T06:53:14.320Z"
   },
   {
    "duration": 156,
    "start_time": "2023-06-09T06:53:33.614Z"
   },
   {
    "duration": 6,
    "start_time": "2023-06-09T06:53:35.616Z"
   },
   {
    "duration": 29,
    "start_time": "2023-06-09T06:54:36.774Z"
   },
   {
    "duration": 10,
    "start_time": "2023-06-09T06:54:48.941Z"
   },
   {
    "duration": 13,
    "start_time": "2023-06-09T06:55:08.626Z"
   },
   {
    "duration": 11,
    "start_time": "2023-06-09T06:55:12.322Z"
   },
   {
    "duration": 17,
    "start_time": "2023-06-09T06:55:52.684Z"
   },
   {
    "duration": 11,
    "start_time": "2023-06-09T06:56:10.565Z"
   },
   {
    "duration": 10,
    "start_time": "2023-06-09T06:56:17.124Z"
   },
   {
    "duration": 16,
    "start_time": "2023-06-09T06:56:25.903Z"
   },
   {
    "duration": 23,
    "start_time": "2023-06-09T06:56:33.694Z"
   },
   {
    "duration": 15,
    "start_time": "2023-06-09T06:56:39.006Z"
   },
   {
    "duration": 21,
    "start_time": "2023-06-09T06:56:46.778Z"
   },
   {
    "duration": 10,
    "start_time": "2023-06-09T06:57:06.036Z"
   },
   {
    "duration": 10,
    "start_time": "2023-06-09T06:57:08.532Z"
   },
   {
    "duration": 11,
    "start_time": "2023-06-09T06:57:37.920Z"
   },
   {
    "duration": 16,
    "start_time": "2023-06-09T06:59:24.706Z"
   },
   {
    "duration": 31,
    "start_time": "2023-06-09T07:01:55.267Z"
   },
   {
    "duration": 24,
    "start_time": "2023-06-09T07:02:19.874Z"
   },
   {
    "duration": 25,
    "start_time": "2023-06-09T07:02:30.105Z"
   },
   {
    "duration": 12,
    "start_time": "2023-06-09T07:02:58.329Z"
   },
   {
    "duration": 1408,
    "start_time": "2023-06-09T08:40:04.831Z"
   },
   {
    "duration": 921,
    "start_time": "2023-06-09T08:40:06.241Z"
   },
   {
    "duration": 15,
    "start_time": "2023-06-09T08:40:07.165Z"
   },
   {
    "duration": 52,
    "start_time": "2023-06-09T08:40:07.182Z"
   },
   {
    "duration": 43,
    "start_time": "2023-06-09T08:40:07.237Z"
   },
   {
    "duration": 24,
    "start_time": "2023-06-09T08:40:07.281Z"
   },
   {
    "duration": 79,
    "start_time": "2023-06-09T08:40:07.306Z"
   },
   {
    "duration": 77,
    "start_time": "2023-06-09T08:40:07.386Z"
   },
   {
    "duration": 11,
    "start_time": "2023-06-09T08:40:07.466Z"
   },
   {
    "duration": 62,
    "start_time": "2023-06-09T08:40:07.478Z"
   },
   {
    "duration": 38,
    "start_time": "2023-06-09T08:40:07.543Z"
   },
   {
    "duration": 16,
    "start_time": "2023-06-09T08:40:07.583Z"
   },
   {
    "duration": 9,
    "start_time": "2023-06-09T08:40:07.601Z"
   },
   {
    "duration": 21,
    "start_time": "2023-06-09T08:40:07.613Z"
   },
   {
    "duration": 8,
    "start_time": "2023-06-09T08:40:07.636Z"
   },
   {
    "duration": 14,
    "start_time": "2023-06-09T08:40:07.645Z"
   },
   {
    "duration": 27,
    "start_time": "2023-06-09T08:40:07.661Z"
   },
   {
    "duration": 7,
    "start_time": "2023-06-09T08:40:07.690Z"
   },
   {
    "duration": 12,
    "start_time": "2023-06-09T08:40:07.698Z"
   },
   {
    "duration": 8,
    "start_time": "2023-06-09T08:40:07.711Z"
   },
   {
    "duration": 10,
    "start_time": "2023-06-09T08:40:07.721Z"
   },
   {
    "duration": 12,
    "start_time": "2023-06-09T08:40:07.733Z"
   },
   {
    "duration": 17,
    "start_time": "2023-06-09T08:40:07.747Z"
   },
   {
    "duration": 24,
    "start_time": "2023-06-09T08:40:07.766Z"
   },
   {
    "duration": 23,
    "start_time": "2023-06-09T08:40:07.792Z"
   },
   {
    "duration": 64,
    "start_time": "2023-06-09T08:40:07.817Z"
   },
   {
    "duration": 15,
    "start_time": "2023-06-09T08:40:07.883Z"
   },
   {
    "duration": 102,
    "start_time": "2023-06-09T08:40:07.900Z"
   },
   {
    "duration": 12,
    "start_time": "2023-06-09T08:40:08.004Z"
   },
   {
    "duration": 16,
    "start_time": "2023-06-09T08:40:08.018Z"
   },
   {
    "duration": 24,
    "start_time": "2023-06-09T08:40:08.036Z"
   },
   {
    "duration": 34,
    "start_time": "2023-06-09T08:40:08.062Z"
   },
   {
    "duration": 11,
    "start_time": "2023-06-09T08:40:08.097Z"
   },
   {
    "duration": 283,
    "start_time": "2023-06-09T08:40:08.110Z"
   },
   {
    "duration": 4,
    "start_time": "2023-06-09T08:40:08.395Z"
   },
   {
    "duration": 186,
    "start_time": "2023-06-09T08:40:08.401Z"
   },
   {
    "duration": 75,
    "start_time": "2023-06-09T08:40:08.588Z"
   },
   {
    "duration": 783,
    "start_time": "2023-06-09T08:40:08.665Z"
   },
   {
    "duration": 7,
    "start_time": "2023-06-09T08:40:09.449Z"
   },
   {
    "duration": 179,
    "start_time": "2023-06-09T08:40:09.458Z"
   },
   {
    "duration": 223,
    "start_time": "2023-06-09T08:40:09.641Z"
   },
   {
    "duration": 66,
    "start_time": "2023-06-09T08:40:09.867Z"
   },
   {
    "duration": 83,
    "start_time": "2023-06-09T08:40:09.935Z"
   },
   {
    "duration": 277,
    "start_time": "2023-06-09T08:40:10.020Z"
   },
   {
    "duration": 17,
    "start_time": "2023-06-09T08:40:10.298Z"
   },
   {
    "duration": 8,
    "start_time": "2023-06-09T08:40:10.316Z"
   },
   {
    "duration": 371,
    "start_time": "2023-06-09T08:40:10.327Z"
   },
   {
    "duration": 34,
    "start_time": "2023-06-09T08:40:10.699Z"
   },
   {
    "duration": 58,
    "start_time": "2023-06-09T08:40:10.735Z"
   },
   {
    "duration": 17,
    "start_time": "2023-06-09T08:40:10.795Z"
   },
   {
    "duration": 16,
    "start_time": "2023-06-09T08:40:10.814Z"
   },
   {
    "duration": 26,
    "start_time": "2023-06-09T08:40:10.831Z"
   },
   {
    "duration": 15,
    "start_time": "2023-06-09T08:40:10.859Z"
   },
   {
    "duration": 27,
    "start_time": "2023-06-09T08:40:10.876Z"
   },
   {
    "duration": 8,
    "start_time": "2023-06-09T08:40:10.905Z"
   },
   {
    "duration": 656,
    "start_time": "2023-06-09T08:40:10.915Z"
   },
   {
    "duration": 6,
    "start_time": "2023-06-09T08:40:11.573Z"
   },
   {
    "duration": 6,
    "start_time": "2023-06-09T08:40:11.580Z"
   },
   {
    "duration": 103,
    "start_time": "2023-06-09T08:40:11.587Z"
   },
   {
    "duration": 156,
    "start_time": "2023-06-09T08:40:11.692Z"
   },
   {
    "duration": 48,
    "start_time": "2023-06-09T08:40:11.850Z"
   },
   {
    "duration": 132,
    "start_time": "2023-06-09T08:40:11.900Z"
   },
   {
    "duration": 124,
    "start_time": "2023-06-09T08:40:12.033Z"
   },
   {
    "duration": 0,
    "start_time": "2023-06-09T08:40:12.159Z"
   },
   {
    "duration": 0,
    "start_time": "2023-06-09T08:40:12.162Z"
   },
   {
    "duration": 0,
    "start_time": "2023-06-09T08:40:12.164Z"
   },
   {
    "duration": 0,
    "start_time": "2023-06-09T08:40:12.165Z"
   },
   {
    "duration": 0,
    "start_time": "2023-06-09T08:40:12.167Z"
   },
   {
    "duration": 0,
    "start_time": "2023-06-09T08:40:12.169Z"
   },
   {
    "duration": 0,
    "start_time": "2023-06-09T08:40:12.171Z"
   },
   {
    "duration": 0,
    "start_time": "2023-06-09T08:40:12.172Z"
   },
   {
    "duration": 0,
    "start_time": "2023-06-09T08:40:12.174Z"
   },
   {
    "duration": 0,
    "start_time": "2023-06-09T08:40:12.175Z"
   },
   {
    "duration": 0,
    "start_time": "2023-06-09T08:40:12.176Z"
   },
   {
    "duration": 0,
    "start_time": "2023-06-09T08:40:12.177Z"
   },
   {
    "duration": 0,
    "start_time": "2023-06-09T08:40:12.178Z"
   },
   {
    "duration": 0,
    "start_time": "2023-06-09T08:40:12.179Z"
   },
   {
    "duration": 0,
    "start_time": "2023-06-09T08:40:12.180Z"
   },
   {
    "duration": 4,
    "start_time": "2023-06-09T08:43:27.616Z"
   },
   {
    "duration": 6,
    "start_time": "2023-06-09T08:43:39.759Z"
   },
   {
    "duration": 3,
    "start_time": "2023-06-09T08:45:22.790Z"
   },
   {
    "duration": 13,
    "start_time": "2023-06-09T08:45:42.365Z"
   },
   {
    "duration": 16,
    "start_time": "2023-06-09T08:45:52.662Z"
   },
   {
    "duration": 10,
    "start_time": "2023-06-09T08:54:45.249Z"
   },
   {
    "duration": 12,
    "start_time": "2023-06-09T08:54:51.331Z"
   },
   {
    "duration": 11,
    "start_time": "2023-06-09T08:55:44.265Z"
   },
   {
    "duration": 30,
    "start_time": "2023-06-09T08:55:47.908Z"
   },
   {
    "duration": 5,
    "start_time": "2023-06-09T08:57:28.939Z"
   },
   {
    "duration": 822,
    "start_time": "2023-06-09T08:57:30.375Z"
   },
   {
    "duration": 5,
    "start_time": "2023-06-09T08:58:06.126Z"
   },
   {
    "duration": 188,
    "start_time": "2023-06-09T08:58:09.669Z"
   },
   {
    "duration": 6,
    "start_time": "2023-06-09T08:58:29.547Z"
   },
   {
    "duration": 217,
    "start_time": "2023-06-09T08:58:30.138Z"
   },
   {
    "duration": 4,
    "start_time": "2023-06-09T08:58:42.426Z"
   },
   {
    "duration": 822,
    "start_time": "2023-06-09T08:58:43.075Z"
   },
   {
    "duration": 4,
    "start_time": "2023-06-09T09:01:10.558Z"
   },
   {
    "duration": 777,
    "start_time": "2023-06-09T09:01:11.177Z"
   },
   {
    "duration": 5,
    "start_time": "2023-06-09T09:02:17.197Z"
   },
   {
    "duration": 198,
    "start_time": "2023-06-09T09:02:18.602Z"
   },
   {
    "duration": 7,
    "start_time": "2023-06-09T09:02:22.493Z"
   },
   {
    "duration": 5,
    "start_time": "2023-06-09T09:02:25.881Z"
   },
   {
    "duration": 216,
    "start_time": "2023-06-09T09:02:34.851Z"
   },
   {
    "duration": 222,
    "start_time": "2023-06-09T09:02:49.847Z"
   },
   {
    "duration": 5,
    "start_time": "2023-06-09T09:03:08.630Z"
   },
   {
    "duration": 251,
    "start_time": "2023-06-09T09:03:16.218Z"
   },
   {
    "duration": 211,
    "start_time": "2023-06-09T09:03:24.376Z"
   },
   {
    "duration": 5,
    "start_time": "2023-06-09T09:03:30.510Z"
   },
   {
    "duration": 280,
    "start_time": "2023-06-09T09:03:38.620Z"
   },
   {
    "duration": 1354,
    "start_time": "2023-06-09T09:04:23.986Z"
   },
   {
    "duration": 316,
    "start_time": "2023-06-09T09:04:25.342Z"
   },
   {
    "duration": 13,
    "start_time": "2023-06-09T09:04:25.662Z"
   },
   {
    "duration": 42,
    "start_time": "2023-06-09T09:04:25.677Z"
   },
   {
    "duration": 40,
    "start_time": "2023-06-09T09:04:25.721Z"
   },
   {
    "duration": 28,
    "start_time": "2023-06-09T09:04:25.762Z"
   },
   {
    "duration": 72,
    "start_time": "2023-06-09T09:04:25.792Z"
   },
   {
    "duration": 69,
    "start_time": "2023-06-09T09:04:25.866Z"
   },
   {
    "duration": 9,
    "start_time": "2023-06-09T09:04:25.950Z"
   },
   {
    "duration": 21,
    "start_time": "2023-06-09T09:04:25.962Z"
   },
   {
    "duration": 16,
    "start_time": "2023-06-09T09:04:25.985Z"
   },
   {
    "duration": 12,
    "start_time": "2023-06-09T09:04:26.002Z"
   },
   {
    "duration": 5,
    "start_time": "2023-06-09T09:04:26.016Z"
   },
   {
    "duration": 33,
    "start_time": "2023-06-09T09:04:26.023Z"
   },
   {
    "duration": 7,
    "start_time": "2023-06-09T09:04:26.058Z"
   },
   {
    "duration": 22,
    "start_time": "2023-06-09T09:04:26.067Z"
   },
   {
    "duration": 24,
    "start_time": "2023-06-09T09:04:26.091Z"
   },
   {
    "duration": 8,
    "start_time": "2023-06-09T09:04:26.117Z"
   },
   {
    "duration": 34,
    "start_time": "2023-06-09T09:04:26.126Z"
   },
   {
    "duration": 13,
    "start_time": "2023-06-09T09:04:26.162Z"
   },
   {
    "duration": 9,
    "start_time": "2023-06-09T09:04:26.176Z"
   },
   {
    "duration": 10,
    "start_time": "2023-06-09T09:04:26.186Z"
   },
   {
    "duration": 7,
    "start_time": "2023-06-09T09:04:26.197Z"
   },
   {
    "duration": 8,
    "start_time": "2023-06-09T09:04:26.205Z"
   },
   {
    "duration": 41,
    "start_time": "2023-06-09T09:04:26.215Z"
   },
   {
    "duration": 11,
    "start_time": "2023-06-09T09:04:26.258Z"
   },
   {
    "duration": 8,
    "start_time": "2023-06-09T09:04:26.273Z"
   },
   {
    "duration": 54,
    "start_time": "2023-06-09T09:04:26.283Z"
   },
   {
    "duration": 31,
    "start_time": "2023-06-09T09:04:26.339Z"
   },
   {
    "duration": 81,
    "start_time": "2023-06-09T09:04:26.373Z"
   },
   {
    "duration": 11,
    "start_time": "2023-06-09T09:04:26.456Z"
   },
   {
    "duration": 26,
    "start_time": "2023-06-09T09:04:26.469Z"
   },
   {
    "duration": 11,
    "start_time": "2023-06-09T09:04:26.496Z"
   },
   {
    "duration": 15,
    "start_time": "2023-06-09T09:04:26.509Z"
   },
   {
    "duration": 4,
    "start_time": "2023-06-09T09:04:26.526Z"
   },
   {
    "duration": 248,
    "start_time": "2023-06-09T09:04:26.551Z"
   },
   {
    "duration": 4,
    "start_time": "2023-06-09T09:04:26.800Z"
   },
   {
    "duration": 168,
    "start_time": "2023-06-09T09:04:26.806Z"
   },
   {
    "duration": 61,
    "start_time": "2023-06-09T09:04:26.976Z"
   },
   {
    "duration": 11,
    "start_time": "2023-06-09T09:04:27.039Z"
   },
   {
    "duration": 198,
    "start_time": "2023-06-09T09:04:27.052Z"
   },
   {
    "duration": 4,
    "start_time": "2023-06-09T09:04:27.252Z"
   },
   {
    "duration": 209,
    "start_time": "2023-06-09T09:04:27.257Z"
   },
   {
    "duration": 4,
    "start_time": "2023-06-09T09:04:27.468Z"
   },
   {
    "duration": 227,
    "start_time": "2023-06-09T09:04:27.474Z"
   },
   {
    "duration": 5,
    "start_time": "2023-06-09T09:04:27.703Z"
   },
   {
    "duration": 196,
    "start_time": "2023-06-09T09:04:27.709Z"
   },
   {
    "duration": 5,
    "start_time": "2023-06-09T09:04:27.906Z"
   },
   {
    "duration": 171,
    "start_time": "2023-06-09T09:04:27.912Z"
   },
   {
    "duration": 231,
    "start_time": "2023-06-09T09:04:28.085Z"
   },
   {
    "duration": 75,
    "start_time": "2023-06-09T09:04:28.317Z"
   },
   {
    "duration": 85,
    "start_time": "2023-06-09T09:04:28.394Z"
   },
   {
    "duration": 239,
    "start_time": "2023-06-09T09:04:28.481Z"
   },
   {
    "duration": 29,
    "start_time": "2023-06-09T09:04:28.723Z"
   },
   {
    "duration": 39,
    "start_time": "2023-06-09T09:04:28.754Z"
   },
   {
    "duration": 305,
    "start_time": "2023-06-09T09:04:28.796Z"
   },
   {
    "duration": 36,
    "start_time": "2023-06-09T09:04:29.103Z"
   },
   {
    "duration": 55,
    "start_time": "2023-06-09T09:04:29.141Z"
   },
   {
    "duration": 17,
    "start_time": "2023-06-09T09:04:29.198Z"
   },
   {
    "duration": 34,
    "start_time": "2023-06-09T09:04:29.217Z"
   },
   {
    "duration": 12,
    "start_time": "2023-06-09T09:04:29.253Z"
   },
   {
    "duration": 14,
    "start_time": "2023-06-09T09:04:29.266Z"
   },
   {
    "duration": 38,
    "start_time": "2023-06-09T09:04:29.282Z"
   },
   {
    "duration": 8,
    "start_time": "2023-06-09T09:04:29.322Z"
   },
   {
    "duration": 613,
    "start_time": "2023-06-09T09:04:29.350Z"
   },
   {
    "duration": 5,
    "start_time": "2023-06-09T09:04:29.965Z"
   },
   {
    "duration": 8,
    "start_time": "2023-06-09T09:04:29.971Z"
   },
   {
    "duration": 98,
    "start_time": "2023-06-09T09:04:29.981Z"
   },
   {
    "duration": 154,
    "start_time": "2023-06-09T09:04:30.081Z"
   },
   {
    "duration": 39,
    "start_time": "2023-06-09T09:04:30.237Z"
   },
   {
    "duration": 137,
    "start_time": "2023-06-09T09:04:30.278Z"
   },
   {
    "duration": 124,
    "start_time": "2023-06-09T09:04:30.417Z"
   },
   {
    "duration": 0,
    "start_time": "2023-06-09T09:04:30.543Z"
   },
   {
    "duration": 0,
    "start_time": "2023-06-09T09:04:30.551Z"
   },
   {
    "duration": 0,
    "start_time": "2023-06-09T09:04:30.552Z"
   },
   {
    "duration": 0,
    "start_time": "2023-06-09T09:04:30.553Z"
   },
   {
    "duration": 0,
    "start_time": "2023-06-09T09:04:30.554Z"
   },
   {
    "duration": 0,
    "start_time": "2023-06-09T09:04:30.556Z"
   },
   {
    "duration": 0,
    "start_time": "2023-06-09T09:04:30.557Z"
   },
   {
    "duration": 0,
    "start_time": "2023-06-09T09:04:30.558Z"
   },
   {
    "duration": 0,
    "start_time": "2023-06-09T09:04:30.559Z"
   },
   {
    "duration": 0,
    "start_time": "2023-06-09T09:04:30.560Z"
   },
   {
    "duration": 0,
    "start_time": "2023-06-09T09:04:30.561Z"
   },
   {
    "duration": 0,
    "start_time": "2023-06-09T09:04:30.563Z"
   },
   {
    "duration": 0,
    "start_time": "2023-06-09T09:04:30.565Z"
   },
   {
    "duration": 0,
    "start_time": "2023-06-09T09:04:30.566Z"
   },
   {
    "duration": 0,
    "start_time": "2023-06-09T09:04:30.567Z"
   },
   {
    "duration": 10,
    "start_time": "2023-06-09T09:06:04.476Z"
   },
   {
    "duration": 14,
    "start_time": "2023-06-09T09:06:09.419Z"
   },
   {
    "duration": 10,
    "start_time": "2023-06-09T09:18:27.090Z"
   },
   {
    "duration": 39,
    "start_time": "2023-06-09T09:19:21.609Z"
   },
   {
    "duration": 182,
    "start_time": "2023-06-09T09:19:22.720Z"
   },
   {
    "duration": 193,
    "start_time": "2023-06-09T09:19:32.744Z"
   },
   {
    "duration": 140,
    "start_time": "2023-06-09T09:20:07.561Z"
   },
   {
    "duration": 215,
    "start_time": "2023-06-09T09:20:20.564Z"
   },
   {
    "duration": 158,
    "start_time": "2023-06-09T09:20:37.696Z"
   },
   {
    "duration": 161,
    "start_time": "2023-06-09T09:21:18.451Z"
   },
   {
    "duration": 151,
    "start_time": "2023-06-09T09:21:22.825Z"
   },
   {
    "duration": 225,
    "start_time": "2023-06-09T09:21:35.907Z"
   },
   {
    "duration": 189,
    "start_time": "2023-06-09T09:21:40.989Z"
   },
   {
    "duration": 186,
    "start_time": "2023-06-09T09:21:47.908Z"
   },
   {
    "duration": 209,
    "start_time": "2023-06-09T09:22:02.845Z"
   },
   {
    "duration": 172,
    "start_time": "2023-06-09T09:22:10.693Z"
   },
   {
    "duration": 172,
    "start_time": "2023-06-09T09:26:04.721Z"
   },
   {
    "duration": 142,
    "start_time": "2023-06-09T09:26:12.267Z"
   },
   {
    "duration": 180,
    "start_time": "2023-06-09T09:26:51.811Z"
   },
   {
    "duration": 265,
    "start_time": "2023-06-09T09:28:00.953Z"
   },
   {
    "duration": 1389,
    "start_time": "2023-06-09T09:31:02.994Z"
   },
   {
    "duration": 475,
    "start_time": "2023-06-09T09:31:04.386Z"
   },
   {
    "duration": 16,
    "start_time": "2023-06-09T09:31:04.862Z"
   },
   {
    "duration": 38,
    "start_time": "2023-06-09T09:31:04.880Z"
   },
   {
    "duration": 64,
    "start_time": "2023-06-09T09:31:04.920Z"
   },
   {
    "duration": 44,
    "start_time": "2023-06-09T09:31:04.986Z"
   },
   {
    "duration": 134,
    "start_time": "2023-06-09T09:31:05.032Z"
   },
   {
    "duration": 88,
    "start_time": "2023-06-09T09:31:05.168Z"
   },
   {
    "duration": 10,
    "start_time": "2023-06-09T09:31:05.258Z"
   },
   {
    "duration": 24,
    "start_time": "2023-06-09T09:31:05.271Z"
   },
   {
    "duration": 27,
    "start_time": "2023-06-09T09:31:05.298Z"
   },
   {
    "duration": 18,
    "start_time": "2023-06-09T09:31:05.328Z"
   },
   {
    "duration": 27,
    "start_time": "2023-06-09T09:31:05.351Z"
   },
   {
    "duration": 51,
    "start_time": "2023-06-09T09:31:05.381Z"
   },
   {
    "duration": 20,
    "start_time": "2023-06-09T09:31:05.434Z"
   },
   {
    "duration": 72,
    "start_time": "2023-06-09T09:31:05.457Z"
   },
   {
    "duration": 31,
    "start_time": "2023-06-09T09:31:05.531Z"
   },
   {
    "duration": 12,
    "start_time": "2023-06-09T09:31:05.565Z"
   },
   {
    "duration": 56,
    "start_time": "2023-06-09T09:31:05.579Z"
   },
   {
    "duration": 28,
    "start_time": "2023-06-09T09:31:05.638Z"
   },
   {
    "duration": 65,
    "start_time": "2023-06-09T09:31:05.668Z"
   },
   {
    "duration": 23,
    "start_time": "2023-06-09T09:31:05.735Z"
   },
   {
    "duration": 9,
    "start_time": "2023-06-09T09:31:05.761Z"
   },
   {
    "duration": 17,
    "start_time": "2023-06-09T09:31:05.772Z"
   },
   {
    "duration": 25,
    "start_time": "2023-06-09T09:31:05.790Z"
   },
   {
    "duration": 17,
    "start_time": "2023-06-09T09:31:05.818Z"
   },
   {
    "duration": 14,
    "start_time": "2023-06-09T09:31:05.837Z"
   },
   {
    "duration": 42,
    "start_time": "2023-06-09T09:31:05.857Z"
   },
   {
    "duration": 22,
    "start_time": "2023-06-09T09:31:05.902Z"
   },
   {
    "duration": 146,
    "start_time": "2023-06-09T09:31:05.927Z"
   },
   {
    "duration": 12,
    "start_time": "2023-06-09T09:31:06.076Z"
   },
   {
    "duration": 19,
    "start_time": "2023-06-09T09:31:06.091Z"
   },
   {
    "duration": 39,
    "start_time": "2023-06-09T09:31:06.112Z"
   },
   {
    "duration": 22,
    "start_time": "2023-06-09T09:31:06.154Z"
   },
   {
    "duration": 23,
    "start_time": "2023-06-09T09:31:06.179Z"
   },
   {
    "duration": 354,
    "start_time": "2023-06-09T09:31:06.205Z"
   },
   {
    "duration": 5,
    "start_time": "2023-06-09T09:31:06.562Z"
   },
   {
    "duration": 198,
    "start_time": "2023-06-09T09:31:06.570Z"
   },
   {
    "duration": 68,
    "start_time": "2023-06-09T09:31:06.770Z"
   },
   {
    "duration": 5,
    "start_time": "2023-06-09T09:31:06.851Z"
   },
   {
    "duration": 333,
    "start_time": "2023-06-09T09:31:06.859Z"
   },
   {
    "duration": 5,
    "start_time": "2023-06-09T09:31:07.194Z"
   },
   {
    "duration": 219,
    "start_time": "2023-06-09T09:31:07.200Z"
   },
   {
    "duration": 5,
    "start_time": "2023-06-09T09:31:07.421Z"
   },
   {
    "duration": 281,
    "start_time": "2023-06-09T09:31:07.429Z"
   },
   {
    "duration": 6,
    "start_time": "2023-06-09T09:31:07.712Z"
   },
   {
    "duration": 301,
    "start_time": "2023-06-09T09:31:07.720Z"
   },
   {
    "duration": 5,
    "start_time": "2023-06-09T09:31:08.023Z"
   },
   {
    "duration": 191,
    "start_time": "2023-06-09T09:31:08.030Z"
   },
   {
    "duration": 214,
    "start_time": "2023-06-09T09:31:08.223Z"
   },
   {
    "duration": 76,
    "start_time": "2023-06-09T09:31:08.439Z"
   },
   {
    "duration": 89,
    "start_time": "2023-06-09T09:31:08.517Z"
   },
   {
    "duration": 224,
    "start_time": "2023-06-09T09:31:08.608Z"
   },
   {
    "duration": 32,
    "start_time": "2023-06-09T09:31:08.835Z"
   },
   {
    "duration": 12,
    "start_time": "2023-06-09T09:31:08.869Z"
   },
   {
    "duration": 313,
    "start_time": "2023-06-09T09:31:08.883Z"
   },
   {
    "duration": 34,
    "start_time": "2023-06-09T09:31:09.197Z"
   },
   {
    "duration": 58,
    "start_time": "2023-06-09T09:31:09.233Z"
   },
   {
    "duration": 17,
    "start_time": "2023-06-09T09:31:09.293Z"
   },
   {
    "duration": 10,
    "start_time": "2023-06-09T09:31:09.312Z"
   },
   {
    "duration": 35,
    "start_time": "2023-06-09T09:31:09.323Z"
   },
   {
    "duration": 25,
    "start_time": "2023-06-09T09:31:09.360Z"
   },
   {
    "duration": 106,
    "start_time": "2023-06-09T09:31:09.387Z"
   },
   {
    "duration": 7,
    "start_time": "2023-06-09T09:31:09.495Z"
   },
   {
    "duration": 640,
    "start_time": "2023-06-09T09:31:09.504Z"
   },
   {
    "duration": 6,
    "start_time": "2023-06-09T09:31:10.150Z"
   },
   {
    "duration": 7,
    "start_time": "2023-06-09T09:31:10.158Z"
   },
   {
    "duration": 92,
    "start_time": "2023-06-09T09:31:10.166Z"
   },
   {
    "duration": 147,
    "start_time": "2023-06-09T09:31:10.260Z"
   },
   {
    "duration": 49,
    "start_time": "2023-06-09T09:31:10.410Z"
   },
   {
    "duration": 148,
    "start_time": "2023-06-09T09:31:10.461Z"
   },
   {
    "duration": 50,
    "start_time": "2023-06-09T09:31:10.610Z"
   },
   {
    "duration": 187,
    "start_time": "2023-06-09T09:31:10.661Z"
   },
   {
    "duration": 11,
    "start_time": "2023-06-09T09:31:10.849Z"
   },
   {
    "duration": 13,
    "start_time": "2023-06-09T09:31:10.862Z"
   },
   {
    "duration": 34,
    "start_time": "2023-06-09T09:31:10.877Z"
   },
   {
    "duration": 4,
    "start_time": "2023-06-09T09:31:10.914Z"
   },
   {
    "duration": 36,
    "start_time": "2023-06-09T09:31:10.920Z"
   },
   {
    "duration": 10,
    "start_time": "2023-06-09T09:31:10.959Z"
   },
   {
    "duration": 20,
    "start_time": "2023-06-09T09:31:10.971Z"
   },
   {
    "duration": 15,
    "start_time": "2023-06-09T09:31:10.993Z"
   },
   {
    "duration": 164,
    "start_time": "2023-06-09T09:31:11.014Z"
   },
   {
    "duration": 14,
    "start_time": "2023-06-09T09:31:11.180Z"
   },
   {
    "duration": 4,
    "start_time": "2023-06-09T09:31:11.196Z"
   },
   {
    "duration": 4,
    "start_time": "2023-06-09T09:31:11.202Z"
   },
   {
    "duration": 10,
    "start_time": "2023-06-09T09:31:11.207Z"
   },
   {
    "duration": 64,
    "start_time": "2023-06-09T09:31:11.218Z"
   },
   {
    "duration": 1176,
    "start_time": "2023-06-09T10:11:40.612Z"
   },
   {
    "duration": 269,
    "start_time": "2023-06-09T10:11:41.791Z"
   },
   {
    "duration": 14,
    "start_time": "2023-06-09T10:11:42.062Z"
   },
   {
    "duration": 39,
    "start_time": "2023-06-09T10:11:42.079Z"
   },
   {
    "duration": 69,
    "start_time": "2023-06-09T10:11:42.120Z"
   },
   {
    "duration": 41,
    "start_time": "2023-06-09T10:11:42.191Z"
   },
   {
    "duration": 60,
    "start_time": "2023-06-09T10:11:42.251Z"
   },
   {
    "duration": 89,
    "start_time": "2023-06-09T10:11:42.313Z"
   },
   {
    "duration": 9,
    "start_time": "2023-06-09T10:11:42.404Z"
   },
   {
    "duration": 19,
    "start_time": "2023-06-09T10:11:42.416Z"
   },
   {
    "duration": 32,
    "start_time": "2023-06-09T10:11:42.437Z"
   },
   {
    "duration": 13,
    "start_time": "2023-06-09T10:11:42.471Z"
   },
   {
    "duration": 5,
    "start_time": "2023-06-09T10:11:42.486Z"
   },
   {
    "duration": 19,
    "start_time": "2023-06-09T10:11:42.493Z"
   },
   {
    "duration": 30,
    "start_time": "2023-06-09T10:11:42.514Z"
   },
   {
    "duration": 36,
    "start_time": "2023-06-09T10:11:42.546Z"
   },
   {
    "duration": 30,
    "start_time": "2023-06-09T10:11:42.584Z"
   },
   {
    "duration": 8,
    "start_time": "2023-06-09T10:11:42.616Z"
   },
   {
    "duration": 41,
    "start_time": "2023-06-09T10:11:42.626Z"
   },
   {
    "duration": 48,
    "start_time": "2023-06-09T10:11:42.668Z"
   },
   {
    "duration": 44,
    "start_time": "2023-06-09T10:11:42.718Z"
   },
   {
    "duration": 35,
    "start_time": "2023-06-09T10:11:42.763Z"
   },
   {
    "duration": 22,
    "start_time": "2023-06-09T10:11:42.799Z"
   },
   {
    "duration": 14,
    "start_time": "2023-06-09T10:11:42.823Z"
   },
   {
    "duration": 32,
    "start_time": "2023-06-09T10:11:42.839Z"
   },
   {
    "duration": 17,
    "start_time": "2023-06-09T10:11:42.872Z"
   },
   {
    "duration": 5,
    "start_time": "2023-06-09T10:11:42.891Z"
   },
   {
    "duration": 52,
    "start_time": "2023-06-09T10:11:42.902Z"
   },
   {
    "duration": 14,
    "start_time": "2023-06-09T10:11:42.956Z"
   },
   {
    "duration": 104,
    "start_time": "2023-06-09T10:11:42.972Z"
   },
   {
    "duration": 11,
    "start_time": "2023-06-09T10:11:43.078Z"
   },
   {
    "duration": 14,
    "start_time": "2023-06-09T10:11:43.090Z"
   },
   {
    "duration": 20,
    "start_time": "2023-06-09T10:11:43.105Z"
   },
   {
    "duration": 31,
    "start_time": "2023-06-09T10:11:43.127Z"
   },
   {
    "duration": 13,
    "start_time": "2023-06-09T10:11:43.160Z"
   },
   {
    "duration": 247,
    "start_time": "2023-06-09T10:11:43.175Z"
   },
   {
    "duration": 4,
    "start_time": "2023-06-09T10:11:43.424Z"
   },
   {
    "duration": 170,
    "start_time": "2023-06-09T10:11:43.430Z"
   },
   {
    "duration": 73,
    "start_time": "2023-06-09T10:11:43.602Z"
   },
   {
    "duration": 5,
    "start_time": "2023-06-09T10:11:43.677Z"
   },
   {
    "duration": 214,
    "start_time": "2023-06-09T10:11:43.684Z"
   },
   {
    "duration": 5,
    "start_time": "2023-06-09T10:11:43.900Z"
   },
   {
    "duration": 236,
    "start_time": "2023-06-09T10:11:43.907Z"
   },
   {
    "duration": 13,
    "start_time": "2023-06-09T10:11:44.145Z"
   },
   {
    "duration": 241,
    "start_time": "2023-06-09T10:11:44.160Z"
   },
   {
    "duration": 5,
    "start_time": "2023-06-09T10:11:44.403Z"
   },
   {
    "duration": 215,
    "start_time": "2023-06-09T10:11:44.411Z"
   },
   {
    "duration": 5,
    "start_time": "2023-06-09T10:11:44.628Z"
   },
   {
    "duration": 180,
    "start_time": "2023-06-09T10:11:44.635Z"
   },
   {
    "duration": 213,
    "start_time": "2023-06-09T10:11:44.817Z"
   },
   {
    "duration": 70,
    "start_time": "2023-06-09T10:11:45.031Z"
   },
   {
    "duration": 84,
    "start_time": "2023-06-09T10:11:45.103Z"
   },
   {
    "duration": 242,
    "start_time": "2023-06-09T10:11:45.188Z"
   },
   {
    "duration": 39,
    "start_time": "2023-06-09T10:11:45.432Z"
   },
   {
    "duration": 17,
    "start_time": "2023-06-09T10:11:45.472Z"
   },
   {
    "duration": 299,
    "start_time": "2023-06-09T10:11:45.490Z"
   },
   {
    "duration": 33,
    "start_time": "2023-06-09T10:11:45.791Z"
   },
   {
    "duration": 62,
    "start_time": "2023-06-09T10:11:45.826Z"
   },
   {
    "duration": 17,
    "start_time": "2023-06-09T10:11:45.889Z"
   },
   {
    "duration": 14,
    "start_time": "2023-06-09T10:11:45.908Z"
   },
   {
    "duration": 34,
    "start_time": "2023-06-09T10:11:45.924Z"
   },
   {
    "duration": 14,
    "start_time": "2023-06-09T10:11:45.960Z"
   },
   {
    "duration": 30,
    "start_time": "2023-06-09T10:11:45.976Z"
   },
   {
    "duration": 8,
    "start_time": "2023-06-09T10:11:46.007Z"
   },
   {
    "duration": 639,
    "start_time": "2023-06-09T10:11:46.017Z"
   },
   {
    "duration": 7,
    "start_time": "2023-06-09T10:11:46.658Z"
   },
   {
    "duration": 4,
    "start_time": "2023-06-09T10:11:46.667Z"
   },
   {
    "duration": 98,
    "start_time": "2023-06-09T10:11:46.673Z"
   },
   {
    "duration": 142,
    "start_time": "2023-06-09T10:11:46.773Z"
   },
   {
    "duration": 43,
    "start_time": "2023-06-09T10:11:46.917Z"
   },
   {
    "duration": 113,
    "start_time": "2023-06-09T10:11:46.962Z"
   },
   {
    "duration": 38,
    "start_time": "2023-06-09T10:11:47.076Z"
   },
   {
    "duration": 196,
    "start_time": "2023-06-09T10:11:47.116Z"
   },
   {
    "duration": 10,
    "start_time": "2023-06-09T10:11:47.313Z"
   },
   {
    "duration": 24,
    "start_time": "2023-06-09T10:11:47.325Z"
   },
   {
    "duration": 32,
    "start_time": "2023-06-09T10:11:47.352Z"
   },
   {
    "duration": 4,
    "start_time": "2023-06-09T10:11:47.386Z"
   },
   {
    "duration": 20,
    "start_time": "2023-06-09T10:11:47.392Z"
   },
   {
    "duration": 15,
    "start_time": "2023-06-09T10:11:47.414Z"
   },
   {
    "duration": 24,
    "start_time": "2023-06-09T10:11:47.431Z"
   },
   {
    "duration": 31,
    "start_time": "2023-06-09T10:11:47.457Z"
   },
   {
    "duration": 158,
    "start_time": "2023-06-09T10:11:47.495Z"
   },
   {
    "duration": 13,
    "start_time": "2023-06-09T10:11:47.655Z"
   },
   {
    "duration": 14,
    "start_time": "2023-06-09T10:11:47.669Z"
   },
   {
    "duration": 38,
    "start_time": "2023-06-09T10:11:47.685Z"
   },
   {
    "duration": 27,
    "start_time": "2023-06-09T10:11:47.724Z"
   },
   {
    "duration": 15,
    "start_time": "2023-06-09T10:11:47.753Z"
   },
   {
    "duration": 45,
    "start_time": "2023-06-09T10:11:47.769Z"
   },
   {
    "duration": 73,
    "start_time": "2023-06-09T10:12:40.485Z"
   },
   {
    "duration": 4,
    "start_time": "2023-06-09T10:12:46.536Z"
   },
   {
    "duration": 102,
    "start_time": "2023-06-09T10:12:59.565Z"
   },
   {
    "duration": 10,
    "start_time": "2023-06-09T10:13:14.486Z"
   },
   {
    "duration": 30,
    "start_time": "2023-06-09T10:14:19.838Z"
   },
   {
    "duration": 5,
    "start_time": "2023-06-09T10:14:26.958Z"
   },
   {
    "duration": 30,
    "start_time": "2023-06-09T10:14:39.142Z"
   },
   {
    "duration": 19,
    "start_time": "2023-06-09T10:14:39.870Z"
   },
   {
    "duration": 21,
    "start_time": "2023-06-09T10:17:19.951Z"
   },
   {
    "duration": 11,
    "start_time": "2023-06-09T10:17:27.290Z"
   },
   {
    "duration": 1374,
    "start_time": "2023-06-09T10:17:33.119Z"
   },
   {
    "duration": 307,
    "start_time": "2023-06-09T10:17:34.495Z"
   },
   {
    "duration": 15,
    "start_time": "2023-06-09T10:17:34.804Z"
   },
   {
    "duration": 57,
    "start_time": "2023-06-09T10:17:34.822Z"
   },
   {
    "duration": 35,
    "start_time": "2023-06-09T10:17:34.881Z"
   },
   {
    "duration": 47,
    "start_time": "2023-06-09T10:17:34.917Z"
   },
   {
    "duration": 86,
    "start_time": "2023-06-09T10:17:34.967Z"
   },
   {
    "duration": 98,
    "start_time": "2023-06-09T10:17:35.055Z"
   },
   {
    "duration": 15,
    "start_time": "2023-06-09T10:17:35.155Z"
   },
   {
    "duration": 11,
    "start_time": "2023-06-09T10:17:35.175Z"
   },
   {
    "duration": 10,
    "start_time": "2023-06-09T10:17:35.188Z"
   },
   {
    "duration": 10,
    "start_time": "2023-06-09T10:17:35.199Z"
   },
   {
    "duration": 7,
    "start_time": "2023-06-09T10:17:35.210Z"
   },
   {
    "duration": 17,
    "start_time": "2023-06-09T10:17:35.219Z"
   },
   {
    "duration": 18,
    "start_time": "2023-06-09T10:17:35.238Z"
   },
   {
    "duration": 18,
    "start_time": "2023-06-09T10:17:35.259Z"
   },
   {
    "duration": 25,
    "start_time": "2023-06-09T10:17:35.279Z"
   },
   {
    "duration": 8,
    "start_time": "2023-06-09T10:17:35.306Z"
   },
   {
    "duration": 54,
    "start_time": "2023-06-09T10:17:35.316Z"
   },
   {
    "duration": 14,
    "start_time": "2023-06-09T10:17:35.372Z"
   },
   {
    "duration": 22,
    "start_time": "2023-06-09T10:17:35.388Z"
   },
   {
    "duration": 19,
    "start_time": "2023-06-09T10:17:35.411Z"
   },
   {
    "duration": 19,
    "start_time": "2023-06-09T10:17:35.432Z"
   },
   {
    "duration": 9,
    "start_time": "2023-06-09T10:17:35.454Z"
   },
   {
    "duration": 13,
    "start_time": "2023-06-09T10:17:35.467Z"
   },
   {
    "duration": 14,
    "start_time": "2023-06-09T10:17:35.481Z"
   },
   {
    "duration": 56,
    "start_time": "2023-06-09T10:17:35.497Z"
   },
   {
    "duration": 106,
    "start_time": "2023-06-09T10:17:35.563Z"
   },
   {
    "duration": 16,
    "start_time": "2023-06-09T10:17:35.672Z"
   },
   {
    "duration": 161,
    "start_time": "2023-06-09T10:17:35.690Z"
   },
   {
    "duration": 16,
    "start_time": "2023-06-09T10:17:35.854Z"
   },
   {
    "duration": 14,
    "start_time": "2023-06-09T10:17:35.872Z"
   },
   {
    "duration": 15,
    "start_time": "2023-06-09T10:17:35.889Z"
   },
   {
    "duration": 48,
    "start_time": "2023-06-09T10:17:35.906Z"
   },
   {
    "duration": 9,
    "start_time": "2023-06-09T10:17:35.961Z"
   },
   {
    "duration": 292,
    "start_time": "2023-06-09T10:17:35.972Z"
   },
   {
    "duration": 6,
    "start_time": "2023-06-09T10:17:36.267Z"
   },
   {
    "duration": 257,
    "start_time": "2023-06-09T10:17:36.275Z"
   },
   {
    "duration": 81,
    "start_time": "2023-06-09T10:17:36.534Z"
   },
   {
    "duration": 6,
    "start_time": "2023-06-09T10:17:36.617Z"
   },
   {
    "duration": 269,
    "start_time": "2023-06-09T10:17:36.625Z"
   },
   {
    "duration": 5,
    "start_time": "2023-06-09T10:17:36.896Z"
   },
   {
    "duration": 234,
    "start_time": "2023-06-09T10:17:36.902Z"
   },
   {
    "duration": 16,
    "start_time": "2023-06-09T10:17:37.137Z"
   },
   {
    "duration": 225,
    "start_time": "2023-06-09T10:17:37.155Z"
   },
   {
    "duration": 7,
    "start_time": "2023-06-09T10:17:37.382Z"
   },
   {
    "duration": 236,
    "start_time": "2023-06-09T10:17:37.390Z"
   },
   {
    "duration": 5,
    "start_time": "2023-06-09T10:17:37.628Z"
   },
   {
    "duration": 215,
    "start_time": "2023-06-09T10:17:37.635Z"
   },
   {
    "duration": 235,
    "start_time": "2023-06-09T10:17:37.852Z"
   },
   {
    "duration": 88,
    "start_time": "2023-06-09T10:17:38.089Z"
   },
   {
    "duration": 100,
    "start_time": "2023-06-09T10:17:38.179Z"
   },
   {
    "duration": 286,
    "start_time": "2023-06-09T10:17:38.281Z"
   },
   {
    "duration": 29,
    "start_time": "2023-06-09T10:17:38.569Z"
   },
   {
    "duration": 11,
    "start_time": "2023-06-09T10:17:38.599Z"
   },
   {
    "duration": 360,
    "start_time": "2023-06-09T10:17:38.611Z"
   },
   {
    "duration": 33,
    "start_time": "2023-06-09T10:17:38.973Z"
   },
   {
    "duration": 82,
    "start_time": "2023-06-09T10:17:39.008Z"
   },
   {
    "duration": 16,
    "start_time": "2023-06-09T10:17:39.092Z"
   },
   {
    "duration": 10,
    "start_time": "2023-06-09T10:17:39.110Z"
   },
   {
    "duration": 39,
    "start_time": "2023-06-09T10:17:39.122Z"
   },
   {
    "duration": 26,
    "start_time": "2023-06-09T10:17:39.162Z"
   },
   {
    "duration": 32,
    "start_time": "2023-06-09T10:17:39.191Z"
   },
   {
    "duration": 86,
    "start_time": "2023-06-09T10:17:39.224Z"
   },
   {
    "duration": 0,
    "start_time": "2023-06-09T10:17:39.313Z"
   },
   {
    "duration": 0,
    "start_time": "2023-06-09T10:17:39.314Z"
   },
   {
    "duration": 0,
    "start_time": "2023-06-09T10:17:39.315Z"
   },
   {
    "duration": 0,
    "start_time": "2023-06-09T10:17:39.317Z"
   },
   {
    "duration": 0,
    "start_time": "2023-06-09T10:17:39.318Z"
   },
   {
    "duration": 1,
    "start_time": "2023-06-09T10:17:39.319Z"
   },
   {
    "duration": 0,
    "start_time": "2023-06-09T10:17:39.321Z"
   },
   {
    "duration": 0,
    "start_time": "2023-06-09T10:17:39.322Z"
   },
   {
    "duration": 0,
    "start_time": "2023-06-09T10:17:39.323Z"
   },
   {
    "duration": 0,
    "start_time": "2023-06-09T10:17:39.324Z"
   },
   {
    "duration": 0,
    "start_time": "2023-06-09T10:17:39.325Z"
   },
   {
    "duration": 0,
    "start_time": "2023-06-09T10:17:39.326Z"
   },
   {
    "duration": 0,
    "start_time": "2023-06-09T10:17:39.327Z"
   },
   {
    "duration": 0,
    "start_time": "2023-06-09T10:17:39.328Z"
   },
   {
    "duration": 0,
    "start_time": "2023-06-09T10:17:39.329Z"
   },
   {
    "duration": 0,
    "start_time": "2023-06-09T10:17:39.330Z"
   },
   {
    "duration": 0,
    "start_time": "2023-06-09T10:17:39.332Z"
   },
   {
    "duration": 0,
    "start_time": "2023-06-09T10:17:39.333Z"
   },
   {
    "duration": 0,
    "start_time": "2023-06-09T10:17:39.334Z"
   },
   {
    "duration": 0,
    "start_time": "2023-06-09T10:17:39.335Z"
   },
   {
    "duration": 0,
    "start_time": "2023-06-09T10:17:39.336Z"
   },
   {
    "duration": 0,
    "start_time": "2023-06-09T10:17:39.337Z"
   },
   {
    "duration": 0,
    "start_time": "2023-06-09T10:17:39.338Z"
   },
   {
    "duration": 0,
    "start_time": "2023-06-09T10:17:39.340Z"
   },
   {
    "duration": 0,
    "start_time": "2023-06-09T10:17:39.341Z"
   },
   {
    "duration": 1332,
    "start_time": "2023-06-09T10:20:09.548Z"
   },
   {
    "duration": 268,
    "start_time": "2023-06-09T10:20:10.882Z"
   },
   {
    "duration": 20,
    "start_time": "2023-06-09T10:20:11.152Z"
   },
   {
    "duration": 32,
    "start_time": "2023-06-09T10:20:11.175Z"
   },
   {
    "duration": 51,
    "start_time": "2023-06-09T10:20:11.209Z"
   },
   {
    "duration": 26,
    "start_time": "2023-06-09T10:20:11.262Z"
   },
   {
    "duration": 85,
    "start_time": "2023-06-09T10:20:11.290Z"
   },
   {
    "duration": 81,
    "start_time": "2023-06-09T10:20:11.376Z"
   },
   {
    "duration": 15,
    "start_time": "2023-06-09T10:20:11.460Z"
   },
   {
    "duration": 24,
    "start_time": "2023-06-09T10:20:11.479Z"
   },
   {
    "duration": 20,
    "start_time": "2023-06-09T10:20:11.505Z"
   },
   {
    "duration": 23,
    "start_time": "2023-06-09T10:20:11.527Z"
   },
   {
    "duration": 6,
    "start_time": "2023-06-09T10:20:11.552Z"
   },
   {
    "duration": 14,
    "start_time": "2023-06-09T10:20:11.560Z"
   },
   {
    "duration": 6,
    "start_time": "2023-06-09T10:20:11.575Z"
   },
   {
    "duration": 12,
    "start_time": "2023-06-09T10:20:11.583Z"
   },
   {
    "duration": 58,
    "start_time": "2023-06-09T10:20:11.597Z"
   },
   {
    "duration": 13,
    "start_time": "2023-06-09T10:20:11.658Z"
   },
   {
    "duration": 31,
    "start_time": "2023-06-09T10:20:11.674Z"
   },
   {
    "duration": 17,
    "start_time": "2023-06-09T10:20:11.708Z"
   },
   {
    "duration": 21,
    "start_time": "2023-06-09T10:20:11.727Z"
   },
   {
    "duration": 9,
    "start_time": "2023-06-09T10:20:11.751Z"
   },
   {
    "duration": 8,
    "start_time": "2023-06-09T10:20:11.763Z"
   },
   {
    "duration": 37,
    "start_time": "2023-06-09T10:20:11.774Z"
   },
   {
    "duration": 14,
    "start_time": "2023-06-09T10:20:11.812Z"
   },
   {
    "duration": 44,
    "start_time": "2023-06-09T10:20:11.828Z"
   },
   {
    "duration": 21,
    "start_time": "2023-06-09T10:20:11.874Z"
   },
   {
    "duration": 42,
    "start_time": "2023-06-09T10:20:11.899Z"
   },
   {
    "duration": 19,
    "start_time": "2023-06-09T10:20:11.943Z"
   },
   {
    "duration": 115,
    "start_time": "2023-06-09T10:20:11.964Z"
   },
   {
    "duration": 12,
    "start_time": "2023-06-09T10:20:12.081Z"
   },
   {
    "duration": 12,
    "start_time": "2023-06-09T10:20:12.095Z"
   },
   {
    "duration": 11,
    "start_time": "2023-06-09T10:20:12.109Z"
   },
   {
    "duration": 39,
    "start_time": "2023-06-09T10:20:12.122Z"
   },
   {
    "duration": 8,
    "start_time": "2023-06-09T10:20:12.164Z"
   },
   {
    "duration": 269,
    "start_time": "2023-06-09T10:20:12.174Z"
   },
   {
    "duration": 16,
    "start_time": "2023-06-09T10:20:12.455Z"
   },
   {
    "duration": 179,
    "start_time": "2023-06-09T10:20:12.473Z"
   },
   {
    "duration": 75,
    "start_time": "2023-06-09T10:20:12.654Z"
   },
   {
    "duration": 4,
    "start_time": "2023-06-09T10:20:12.731Z"
   },
   {
    "duration": 253,
    "start_time": "2023-06-09T10:20:12.736Z"
   },
   {
    "duration": 5,
    "start_time": "2023-06-09T10:20:12.991Z"
   },
   {
    "duration": 245,
    "start_time": "2023-06-09T10:20:12.998Z"
   },
   {
    "duration": 7,
    "start_time": "2023-06-09T10:20:13.249Z"
   },
   {
    "duration": 223,
    "start_time": "2023-06-09T10:20:13.259Z"
   },
   {
    "duration": 4,
    "start_time": "2023-06-09T10:20:13.484Z"
   },
   {
    "duration": 215,
    "start_time": "2023-06-09T10:20:13.489Z"
   },
   {
    "duration": 4,
    "start_time": "2023-06-09T10:20:13.706Z"
   },
   {
    "duration": 186,
    "start_time": "2023-06-09T10:20:13.712Z"
   },
   {
    "duration": 256,
    "start_time": "2023-06-09T10:20:13.899Z"
   },
   {
    "duration": 112,
    "start_time": "2023-06-09T10:20:14.159Z"
   },
   {
    "duration": 96,
    "start_time": "2023-06-09T10:20:14.274Z"
   },
   {
    "duration": 265,
    "start_time": "2023-06-09T10:20:14.372Z"
   },
   {
    "duration": 27,
    "start_time": "2023-06-09T10:20:14.639Z"
   },
   {
    "duration": 8,
    "start_time": "2023-06-09T10:20:14.668Z"
   },
   {
    "duration": 325,
    "start_time": "2023-06-09T10:20:14.678Z"
   },
   {
    "duration": 45,
    "start_time": "2023-06-09T10:20:15.005Z"
   },
   {
    "duration": 70,
    "start_time": "2023-06-09T10:20:15.053Z"
   },
   {
    "duration": 17,
    "start_time": "2023-06-09T10:20:15.125Z"
   },
   {
    "duration": 27,
    "start_time": "2023-06-09T10:20:15.144Z"
   },
   {
    "duration": 11,
    "start_time": "2023-06-09T10:20:15.174Z"
   },
   {
    "duration": 28,
    "start_time": "2023-06-09T10:20:15.187Z"
   },
   {
    "duration": 43,
    "start_time": "2023-06-09T10:20:15.217Z"
   },
   {
    "duration": 44,
    "start_time": "2023-06-09T10:20:15.263Z"
   },
   {
    "duration": 0,
    "start_time": "2023-06-09T10:20:15.309Z"
   },
   {
    "duration": 0,
    "start_time": "2023-06-09T10:20:15.311Z"
   },
   {
    "duration": 0,
    "start_time": "2023-06-09T10:20:15.312Z"
   },
   {
    "duration": 0,
    "start_time": "2023-06-09T10:20:15.313Z"
   },
   {
    "duration": 0,
    "start_time": "2023-06-09T10:20:15.314Z"
   },
   {
    "duration": 0,
    "start_time": "2023-06-09T10:20:15.315Z"
   },
   {
    "duration": 0,
    "start_time": "2023-06-09T10:20:15.317Z"
   },
   {
    "duration": 0,
    "start_time": "2023-06-09T10:20:15.318Z"
   },
   {
    "duration": 0,
    "start_time": "2023-06-09T10:20:15.319Z"
   },
   {
    "duration": 0,
    "start_time": "2023-06-09T10:20:15.320Z"
   },
   {
    "duration": 0,
    "start_time": "2023-06-09T10:20:15.321Z"
   },
   {
    "duration": 0,
    "start_time": "2023-06-09T10:20:15.322Z"
   },
   {
    "duration": 0,
    "start_time": "2023-06-09T10:20:15.324Z"
   },
   {
    "duration": 0,
    "start_time": "2023-06-09T10:20:15.325Z"
   },
   {
    "duration": 0,
    "start_time": "2023-06-09T10:20:15.326Z"
   },
   {
    "duration": 0,
    "start_time": "2023-06-09T10:20:15.327Z"
   },
   {
    "duration": 0,
    "start_time": "2023-06-09T10:20:15.328Z"
   },
   {
    "duration": 0,
    "start_time": "2023-06-09T10:20:15.329Z"
   },
   {
    "duration": 0,
    "start_time": "2023-06-09T10:20:15.330Z"
   },
   {
    "duration": 0,
    "start_time": "2023-06-09T10:20:15.331Z"
   },
   {
    "duration": 0,
    "start_time": "2023-06-09T10:20:15.332Z"
   },
   {
    "duration": 0,
    "start_time": "2023-06-09T10:20:15.334Z"
   },
   {
    "duration": 0,
    "start_time": "2023-06-09T10:20:15.351Z"
   },
   {
    "duration": 0,
    "start_time": "2023-06-09T10:20:15.352Z"
   },
   {
    "duration": 0,
    "start_time": "2023-06-09T10:20:15.353Z"
   },
   {
    "duration": 9,
    "start_time": "2023-06-09T10:20:30.568Z"
   },
   {
    "duration": 1367,
    "start_time": "2023-06-09T10:20:43.692Z"
   },
   {
    "duration": 268,
    "start_time": "2023-06-09T10:20:45.061Z"
   },
   {
    "duration": 13,
    "start_time": "2023-06-09T10:20:45.331Z"
   },
   {
    "duration": 46,
    "start_time": "2023-06-09T10:20:45.346Z"
   },
   {
    "duration": 37,
    "start_time": "2023-06-09T10:20:45.394Z"
   },
   {
    "duration": 30,
    "start_time": "2023-06-09T10:20:45.433Z"
   },
   {
    "duration": 63,
    "start_time": "2023-06-09T10:20:45.466Z"
   },
   {
    "duration": 89,
    "start_time": "2023-06-09T10:20:45.531Z"
   },
   {
    "duration": 10,
    "start_time": "2023-06-09T10:20:45.622Z"
   },
   {
    "duration": 26,
    "start_time": "2023-06-09T10:20:45.650Z"
   },
   {
    "duration": 45,
    "start_time": "2023-06-09T10:20:45.678Z"
   },
   {
    "duration": 15,
    "start_time": "2023-06-09T10:20:45.725Z"
   },
   {
    "duration": 12,
    "start_time": "2023-06-09T10:20:45.742Z"
   },
   {
    "duration": 26,
    "start_time": "2023-06-09T10:20:45.757Z"
   },
   {
    "duration": 25,
    "start_time": "2023-06-09T10:20:45.785Z"
   },
   {
    "duration": 27,
    "start_time": "2023-06-09T10:20:45.811Z"
   },
   {
    "duration": 56,
    "start_time": "2023-06-09T10:20:45.840Z"
   },
   {
    "duration": 13,
    "start_time": "2023-06-09T10:20:45.898Z"
   },
   {
    "duration": 36,
    "start_time": "2023-06-09T10:20:45.912Z"
   },
   {
    "duration": 35,
    "start_time": "2023-06-09T10:20:45.950Z"
   },
   {
    "duration": 17,
    "start_time": "2023-06-09T10:20:45.987Z"
   },
   {
    "duration": 8,
    "start_time": "2023-06-09T10:20:46.006Z"
   },
   {
    "duration": 11,
    "start_time": "2023-06-09T10:20:46.016Z"
   },
   {
    "duration": 40,
    "start_time": "2023-06-09T10:20:46.029Z"
   },
   {
    "duration": 31,
    "start_time": "2023-06-09T10:20:46.072Z"
   },
   {
    "duration": 24,
    "start_time": "2023-06-09T10:20:46.105Z"
   },
   {
    "duration": 11,
    "start_time": "2023-06-09T10:20:46.131Z"
   },
   {
    "duration": 60,
    "start_time": "2023-06-09T10:20:46.146Z"
   },
   {
    "duration": 19,
    "start_time": "2023-06-09T10:20:46.208Z"
   },
   {
    "duration": 97,
    "start_time": "2023-06-09T10:20:46.230Z"
   },
   {
    "duration": 12,
    "start_time": "2023-06-09T10:20:46.329Z"
   },
   {
    "duration": 22,
    "start_time": "2023-06-09T10:20:46.354Z"
   },
   {
    "duration": 11,
    "start_time": "2023-06-09T10:20:46.378Z"
   },
   {
    "duration": 41,
    "start_time": "2023-06-09T10:20:46.391Z"
   },
   {
    "duration": 10,
    "start_time": "2023-06-09T10:20:46.433Z"
   },
   {
    "duration": 289,
    "start_time": "2023-06-09T10:20:46.445Z"
   },
   {
    "duration": 4,
    "start_time": "2023-06-09T10:20:46.735Z"
   },
   {
    "duration": 197,
    "start_time": "2023-06-09T10:20:46.741Z"
   },
   {
    "duration": 79,
    "start_time": "2023-06-09T10:20:46.940Z"
   },
   {
    "duration": 5,
    "start_time": "2023-06-09T10:20:47.021Z"
   },
   {
    "duration": 238,
    "start_time": "2023-06-09T10:20:47.027Z"
   },
   {
    "duration": 6,
    "start_time": "2023-06-09T10:20:47.268Z"
   },
   {
    "duration": 246,
    "start_time": "2023-06-09T10:20:47.276Z"
   },
   {
    "duration": 5,
    "start_time": "2023-06-09T10:20:47.524Z"
   },
   {
    "duration": 230,
    "start_time": "2023-06-09T10:20:47.531Z"
   },
   {
    "duration": 6,
    "start_time": "2023-06-09T10:20:47.763Z"
   },
   {
    "duration": 224,
    "start_time": "2023-06-09T10:20:47.771Z"
   },
   {
    "duration": 4,
    "start_time": "2023-06-09T10:20:47.996Z"
   },
   {
    "duration": 192,
    "start_time": "2023-06-09T10:20:48.002Z"
   },
   {
    "duration": 237,
    "start_time": "2023-06-09T10:20:48.195Z"
   },
   {
    "duration": 87,
    "start_time": "2023-06-09T10:20:48.435Z"
   },
   {
    "duration": 87,
    "start_time": "2023-06-09T10:20:48.524Z"
   },
   {
    "duration": 282,
    "start_time": "2023-06-09T10:20:48.613Z"
   },
   {
    "duration": 39,
    "start_time": "2023-06-09T10:20:48.896Z"
   },
   {
    "duration": 38,
    "start_time": "2023-06-09T10:20:48.937Z"
   },
   {
    "duration": 312,
    "start_time": "2023-06-09T10:20:48.978Z"
   },
   {
    "duration": 33,
    "start_time": "2023-06-09T10:20:49.292Z"
   },
   {
    "duration": 62,
    "start_time": "2023-06-09T10:20:49.326Z"
   },
   {
    "duration": 18,
    "start_time": "2023-06-09T10:20:49.390Z"
   },
   {
    "duration": 13,
    "start_time": "2023-06-09T10:20:49.410Z"
   },
   {
    "duration": 36,
    "start_time": "2023-06-09T10:20:49.424Z"
   },
   {
    "duration": 20,
    "start_time": "2023-06-09T10:20:49.462Z"
   },
   {
    "duration": 30,
    "start_time": "2023-06-09T10:20:49.485Z"
   },
   {
    "duration": 8,
    "start_time": "2023-06-09T10:20:49.516Z"
   },
   {
    "duration": 610,
    "start_time": "2023-06-09T10:20:49.550Z"
   },
   {
    "duration": 13,
    "start_time": "2023-06-09T10:20:50.162Z"
   },
   {
    "duration": 3,
    "start_time": "2023-06-09T10:20:50.177Z"
   },
   {
    "duration": 98,
    "start_time": "2023-06-09T10:20:50.182Z"
   },
   {
    "duration": 158,
    "start_time": "2023-06-09T10:20:50.282Z"
   },
   {
    "duration": 49,
    "start_time": "2023-06-09T10:20:50.443Z"
   },
   {
    "duration": 136,
    "start_time": "2023-06-09T10:20:50.494Z"
   },
   {
    "duration": 53,
    "start_time": "2023-06-09T10:20:50.631Z"
   },
   {
    "duration": 202,
    "start_time": "2023-06-09T10:20:50.685Z"
   },
   {
    "duration": 14,
    "start_time": "2023-06-09T10:20:50.890Z"
   },
   {
    "duration": 22,
    "start_time": "2023-06-09T10:20:50.906Z"
   },
   {
    "duration": 53,
    "start_time": "2023-06-09T10:20:50.930Z"
   },
   {
    "duration": 4,
    "start_time": "2023-06-09T10:20:50.984Z"
   },
   {
    "duration": 24,
    "start_time": "2023-06-09T10:20:50.990Z"
   },
   {
    "duration": 35,
    "start_time": "2023-06-09T10:20:51.015Z"
   },
   {
    "duration": 26,
    "start_time": "2023-06-09T10:20:51.052Z"
   },
   {
    "duration": 13,
    "start_time": "2023-06-09T10:20:51.080Z"
   },
   {
    "duration": 184,
    "start_time": "2023-06-09T10:20:51.099Z"
   },
   {
    "duration": 12,
    "start_time": "2023-06-09T10:20:51.285Z"
   },
   {
    "duration": 15,
    "start_time": "2023-06-09T10:20:51.299Z"
   },
   {
    "duration": 21,
    "start_time": "2023-06-09T10:20:51.316Z"
   },
   {
    "duration": 27,
    "start_time": "2023-06-09T10:20:51.338Z"
   },
   {
    "duration": 19,
    "start_time": "2023-06-09T10:20:51.367Z"
   },
   {
    "duration": 47,
    "start_time": "2023-06-09T10:20:51.388Z"
   },
   {
    "duration": 27,
    "start_time": "2023-06-09T10:26:23.381Z"
   },
   {
    "duration": 30,
    "start_time": "2023-06-09T10:26:59.179Z"
   },
   {
    "duration": 353,
    "start_time": "2023-06-09T10:27:03.566Z"
   },
   {
    "duration": 34,
    "start_time": "2023-06-09T10:27:14.374Z"
   },
   {
    "duration": 14,
    "start_time": "2023-06-09T10:27:21.022Z"
   },
   {
    "duration": 47,
    "start_time": "2023-06-09T10:27:48.624Z"
   },
   {
    "duration": 6,
    "start_time": "2023-06-09T10:28:06.923Z"
   },
   {
    "duration": 7,
    "start_time": "2023-06-09T10:29:10.075Z"
   },
   {
    "duration": 5,
    "start_time": "2023-06-09T10:29:21.094Z"
   },
   {
    "duration": 5,
    "start_time": "2023-06-09T10:29:32.616Z"
   },
   {
    "duration": 1574,
    "start_time": "2023-06-09T10:31:01.788Z"
   },
   {
    "duration": 287,
    "start_time": "2023-06-09T10:31:03.364Z"
   },
   {
    "duration": 17,
    "start_time": "2023-06-09T10:31:03.653Z"
   },
   {
    "duration": 35,
    "start_time": "2023-06-09T10:31:03.672Z"
   },
   {
    "duration": 53,
    "start_time": "2023-06-09T10:31:03.709Z"
   },
   {
    "duration": 39,
    "start_time": "2023-06-09T10:31:03.764Z"
   },
   {
    "duration": 75,
    "start_time": "2023-06-09T10:31:03.805Z"
   },
   {
    "duration": 86,
    "start_time": "2023-06-09T10:31:03.882Z"
   },
   {
    "duration": 9,
    "start_time": "2023-06-09T10:31:03.970Z"
   },
   {
    "duration": 23,
    "start_time": "2023-06-09T10:31:03.982Z"
   },
   {
    "duration": 28,
    "start_time": "2023-06-09T10:31:04.007Z"
   },
   {
    "duration": 19,
    "start_time": "2023-06-09T10:31:04.039Z"
   },
   {
    "duration": 8,
    "start_time": "2023-06-09T10:31:04.060Z"
   },
   {
    "duration": 18,
    "start_time": "2023-06-09T10:31:04.070Z"
   },
   {
    "duration": 7,
    "start_time": "2023-06-09T10:31:04.090Z"
   },
   {
    "duration": 15,
    "start_time": "2023-06-09T10:31:04.099Z"
   },
   {
    "duration": 57,
    "start_time": "2023-06-09T10:31:04.117Z"
   },
   {
    "duration": 10,
    "start_time": "2023-06-09T10:31:04.176Z"
   },
   {
    "duration": 12,
    "start_time": "2023-06-09T10:31:04.188Z"
   },
   {
    "duration": 17,
    "start_time": "2023-06-09T10:31:04.203Z"
   },
   {
    "duration": 32,
    "start_time": "2023-06-09T10:31:04.223Z"
   },
   {
    "duration": 27,
    "start_time": "2023-06-09T10:31:04.262Z"
   },
   {
    "duration": 19,
    "start_time": "2023-06-09T10:31:04.291Z"
   },
   {
    "duration": 22,
    "start_time": "2023-06-09T10:31:04.313Z"
   },
   {
    "duration": 30,
    "start_time": "2023-06-09T10:31:04.337Z"
   },
   {
    "duration": 16,
    "start_time": "2023-06-09T10:31:04.369Z"
   },
   {
    "duration": 12,
    "start_time": "2023-06-09T10:31:04.388Z"
   },
   {
    "duration": 67,
    "start_time": "2023-06-09T10:31:04.406Z"
   },
   {
    "duration": 22,
    "start_time": "2023-06-09T10:31:04.475Z"
   },
   {
    "duration": 101,
    "start_time": "2023-06-09T10:31:04.499Z"
   },
   {
    "duration": 11,
    "start_time": "2023-06-09T10:31:04.602Z"
   },
   {
    "duration": 17,
    "start_time": "2023-06-09T10:31:04.615Z"
   },
   {
    "duration": 16,
    "start_time": "2023-06-09T10:31:04.649Z"
   },
   {
    "duration": 18,
    "start_time": "2023-06-09T10:31:04.667Z"
   },
   {
    "duration": 7,
    "start_time": "2023-06-09T10:31:04.688Z"
   },
   {
    "duration": 263,
    "start_time": "2023-06-09T10:31:04.697Z"
   },
   {
    "duration": 5,
    "start_time": "2023-06-09T10:31:04.961Z"
   },
   {
    "duration": 177,
    "start_time": "2023-06-09T10:31:04.968Z"
   },
   {
    "duration": 74,
    "start_time": "2023-06-09T10:31:05.149Z"
   },
   {
    "duration": 6,
    "start_time": "2023-06-09T10:31:05.225Z"
   },
   {
    "duration": 226,
    "start_time": "2023-06-09T10:31:05.233Z"
   },
   {
    "duration": 8,
    "start_time": "2023-06-09T10:31:05.460Z"
   },
   {
    "duration": 251,
    "start_time": "2023-06-09T10:31:05.471Z"
   },
   {
    "duration": 4,
    "start_time": "2023-06-09T10:31:05.724Z"
   },
   {
    "duration": 214,
    "start_time": "2023-06-09T10:31:05.730Z"
   },
   {
    "duration": 8,
    "start_time": "2023-06-09T10:31:05.946Z"
   },
   {
    "duration": 202,
    "start_time": "2023-06-09T10:31:05.956Z"
   },
   {
    "duration": 5,
    "start_time": "2023-06-09T10:31:06.160Z"
   },
   {
    "duration": 226,
    "start_time": "2023-06-09T10:31:06.167Z"
   },
   {
    "duration": 230,
    "start_time": "2023-06-09T10:31:06.396Z"
   },
   {
    "duration": 75,
    "start_time": "2023-06-09T10:31:06.628Z"
   },
   {
    "duration": 97,
    "start_time": "2023-06-09T10:31:06.705Z"
   },
   {
    "duration": 286,
    "start_time": "2023-06-09T10:31:06.804Z"
   },
   {
    "duration": 42,
    "start_time": "2023-06-09T10:31:07.092Z"
   },
   {
    "duration": 12,
    "start_time": "2023-06-09T10:31:07.136Z"
   },
   {
    "duration": 305,
    "start_time": "2023-06-09T10:31:07.150Z"
   },
   {
    "duration": 36,
    "start_time": "2023-06-09T10:31:07.456Z"
   },
   {
    "duration": 67,
    "start_time": "2023-06-09T10:31:07.494Z"
   },
   {
    "duration": 17,
    "start_time": "2023-06-09T10:31:07.563Z"
   },
   {
    "duration": 22,
    "start_time": "2023-06-09T10:31:07.581Z"
   },
   {
    "duration": 35,
    "start_time": "2023-06-09T10:31:07.605Z"
   },
   {
    "duration": 50,
    "start_time": "2023-06-09T10:31:07.641Z"
   },
   {
    "duration": 44,
    "start_time": "2023-06-09T10:31:07.693Z"
   },
   {
    "duration": 9,
    "start_time": "2023-06-09T10:31:07.740Z"
   },
   {
    "duration": 621,
    "start_time": "2023-06-09T10:31:07.751Z"
   },
   {
    "duration": 5,
    "start_time": "2023-06-09T10:31:08.374Z"
   },
   {
    "duration": 19,
    "start_time": "2023-06-09T10:31:08.381Z"
   },
   {
    "duration": 82,
    "start_time": "2023-06-09T10:31:08.402Z"
   },
   {
    "duration": 155,
    "start_time": "2023-06-09T10:31:08.487Z"
   },
   {
    "duration": 46,
    "start_time": "2023-06-09T10:31:08.643Z"
   },
   {
    "duration": 126,
    "start_time": "2023-06-09T10:31:08.692Z"
   },
   {
    "duration": 51,
    "start_time": "2023-06-09T10:31:08.820Z"
   },
   {
    "duration": 183,
    "start_time": "2023-06-09T10:31:08.873Z"
   },
   {
    "duration": 10,
    "start_time": "2023-06-09T10:31:09.058Z"
   },
   {
    "duration": 5,
    "start_time": "2023-06-09T10:31:09.070Z"
   },
   {
    "duration": 23,
    "start_time": "2023-06-09T10:31:09.077Z"
   },
   {
    "duration": 4,
    "start_time": "2023-06-09T10:31:09.102Z"
   },
   {
    "duration": 7,
    "start_time": "2023-06-09T10:31:09.108Z"
   },
   {
    "duration": 37,
    "start_time": "2023-06-09T10:31:09.117Z"
   },
   {
    "duration": 4,
    "start_time": "2023-06-09T10:31:09.155Z"
   },
   {
    "duration": 10,
    "start_time": "2023-06-09T10:31:09.161Z"
   },
   {
    "duration": 181,
    "start_time": "2023-06-09T10:31:09.177Z"
   },
   {
    "duration": 11,
    "start_time": "2023-06-09T10:31:09.361Z"
   },
   {
    "duration": 3,
    "start_time": "2023-06-09T10:31:09.375Z"
   },
   {
    "duration": 9,
    "start_time": "2023-06-09T10:31:09.380Z"
   },
   {
    "duration": 4,
    "start_time": "2023-06-09T10:31:09.390Z"
   },
   {
    "duration": 11,
    "start_time": "2023-06-09T10:31:09.396Z"
   },
   {
    "duration": 86,
    "start_time": "2023-06-09T10:31:09.408Z"
   },
   {
    "duration": 15,
    "start_time": "2023-06-09T10:34:38.971Z"
   },
   {
    "duration": 42,
    "start_time": "2023-06-09T10:45:16.436Z"
   },
   {
    "duration": 50,
    "start_time": "2023-06-09T10:45:20.786Z"
   },
   {
    "duration": 134,
    "start_time": "2023-06-09T10:45:28.587Z"
   },
   {
    "duration": 22,
    "start_time": "2023-06-09T10:45:41.240Z"
   },
   {
    "duration": 17,
    "start_time": "2023-06-09T10:45:56.739Z"
   },
   {
    "duration": 19,
    "start_time": "2023-06-09T10:46:01.909Z"
   },
   {
    "duration": 18,
    "start_time": "2023-06-09T10:46:03.339Z"
   },
   {
    "duration": 17,
    "start_time": "2023-06-09T10:46:17.426Z"
   },
   {
    "duration": 1363,
    "start_time": "2023-06-09T10:46:33.738Z"
   },
   {
    "duration": 323,
    "start_time": "2023-06-09T10:46:35.104Z"
   },
   {
    "duration": 12,
    "start_time": "2023-06-09T10:46:35.429Z"
   },
   {
    "duration": 49,
    "start_time": "2023-06-09T10:46:35.443Z"
   },
   {
    "duration": 38,
    "start_time": "2023-06-09T10:46:35.494Z"
   },
   {
    "duration": 27,
    "start_time": "2023-06-09T10:46:35.534Z"
   },
   {
    "duration": 97,
    "start_time": "2023-06-09T10:46:35.564Z"
   },
   {
    "duration": 94,
    "start_time": "2023-06-09T10:46:35.663Z"
   },
   {
    "duration": 13,
    "start_time": "2023-06-09T10:46:35.760Z"
   },
   {
    "duration": 15,
    "start_time": "2023-06-09T10:46:35.778Z"
   },
   {
    "duration": 18,
    "start_time": "2023-06-09T10:46:35.795Z"
   },
   {
    "duration": 13,
    "start_time": "2023-06-09T10:46:35.815Z"
   },
   {
    "duration": 27,
    "start_time": "2023-06-09T10:46:35.830Z"
   },
   {
    "duration": 27,
    "start_time": "2023-06-09T10:46:35.859Z"
   },
   {
    "duration": 32,
    "start_time": "2023-06-09T10:46:35.888Z"
   },
   {
    "duration": 57,
    "start_time": "2023-06-09T10:46:35.922Z"
   },
   {
    "duration": 32,
    "start_time": "2023-06-09T10:46:35.981Z"
   },
   {
    "duration": 9,
    "start_time": "2023-06-09T10:46:36.015Z"
   },
   {
    "duration": 40,
    "start_time": "2023-06-09T10:46:36.025Z"
   },
   {
    "duration": 6,
    "start_time": "2023-06-09T10:46:36.068Z"
   },
   {
    "duration": 25,
    "start_time": "2023-06-09T10:46:36.076Z"
   },
   {
    "duration": 9,
    "start_time": "2023-06-09T10:46:36.103Z"
   },
   {
    "duration": 13,
    "start_time": "2023-06-09T10:46:36.114Z"
   },
   {
    "duration": 19,
    "start_time": "2023-06-09T10:46:36.129Z"
   },
   {
    "duration": 27,
    "start_time": "2023-06-09T10:46:36.150Z"
   },
   {
    "duration": 11,
    "start_time": "2023-06-09T10:46:36.179Z"
   },
   {
    "duration": 11,
    "start_time": "2023-06-09T10:46:36.192Z"
   },
   {
    "duration": 59,
    "start_time": "2023-06-09T10:46:36.208Z"
   },
   {
    "duration": 15,
    "start_time": "2023-06-09T10:46:36.270Z"
   },
   {
    "duration": 98,
    "start_time": "2023-06-09T10:46:36.287Z"
   },
   {
    "duration": 10,
    "start_time": "2023-06-09T10:46:36.387Z"
   },
   {
    "duration": 26,
    "start_time": "2023-06-09T10:46:36.399Z"
   },
   {
    "duration": 10,
    "start_time": "2023-06-09T10:46:36.427Z"
   },
   {
    "duration": 30,
    "start_time": "2023-06-09T10:46:36.451Z"
   },
   {
    "duration": 16,
    "start_time": "2023-06-09T10:46:36.483Z"
   },
   {
    "duration": 294,
    "start_time": "2023-06-09T10:46:36.500Z"
   },
   {
    "duration": 4,
    "start_time": "2023-06-09T10:46:36.796Z"
   },
   {
    "duration": 195,
    "start_time": "2023-06-09T10:46:36.801Z"
   },
   {
    "duration": 87,
    "start_time": "2023-06-09T10:46:36.998Z"
   },
   {
    "duration": 7,
    "start_time": "2023-06-09T10:46:37.087Z"
   },
   {
    "duration": 230,
    "start_time": "2023-06-09T10:46:37.096Z"
   },
   {
    "duration": 5,
    "start_time": "2023-06-09T10:46:37.328Z"
   },
   {
    "duration": 267,
    "start_time": "2023-06-09T10:46:37.350Z"
   },
   {
    "duration": 5,
    "start_time": "2023-06-09T10:46:37.619Z"
   },
   {
    "duration": 250,
    "start_time": "2023-06-09T10:46:37.626Z"
   },
   {
    "duration": 5,
    "start_time": "2023-06-09T10:46:37.878Z"
   },
   {
    "duration": 227,
    "start_time": "2023-06-09T10:46:37.885Z"
   },
   {
    "duration": 5,
    "start_time": "2023-06-09T10:46:38.113Z"
   },
   {
    "duration": 218,
    "start_time": "2023-06-09T10:46:38.119Z"
   },
   {
    "duration": 241,
    "start_time": "2023-06-09T10:46:38.339Z"
   },
   {
    "duration": 91,
    "start_time": "2023-06-09T10:46:38.582Z"
   },
   {
    "duration": 103,
    "start_time": "2023-06-09T10:46:38.675Z"
   },
   {
    "duration": 277,
    "start_time": "2023-06-09T10:46:38.780Z"
   },
   {
    "duration": 27,
    "start_time": "2023-06-09T10:46:39.059Z"
   },
   {
    "duration": 7,
    "start_time": "2023-06-09T10:46:39.088Z"
   },
   {
    "duration": 329,
    "start_time": "2023-06-09T10:46:39.097Z"
   },
   {
    "duration": 47,
    "start_time": "2023-06-09T10:46:39.428Z"
   },
   {
    "duration": 49,
    "start_time": "2023-06-09T10:46:39.478Z"
   },
   {
    "duration": 43,
    "start_time": "2023-06-09T10:46:39.530Z"
   },
   {
    "duration": 17,
    "start_time": "2023-06-09T10:46:39.575Z"
   },
   {
    "duration": 22,
    "start_time": "2023-06-09T10:46:39.594Z"
   },
   {
    "duration": 22,
    "start_time": "2023-06-09T10:46:39.618Z"
   },
   {
    "duration": 43,
    "start_time": "2023-06-09T10:46:39.642Z"
   },
   {
    "duration": 8,
    "start_time": "2023-06-09T10:46:39.686Z"
   },
   {
    "duration": 706,
    "start_time": "2023-06-09T10:46:39.696Z"
   },
   {
    "duration": 6,
    "start_time": "2023-06-09T10:46:40.404Z"
   },
   {
    "duration": 11,
    "start_time": "2023-06-09T10:46:40.413Z"
   },
   {
    "duration": 110,
    "start_time": "2023-06-09T10:46:40.425Z"
   },
   {
    "duration": 187,
    "start_time": "2023-06-09T10:46:40.537Z"
   },
   {
    "duration": 43,
    "start_time": "2023-06-09T10:46:40.725Z"
   },
   {
    "duration": 135,
    "start_time": "2023-06-09T10:46:40.772Z"
   },
   {
    "duration": 49,
    "start_time": "2023-06-09T10:46:40.909Z"
   },
   {
    "duration": 206,
    "start_time": "2023-06-09T10:46:40.960Z"
   },
   {
    "duration": 13,
    "start_time": "2023-06-09T10:46:41.168Z"
   },
   {
    "duration": 15,
    "start_time": "2023-06-09T10:46:41.182Z"
   },
   {
    "duration": 28,
    "start_time": "2023-06-09T10:46:41.199Z"
   },
   {
    "duration": 4,
    "start_time": "2023-06-09T10:46:41.229Z"
   },
   {
    "duration": 24,
    "start_time": "2023-06-09T10:46:41.234Z"
   },
   {
    "duration": 18,
    "start_time": "2023-06-09T10:46:41.260Z"
   },
   {
    "duration": 4,
    "start_time": "2023-06-09T10:46:41.280Z"
   },
   {
    "duration": 18,
    "start_time": "2023-06-09T10:46:41.286Z"
   },
   {
    "duration": 175,
    "start_time": "2023-06-09T10:46:41.311Z"
   },
   {
    "duration": 12,
    "start_time": "2023-06-09T10:46:41.488Z"
   },
   {
    "duration": 7,
    "start_time": "2023-06-09T10:46:41.502Z"
   },
   {
    "duration": 37,
    "start_time": "2023-06-09T10:46:41.511Z"
   },
   {
    "duration": 4,
    "start_time": "2023-06-09T10:46:41.552Z"
   },
   {
    "duration": 17,
    "start_time": "2023-06-09T10:46:41.558Z"
   },
   {
    "duration": 6,
    "start_time": "2023-06-09T10:46:41.577Z"
   },
   {
    "duration": 8,
    "start_time": "2023-06-09T10:46:41.585Z"
   },
   {
    "duration": 12,
    "start_time": "2023-06-09T10:46:41.595Z"
   },
   {
    "duration": 65,
    "start_time": "2023-06-09T10:46:41.609Z"
   },
   {
    "duration": 17,
    "start_time": "2023-06-09T10:47:11.135Z"
   },
   {
    "duration": 6,
    "start_time": "2023-06-09T10:47:15.723Z"
   },
   {
    "duration": 136,
    "start_time": "2023-06-09T10:47:17.514Z"
   },
   {
    "duration": 5,
    "start_time": "2023-06-09T10:47:28.328Z"
   },
   {
    "duration": 1338,
    "start_time": "2023-06-09T10:47:42.439Z"
   },
   {
    "duration": 300,
    "start_time": "2023-06-09T10:47:43.779Z"
   },
   {
    "duration": 17,
    "start_time": "2023-06-09T10:47:44.084Z"
   },
   {
    "duration": 61,
    "start_time": "2023-06-09T10:47:44.104Z"
   },
   {
    "duration": 39,
    "start_time": "2023-06-09T10:47:44.172Z"
   },
   {
    "duration": 42,
    "start_time": "2023-06-09T10:47:44.213Z"
   },
   {
    "duration": 73,
    "start_time": "2023-06-09T10:47:44.257Z"
   },
   {
    "duration": 105,
    "start_time": "2023-06-09T10:47:44.334Z"
   },
   {
    "duration": 29,
    "start_time": "2023-06-09T10:47:44.441Z"
   },
   {
    "duration": 18,
    "start_time": "2023-06-09T10:47:44.474Z"
   },
   {
    "duration": 10,
    "start_time": "2023-06-09T10:47:44.493Z"
   },
   {
    "duration": 16,
    "start_time": "2023-06-09T10:47:44.505Z"
   },
   {
    "duration": 6,
    "start_time": "2023-06-09T10:47:44.523Z"
   },
   {
    "duration": 28,
    "start_time": "2023-06-09T10:47:44.530Z"
   },
   {
    "duration": 25,
    "start_time": "2023-06-09T10:47:44.562Z"
   },
   {
    "duration": 19,
    "start_time": "2023-06-09T10:47:44.589Z"
   },
   {
    "duration": 27,
    "start_time": "2023-06-09T10:47:44.610Z"
   },
   {
    "duration": 27,
    "start_time": "2023-06-09T10:47:44.639Z"
   },
   {
    "duration": 15,
    "start_time": "2023-06-09T10:47:44.672Z"
   },
   {
    "duration": 4,
    "start_time": "2023-06-09T10:47:44.689Z"
   },
   {
    "duration": 14,
    "start_time": "2023-06-09T10:47:44.695Z"
   },
   {
    "duration": 7,
    "start_time": "2023-06-09T10:47:44.711Z"
   },
   {
    "duration": 8,
    "start_time": "2023-06-09T10:47:44.720Z"
   },
   {
    "duration": 34,
    "start_time": "2023-06-09T10:47:44.730Z"
   },
   {
    "duration": 14,
    "start_time": "2023-06-09T10:47:44.766Z"
   },
   {
    "duration": 13,
    "start_time": "2023-06-09T10:47:44.782Z"
   },
   {
    "duration": 5,
    "start_time": "2023-06-09T10:47:44.797Z"
   },
   {
    "duration": 68,
    "start_time": "2023-06-09T10:47:44.807Z"
   },
   {
    "duration": 15,
    "start_time": "2023-06-09T10:47:44.877Z"
   },
   {
    "duration": 102,
    "start_time": "2023-06-09T10:47:44.893Z"
   },
   {
    "duration": 11,
    "start_time": "2023-06-09T10:47:44.997Z"
   },
   {
    "duration": 47,
    "start_time": "2023-06-09T10:47:45.010Z"
   },
   {
    "duration": 14,
    "start_time": "2023-06-09T10:47:45.066Z"
   },
   {
    "duration": 13,
    "start_time": "2023-06-09T10:47:45.081Z"
   },
   {
    "duration": 7,
    "start_time": "2023-06-09T10:47:45.096Z"
   },
   {
    "duration": 284,
    "start_time": "2023-06-09T10:47:45.105Z"
   },
   {
    "duration": 5,
    "start_time": "2023-06-09T10:47:45.391Z"
   },
   {
    "duration": 188,
    "start_time": "2023-06-09T10:47:45.398Z"
   },
   {
    "duration": 80,
    "start_time": "2023-06-09T10:47:45.588Z"
   },
   {
    "duration": 5,
    "start_time": "2023-06-09T10:47:45.670Z"
   },
   {
    "duration": 249,
    "start_time": "2023-06-09T10:47:45.678Z"
   },
   {
    "duration": 4,
    "start_time": "2023-06-09T10:47:45.929Z"
   },
   {
    "duration": 243,
    "start_time": "2023-06-09T10:47:45.937Z"
   },
   {
    "duration": 5,
    "start_time": "2023-06-09T10:47:46.182Z"
   },
   {
    "duration": 215,
    "start_time": "2023-06-09T10:47:46.188Z"
   },
   {
    "duration": 5,
    "start_time": "2023-06-09T10:47:46.405Z"
   },
   {
    "duration": 246,
    "start_time": "2023-06-09T10:47:46.412Z"
   },
   {
    "duration": 6,
    "start_time": "2023-06-09T10:47:46.662Z"
   },
   {
    "duration": 185,
    "start_time": "2023-06-09T10:47:46.670Z"
   },
   {
    "duration": 258,
    "start_time": "2023-06-09T10:47:46.858Z"
   },
   {
    "duration": 91,
    "start_time": "2023-06-09T10:47:47.117Z"
   },
   {
    "duration": 99,
    "start_time": "2023-06-09T10:47:47.210Z"
   },
   {
    "duration": 356,
    "start_time": "2023-06-09T10:47:47.312Z"
   },
   {
    "duration": 22,
    "start_time": "2023-06-09T10:47:47.670Z"
   },
   {
    "duration": 10,
    "start_time": "2023-06-09T10:47:47.694Z"
   },
   {
    "duration": 414,
    "start_time": "2023-06-09T10:47:47.706Z"
   },
   {
    "duration": 58,
    "start_time": "2023-06-09T10:47:48.122Z"
   },
   {
    "duration": 50,
    "start_time": "2023-06-09T10:47:48.182Z"
   },
   {
    "duration": 36,
    "start_time": "2023-06-09T10:47:48.234Z"
   },
   {
    "duration": 14,
    "start_time": "2023-06-09T10:47:48.272Z"
   },
   {
    "duration": 12,
    "start_time": "2023-06-09T10:47:48.288Z"
   },
   {
    "duration": 19,
    "start_time": "2023-06-09T10:47:48.302Z"
   },
   {
    "duration": 61,
    "start_time": "2023-06-09T10:47:48.323Z"
   },
   {
    "duration": 9,
    "start_time": "2023-06-09T10:47:48.386Z"
   },
   {
    "duration": 703,
    "start_time": "2023-06-09T10:47:48.396Z"
   },
   {
    "duration": 6,
    "start_time": "2023-06-09T10:47:49.101Z"
   },
   {
    "duration": 7,
    "start_time": "2023-06-09T10:47:49.109Z"
   },
   {
    "duration": 107,
    "start_time": "2023-06-09T10:47:49.118Z"
   },
   {
    "duration": 159,
    "start_time": "2023-06-09T10:47:49.226Z"
   },
   {
    "duration": 36,
    "start_time": "2023-06-09T10:47:49.387Z"
   },
   {
    "duration": 139,
    "start_time": "2023-06-09T10:47:49.425Z"
   },
   {
    "duration": 42,
    "start_time": "2023-06-09T10:47:49.566Z"
   },
   {
    "duration": 222,
    "start_time": "2023-06-09T10:47:49.609Z"
   },
   {
    "duration": 23,
    "start_time": "2023-06-09T10:47:49.834Z"
   },
   {
    "duration": 18,
    "start_time": "2023-06-09T10:47:49.859Z"
   },
   {
    "duration": 38,
    "start_time": "2023-06-09T10:47:49.879Z"
   },
   {
    "duration": 4,
    "start_time": "2023-06-09T10:47:49.919Z"
   },
   {
    "duration": 11,
    "start_time": "2023-06-09T10:47:49.924Z"
   },
   {
    "duration": 10,
    "start_time": "2023-06-09T10:47:49.936Z"
   },
   {
    "duration": 5,
    "start_time": "2023-06-09T10:47:49.951Z"
   },
   {
    "duration": 15,
    "start_time": "2023-06-09T10:47:49.958Z"
   },
   {
    "duration": 191,
    "start_time": "2023-06-09T10:47:49.981Z"
   },
   {
    "duration": 13,
    "start_time": "2023-06-09T10:47:50.175Z"
   },
   {
    "duration": 4,
    "start_time": "2023-06-09T10:47:50.189Z"
   },
   {
    "duration": 9,
    "start_time": "2023-06-09T10:47:50.195Z"
   },
   {
    "duration": 4,
    "start_time": "2023-06-09T10:47:50.206Z"
   },
   {
    "duration": 62,
    "start_time": "2023-06-09T10:47:50.212Z"
   },
   {
    "duration": 3,
    "start_time": "2023-06-09T10:47:50.276Z"
   },
   {
    "duration": 26,
    "start_time": "2023-06-09T10:47:50.281Z"
   },
   {
    "duration": 50,
    "start_time": "2023-06-09T10:47:50.309Z"
   },
   {
    "duration": 13,
    "start_time": "2023-06-09T10:47:50.361Z"
   },
   {
    "duration": 44,
    "start_time": "2023-06-09T10:47:50.376Z"
   },
   {
    "duration": 151,
    "start_time": "2023-06-09T10:48:24.390Z"
   },
   {
    "duration": 20,
    "start_time": "2023-06-09T10:49:04.851Z"
   },
   {
    "duration": 3,
    "start_time": "2023-06-09T10:49:06.356Z"
   },
   {
    "duration": 23,
    "start_time": "2023-06-09T10:49:08.489Z"
   },
   {
    "duration": 14,
    "start_time": "2023-06-09T10:49:09.498Z"
   },
   {
    "duration": 1256,
    "start_time": "2023-06-09T10:50:45.521Z"
   },
   {
    "duration": 268,
    "start_time": "2023-06-09T10:50:46.779Z"
   },
   {
    "duration": 14,
    "start_time": "2023-06-09T10:50:47.048Z"
   },
   {
    "duration": 59,
    "start_time": "2023-06-09T10:50:47.064Z"
   },
   {
    "duration": 63,
    "start_time": "2023-06-09T10:50:47.125Z"
   },
   {
    "duration": 64,
    "start_time": "2023-06-09T10:50:47.191Z"
   },
   {
    "duration": 72,
    "start_time": "2023-06-09T10:50:47.257Z"
   },
   {
    "duration": 105,
    "start_time": "2023-06-09T10:50:47.332Z"
   },
   {
    "duration": 16,
    "start_time": "2023-06-09T10:50:47.438Z"
   },
   {
    "duration": 30,
    "start_time": "2023-06-09T10:50:47.458Z"
   },
   {
    "duration": 33,
    "start_time": "2023-06-09T10:50:47.490Z"
   },
   {
    "duration": 20,
    "start_time": "2023-06-09T10:50:47.525Z"
   },
   {
    "duration": 18,
    "start_time": "2023-06-09T10:50:47.547Z"
   },
   {
    "duration": 22,
    "start_time": "2023-06-09T10:50:47.567Z"
   },
   {
    "duration": 26,
    "start_time": "2023-06-09T10:50:47.591Z"
   },
   {
    "duration": 28,
    "start_time": "2023-06-09T10:50:47.619Z"
   },
   {
    "duration": 42,
    "start_time": "2023-06-09T10:50:47.649Z"
   },
   {
    "duration": 12,
    "start_time": "2023-06-09T10:50:47.693Z"
   },
   {
    "duration": 22,
    "start_time": "2023-06-09T10:50:47.707Z"
   },
   {
    "duration": 13,
    "start_time": "2023-06-09T10:50:47.731Z"
   },
   {
    "duration": 25,
    "start_time": "2023-06-09T10:50:47.746Z"
   },
   {
    "duration": 28,
    "start_time": "2023-06-09T10:50:47.773Z"
   },
   {
    "duration": 12,
    "start_time": "2023-06-09T10:50:47.803Z"
   },
   {
    "duration": 31,
    "start_time": "2023-06-09T10:50:47.817Z"
   },
   {
    "duration": 31,
    "start_time": "2023-06-09T10:50:47.849Z"
   },
   {
    "duration": 21,
    "start_time": "2023-06-09T10:50:47.882Z"
   },
   {
    "duration": 16,
    "start_time": "2023-06-09T10:50:47.905Z"
   },
   {
    "duration": 68,
    "start_time": "2023-06-09T10:50:47.925Z"
   },
   {
    "duration": 27,
    "start_time": "2023-06-09T10:50:47.995Z"
   },
   {
    "duration": 82,
    "start_time": "2023-06-09T10:50:48.024Z"
   },
   {
    "duration": 11,
    "start_time": "2023-06-09T10:50:48.108Z"
   },
   {
    "duration": 17,
    "start_time": "2023-06-09T10:50:48.120Z"
   },
   {
    "duration": 21,
    "start_time": "2023-06-09T10:50:48.139Z"
   },
   {
    "duration": 28,
    "start_time": "2023-06-09T10:50:48.161Z"
   },
   {
    "duration": 38,
    "start_time": "2023-06-09T10:50:48.191Z"
   },
   {
    "duration": 259,
    "start_time": "2023-06-09T10:50:48.232Z"
   },
   {
    "duration": 5,
    "start_time": "2023-06-09T10:50:48.492Z"
   },
   {
    "duration": 180,
    "start_time": "2023-06-09T10:50:48.499Z"
   },
   {
    "duration": 77,
    "start_time": "2023-06-09T10:50:48.681Z"
   },
   {
    "duration": 5,
    "start_time": "2023-06-09T10:50:48.760Z"
   },
   {
    "duration": 230,
    "start_time": "2023-06-09T10:50:48.767Z"
   },
   {
    "duration": 5,
    "start_time": "2023-06-09T10:50:48.999Z"
   },
   {
    "duration": 226,
    "start_time": "2023-06-09T10:50:49.007Z"
   },
   {
    "duration": 5,
    "start_time": "2023-06-09T10:50:49.234Z"
   },
   {
    "duration": 205,
    "start_time": "2023-06-09T10:50:49.240Z"
   },
   {
    "duration": 4,
    "start_time": "2023-06-09T10:50:49.450Z"
   },
   {
    "duration": 196,
    "start_time": "2023-06-09T10:50:49.456Z"
   },
   {
    "duration": 4,
    "start_time": "2023-06-09T10:50:49.654Z"
   },
   {
    "duration": 181,
    "start_time": "2023-06-09T10:50:49.660Z"
   },
   {
    "duration": 232,
    "start_time": "2023-06-09T10:50:49.843Z"
   },
   {
    "duration": 76,
    "start_time": "2023-06-09T10:50:50.077Z"
   },
   {
    "duration": 78,
    "start_time": "2023-06-09T10:50:50.154Z"
   },
   {
    "duration": 244,
    "start_time": "2023-06-09T10:50:50.233Z"
   },
   {
    "duration": 21,
    "start_time": "2023-06-09T10:50:50.480Z"
   },
   {
    "duration": 13,
    "start_time": "2023-06-09T10:50:50.504Z"
   },
   {
    "duration": 326,
    "start_time": "2023-06-09T10:50:50.519Z"
   },
   {
    "duration": 45,
    "start_time": "2023-06-09T10:50:50.851Z"
   },
   {
    "duration": 69,
    "start_time": "2023-06-09T10:50:50.898Z"
   },
   {
    "duration": 23,
    "start_time": "2023-06-09T10:50:50.970Z"
   },
   {
    "duration": 22,
    "start_time": "2023-06-09T10:50:50.995Z"
   },
   {
    "duration": 19,
    "start_time": "2023-06-09T10:50:51.019Z"
   },
   {
    "duration": 25,
    "start_time": "2023-06-09T10:50:51.040Z"
   },
   {
    "duration": 28,
    "start_time": "2023-06-09T10:50:51.067Z"
   },
   {
    "duration": 41,
    "start_time": "2023-06-09T10:50:51.097Z"
   },
   {
    "duration": 623,
    "start_time": "2023-06-09T10:50:51.140Z"
   },
   {
    "duration": 6,
    "start_time": "2023-06-09T10:50:51.765Z"
   },
   {
    "duration": 6,
    "start_time": "2023-06-09T10:50:51.772Z"
   },
   {
    "duration": 97,
    "start_time": "2023-06-09T10:50:51.780Z"
   },
   {
    "duration": 146,
    "start_time": "2023-06-09T10:50:51.878Z"
   },
   {
    "duration": 49,
    "start_time": "2023-06-09T10:50:52.026Z"
   },
   {
    "duration": 122,
    "start_time": "2023-06-09T10:50:52.077Z"
   },
   {
    "duration": 50,
    "start_time": "2023-06-09T10:50:52.201Z"
   },
   {
    "duration": 192,
    "start_time": "2023-06-09T10:50:52.253Z"
   },
   {
    "duration": 15,
    "start_time": "2023-06-09T10:50:52.447Z"
   },
   {
    "duration": 6,
    "start_time": "2023-06-09T10:50:52.464Z"
   },
   {
    "duration": 29,
    "start_time": "2023-06-09T10:50:52.472Z"
   },
   {
    "duration": 6,
    "start_time": "2023-06-09T10:50:52.503Z"
   },
   {
    "duration": 39,
    "start_time": "2023-06-09T10:50:52.511Z"
   },
   {
    "duration": 8,
    "start_time": "2023-06-09T10:50:52.552Z"
   },
   {
    "duration": 5,
    "start_time": "2023-06-09T10:50:52.562Z"
   },
   {
    "duration": 19,
    "start_time": "2023-06-09T10:50:52.569Z"
   },
   {
    "duration": 194,
    "start_time": "2023-06-09T10:50:52.597Z"
   },
   {
    "duration": 17,
    "start_time": "2023-06-09T10:50:52.793Z"
   },
   {
    "duration": 7,
    "start_time": "2023-06-09T10:50:52.812Z"
   },
   {
    "duration": 30,
    "start_time": "2023-06-09T10:50:52.821Z"
   },
   {
    "duration": 11,
    "start_time": "2023-06-09T10:50:52.853Z"
   },
   {
    "duration": 21,
    "start_time": "2023-06-09T10:50:52.866Z"
   },
   {
    "duration": 3,
    "start_time": "2023-06-09T10:50:52.889Z"
   },
   {
    "duration": 17,
    "start_time": "2023-06-09T10:50:52.894Z"
   },
   {
    "duration": 10,
    "start_time": "2023-06-09T10:50:52.913Z"
   },
   {
    "duration": 64,
    "start_time": "2023-06-09T10:50:52.925Z"
   },
   {
    "duration": 22,
    "start_time": "2023-06-09T10:53:00.593Z"
   },
   {
    "duration": 26,
    "start_time": "2023-06-09T10:53:52.626Z"
   },
   {
    "duration": 1215,
    "start_time": "2023-06-09T10:54:01.762Z"
   },
   {
    "duration": 265,
    "start_time": "2023-06-09T10:54:02.979Z"
   },
   {
    "duration": 13,
    "start_time": "2023-06-09T10:54:03.245Z"
   },
   {
    "duration": 32,
    "start_time": "2023-06-09T10:54:03.260Z"
   },
   {
    "duration": 34,
    "start_time": "2023-06-09T10:54:03.294Z"
   },
   {
    "duration": 44,
    "start_time": "2023-06-09T10:54:03.330Z"
   },
   {
    "duration": 75,
    "start_time": "2023-06-09T10:54:03.376Z"
   },
   {
    "duration": 75,
    "start_time": "2023-06-09T10:54:03.453Z"
   },
   {
    "duration": 22,
    "start_time": "2023-06-09T10:54:03.529Z"
   },
   {
    "duration": 10,
    "start_time": "2023-06-09T10:54:03.554Z"
   },
   {
    "duration": 10,
    "start_time": "2023-06-09T10:54:03.565Z"
   },
   {
    "duration": 10,
    "start_time": "2023-06-09T10:54:03.577Z"
   },
   {
    "duration": 6,
    "start_time": "2023-06-09T10:54:03.588Z"
   },
   {
    "duration": 10,
    "start_time": "2023-06-09T10:54:03.595Z"
   },
   {
    "duration": 47,
    "start_time": "2023-06-09T10:54:03.607Z"
   },
   {
    "duration": 14,
    "start_time": "2023-06-09T10:54:03.655Z"
   },
   {
    "duration": 23,
    "start_time": "2023-06-09T10:54:03.671Z"
   },
   {
    "duration": 8,
    "start_time": "2023-06-09T10:54:03.696Z"
   },
   {
    "duration": 12,
    "start_time": "2023-06-09T10:54:03.705Z"
   },
   {
    "duration": 34,
    "start_time": "2023-06-09T10:54:03.718Z"
   },
   {
    "duration": 7,
    "start_time": "2023-06-09T10:54:03.754Z"
   },
   {
    "duration": 6,
    "start_time": "2023-06-09T10:54:03.763Z"
   },
   {
    "duration": 8,
    "start_time": "2023-06-09T10:54:03.770Z"
   },
   {
    "duration": 9,
    "start_time": "2023-06-09T10:54:03.779Z"
   },
   {
    "duration": 11,
    "start_time": "2023-06-09T10:54:03.789Z"
   },
   {
    "duration": 48,
    "start_time": "2023-06-09T10:54:03.802Z"
   },
   {
    "duration": 5,
    "start_time": "2023-06-09T10:54:03.854Z"
   },
   {
    "duration": 47,
    "start_time": "2023-06-09T10:54:03.864Z"
   },
   {
    "duration": 38,
    "start_time": "2023-06-09T10:54:03.913Z"
   },
   {
    "duration": 74,
    "start_time": "2023-06-09T10:54:03.953Z"
   },
   {
    "duration": 27,
    "start_time": "2023-06-09T10:54:04.030Z"
   },
   {
    "duration": 15,
    "start_time": "2023-06-09T10:54:04.059Z"
   },
   {
    "duration": 13,
    "start_time": "2023-06-09T10:54:04.075Z"
   },
   {
    "duration": 24,
    "start_time": "2023-06-09T10:54:04.090Z"
   },
   {
    "duration": 38,
    "start_time": "2023-06-09T10:54:04.117Z"
   },
   {
    "duration": 265,
    "start_time": "2023-06-09T10:54:04.158Z"
   },
   {
    "duration": 4,
    "start_time": "2023-06-09T10:54:04.425Z"
   },
   {
    "duration": 188,
    "start_time": "2023-06-09T10:54:04.431Z"
   },
   {
    "duration": 69,
    "start_time": "2023-06-09T10:54:04.621Z"
   },
   {
    "duration": 5,
    "start_time": "2023-06-09T10:54:04.692Z"
   },
   {
    "duration": 221,
    "start_time": "2023-06-09T10:54:04.698Z"
   },
   {
    "duration": 5,
    "start_time": "2023-06-09T10:54:04.921Z"
   },
   {
    "duration": 209,
    "start_time": "2023-06-09T10:54:04.928Z"
   },
   {
    "duration": 11,
    "start_time": "2023-06-09T10:54:05.139Z"
   },
   {
    "duration": 204,
    "start_time": "2023-06-09T10:54:05.152Z"
   },
   {
    "duration": 5,
    "start_time": "2023-06-09T10:54:05.358Z"
   },
   {
    "duration": 202,
    "start_time": "2023-06-09T10:54:05.364Z"
   },
   {
    "duration": 4,
    "start_time": "2023-06-09T10:54:05.568Z"
   },
   {
    "duration": 177,
    "start_time": "2023-06-09T10:54:05.573Z"
   },
   {
    "duration": 229,
    "start_time": "2023-06-09T10:54:05.752Z"
   },
   {
    "duration": 90,
    "start_time": "2023-06-09T10:54:05.983Z"
   },
   {
    "duration": 88,
    "start_time": "2023-06-09T10:54:06.075Z"
   },
   {
    "duration": 227,
    "start_time": "2023-06-09T10:54:06.165Z"
   },
   {
    "duration": 20,
    "start_time": "2023-06-09T10:54:06.394Z"
   },
   {
    "duration": 9,
    "start_time": "2023-06-09T10:54:06.416Z"
   },
   {
    "duration": 332,
    "start_time": "2023-06-09T10:54:06.427Z"
   },
   {
    "duration": 36,
    "start_time": "2023-06-09T10:54:06.761Z"
   },
   {
    "duration": 64,
    "start_time": "2023-06-09T10:54:06.799Z"
   },
   {
    "duration": 17,
    "start_time": "2023-06-09T10:54:06.865Z"
   },
   {
    "duration": 25,
    "start_time": "2023-06-09T10:54:06.884Z"
   },
   {
    "duration": 19,
    "start_time": "2023-06-09T10:54:06.911Z"
   },
   {
    "duration": 23,
    "start_time": "2023-06-09T10:54:06.932Z"
   },
   {
    "duration": 30,
    "start_time": "2023-06-09T10:54:06.957Z"
   },
   {
    "duration": 7,
    "start_time": "2023-06-09T10:54:06.989Z"
   },
   {
    "duration": 646,
    "start_time": "2023-06-09T10:54:06.999Z"
   },
   {
    "duration": 5,
    "start_time": "2023-06-09T10:54:07.651Z"
   },
   {
    "duration": 10,
    "start_time": "2023-06-09T10:54:07.658Z"
   },
   {
    "duration": 89,
    "start_time": "2023-06-09T10:54:07.669Z"
   },
   {
    "duration": 139,
    "start_time": "2023-06-09T10:54:07.760Z"
   },
   {
    "duration": 35,
    "start_time": "2023-06-09T10:54:07.901Z"
   },
   {
    "duration": 120,
    "start_time": "2023-06-09T10:54:07.949Z"
   },
   {
    "duration": 40,
    "start_time": "2023-06-09T10:54:08.071Z"
   },
   {
    "duration": 212,
    "start_time": "2023-06-09T10:54:08.113Z"
   },
   {
    "duration": 11,
    "start_time": "2023-06-09T10:54:08.326Z"
   },
   {
    "duration": 4,
    "start_time": "2023-06-09T10:54:08.350Z"
   },
   {
    "duration": 42,
    "start_time": "2023-06-09T10:54:08.356Z"
   },
   {
    "duration": 4,
    "start_time": "2023-06-09T10:54:08.400Z"
   },
   {
    "duration": 7,
    "start_time": "2023-06-09T10:54:08.406Z"
   },
   {
    "duration": 11,
    "start_time": "2023-06-09T10:54:08.415Z"
   },
   {
    "duration": 16,
    "start_time": "2023-06-09T10:54:08.427Z"
   },
   {
    "duration": 10,
    "start_time": "2023-06-09T10:54:08.444Z"
   },
   {
    "duration": 175,
    "start_time": "2023-06-09T10:54:08.462Z"
   },
   {
    "duration": 20,
    "start_time": "2023-06-09T10:54:08.639Z"
   },
   {
    "duration": 5,
    "start_time": "2023-06-09T10:54:08.661Z"
   },
   {
    "duration": 9,
    "start_time": "2023-06-09T10:54:08.667Z"
   },
   {
    "duration": 8,
    "start_time": "2023-06-09T10:54:08.677Z"
   },
   {
    "duration": 16,
    "start_time": "2023-06-09T10:54:08.687Z"
   },
   {
    "duration": 10,
    "start_time": "2023-06-09T10:54:08.705Z"
   },
   {
    "duration": 46,
    "start_time": "2023-06-09T10:54:08.717Z"
   },
   {
    "duration": 25,
    "start_time": "2023-06-09T10:54:08.765Z"
   },
   {
    "duration": 8,
    "start_time": "2023-06-09T10:54:08.791Z"
   },
   {
    "duration": 63,
    "start_time": "2023-06-09T10:54:08.800Z"
   },
   {
    "duration": 3,
    "start_time": "2023-06-09T10:55:31.626Z"
   },
   {
    "duration": 1480,
    "start_time": "2023-06-09T10:56:38.044Z"
   },
   {
    "duration": 269,
    "start_time": "2023-06-09T10:56:39.526Z"
   },
   {
    "duration": 12,
    "start_time": "2023-06-09T10:56:39.797Z"
   },
   {
    "duration": 34,
    "start_time": "2023-06-09T10:56:39.811Z"
   },
   {
    "duration": 33,
    "start_time": "2023-06-09T10:56:39.846Z"
   },
   {
    "duration": 27,
    "start_time": "2023-06-09T10:56:39.881Z"
   },
   {
    "duration": 73,
    "start_time": "2023-06-09T10:56:39.910Z"
   },
   {
    "duration": 86,
    "start_time": "2023-06-09T10:56:39.985Z"
   },
   {
    "duration": 9,
    "start_time": "2023-06-09T10:56:40.073Z"
   },
   {
    "duration": 17,
    "start_time": "2023-06-09T10:56:40.085Z"
   },
   {
    "duration": 14,
    "start_time": "2023-06-09T10:56:40.104Z"
   },
   {
    "duration": 13,
    "start_time": "2023-06-09T10:56:40.120Z"
   },
   {
    "duration": 5,
    "start_time": "2023-06-09T10:56:40.149Z"
   },
   {
    "duration": 11,
    "start_time": "2023-06-09T10:56:40.156Z"
   },
   {
    "duration": 8,
    "start_time": "2023-06-09T10:56:40.168Z"
   },
   {
    "duration": 14,
    "start_time": "2023-06-09T10:56:40.177Z"
   },
   {
    "duration": 24,
    "start_time": "2023-06-09T10:56:40.193Z"
   },
   {
    "duration": 37,
    "start_time": "2023-06-09T10:56:40.218Z"
   },
   {
    "duration": 12,
    "start_time": "2023-06-09T10:56:40.257Z"
   },
   {
    "duration": 5,
    "start_time": "2023-06-09T10:56:40.271Z"
   },
   {
    "duration": 8,
    "start_time": "2023-06-09T10:56:40.278Z"
   },
   {
    "duration": 12,
    "start_time": "2023-06-09T10:56:40.287Z"
   },
   {
    "duration": 32,
    "start_time": "2023-06-09T10:56:40.300Z"
   },
   {
    "duration": 10,
    "start_time": "2023-06-09T10:56:40.334Z"
   },
   {
    "duration": 11,
    "start_time": "2023-06-09T10:56:40.350Z"
   },
   {
    "duration": 14,
    "start_time": "2023-06-09T10:56:40.363Z"
   },
   {
    "duration": 5,
    "start_time": "2023-06-09T10:56:40.378Z"
   },
   {
    "duration": 70,
    "start_time": "2023-06-09T10:56:40.387Z"
   },
   {
    "duration": 19,
    "start_time": "2023-06-09T10:56:40.459Z"
   },
   {
    "duration": 120,
    "start_time": "2023-06-09T10:56:40.481Z"
   },
   {
    "duration": 11,
    "start_time": "2023-06-09T10:56:40.603Z"
   },
   {
    "duration": 11,
    "start_time": "2023-06-09T10:56:40.615Z"
   },
   {
    "duration": 30,
    "start_time": "2023-06-09T10:56:40.627Z"
   },
   {
    "duration": 16,
    "start_time": "2023-06-09T10:56:40.659Z"
   },
   {
    "duration": 5,
    "start_time": "2023-06-09T10:56:40.677Z"
   },
   {
    "duration": 249,
    "start_time": "2023-06-09T10:56:40.684Z"
   },
   {
    "duration": 16,
    "start_time": "2023-06-09T10:56:40.935Z"
   },
   {
    "duration": 162,
    "start_time": "2023-06-09T10:56:40.952Z"
   },
   {
    "duration": 74,
    "start_time": "2023-06-09T10:56:41.116Z"
   },
   {
    "duration": 4,
    "start_time": "2023-06-09T10:56:41.192Z"
   },
   {
    "duration": 229,
    "start_time": "2023-06-09T10:56:41.198Z"
   },
   {
    "duration": 6,
    "start_time": "2023-06-09T10:56:41.429Z"
   },
   {
    "duration": 217,
    "start_time": "2023-06-09T10:56:41.449Z"
   },
   {
    "duration": 4,
    "start_time": "2023-06-09T10:56:41.668Z"
   },
   {
    "duration": 218,
    "start_time": "2023-06-09T10:56:41.674Z"
   },
   {
    "duration": 5,
    "start_time": "2023-06-09T10:56:41.893Z"
   },
   {
    "duration": 205,
    "start_time": "2023-06-09T10:56:41.899Z"
   },
   {
    "duration": 5,
    "start_time": "2023-06-09T10:56:42.106Z"
   },
   {
    "duration": 174,
    "start_time": "2023-06-09T10:56:42.112Z"
   },
   {
    "duration": 242,
    "start_time": "2023-06-09T10:56:42.288Z"
   },
   {
    "duration": 76,
    "start_time": "2023-06-09T10:56:42.532Z"
   },
   {
    "duration": 80,
    "start_time": "2023-06-09T10:56:42.610Z"
   },
   {
    "duration": 216,
    "start_time": "2023-06-09T10:56:42.692Z"
   },
   {
    "duration": 21,
    "start_time": "2023-06-09T10:56:42.910Z"
   },
   {
    "duration": 10,
    "start_time": "2023-06-09T10:56:42.950Z"
   },
   {
    "duration": 311,
    "start_time": "2023-06-09T10:56:42.962Z"
   },
   {
    "duration": 35,
    "start_time": "2023-06-09T10:56:43.274Z"
   },
   {
    "duration": 75,
    "start_time": "2023-06-09T10:56:43.310Z"
   },
   {
    "duration": 16,
    "start_time": "2023-06-09T10:56:43.387Z"
   },
   {
    "duration": 10,
    "start_time": "2023-06-09T10:56:43.450Z"
   },
   {
    "duration": 15,
    "start_time": "2023-06-09T10:56:43.462Z"
   },
   {
    "duration": 21,
    "start_time": "2023-06-09T10:56:43.479Z"
   },
   {
    "duration": 71,
    "start_time": "2023-06-09T10:56:43.501Z"
   },
   {
    "duration": 7,
    "start_time": "2023-06-09T10:56:43.574Z"
   },
   {
    "duration": 707,
    "start_time": "2023-06-09T10:56:43.582Z"
   },
   {
    "duration": 5,
    "start_time": "2023-06-09T10:56:44.291Z"
   },
   {
    "duration": 22,
    "start_time": "2023-06-09T10:56:44.297Z"
   },
   {
    "duration": 79,
    "start_time": "2023-06-09T10:56:44.321Z"
   },
   {
    "duration": 155,
    "start_time": "2023-06-09T10:56:44.402Z"
   },
   {
    "duration": 36,
    "start_time": "2023-06-09T10:56:44.559Z"
   },
   {
    "duration": 154,
    "start_time": "2023-06-09T10:56:44.597Z"
   },
   {
    "duration": 39,
    "start_time": "2023-06-09T10:56:44.753Z"
   },
   {
    "duration": 185,
    "start_time": "2023-06-09T10:56:44.794Z"
   },
   {
    "duration": 10,
    "start_time": "2023-06-09T10:56:44.981Z"
   },
   {
    "duration": 5,
    "start_time": "2023-06-09T10:56:44.993Z"
   },
   {
    "duration": 54,
    "start_time": "2023-06-09T10:56:44.999Z"
   },
   {
    "duration": 12,
    "start_time": "2023-06-09T10:56:45.055Z"
   },
   {
    "duration": 48,
    "start_time": "2023-06-09T10:56:45.069Z"
   },
   {
    "duration": 18,
    "start_time": "2023-06-09T10:56:45.119Z"
   },
   {
    "duration": 7,
    "start_time": "2023-06-09T10:56:45.138Z"
   },
   {
    "duration": 21,
    "start_time": "2023-06-09T10:56:45.146Z"
   },
   {
    "duration": 154,
    "start_time": "2023-06-09T10:56:45.172Z"
   },
   {
    "duration": 22,
    "start_time": "2023-06-09T10:56:45.328Z"
   },
   {
    "duration": 3,
    "start_time": "2023-06-09T10:56:45.352Z"
   },
   {
    "duration": 9,
    "start_time": "2023-06-09T10:56:45.357Z"
   },
   {
    "duration": 16,
    "start_time": "2023-06-09T10:56:45.367Z"
   },
   {
    "duration": 25,
    "start_time": "2023-06-09T10:56:45.384Z"
   },
   {
    "duration": 40,
    "start_time": "2023-06-09T10:56:45.410Z"
   },
   {
    "duration": 3,
    "start_time": "2023-06-09T10:56:45.452Z"
   },
   {
    "duration": 17,
    "start_time": "2023-06-09T10:56:45.457Z"
   },
   {
    "duration": 51,
    "start_time": "2023-06-09T10:56:45.476Z"
   },
   {
    "duration": 21,
    "start_time": "2023-06-09T10:56:56.876Z"
   },
   {
    "duration": 19,
    "start_time": "2023-06-09T10:57:04.451Z"
   },
   {
    "duration": 26,
    "start_time": "2023-06-09T11:00:56.041Z"
   },
   {
    "duration": 107,
    "start_time": "2023-06-09T11:01:28.040Z"
   },
   {
    "duration": 174,
    "start_time": "2023-06-09T11:01:35.810Z"
   },
   {
    "duration": 302,
    "start_time": "2023-06-09T11:10:54.544Z"
   },
   {
    "duration": 14,
    "start_time": "2023-06-09T11:11:02.976Z"
   },
   {
    "duration": 228,
    "start_time": "2023-06-09T11:11:10.234Z"
   },
   {
    "duration": 4,
    "start_time": "2023-06-09T11:17:26.022Z"
   },
   {
    "duration": 786,
    "start_time": "2023-06-09T11:24:11.896Z"
   },
   {
    "duration": 18,
    "start_time": "2023-06-09T11:24:28.332Z"
   },
   {
    "duration": 61,
    "start_time": "2023-06-09T11:25:19.436Z"
   },
   {
    "duration": 52,
    "start_time": "2023-06-09T11:28:33.549Z"
   },
   {
    "duration": 48,
    "start_time": "2023-06-09T11:28:39.155Z"
   },
   {
    "duration": 50,
    "start_time": "2023-06-09T11:28:51.436Z"
   },
   {
    "duration": 49,
    "start_time": "2023-06-09T11:28:54.840Z"
   },
   {
    "duration": 55,
    "start_time": "2023-06-09T11:30:50.462Z"
   },
   {
    "duration": 68,
    "start_time": "2023-06-09T11:31:01.732Z"
   },
   {
    "duration": 1258,
    "start_time": "2023-06-09T12:18:10.827Z"
   },
   {
    "duration": 359,
    "start_time": "2023-06-09T12:18:12.087Z"
   },
   {
    "duration": 20,
    "start_time": "2023-06-09T12:18:12.448Z"
   },
   {
    "duration": 52,
    "start_time": "2023-06-09T12:18:12.470Z"
   },
   {
    "duration": 66,
    "start_time": "2023-06-09T12:18:12.525Z"
   },
   {
    "duration": 36,
    "start_time": "2023-06-09T12:18:12.594Z"
   },
   {
    "duration": 79,
    "start_time": "2023-06-09T12:18:12.632Z"
   },
   {
    "duration": 89,
    "start_time": "2023-06-09T12:18:12.712Z"
   },
   {
    "duration": 9,
    "start_time": "2023-06-09T12:18:12.803Z"
   },
   {
    "duration": 11,
    "start_time": "2023-06-09T12:18:12.815Z"
   },
   {
    "duration": 28,
    "start_time": "2023-06-09T12:18:12.828Z"
   },
   {
    "duration": 11,
    "start_time": "2023-06-09T12:18:12.858Z"
   },
   {
    "duration": 6,
    "start_time": "2023-06-09T12:18:12.870Z"
   },
   {
    "duration": 10,
    "start_time": "2023-06-09T12:18:12.879Z"
   },
   {
    "duration": 5,
    "start_time": "2023-06-09T12:18:12.893Z"
   },
   {
    "duration": 15,
    "start_time": "2023-06-09T12:18:12.900Z"
   },
   {
    "duration": 36,
    "start_time": "2023-06-09T12:18:12.951Z"
   },
   {
    "duration": 12,
    "start_time": "2023-06-09T12:18:12.989Z"
   },
   {
    "duration": 16,
    "start_time": "2023-06-09T12:18:13.004Z"
   },
   {
    "duration": 31,
    "start_time": "2023-06-09T12:18:13.022Z"
   },
   {
    "duration": 10,
    "start_time": "2023-06-09T12:18:13.055Z"
   },
   {
    "duration": 22,
    "start_time": "2023-06-09T12:18:13.066Z"
   },
   {
    "duration": 17,
    "start_time": "2023-06-09T12:18:13.090Z"
   },
   {
    "duration": 14,
    "start_time": "2023-06-09T12:18:13.109Z"
   },
   {
    "duration": 13,
    "start_time": "2023-06-09T12:18:13.125Z"
   },
   {
    "duration": 17,
    "start_time": "2023-06-09T12:18:13.140Z"
   },
   {
    "duration": 5,
    "start_time": "2023-06-09T12:18:13.159Z"
   },
   {
    "duration": 49,
    "start_time": "2023-06-09T12:18:13.165Z"
   },
   {
    "duration": 41,
    "start_time": "2023-06-09T12:18:13.216Z"
   },
   {
    "duration": 78,
    "start_time": "2023-06-09T12:18:13.260Z"
   },
   {
    "duration": 20,
    "start_time": "2023-06-09T12:18:13.339Z"
   },
   {
    "duration": 13,
    "start_time": "2023-06-09T12:18:13.362Z"
   },
   {
    "duration": 11,
    "start_time": "2023-06-09T12:18:13.376Z"
   },
   {
    "duration": 20,
    "start_time": "2023-06-09T12:18:13.389Z"
   },
   {
    "duration": 40,
    "start_time": "2023-06-09T12:18:13.410Z"
   },
   {
    "duration": 264,
    "start_time": "2023-06-09T12:18:13.452Z"
   },
   {
    "duration": 5,
    "start_time": "2023-06-09T12:18:13.718Z"
   },
   {
    "duration": 172,
    "start_time": "2023-06-09T12:18:13.724Z"
   },
   {
    "duration": 78,
    "start_time": "2023-06-09T12:18:13.898Z"
   },
   {
    "duration": 5,
    "start_time": "2023-06-09T12:18:13.977Z"
   },
   {
    "duration": 244,
    "start_time": "2023-06-09T12:18:13.987Z"
   },
   {
    "duration": 6,
    "start_time": "2023-06-09T12:18:14.233Z"
   },
   {
    "duration": 247,
    "start_time": "2023-06-09T12:18:14.241Z"
   },
   {
    "duration": 5,
    "start_time": "2023-06-09T12:18:14.490Z"
   },
   {
    "duration": 221,
    "start_time": "2023-06-09T12:18:14.498Z"
   },
   {
    "duration": 5,
    "start_time": "2023-06-09T12:18:14.722Z"
   },
   {
    "duration": 253,
    "start_time": "2023-06-09T12:18:14.729Z"
   },
   {
    "duration": 4,
    "start_time": "2023-06-09T12:18:14.983Z"
   },
   {
    "duration": 179,
    "start_time": "2023-06-09T12:18:14.989Z"
   },
   {
    "duration": 237,
    "start_time": "2023-06-09T12:18:15.170Z"
   },
   {
    "duration": 81,
    "start_time": "2023-06-09T12:18:15.409Z"
   },
   {
    "duration": 94,
    "start_time": "2023-06-09T12:18:15.491Z"
   },
   {
    "duration": 273,
    "start_time": "2023-06-09T12:18:15.587Z"
   },
   {
    "duration": 19,
    "start_time": "2023-06-09T12:18:15.862Z"
   },
   {
    "duration": 12,
    "start_time": "2023-06-09T12:18:15.883Z"
   },
   {
    "duration": 299,
    "start_time": "2023-06-09T12:18:15.897Z"
   },
   {
    "duration": 37,
    "start_time": "2023-06-09T12:18:16.197Z"
   },
   {
    "duration": 63,
    "start_time": "2023-06-09T12:18:16.236Z"
   },
   {
    "duration": 23,
    "start_time": "2023-06-09T12:18:16.301Z"
   },
   {
    "duration": 23,
    "start_time": "2023-06-09T12:18:16.327Z"
   },
   {
    "duration": 17,
    "start_time": "2023-06-09T12:18:16.352Z"
   },
   {
    "duration": 22,
    "start_time": "2023-06-09T12:18:16.371Z"
   },
   {
    "duration": 32,
    "start_time": "2023-06-09T12:18:16.395Z"
   },
   {
    "duration": 25,
    "start_time": "2023-06-09T12:18:16.429Z"
   },
   {
    "duration": 621,
    "start_time": "2023-06-09T12:18:16.469Z"
   },
   {
    "duration": 5,
    "start_time": "2023-06-09T12:18:17.092Z"
   },
   {
    "duration": 8,
    "start_time": "2023-06-09T12:18:17.099Z"
   },
   {
    "duration": 96,
    "start_time": "2023-06-09T12:18:17.108Z"
   },
   {
    "duration": 173,
    "start_time": "2023-06-09T12:18:17.206Z"
   },
   {
    "duration": 18,
    "start_time": "2023-06-09T12:18:17.381Z"
   },
   {
    "duration": 69,
    "start_time": "2023-06-09T12:18:17.401Z"
   },
   {
    "duration": 55,
    "start_time": "2023-06-09T12:18:17.472Z"
   },
   {
    "duration": 55,
    "start_time": "2023-06-09T12:18:17.529Z"
   },
   {
    "duration": 122,
    "start_time": "2023-06-09T12:18:17.586Z"
   },
   {
    "duration": 50,
    "start_time": "2023-06-09T12:18:17.709Z"
   },
   {
    "duration": 208,
    "start_time": "2023-06-09T12:18:17.761Z"
   },
   {
    "duration": 10,
    "start_time": "2023-06-09T12:18:17.972Z"
   },
   {
    "duration": 5,
    "start_time": "2023-06-09T12:18:17.983Z"
   },
   {
    "duration": 24,
    "start_time": "2023-06-09T12:18:17.989Z"
   },
   {
    "duration": 4,
    "start_time": "2023-06-09T12:18:18.014Z"
   },
   {
    "duration": 35,
    "start_time": "2023-06-09T12:18:18.019Z"
   },
   {
    "duration": 11,
    "start_time": "2023-06-09T12:18:18.056Z"
   },
   {
    "duration": 4,
    "start_time": "2023-06-09T12:18:18.069Z"
   },
   {
    "duration": 11,
    "start_time": "2023-06-09T12:18:18.075Z"
   },
   {
    "duration": 193,
    "start_time": "2023-06-09T12:18:18.087Z"
   },
   {
    "duration": 20,
    "start_time": "2023-06-09T12:18:18.282Z"
   },
   {
    "duration": 3,
    "start_time": "2023-06-09T12:18:18.304Z"
   },
   {
    "duration": 10,
    "start_time": "2023-06-09T12:18:18.308Z"
   },
   {
    "duration": 4,
    "start_time": "2023-06-09T12:18:18.319Z"
   },
   {
    "duration": 51,
    "start_time": "2023-06-09T12:18:18.324Z"
   },
   {
    "duration": 21,
    "start_time": "2023-06-09T12:18:18.377Z"
   },
   {
    "duration": 4,
    "start_time": "2023-06-09T12:18:18.400Z"
   },
   {
    "duration": 10,
    "start_time": "2023-06-09T12:18:18.405Z"
   },
   {
    "duration": 60,
    "start_time": "2023-06-09T12:18:18.417Z"
   },
   {
    "duration": 1413,
    "start_time": "2023-06-09T13:01:15.021Z"
   },
   {
    "duration": 349,
    "start_time": "2023-06-09T13:01:16.436Z"
   },
   {
    "duration": 14,
    "start_time": "2023-06-09T13:01:16.787Z"
   },
   {
    "duration": 40,
    "start_time": "2023-06-09T13:01:16.803Z"
   },
   {
    "duration": 69,
    "start_time": "2023-06-09T13:01:16.849Z"
   },
   {
    "duration": 28,
    "start_time": "2023-06-09T13:01:16.920Z"
   },
   {
    "duration": 123,
    "start_time": "2023-06-09T13:01:16.953Z"
   },
   {
    "duration": 129,
    "start_time": "2023-06-09T13:01:17.079Z"
   },
   {
    "duration": 10,
    "start_time": "2023-06-09T13:01:17.211Z"
   },
   {
    "duration": 32,
    "start_time": "2023-06-09T13:01:17.225Z"
   },
   {
    "duration": 48,
    "start_time": "2023-06-09T13:01:17.261Z"
   },
   {
    "duration": 45,
    "start_time": "2023-06-09T13:01:17.311Z"
   },
   {
    "duration": 34,
    "start_time": "2023-06-09T13:01:17.359Z"
   },
   {
    "duration": 47,
    "start_time": "2023-06-09T13:01:17.395Z"
   },
   {
    "duration": 48,
    "start_time": "2023-06-09T13:01:17.444Z"
   },
   {
    "duration": 17,
    "start_time": "2023-06-09T13:01:17.494Z"
   },
   {
    "duration": 42,
    "start_time": "2023-06-09T13:01:17.513Z"
   },
   {
    "duration": 22,
    "start_time": "2023-06-09T13:01:17.558Z"
   },
   {
    "duration": 18,
    "start_time": "2023-06-09T13:01:17.582Z"
   },
   {
    "duration": 28,
    "start_time": "2023-06-09T13:01:17.601Z"
   },
   {
    "duration": 11,
    "start_time": "2023-06-09T13:01:17.631Z"
   },
   {
    "duration": 75,
    "start_time": "2023-06-09T13:01:17.644Z"
   },
   {
    "duration": 60,
    "start_time": "2023-06-09T13:01:17.721Z"
   },
   {
    "duration": 32,
    "start_time": "2023-06-09T13:01:17.783Z"
   },
   {
    "duration": 39,
    "start_time": "2023-06-09T13:01:17.818Z"
   },
   {
    "duration": 28,
    "start_time": "2023-06-09T13:01:17.861Z"
   },
   {
    "duration": 18,
    "start_time": "2023-06-09T13:01:17.891Z"
   },
   {
    "duration": 68,
    "start_time": "2023-06-09T13:01:17.913Z"
   },
   {
    "duration": 23,
    "start_time": "2023-06-09T13:01:17.984Z"
   },
   {
    "duration": 125,
    "start_time": "2023-06-09T13:01:18.009Z"
   },
   {
    "duration": 27,
    "start_time": "2023-06-09T13:01:18.136Z"
   },
   {
    "duration": 42,
    "start_time": "2023-06-09T13:01:18.167Z"
   },
   {
    "duration": 21,
    "start_time": "2023-06-09T13:01:18.211Z"
   },
   {
    "duration": 56,
    "start_time": "2023-06-09T13:01:18.234Z"
   },
   {
    "duration": 43,
    "start_time": "2023-06-09T13:01:18.292Z"
   },
   {
    "duration": 305,
    "start_time": "2023-06-09T13:01:18.337Z"
   },
   {
    "duration": 5,
    "start_time": "2023-06-09T13:01:18.646Z"
   },
   {
    "duration": 240,
    "start_time": "2023-06-09T13:01:18.653Z"
   },
   {
    "duration": 97,
    "start_time": "2023-06-09T13:01:18.895Z"
   },
   {
    "duration": 6,
    "start_time": "2023-06-09T13:01:18.994Z"
   },
   {
    "duration": 283,
    "start_time": "2023-06-09T13:01:19.002Z"
   },
   {
    "duration": 5,
    "start_time": "2023-06-09T13:01:19.287Z"
   },
   {
    "duration": 282,
    "start_time": "2023-06-09T13:01:19.295Z"
   },
   {
    "duration": 5,
    "start_time": "2023-06-09T13:01:19.579Z"
   },
   {
    "duration": 293,
    "start_time": "2023-06-09T13:01:19.586Z"
   },
   {
    "duration": 5,
    "start_time": "2023-06-09T13:01:19.881Z"
   },
   {
    "duration": 290,
    "start_time": "2023-06-09T13:01:19.888Z"
   },
   {
    "duration": 6,
    "start_time": "2023-06-09T13:01:20.181Z"
   },
   {
    "duration": 200,
    "start_time": "2023-06-09T13:01:20.189Z"
   },
   {
    "duration": 262,
    "start_time": "2023-06-09T13:01:20.391Z"
   },
   {
    "duration": 84,
    "start_time": "2023-06-09T13:01:20.658Z"
   },
   {
    "duration": 118,
    "start_time": "2023-06-09T13:01:20.744Z"
   },
   {
    "duration": 267,
    "start_time": "2023-06-09T13:01:20.868Z"
   },
   {
    "duration": 45,
    "start_time": "2023-06-09T13:01:21.147Z"
   },
   {
    "duration": 30,
    "start_time": "2023-06-09T13:01:21.194Z"
   },
   {
    "duration": 409,
    "start_time": "2023-06-09T13:01:21.226Z"
   },
   {
    "duration": 46,
    "start_time": "2023-06-09T13:01:21.637Z"
   },
   {
    "duration": 74,
    "start_time": "2023-06-09T13:01:21.685Z"
   },
   {
    "duration": 27,
    "start_time": "2023-06-09T13:01:21.761Z"
   },
   {
    "duration": 16,
    "start_time": "2023-06-09T13:01:21.791Z"
   },
   {
    "duration": 12,
    "start_time": "2023-06-09T13:01:21.809Z"
   },
   {
    "duration": 30,
    "start_time": "2023-06-09T13:01:21.823Z"
   },
   {
    "duration": 76,
    "start_time": "2023-06-09T13:01:21.862Z"
   },
   {
    "duration": 17,
    "start_time": "2023-06-09T13:01:21.940Z"
   },
   {
    "duration": 675,
    "start_time": "2023-06-09T13:01:21.959Z"
   },
   {
    "duration": 29,
    "start_time": "2023-06-09T13:01:22.638Z"
   },
   {
    "duration": 37,
    "start_time": "2023-06-09T13:01:22.670Z"
   },
   {
    "duration": 129,
    "start_time": "2023-06-09T13:01:22.709Z"
   },
   {
    "duration": 198,
    "start_time": "2023-06-09T13:01:22.840Z"
   },
   {
    "duration": 38,
    "start_time": "2023-06-09T13:01:23.039Z"
   },
   {
    "duration": 107,
    "start_time": "2023-06-09T13:01:23.080Z"
   },
   {
    "duration": 52,
    "start_time": "2023-06-09T13:01:23.189Z"
   },
   {
    "duration": 56,
    "start_time": "2023-06-09T13:01:23.243Z"
   },
   {
    "duration": 135,
    "start_time": "2023-06-09T13:01:23.301Z"
   },
   {
    "duration": 57,
    "start_time": "2023-06-09T13:01:23.438Z"
   },
   {
    "duration": 219,
    "start_time": "2023-06-09T13:01:23.497Z"
   },
   {
    "duration": 10,
    "start_time": "2023-06-09T13:01:23.718Z"
   },
   {
    "duration": 13,
    "start_time": "2023-06-09T13:01:23.730Z"
   },
   {
    "duration": 69,
    "start_time": "2023-06-09T13:01:23.750Z"
   },
   {
    "duration": 5,
    "start_time": "2023-06-09T13:01:23.821Z"
   },
   {
    "duration": 54,
    "start_time": "2023-06-09T13:01:23.828Z"
   },
   {
    "duration": 13,
    "start_time": "2023-06-09T13:01:23.887Z"
   },
   {
    "duration": 19,
    "start_time": "2023-06-09T13:01:23.902Z"
   },
   {
    "duration": 58,
    "start_time": "2023-06-09T13:01:23.923Z"
   },
   {
    "duration": 198,
    "start_time": "2023-06-09T13:01:23.983Z"
   },
   {
    "duration": 13,
    "start_time": "2023-06-09T13:01:24.183Z"
   },
   {
    "duration": 14,
    "start_time": "2023-06-09T13:01:24.198Z"
   },
   {
    "duration": 16,
    "start_time": "2023-06-09T13:01:24.213Z"
   },
   {
    "duration": 34,
    "start_time": "2023-06-09T13:01:24.231Z"
   },
   {
    "duration": 66,
    "start_time": "2023-06-09T13:01:24.267Z"
   },
   {
    "duration": 42,
    "start_time": "2023-06-09T13:01:24.336Z"
   },
   {
    "duration": 6,
    "start_time": "2023-06-09T13:01:24.380Z"
   },
   {
    "duration": 51,
    "start_time": "2023-06-09T13:01:24.389Z"
   },
   {
    "duration": 100,
    "start_time": "2023-06-09T13:01:24.442Z"
   },
   {
    "duration": 32,
    "start_time": "2023-06-09T13:06:32.236Z"
   },
   {
    "duration": 137,
    "start_time": "2023-06-09T13:08:10.697Z"
   },
   {
    "duration": 126,
    "start_time": "2023-06-09T13:08:14.396Z"
   },
   {
    "duration": 5,
    "start_time": "2023-06-09T13:08:34.981Z"
   },
   {
    "duration": 5,
    "start_time": "2023-06-09T13:08:39.603Z"
   },
   {
    "duration": 7,
    "start_time": "2023-06-09T13:08:44.979Z"
   },
   {
    "duration": 114,
    "start_time": "2023-06-09T13:09:33.003Z"
   },
   {
    "duration": 99,
    "start_time": "2023-06-09T13:09:34.837Z"
   },
   {
    "duration": 158,
    "start_time": "2023-06-09T13:09:47.562Z"
   },
   {
    "duration": 75,
    "start_time": "2023-06-09T13:10:03.286Z"
   },
   {
    "duration": 75,
    "start_time": "2023-06-09T13:10:10.586Z"
   },
   {
    "duration": 21,
    "start_time": "2023-06-09T13:10:14.787Z"
   },
   {
    "duration": 61,
    "start_time": "2023-06-09T13:10:16.131Z"
   },
   {
    "duration": 20,
    "start_time": "2023-06-09T13:10:29.784Z"
   },
   {
    "duration": 66,
    "start_time": "2023-06-09T13:10:40.960Z"
   },
   {
    "duration": 68,
    "start_time": "2023-06-09T13:11:03.262Z"
   },
   {
    "duration": 2,
    "start_time": "2023-06-09T13:20:04.407Z"
   },
   {
    "duration": 118,
    "start_time": "2023-06-09T13:24:09.310Z"
   },
   {
    "duration": 1538,
    "start_time": "2023-06-09T15:49:57.857Z"
   },
   {
    "duration": 1126,
    "start_time": "2023-06-09T15:49:59.397Z"
   },
   {
    "duration": 14,
    "start_time": "2023-06-09T15:50:00.525Z"
   },
   {
    "duration": 87,
    "start_time": "2023-06-09T15:50:00.541Z"
   },
   {
    "duration": 72,
    "start_time": "2023-06-09T15:50:00.630Z"
   },
   {
    "duration": 85,
    "start_time": "2023-06-09T15:50:00.704Z"
   },
   {
    "duration": 109,
    "start_time": "2023-06-09T15:50:00.791Z"
   },
   {
    "duration": 86,
    "start_time": "2023-06-09T15:50:00.901Z"
   },
   {
    "duration": 10,
    "start_time": "2023-06-09T15:50:00.989Z"
   },
   {
    "duration": 63,
    "start_time": "2023-06-09T15:50:01.002Z"
   },
   {
    "duration": 51,
    "start_time": "2023-06-09T15:50:01.067Z"
   },
   {
    "duration": 58,
    "start_time": "2023-06-09T15:50:01.120Z"
   },
   {
    "duration": 27,
    "start_time": "2023-06-09T15:50:01.180Z"
   },
   {
    "duration": 60,
    "start_time": "2023-06-09T15:50:01.209Z"
   },
   {
    "duration": 42,
    "start_time": "2023-06-09T15:50:01.271Z"
   },
   {
    "duration": 60,
    "start_time": "2023-06-09T15:50:01.315Z"
   },
   {
    "duration": 52,
    "start_time": "2023-06-09T15:50:01.377Z"
   },
   {
    "duration": 33,
    "start_time": "2023-06-09T15:50:01.431Z"
   },
   {
    "duration": 197,
    "start_time": "2023-06-09T15:50:01.467Z"
   },
   {
    "duration": 92,
    "start_time": "2023-06-09T15:50:01.666Z"
   },
   {
    "duration": 70,
    "start_time": "2023-06-09T15:50:01.761Z"
   },
   {
    "duration": 98,
    "start_time": "2023-06-09T15:50:01.833Z"
   },
   {
    "duration": 75,
    "start_time": "2023-06-09T15:50:01.933Z"
   },
   {
    "duration": 82,
    "start_time": "2023-06-09T15:50:02.010Z"
   },
   {
    "duration": 64,
    "start_time": "2023-06-09T15:50:02.095Z"
   },
   {
    "duration": 59,
    "start_time": "2023-06-09T15:50:02.162Z"
   },
   {
    "duration": 65,
    "start_time": "2023-06-09T15:50:02.223Z"
   },
   {
    "duration": 84,
    "start_time": "2023-06-09T15:50:02.293Z"
   },
   {
    "duration": 45,
    "start_time": "2023-06-09T15:50:02.379Z"
   },
   {
    "duration": 116,
    "start_time": "2023-06-09T15:50:02.426Z"
   },
   {
    "duration": 12,
    "start_time": "2023-06-09T15:50:02.545Z"
   },
   {
    "duration": 52,
    "start_time": "2023-06-09T15:50:02.559Z"
   },
   {
    "duration": 34,
    "start_time": "2023-06-09T15:50:02.613Z"
   },
   {
    "duration": 19,
    "start_time": "2023-06-09T15:50:02.649Z"
   },
   {
    "duration": 7,
    "start_time": "2023-06-09T15:50:02.670Z"
   },
   {
    "duration": 261,
    "start_time": "2023-06-09T15:50:02.680Z"
   },
   {
    "duration": 14,
    "start_time": "2023-06-09T15:50:02.943Z"
   },
   {
    "duration": 160,
    "start_time": "2023-06-09T15:50:02.959Z"
   },
   {
    "duration": 76,
    "start_time": "2023-06-09T15:50:03.121Z"
   },
   {
    "duration": 4,
    "start_time": "2023-06-09T15:50:03.199Z"
   },
   {
    "duration": 234,
    "start_time": "2023-06-09T15:50:03.205Z"
   },
   {
    "duration": 6,
    "start_time": "2023-06-09T15:50:03.441Z"
   },
   {
    "duration": 231,
    "start_time": "2023-06-09T15:50:03.457Z"
   },
   {
    "duration": 6,
    "start_time": "2023-06-09T15:50:03.689Z"
   },
   {
    "duration": 224,
    "start_time": "2023-06-09T15:50:03.697Z"
   },
   {
    "duration": 5,
    "start_time": "2023-06-09T15:50:03.923Z"
   },
   {
    "duration": 226,
    "start_time": "2023-06-09T15:50:03.930Z"
   },
   {
    "duration": 4,
    "start_time": "2023-06-09T15:50:04.159Z"
   },
   {
    "duration": 174,
    "start_time": "2023-06-09T15:50:04.165Z"
   },
   {
    "duration": 245,
    "start_time": "2023-06-09T15:50:04.340Z"
   },
   {
    "duration": 89,
    "start_time": "2023-06-09T15:50:04.587Z"
   },
   {
    "duration": 87,
    "start_time": "2023-06-09T15:50:04.678Z"
   },
   {
    "duration": 222,
    "start_time": "2023-06-09T15:50:04.767Z"
   },
   {
    "duration": 29,
    "start_time": "2023-06-09T15:50:04.991Z"
   },
   {
    "duration": 14,
    "start_time": "2023-06-09T15:50:05.022Z"
   },
   {
    "duration": 369,
    "start_time": "2023-06-09T15:50:05.039Z"
   },
   {
    "duration": 46,
    "start_time": "2023-06-09T15:50:05.410Z"
   },
   {
    "duration": 55,
    "start_time": "2023-06-09T15:50:05.458Z"
   },
   {
    "duration": 19,
    "start_time": "2023-06-09T15:50:05.515Z"
   },
   {
    "duration": 39,
    "start_time": "2023-06-09T15:50:05.536Z"
   },
   {
    "duration": 25,
    "start_time": "2023-06-09T15:50:05.577Z"
   },
   {
    "duration": 17,
    "start_time": "2023-06-09T15:50:05.604Z"
   },
   {
    "duration": 44,
    "start_time": "2023-06-09T15:50:05.623Z"
   },
   {
    "duration": 9,
    "start_time": "2023-06-09T15:50:05.669Z"
   },
   {
    "duration": 601,
    "start_time": "2023-06-09T15:50:05.679Z"
   },
   {
    "duration": 6,
    "start_time": "2023-06-09T15:50:06.281Z"
   },
   {
    "duration": 30,
    "start_time": "2023-06-09T15:50:06.288Z"
   },
   {
    "duration": 143,
    "start_time": "2023-06-09T15:50:06.320Z"
   },
   {
    "duration": 162,
    "start_time": "2023-06-09T15:50:06.464Z"
   },
   {
    "duration": 17,
    "start_time": "2023-06-09T15:50:06.627Z"
   },
   {
    "duration": 61,
    "start_time": "2023-06-09T15:50:06.646Z"
   },
   {
    "duration": 84,
    "start_time": "2023-06-09T15:50:06.708Z"
   },
   {
    "duration": 3,
    "start_time": "2023-06-09T15:50:06.794Z"
   },
   {
    "duration": 41,
    "start_time": "2023-06-09T15:50:06.798Z"
   },
   {
    "duration": 131,
    "start_time": "2023-06-09T15:50:06.857Z"
   },
   {
    "duration": 50,
    "start_time": "2023-06-09T15:50:06.990Z"
   },
   {
    "duration": 205,
    "start_time": "2023-06-09T15:50:07.057Z"
   },
   {
    "duration": 11,
    "start_time": "2023-06-09T15:50:07.264Z"
   },
   {
    "duration": 32,
    "start_time": "2023-06-09T15:50:07.277Z"
   },
   {
    "duration": 54,
    "start_time": "2023-06-09T15:50:07.311Z"
   },
   {
    "duration": 5,
    "start_time": "2023-06-09T15:50:07.367Z"
   },
   {
    "duration": 7,
    "start_time": "2023-06-09T15:50:07.379Z"
   },
   {
    "duration": 14,
    "start_time": "2023-06-09T15:50:07.388Z"
   },
   {
    "duration": 7,
    "start_time": "2023-06-09T15:50:07.404Z"
   },
   {
    "duration": 23,
    "start_time": "2023-06-09T15:50:07.413Z"
   },
   {
    "duration": 175,
    "start_time": "2023-06-09T15:50:07.457Z"
   },
   {
    "duration": 22,
    "start_time": "2023-06-09T15:50:07.634Z"
   },
   {
    "duration": 9,
    "start_time": "2023-06-09T15:50:07.658Z"
   },
   {
    "duration": 32,
    "start_time": "2023-06-09T15:50:07.669Z"
   },
   {
    "duration": 3,
    "start_time": "2023-06-09T15:50:07.703Z"
   },
   {
    "duration": 38,
    "start_time": "2023-06-09T15:50:07.708Z"
   },
   {
    "duration": 24,
    "start_time": "2023-06-09T15:50:07.748Z"
   },
   {
    "duration": 5,
    "start_time": "2023-06-09T15:50:07.774Z"
   },
   {
    "duration": 25,
    "start_time": "2023-06-09T15:50:07.781Z"
   },
   {
    "duration": 36,
    "start_time": "2023-06-09T15:50:07.808Z"
   },
   {
    "duration": 1272,
    "start_time": "2023-06-09T15:59:08.148Z"
   },
   {
    "duration": 263,
    "start_time": "2023-06-09T15:59:09.422Z"
   },
   {
    "duration": 13,
    "start_time": "2023-06-09T15:59:09.687Z"
   },
   {
    "duration": 33,
    "start_time": "2023-06-09T15:59:09.702Z"
   },
   {
    "duration": 55,
    "start_time": "2023-06-09T15:59:09.737Z"
   },
   {
    "duration": 26,
    "start_time": "2023-06-09T15:59:09.794Z"
   },
   {
    "duration": 62,
    "start_time": "2023-06-09T15:59:09.822Z"
   },
   {
    "duration": 83,
    "start_time": "2023-06-09T15:59:09.886Z"
   },
   {
    "duration": 9,
    "start_time": "2023-06-09T15:59:09.971Z"
   },
   {
    "duration": 44,
    "start_time": "2023-06-09T15:59:09.984Z"
   },
   {
    "duration": 35,
    "start_time": "2023-06-09T15:59:10.030Z"
   },
   {
    "duration": 18,
    "start_time": "2023-06-09T15:59:10.067Z"
   },
   {
    "duration": 21,
    "start_time": "2023-06-09T15:59:10.087Z"
   },
   {
    "duration": 56,
    "start_time": "2023-06-09T15:59:10.110Z"
   },
   {
    "duration": 14,
    "start_time": "2023-06-09T15:59:10.167Z"
   },
   {
    "duration": 14,
    "start_time": "2023-06-09T15:59:10.183Z"
   },
   {
    "duration": 28,
    "start_time": "2023-06-09T15:59:10.199Z"
   },
   {
    "duration": 9,
    "start_time": "2023-06-09T15:59:10.228Z"
   },
   {
    "duration": 22,
    "start_time": "2023-06-09T15:59:10.239Z"
   },
   {
    "duration": 8,
    "start_time": "2023-06-09T15:59:10.263Z"
   },
   {
    "duration": 9,
    "start_time": "2023-06-09T15:59:10.273Z"
   },
   {
    "duration": 21,
    "start_time": "2023-06-09T15:59:10.283Z"
   },
   {
    "duration": 15,
    "start_time": "2023-06-09T15:59:10.305Z"
   },
   {
    "duration": 15,
    "start_time": "2023-06-09T15:59:10.321Z"
   },
   {
    "duration": 23,
    "start_time": "2023-06-09T15:59:10.338Z"
   },
   {
    "duration": 12,
    "start_time": "2023-06-09T15:59:10.363Z"
   },
   {
    "duration": 16,
    "start_time": "2023-06-09T15:59:10.376Z"
   },
   {
    "duration": 46,
    "start_time": "2023-06-09T15:59:10.397Z"
   },
   {
    "duration": 28,
    "start_time": "2023-06-09T15:59:10.446Z"
   },
   {
    "duration": 85,
    "start_time": "2023-06-09T15:59:10.476Z"
   },
   {
    "duration": 11,
    "start_time": "2023-06-09T15:59:10.563Z"
   },
   {
    "duration": 16,
    "start_time": "2023-06-09T15:59:10.576Z"
   },
   {
    "duration": 12,
    "start_time": "2023-06-09T15:59:10.593Z"
   },
   {
    "duration": 15,
    "start_time": "2023-06-09T15:59:10.606Z"
   },
   {
    "duration": 38,
    "start_time": "2023-06-09T15:59:10.622Z"
   },
   {
    "duration": 240,
    "start_time": "2023-06-09T15:59:10.662Z"
   },
   {
    "duration": 4,
    "start_time": "2023-06-09T15:59:10.904Z"
   },
   {
    "duration": 164,
    "start_time": "2023-06-09T15:59:10.909Z"
   },
   {
    "duration": 67,
    "start_time": "2023-06-09T15:59:11.076Z"
   },
   {
    "duration": 5,
    "start_time": "2023-06-09T15:59:11.156Z"
   },
   {
    "duration": 204,
    "start_time": "2023-06-09T15:59:11.162Z"
   },
   {
    "duration": 5,
    "start_time": "2023-06-09T15:59:11.368Z"
   },
   {
    "duration": 212,
    "start_time": "2023-06-09T15:59:11.374Z"
   },
   {
    "duration": 5,
    "start_time": "2023-06-09T15:59:11.588Z"
   },
   {
    "duration": 204,
    "start_time": "2023-06-09T15:59:11.594Z"
   },
   {
    "duration": 5,
    "start_time": "2023-06-09T15:59:11.799Z"
   },
   {
    "duration": 186,
    "start_time": "2023-06-09T15:59:11.805Z"
   },
   {
    "duration": 4,
    "start_time": "2023-06-09T15:59:11.993Z"
   },
   {
    "duration": 160,
    "start_time": "2023-06-09T15:59:11.998Z"
   },
   {
    "duration": 215,
    "start_time": "2023-06-09T15:59:12.159Z"
   },
   {
    "duration": 81,
    "start_time": "2023-06-09T15:59:12.376Z"
   },
   {
    "duration": 74,
    "start_time": "2023-06-09T15:59:12.459Z"
   },
   {
    "duration": 251,
    "start_time": "2023-06-09T15:59:12.535Z"
   },
   {
    "duration": 23,
    "start_time": "2023-06-09T15:59:12.788Z"
   },
   {
    "duration": 22,
    "start_time": "2023-06-09T15:59:12.813Z"
   },
   {
    "duration": 323,
    "start_time": "2023-06-09T15:59:12.837Z"
   },
   {
    "duration": 37,
    "start_time": "2023-06-09T15:59:13.162Z"
   },
   {
    "duration": 70,
    "start_time": "2023-06-09T15:59:13.201Z"
   },
   {
    "duration": 22,
    "start_time": "2023-06-09T15:59:13.275Z"
   },
   {
    "duration": 34,
    "start_time": "2023-06-09T15:59:13.299Z"
   },
   {
    "duration": 11,
    "start_time": "2023-06-09T15:59:13.335Z"
   },
   {
    "duration": 22,
    "start_time": "2023-06-09T15:59:13.347Z"
   },
   {
    "duration": 33,
    "start_time": "2023-06-09T15:59:13.370Z"
   },
   {
    "duration": 8,
    "start_time": "2023-06-09T15:59:13.404Z"
   },
   {
    "duration": 626,
    "start_time": "2023-06-09T15:59:13.414Z"
   },
   {
    "duration": 6,
    "start_time": "2023-06-09T15:59:14.041Z"
   },
   {
    "duration": 16,
    "start_time": "2023-06-09T15:59:14.056Z"
   },
   {
    "duration": 76,
    "start_time": "2023-06-09T15:59:14.074Z"
   },
   {
    "duration": 146,
    "start_time": "2023-06-09T15:59:14.152Z"
   },
   {
    "duration": 17,
    "start_time": "2023-06-09T15:59:14.300Z"
   },
   {
    "duration": 79,
    "start_time": "2023-06-09T15:59:14.319Z"
   },
   {
    "duration": 33,
    "start_time": "2023-06-09T15:59:14.400Z"
   },
   {
    "duration": 121,
    "start_time": "2023-06-09T15:59:14.435Z"
   },
   {
    "duration": 39,
    "start_time": "2023-06-09T15:59:14.558Z"
   },
   {
    "duration": 186,
    "start_time": "2023-06-09T15:59:14.599Z"
   },
   {
    "duration": 11,
    "start_time": "2023-06-09T15:59:14.787Z"
   },
   {
    "duration": 13,
    "start_time": "2023-06-09T15:59:14.799Z"
   },
   {
    "duration": 50,
    "start_time": "2023-06-09T15:59:14.814Z"
   },
   {
    "duration": 3,
    "start_time": "2023-06-09T15:59:14.866Z"
   },
   {
    "duration": 35,
    "start_time": "2023-06-09T15:59:14.871Z"
   },
   {
    "duration": 12,
    "start_time": "2023-06-09T15:59:14.908Z"
   },
   {
    "duration": 11,
    "start_time": "2023-06-09T15:59:14.925Z"
   },
   {
    "duration": 18,
    "start_time": "2023-06-09T15:59:14.938Z"
   },
   {
    "duration": 164,
    "start_time": "2023-06-09T15:59:14.958Z"
   },
   {
    "duration": 13,
    "start_time": "2023-06-09T15:59:15.123Z"
   },
   {
    "duration": 8,
    "start_time": "2023-06-09T15:59:15.138Z"
   },
   {
    "duration": 7,
    "start_time": "2023-06-09T15:59:15.157Z"
   },
   {
    "duration": 6,
    "start_time": "2023-06-09T15:59:15.166Z"
   },
   {
    "duration": 24,
    "start_time": "2023-06-09T15:59:15.173Z"
   },
   {
    "duration": 26,
    "start_time": "2023-06-09T15:59:15.200Z"
   },
   {
    "duration": 28,
    "start_time": "2023-06-09T15:59:15.228Z"
   },
   {
    "duration": 11,
    "start_time": "2023-06-09T15:59:15.258Z"
   },
   {
    "duration": 35,
    "start_time": "2023-06-09T15:59:15.271Z"
   }
  ],
  "kernelspec": {
   "display_name": "Python 3 (ipykernel)",
   "language": "python",
   "name": "python3"
  },
  "language_info": {
   "codemirror_mode": {
    "name": "ipython",
    "version": 3
   },
   "file_extension": ".py",
   "mimetype": "text/x-python",
   "name": "python",
   "nbconvert_exporter": "python",
   "pygments_lexer": "ipython3",
   "version": "3.9.13"
  },
  "toc": {
   "base_numbering": 1,
   "nav_menu": {},
   "number_sections": true,
   "sideBar": true,
   "skip_h1_title": true,
   "title_cell": "Table of Contents",
   "title_sidebar": "Contents",
   "toc_cell": false,
   "toc_position": {},
   "toc_section_display": true,
   "toc_window_display": false
  }
 },
 "nbformat": 4,
 "nbformat_minor": 5
}
